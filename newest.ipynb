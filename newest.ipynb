{
 "cells": [
  {
   "cell_type": "code",
   "execution_count": null,
   "metadata": {},
   "outputs": [],
   "source": [
    "pip install pandas"
   ]
  },
  {
   "cell_type": "code",
   "execution_count": null,
   "metadata": {},
   "outputs": [],
   "source": [
    "pip install numpy"
   ]
  },
  {
   "cell_type": "code",
   "execution_count": 3,
   "metadata": {},
   "outputs": [],
   "source": [
    "import numpy as np"
   ]
  },
  {
   "cell_type": "code",
   "execution_count": 4,
   "metadata": {},
   "outputs": [
    {
     "name": "stderr",
     "output_type": "stream",
     "text": [
      "/var/folders/n5/f6xjtlr526zbr86__yns243m0000gn/T/ipykernel_97749/4080736814.py:1: DeprecationWarning: \n",
      "Pyarrow will become a required dependency of pandas in the next major release of pandas (pandas 3.0),\n",
      "(to allow more performant data types, such as the Arrow string type, and better interoperability with other libraries)\n",
      "but was not found to be installed on your system.\n",
      "If this would cause problems for you,\n",
      "please provide us feedback at https://github.com/pandas-dev/pandas/issues/54466\n",
      "        \n",
      "  import pandas as pd\n"
     ]
    }
   ],
   "source": [
    "import pandas as pd"
   ]
  },
  {
   "cell_type": "markdown",
   "metadata": {},
   "source": [
    "# Data Preprocessing"
   ]
  },
  {
   "cell_type": "markdown",
   "metadata": {},
   "source": [
    "### 1. Book-Crossing Dataset"
   ]
  },
  {
   "cell_type": "code",
   "execution_count": 6,
   "metadata": {},
   "outputs": [
    {
     "name": "stderr",
     "output_type": "stream",
     "text": [
      "/var/folders/n5/f6xjtlr526zbr86__yns243m0000gn/T/ipykernel_97749/3698374196.py:2: DtypeWarning: Columns (3) have mixed types. Specify dtype option on import or set low_memory=False.\n",
      "  books = pd.read_csv('/Users/sanjeevani1109/Desktop/Book_Recommendation_System/Book crossing /BX-Books.csv', sep=';',on_bad_lines = 'skip', encoding='latin-1')\n"
     ]
    }
   ],
   "source": [
    "# Reading the CSV files and skipping the bad lines\n",
    "books = pd.read_csv('/Users/sanjeevani1109/Desktop/Book_Recommendation_System/Book crossing /BX-Books.csv', sep=';',on_bad_lines = 'skip', encoding='latin-1')\n",
    "ratings = pd.read_csv('/Users/sanjeevani1109/Desktop/Book_Recommendation_System/Book crossing /BX-Book-Ratings.csv', sep=';',on_bad_lines = 'skip', encoding='latin-1')\n",
    "users = pd.read_csv('/Users/sanjeevani1109/Desktop/Book_Recommendation_System/Book crossing /BX-Users.csv',sep=';',on_bad_lines = 'skip', encoding='latin-1')"
   ]
  },
  {
   "cell_type": "code",
   "execution_count": 7,
   "metadata": {},
   "outputs": [
    {
     "data": {
      "text/html": [
       "<div>\n",
       "<style scoped>\n",
       "    .dataframe tbody tr th:only-of-type {\n",
       "        vertical-align: middle;\n",
       "    }\n",
       "\n",
       "    .dataframe tbody tr th {\n",
       "        vertical-align: top;\n",
       "    }\n",
       "\n",
       "    .dataframe thead th {\n",
       "        text-align: right;\n",
       "    }\n",
       "</style>\n",
       "<table border=\"1\" class=\"dataframe\">\n",
       "  <thead>\n",
       "    <tr style=\"text-align: right;\">\n",
       "      <th></th>\n",
       "      <th>ISBN</th>\n",
       "      <th>Book-Title</th>\n",
       "      <th>Book-Author</th>\n",
       "      <th>Year-Of-Publication</th>\n",
       "      <th>Publisher</th>\n",
       "      <th>Image-URL-S</th>\n",
       "      <th>Image-URL-M</th>\n",
       "      <th>Image-URL-L</th>\n",
       "    </tr>\n",
       "  </thead>\n",
       "  <tbody>\n",
       "    <tr>\n",
       "      <th>0</th>\n",
       "      <td>0195153448</td>\n",
       "      <td>Classical Mythology</td>\n",
       "      <td>Mark P. O. Morford</td>\n",
       "      <td>2002</td>\n",
       "      <td>Oxford University Press</td>\n",
       "      <td>http://images.amazon.com/images/P/0195153448.0...</td>\n",
       "      <td>http://images.amazon.com/images/P/0195153448.0...</td>\n",
       "      <td>http://images.amazon.com/images/P/0195153448.0...</td>\n",
       "    </tr>\n",
       "    <tr>\n",
       "      <th>1</th>\n",
       "      <td>0002005018</td>\n",
       "      <td>Clara Callan</td>\n",
       "      <td>Richard Bruce Wright</td>\n",
       "      <td>2001</td>\n",
       "      <td>HarperFlamingo Canada</td>\n",
       "      <td>http://images.amazon.com/images/P/0002005018.0...</td>\n",
       "      <td>http://images.amazon.com/images/P/0002005018.0...</td>\n",
       "      <td>http://images.amazon.com/images/P/0002005018.0...</td>\n",
       "    </tr>\n",
       "    <tr>\n",
       "      <th>2</th>\n",
       "      <td>0060973129</td>\n",
       "      <td>Decision in Normandy</td>\n",
       "      <td>Carlo D'Este</td>\n",
       "      <td>1991</td>\n",
       "      <td>HarperPerennial</td>\n",
       "      <td>http://images.amazon.com/images/P/0060973129.0...</td>\n",
       "      <td>http://images.amazon.com/images/P/0060973129.0...</td>\n",
       "      <td>http://images.amazon.com/images/P/0060973129.0...</td>\n",
       "    </tr>\n",
       "    <tr>\n",
       "      <th>3</th>\n",
       "      <td>0374157065</td>\n",
       "      <td>Flu: The Story of the Great Influenza Pandemic...</td>\n",
       "      <td>Gina Bari Kolata</td>\n",
       "      <td>1999</td>\n",
       "      <td>Farrar Straus Giroux</td>\n",
       "      <td>http://images.amazon.com/images/P/0374157065.0...</td>\n",
       "      <td>http://images.amazon.com/images/P/0374157065.0...</td>\n",
       "      <td>http://images.amazon.com/images/P/0374157065.0...</td>\n",
       "    </tr>\n",
       "    <tr>\n",
       "      <th>4</th>\n",
       "      <td>0393045218</td>\n",
       "      <td>The Mummies of Urumchi</td>\n",
       "      <td>E. J. W. Barber</td>\n",
       "      <td>1999</td>\n",
       "      <td>W. W. Norton &amp;amp; Company</td>\n",
       "      <td>http://images.amazon.com/images/P/0393045218.0...</td>\n",
       "      <td>http://images.amazon.com/images/P/0393045218.0...</td>\n",
       "      <td>http://images.amazon.com/images/P/0393045218.0...</td>\n",
       "    </tr>\n",
       "  </tbody>\n",
       "</table>\n",
       "</div>"
      ],
      "text/plain": [
       "         ISBN                                         Book-Title  \\\n",
       "0  0195153448                                Classical Mythology   \n",
       "1  0002005018                                       Clara Callan   \n",
       "2  0060973129                               Decision in Normandy   \n",
       "3  0374157065  Flu: The Story of the Great Influenza Pandemic...   \n",
       "4  0393045218                             The Mummies of Urumchi   \n",
       "\n",
       "            Book-Author Year-Of-Publication                   Publisher  \\\n",
       "0    Mark P. O. Morford                2002     Oxford University Press   \n",
       "1  Richard Bruce Wright                2001       HarperFlamingo Canada   \n",
       "2          Carlo D'Este                1991             HarperPerennial   \n",
       "3      Gina Bari Kolata                1999        Farrar Straus Giroux   \n",
       "4       E. J. W. Barber                1999  W. W. Norton &amp; Company   \n",
       "\n",
       "                                         Image-URL-S  \\\n",
       "0  http://images.amazon.com/images/P/0195153448.0...   \n",
       "1  http://images.amazon.com/images/P/0002005018.0...   \n",
       "2  http://images.amazon.com/images/P/0060973129.0...   \n",
       "3  http://images.amazon.com/images/P/0374157065.0...   \n",
       "4  http://images.amazon.com/images/P/0393045218.0...   \n",
       "\n",
       "                                         Image-URL-M  \\\n",
       "0  http://images.amazon.com/images/P/0195153448.0...   \n",
       "1  http://images.amazon.com/images/P/0002005018.0...   \n",
       "2  http://images.amazon.com/images/P/0060973129.0...   \n",
       "3  http://images.amazon.com/images/P/0374157065.0...   \n",
       "4  http://images.amazon.com/images/P/0393045218.0...   \n",
       "\n",
       "                                         Image-URL-L  \n",
       "0  http://images.amazon.com/images/P/0195153448.0...  \n",
       "1  http://images.amazon.com/images/P/0002005018.0...  \n",
       "2  http://images.amazon.com/images/P/0060973129.0...  \n",
       "3  http://images.amazon.com/images/P/0374157065.0...  \n",
       "4  http://images.amazon.com/images/P/0393045218.0...  "
      ]
     },
     "execution_count": 7,
     "metadata": {},
     "output_type": "execute_result"
    }
   ],
   "source": [
    "books.head()"
   ]
  },
  {
   "cell_type": "markdown",
   "metadata": {},
   "source": [
    "### 1.1 Books Table"
   ]
  },
  {
   "cell_type": "code",
   "execution_count": 8,
   "metadata": {},
   "outputs": [],
   "source": [
    "#Renaming the columns\n",
    "books.rename(columns={'Book-Title': 'Title', 'Book-Author': 'Author', 'Year-Of-Publication': 'Year'}, inplace=True)"
   ]
  },
  {
   "cell_type": "code",
   "execution_count": 9,
   "metadata": {},
   "outputs": [],
   "source": [
    "#Dropping the URL columns for the Books table\n",
    "books.drop(['Image-URL-S', 'Image-URL-M', 'Image-URL-L'], axis=1, inplace=True)"
   ]
  },
  {
   "cell_type": "code",
   "execution_count": 10,
   "metadata": {},
   "outputs": [],
   "source": [
    "books.loc[books['Author'].isnull(), 'Author'] = \"Others\""
   ]
  },
  {
   "cell_type": "code",
   "execution_count": 11,
   "metadata": {},
   "outputs": [],
   "source": [
    "books.loc[books['Publisher'].isnull(), 'Publisher'] = \"Others\""
   ]
  },
  {
   "cell_type": "code",
   "execution_count": 12,
   "metadata": {},
   "outputs": [],
   "source": [
    "books = books.drop_duplicates()"
   ]
  },
  {
   "cell_type": "code",
   "execution_count": 13,
   "metadata": {},
   "outputs": [],
   "source": [
    "books.at[209538, 'Publisher'] = 'DK Publishing Inc'\n",
    "books.at[209538, 'Year'] = 2000\n",
    "books.at[209538, 'Title'] = 'DK Readers: Creating the X-Men, How It All Began (Level 4: Proficient Readers)'\n",
    "books.at[209538, 'Author'] = 'Michael Teitelbaum'"
   ]
  },
  {
   "cell_type": "code",
   "execution_count": 14,
   "metadata": {},
   "outputs": [],
   "source": [
    "books.at[221678, 'Publisher'] = 'DK Publishing Inc'\n",
    "books.at[221678, 'Year'] = 2000\n",
    "books.at[221678, 'Title'] = 'DK Readers: Creating the X-Men, How Comic Books Come to Life (Level 4: Proficient Readers)'\n",
    "books.at[221678, 'Author'] = 'James Buckley'"
   ]
  },
  {
   "cell_type": "code",
   "execution_count": 15,
   "metadata": {},
   "outputs": [],
   "source": [
    "books.at[220731, 'Publisher'] = 'Gallimard'\n",
    "books.at[220731, 'Year'] = 2003\n",
    "books.at[220731, 'Title'] = 'Peuple du ciel - Suivi de Les bergers '\n",
    "books.at[220731, 'Author'] = 'Jean-Marie Gustave Le ClÃ?Â©zio'"
   ]
  },
  {
   "cell_type": "code",
   "execution_count": 16,
   "metadata": {},
   "outputs": [],
   "source": [
    "#converting year to integer values\n",
    "books['Year'] = pd.to_numeric(books['Year'], errors='coerce')"
   ]
  },
  {
   "cell_type": "code",
   "execution_count": 17,
   "metadata": {},
   "outputs": [],
   "source": [
    "count = books['Year'].value_counts()\n",
    "most_commen_year = count[count == count.max()].index.tolist()[0]"
   ]
  },
  {
   "cell_type": "code",
   "execution_count": 18,
   "metadata": {},
   "outputs": [],
   "source": [
    "#Replacing all values for Publishing years greater than 2004 or equal to 0 with the maximum year\n",
    "books.loc[books['Year'] > 2004, 'Year'] = most_commen_year"
   ]
  },
  {
   "cell_type": "code",
   "execution_count": 19,
   "metadata": {},
   "outputs": [],
   "source": [
    "books.loc[books['Year'] == 0, 'Year'] = most_commen_year"
   ]
  },
  {
   "cell_type": "markdown",
   "metadata": {},
   "source": [
    "### 1.2 Users Table"
   ]
  },
  {
   "cell_type": "code",
   "execution_count": 20,
   "metadata": {},
   "outputs": [
    {
     "data": {
      "text/html": [
       "<div>\n",
       "<style scoped>\n",
       "    .dataframe tbody tr th:only-of-type {\n",
       "        vertical-align: middle;\n",
       "    }\n",
       "\n",
       "    .dataframe tbody tr th {\n",
       "        vertical-align: top;\n",
       "    }\n",
       "\n",
       "    .dataframe thead th {\n",
       "        text-align: right;\n",
       "    }\n",
       "</style>\n",
       "<table border=\"1\" class=\"dataframe\">\n",
       "  <thead>\n",
       "    <tr style=\"text-align: right;\">\n",
       "      <th></th>\n",
       "      <th>User-ID</th>\n",
       "      <th>Location</th>\n",
       "      <th>Age</th>\n",
       "    </tr>\n",
       "  </thead>\n",
       "  <tbody>\n",
       "    <tr>\n",
       "      <th>0</th>\n",
       "      <td>1</td>\n",
       "      <td>nyc, new york, usa</td>\n",
       "      <td>NaN</td>\n",
       "    </tr>\n",
       "    <tr>\n",
       "      <th>1</th>\n",
       "      <td>2</td>\n",
       "      <td>stockton, california, usa</td>\n",
       "      <td>18.0</td>\n",
       "    </tr>\n",
       "    <tr>\n",
       "      <th>2</th>\n",
       "      <td>3</td>\n",
       "      <td>moscow, yukon territory, russia</td>\n",
       "      <td>NaN</td>\n",
       "    </tr>\n",
       "    <tr>\n",
       "      <th>3</th>\n",
       "      <td>4</td>\n",
       "      <td>porto, v.n.gaia, portugal</td>\n",
       "      <td>17.0</td>\n",
       "    </tr>\n",
       "    <tr>\n",
       "      <th>4</th>\n",
       "      <td>5</td>\n",
       "      <td>farnborough, hants, united kingdom</td>\n",
       "      <td>NaN</td>\n",
       "    </tr>\n",
       "  </tbody>\n",
       "</table>\n",
       "</div>"
      ],
      "text/plain": [
       "   User-ID                            Location   Age\n",
       "0        1                  nyc, new york, usa   NaN\n",
       "1        2           stockton, california, usa  18.0\n",
       "2        3     moscow, yukon territory, russia   NaN\n",
       "3        4           porto, v.n.gaia, portugal  17.0\n",
       "4        5  farnborough, hants, united kingdom   NaN"
      ]
     },
     "execution_count": 20,
     "metadata": {},
     "output_type": "execute_result"
    }
   ],
   "source": [
    "users.head()"
   ]
  },
  {
   "cell_type": "code",
   "execution_count": 21,
   "metadata": {},
   "outputs": [],
   "source": [
    "#Renaming the columns\n",
    "users.rename(columns={'User-ID': 'UserID'}, inplace=True)"
   ]
  },
  {
   "cell_type": "markdown",
   "metadata": {},
   "source": [
    "#### Ages that have values nan, less than 8, and more than 90 are invalid "
   ]
  },
  {
   "cell_type": "code",
   "execution_count": 22,
   "metadata": {},
   "outputs": [],
   "source": [
    "age_range = users[users['Age'] <= 90] \n",
    "age_range = age_range[age_range['Age'] >= 8]\n",
    "mean = age_range['Age'].mean().round()   "
   ]
  },
  {
   "cell_type": "code",
   "execution_count": 23,
   "metadata": {},
   "outputs": [],
   "source": [
    "users.loc[(users['Age'] > 90) | (users['Age'] < 8),'Age'] = mean\n",
    "users['Age']=users['Age'].fillna(mean).astype(int)"
   ]
  },
  {
   "cell_type": "markdown",
   "metadata": {},
   "source": [
    "### 1.3 Ratings Table"
   ]
  },
  {
   "cell_type": "code",
   "execution_count": 24,
   "metadata": {},
   "outputs": [
    {
     "data": {
      "text/html": [
       "<div>\n",
       "<style scoped>\n",
       "    .dataframe tbody tr th:only-of-type {\n",
       "        vertical-align: middle;\n",
       "    }\n",
       "\n",
       "    .dataframe tbody tr th {\n",
       "        vertical-align: top;\n",
       "    }\n",
       "\n",
       "    .dataframe thead th {\n",
       "        text-align: right;\n",
       "    }\n",
       "</style>\n",
       "<table border=\"1\" class=\"dataframe\">\n",
       "  <thead>\n",
       "    <tr style=\"text-align: right;\">\n",
       "      <th></th>\n",
       "      <th>User-ID</th>\n",
       "      <th>ISBN</th>\n",
       "      <th>Book-Rating</th>\n",
       "    </tr>\n",
       "  </thead>\n",
       "  <tbody>\n",
       "    <tr>\n",
       "      <th>0</th>\n",
       "      <td>276725</td>\n",
       "      <td>034545104X</td>\n",
       "      <td>0</td>\n",
       "    </tr>\n",
       "    <tr>\n",
       "      <th>1</th>\n",
       "      <td>276726</td>\n",
       "      <td>0155061224</td>\n",
       "      <td>5</td>\n",
       "    </tr>\n",
       "    <tr>\n",
       "      <th>2</th>\n",
       "      <td>276727</td>\n",
       "      <td>0446520802</td>\n",
       "      <td>0</td>\n",
       "    </tr>\n",
       "    <tr>\n",
       "      <th>3</th>\n",
       "      <td>276729</td>\n",
       "      <td>052165615X</td>\n",
       "      <td>3</td>\n",
       "    </tr>\n",
       "    <tr>\n",
       "      <th>4</th>\n",
       "      <td>276729</td>\n",
       "      <td>0521795028</td>\n",
       "      <td>6</td>\n",
       "    </tr>\n",
       "  </tbody>\n",
       "</table>\n",
       "</div>"
      ],
      "text/plain": [
       "   User-ID        ISBN  Book-Rating\n",
       "0   276725  034545104X            0\n",
       "1   276726  0155061224            5\n",
       "2   276727  0446520802            0\n",
       "3   276729  052165615X            3\n",
       "4   276729  0521795028            6"
      ]
     },
     "execution_count": 24,
     "metadata": {},
     "output_type": "execute_result"
    }
   ],
   "source": [
    "ratings.head()"
   ]
  },
  {
   "cell_type": "code",
   "execution_count": 25,
   "metadata": {},
   "outputs": [],
   "source": [
    "#Renaming the columns\n",
    "ratings.rename(columns={'User-ID': 'UserID', 'Book-Rating': 'BookRating'}, inplace=True)"
   ]
  },
  {
   "cell_type": "code",
   "execution_count": 26,
   "metadata": {},
   "outputs": [
    {
     "data": {
      "text/html": [
       "<div>\n",
       "<style scoped>\n",
       "    .dataframe tbody tr th:only-of-type {\n",
       "        vertical-align: middle;\n",
       "    }\n",
       "\n",
       "    .dataframe tbody tr th {\n",
       "        vertical-align: top;\n",
       "    }\n",
       "\n",
       "    .dataframe thead th {\n",
       "        text-align: right;\n",
       "    }\n",
       "</style>\n",
       "<table border=\"1\" class=\"dataframe\">\n",
       "  <thead>\n",
       "    <tr style=\"text-align: right;\">\n",
       "      <th></th>\n",
       "      <th>UserID</th>\n",
       "      <th>ISBN</th>\n",
       "      <th>BookRating</th>\n",
       "    </tr>\n",
       "  </thead>\n",
       "  <tbody>\n",
       "    <tr>\n",
       "      <th>0</th>\n",
       "      <td>276725</td>\n",
       "      <td>034545104X</td>\n",
       "      <td>0</td>\n",
       "    </tr>\n",
       "    <tr>\n",
       "      <th>1</th>\n",
       "      <td>276726</td>\n",
       "      <td>0155061224</td>\n",
       "      <td>5</td>\n",
       "    </tr>\n",
       "    <tr>\n",
       "      <th>2</th>\n",
       "      <td>276727</td>\n",
       "      <td>0446520802</td>\n",
       "      <td>0</td>\n",
       "    </tr>\n",
       "    <tr>\n",
       "      <th>3</th>\n",
       "      <td>276729</td>\n",
       "      <td>052165615X</td>\n",
       "      <td>3</td>\n",
       "    </tr>\n",
       "    <tr>\n",
       "      <th>4</th>\n",
       "      <td>276729</td>\n",
       "      <td>0521795028</td>\n",
       "      <td>6</td>\n",
       "    </tr>\n",
       "  </tbody>\n",
       "</table>\n",
       "</div>"
      ],
      "text/plain": [
       "   UserID        ISBN  BookRating\n",
       "0  276725  034545104X           0\n",
       "1  276726  0155061224           5\n",
       "2  276727  0446520802           0\n",
       "3  276729  052165615X           3\n",
       "4  276729  0521795028           6"
      ]
     },
     "execution_count": 26,
     "metadata": {},
     "output_type": "execute_result"
    }
   ],
   "source": [
    "# Assuming 'df' is your original DataFrame\n",
    "bxratings_copy = ratings.copy()\n",
    "bxratings_copy.head()"
   ]
  },
  {
   "cell_type": "code",
   "execution_count": 27,
   "metadata": {},
   "outputs": [
    {
     "data": {
      "text/html": [
       "<div>\n",
       "<style scoped>\n",
       "    .dataframe tbody tr th:only-of-type {\n",
       "        vertical-align: middle;\n",
       "    }\n",
       "\n",
       "    .dataframe tbody tr th {\n",
       "        vertical-align: top;\n",
       "    }\n",
       "\n",
       "    .dataframe thead th {\n",
       "        text-align: right;\n",
       "    }\n",
       "</style>\n",
       "<table border=\"1\" class=\"dataframe\">\n",
       "  <thead>\n",
       "    <tr style=\"text-align: right;\">\n",
       "      <th></th>\n",
       "      <th>UserID</th>\n",
       "      <th>ISBN</th>\n",
       "      <th>BookRating</th>\n",
       "    </tr>\n",
       "  </thead>\n",
       "  <tbody>\n",
       "    <tr>\n",
       "      <th>0</th>\n",
       "      <td>276725</td>\n",
       "      <td>034545104X</td>\n",
       "      <td>0</td>\n",
       "    </tr>\n",
       "    <tr>\n",
       "      <th>1</th>\n",
       "      <td>276726</td>\n",
       "      <td>0155061224</td>\n",
       "      <td>5</td>\n",
       "    </tr>\n",
       "    <tr>\n",
       "      <th>2</th>\n",
       "      <td>276727</td>\n",
       "      <td>0446520802</td>\n",
       "      <td>0</td>\n",
       "    </tr>\n",
       "    <tr>\n",
       "      <th>3</th>\n",
       "      <td>276729</td>\n",
       "      <td>052165615X</td>\n",
       "      <td>3</td>\n",
       "    </tr>\n",
       "    <tr>\n",
       "      <th>4</th>\n",
       "      <td>276729</td>\n",
       "      <td>0521795028</td>\n",
       "      <td>6</td>\n",
       "    </tr>\n",
       "  </tbody>\n",
       "</table>\n",
       "</div>"
      ],
      "text/plain": [
       "   UserID        ISBN  BookRating\n",
       "0  276725  034545104X           0\n",
       "1  276726  0155061224           5\n",
       "2  276727  0446520802           0\n",
       "3  276729  052165615X           3\n",
       "4  276729  0521795028           6"
      ]
     },
     "execution_count": 27,
     "metadata": {},
     "output_type": "execute_result"
    }
   ],
   "source": [
    "# bx_userratecopy = bxratings_copy.groupby(['ISBN'], as_index=False)['BookRating'].mean().round(0)\n",
    "# bx_userratecopy.value_counts()\n",
    "bx_userratecopy = bxratings_copy.groupby(['ISBN']).agg({'UserID': 'first', 'BookRating': 'mean'}).reset_index()\n",
    "bxratings_copy.head()"
   ]
  },
  {
   "cell_type": "code",
   "execution_count": 28,
   "metadata": {},
   "outputs": [
    {
     "data": {
      "text/plain": [
       "array([2., 1., 3., 5., 4.])"
      ]
     },
     "execution_count": 28,
     "metadata": {},
     "output_type": "execute_result"
    }
   ],
   "source": [
    "#Scaling the ratings to from a scale of 1-10 to 1-5\n",
    "scaled_ratingscopy = (bx_userratecopy['BookRating'] - 1) * (5 / 9) + 1\n",
    "bx_userratecopy['Scaled Rating'] = np.clip(round(scaled_ratingscopy), 1, 5)\n",
    "bx_userratecopy['Scaled Rating'].unique()"
   ]
  },
  {
   "cell_type": "code",
   "execution_count": 29,
   "metadata": {},
   "outputs": [
    {
     "data": {
      "text/html": [
       "<div>\n",
       "<style scoped>\n",
       "    .dataframe tbody tr th:only-of-type {\n",
       "        vertical-align: middle;\n",
       "    }\n",
       "\n",
       "    .dataframe tbody tr th {\n",
       "        vertical-align: top;\n",
       "    }\n",
       "\n",
       "    .dataframe thead th {\n",
       "        text-align: right;\n",
       "    }\n",
       "</style>\n",
       "<table border=\"1\" class=\"dataframe\">\n",
       "  <thead>\n",
       "    <tr style=\"text-align: right;\">\n",
       "      <th></th>\n",
       "      <th>ISBN</th>\n",
       "      <th>UserID</th>\n",
       "      <th>BookRating</th>\n",
       "      <th>Scaled Rating</th>\n",
       "    </tr>\n",
       "  </thead>\n",
       "  <tbody>\n",
       "    <tr>\n",
       "      <th>0</th>\n",
       "      <td>0330299891</td>\n",
       "      <td>89192</td>\n",
       "      <td>3.0</td>\n",
       "      <td>2</td>\n",
       "    </tr>\n",
       "    <tr>\n",
       "      <th>1</th>\n",
       "      <td>0375404120</td>\n",
       "      <td>89192</td>\n",
       "      <td>1.5</td>\n",
       "      <td>1</td>\n",
       "    </tr>\n",
       "    <tr>\n",
       "      <th>2</th>\n",
       "      <td>0586045007</td>\n",
       "      <td>89192</td>\n",
       "      <td>0.0</td>\n",
       "      <td>1</td>\n",
       "    </tr>\n",
       "    <tr>\n",
       "      <th>3</th>\n",
       "      <td>9022906116</td>\n",
       "      <td>11676</td>\n",
       "      <td>3.5</td>\n",
       "      <td>2</td>\n",
       "    </tr>\n",
       "    <tr>\n",
       "      <th>4</th>\n",
       "      <td>9032803328</td>\n",
       "      <td>89192</td>\n",
       "      <td>0.0</td>\n",
       "      <td>1</td>\n",
       "    </tr>\n",
       "  </tbody>\n",
       "</table>\n",
       "</div>"
      ],
      "text/plain": [
       "          ISBN  UserID  BookRating  Scaled Rating\n",
       "0   0330299891   89192         3.0              2\n",
       "1   0375404120   89192         1.5              1\n",
       "2   0586045007   89192         0.0              1\n",
       "3   9022906116   11676         3.5              2\n",
       "4   9032803328   89192         0.0              1"
      ]
     },
     "execution_count": 29,
     "metadata": {},
     "output_type": "execute_result"
    }
   ],
   "source": [
    "bx_userratecopy['Scaled Rating'] = bx_userratecopy['Scaled Rating'].astype(int)\n",
    "bx_userratecopy.head()"
   ]
  },
  {
   "cell_type": "code",
   "execution_count": 30,
   "metadata": {},
   "outputs": [],
   "source": [
    "ratings = ratings.drop([\"UserID\"], axis=1)"
   ]
  },
  {
   "cell_type": "code",
   "execution_count": 31,
   "metadata": {},
   "outputs": [
    {
     "data": {
      "text/plain": [
       "ISBN         BookRating\n",
       " 0330299891  3.0           1\n",
       "0875961096   0.0           1\n",
       "0875961010   0.0           1\n",
       "087595247X   0.0           1\n",
       "0875952372   10.0          1\n",
       "                          ..\n",
       "0451124847   0.0           1\n",
       "0451124693   0.0           1\n",
       "0451124685   2.0           1\n",
       "0451124634   0.0           1\n",
       "Ô½crosoft    7.0           1\n",
       "Name: count, Length: 340556, dtype: int64"
      ]
     },
     "execution_count": 31,
     "metadata": {},
     "output_type": "execute_result"
    }
   ],
   "source": [
    "bx_userrate = ratings.groupby(['ISBN'], as_index=False)['BookRating'].mean().round(0)\n",
    "bx_userrate.value_counts()"
   ]
  },
  {
   "cell_type": "code",
   "execution_count": 32,
   "metadata": {},
   "outputs": [
    {
     "data": {
      "text/plain": [
       "array([2., 1., 3., 5., 4.])"
      ]
     },
     "execution_count": 32,
     "metadata": {},
     "output_type": "execute_result"
    }
   ],
   "source": [
    "#Scaling the ratings to from a scale of 1-10 to 1-5\n",
    "scaled_ratings = (bx_userrate['BookRating'] - 1) * (5 / 9) + 1\n",
    "bx_userrate['Scaled Rating'] = np.clip(round(scaled_ratings), 1, 5)\n",
    "bx_userrate['Scaled Rating'].unique()"
   ]
  },
  {
   "cell_type": "code",
   "execution_count": 33,
   "metadata": {},
   "outputs": [
    {
     "data": {
      "text/html": [
       "<div>\n",
       "<style scoped>\n",
       "    .dataframe tbody tr th:only-of-type {\n",
       "        vertical-align: middle;\n",
       "    }\n",
       "\n",
       "    .dataframe tbody tr th {\n",
       "        vertical-align: top;\n",
       "    }\n",
       "\n",
       "    .dataframe thead th {\n",
       "        text-align: right;\n",
       "    }\n",
       "</style>\n",
       "<table border=\"1\" class=\"dataframe\">\n",
       "  <thead>\n",
       "    <tr style=\"text-align: right;\">\n",
       "      <th></th>\n",
       "      <th>ISBN</th>\n",
       "      <th>BookRating</th>\n",
       "      <th>Scaled Rating</th>\n",
       "    </tr>\n",
       "  </thead>\n",
       "  <tbody>\n",
       "    <tr>\n",
       "      <th>0</th>\n",
       "      <td>0330299891</td>\n",
       "      <td>3.0</td>\n",
       "      <td>2</td>\n",
       "    </tr>\n",
       "    <tr>\n",
       "      <th>1</th>\n",
       "      <td>0375404120</td>\n",
       "      <td>2.0</td>\n",
       "      <td>2</td>\n",
       "    </tr>\n",
       "    <tr>\n",
       "      <th>2</th>\n",
       "      <td>0586045007</td>\n",
       "      <td>0.0</td>\n",
       "      <td>1</td>\n",
       "    </tr>\n",
       "    <tr>\n",
       "      <th>3</th>\n",
       "      <td>9022906116</td>\n",
       "      <td>4.0</td>\n",
       "      <td>3</td>\n",
       "    </tr>\n",
       "    <tr>\n",
       "      <th>4</th>\n",
       "      <td>9032803328</td>\n",
       "      <td>0.0</td>\n",
       "      <td>1</td>\n",
       "    </tr>\n",
       "  </tbody>\n",
       "</table>\n",
       "</div>"
      ],
      "text/plain": [
       "          ISBN  BookRating  Scaled Rating\n",
       "0   0330299891         3.0              2\n",
       "1   0375404120         2.0              2\n",
       "2   0586045007         0.0              1\n",
       "3   9022906116         4.0              3\n",
       "4   9032803328         0.0              1"
      ]
     },
     "execution_count": 33,
     "metadata": {},
     "output_type": "execute_result"
    }
   ],
   "source": [
    "bx_userrate['Scaled Rating'] = bx_userrate['Scaled Rating'].astype(int)\n",
    "bx_userrate.head()"
   ]
  },
  {
   "cell_type": "markdown",
   "metadata": {},
   "source": [
    "### 1.4 Merging Books, Users, and Ratings tables"
   ]
  },
  {
   "cell_type": "code",
   "execution_count": 34,
   "metadata": {},
   "outputs": [
    {
     "data": {
      "text/html": [
       "<div>\n",
       "<style scoped>\n",
       "    .dataframe tbody tr th:only-of-type {\n",
       "        vertical-align: middle;\n",
       "    }\n",
       "\n",
       "    .dataframe tbody tr th {\n",
       "        vertical-align: top;\n",
       "    }\n",
       "\n",
       "    .dataframe thead th {\n",
       "        text-align: right;\n",
       "    }\n",
       "</style>\n",
       "<table border=\"1\" class=\"dataframe\">\n",
       "  <thead>\n",
       "    <tr style=\"text-align: right;\">\n",
       "      <th></th>\n",
       "      <th>ISBN</th>\n",
       "      <th>Title</th>\n",
       "      <th>Author</th>\n",
       "      <th>Year</th>\n",
       "      <th>Publisher</th>\n",
       "      <th>BookRating</th>\n",
       "      <th>Scaled Rating</th>\n",
       "    </tr>\n",
       "  </thead>\n",
       "  <tbody>\n",
       "    <tr>\n",
       "      <th>0</th>\n",
       "      <td>0195153448</td>\n",
       "      <td>Classical Mythology</td>\n",
       "      <td>Mark P. O. Morford</td>\n",
       "      <td>2002</td>\n",
       "      <td>Oxford University Press</td>\n",
       "      <td>0.0</td>\n",
       "      <td>1</td>\n",
       "    </tr>\n",
       "    <tr>\n",
       "      <th>1</th>\n",
       "      <td>0002005018</td>\n",
       "      <td>Clara Callan</td>\n",
       "      <td>Richard Bruce Wright</td>\n",
       "      <td>2001</td>\n",
       "      <td>HarperFlamingo Canada</td>\n",
       "      <td>5.0</td>\n",
       "      <td>3</td>\n",
       "    </tr>\n",
       "    <tr>\n",
       "      <th>2</th>\n",
       "      <td>0060973129</td>\n",
       "      <td>Decision in Normandy</td>\n",
       "      <td>Carlo D'Este</td>\n",
       "      <td>1991</td>\n",
       "      <td>HarperPerennial</td>\n",
       "      <td>5.0</td>\n",
       "      <td>3</td>\n",
       "    </tr>\n",
       "    <tr>\n",
       "      <th>3</th>\n",
       "      <td>0374157065</td>\n",
       "      <td>Flu: The Story of the Great Influenza Pandemic...</td>\n",
       "      <td>Gina Bari Kolata</td>\n",
       "      <td>1999</td>\n",
       "      <td>Farrar Straus Giroux</td>\n",
       "      <td>4.0</td>\n",
       "      <td>3</td>\n",
       "    </tr>\n",
       "    <tr>\n",
       "      <th>4</th>\n",
       "      <td>0393045218</td>\n",
       "      <td>The Mummies of Urumchi</td>\n",
       "      <td>E. J. W. Barber</td>\n",
       "      <td>1999</td>\n",
       "      <td>W. W. Norton &amp;amp; Company</td>\n",
       "      <td>0.0</td>\n",
       "      <td>1</td>\n",
       "    </tr>\n",
       "  </tbody>\n",
       "</table>\n",
       "</div>"
      ],
      "text/plain": [
       "         ISBN                                              Title  \\\n",
       "0  0195153448                                Classical Mythology   \n",
       "1  0002005018                                       Clara Callan   \n",
       "2  0060973129                               Decision in Normandy   \n",
       "3  0374157065  Flu: The Story of the Great Influenza Pandemic...   \n",
       "4  0393045218                             The Mummies of Urumchi   \n",
       "\n",
       "                 Author  Year                   Publisher  BookRating  \\\n",
       "0    Mark P. O. Morford  2002     Oxford University Press         0.0   \n",
       "1  Richard Bruce Wright  2001       HarperFlamingo Canada         5.0   \n",
       "2          Carlo D'Este  1991             HarperPerennial         5.0   \n",
       "3      Gina Bari Kolata  1999        Farrar Straus Giroux         4.0   \n",
       "4       E. J. W. Barber  1999  W. W. Norton &amp; Company         0.0   \n",
       "\n",
       "   Scaled Rating  \n",
       "0              1  \n",
       "1              3  \n",
       "2              3  \n",
       "3              3  \n",
       "4              1  "
      ]
     },
     "execution_count": 34,
     "metadata": {},
     "output_type": "execute_result"
    }
   ],
   "source": [
    "bx = pd.merge(books, bx_userrate, on='ISBN')\n",
    "bx.head()"
   ]
  },
  {
   "cell_type": "code",
   "execution_count": 35,
   "metadata": {},
   "outputs": [
    {
     "data": {
      "text/html": [
       "<div>\n",
       "<style scoped>\n",
       "    .dataframe tbody tr th:only-of-type {\n",
       "        vertical-align: middle;\n",
       "    }\n",
       "\n",
       "    .dataframe tbody tr th {\n",
       "        vertical-align: top;\n",
       "    }\n",
       "\n",
       "    .dataframe thead th {\n",
       "        text-align: right;\n",
       "    }\n",
       "</style>\n",
       "<table border=\"1\" class=\"dataframe\">\n",
       "  <thead>\n",
       "    <tr style=\"text-align: right;\">\n",
       "      <th></th>\n",
       "      <th>ISBN</th>\n",
       "      <th>Title</th>\n",
       "      <th>Author</th>\n",
       "      <th>Year</th>\n",
       "      <th>Publisher</th>\n",
       "      <th>UserID</th>\n",
       "      <th>BookRating</th>\n",
       "      <th>Scaled Rating</th>\n",
       "    </tr>\n",
       "  </thead>\n",
       "  <tbody>\n",
       "    <tr>\n",
       "      <th>0</th>\n",
       "      <td>0195153448</td>\n",
       "      <td>Classical Mythology</td>\n",
       "      <td>Mark P. O. Morford</td>\n",
       "      <td>2002</td>\n",
       "      <td>Oxford University Press</td>\n",
       "      <td>2</td>\n",
       "      <td>0.000000</td>\n",
       "      <td>1</td>\n",
       "    </tr>\n",
       "    <tr>\n",
       "      <th>1</th>\n",
       "      <td>0002005018</td>\n",
       "      <td>Clara Callan</td>\n",
       "      <td>Richard Bruce Wright</td>\n",
       "      <td>2001</td>\n",
       "      <td>HarperFlamingo Canada</td>\n",
       "      <td>8</td>\n",
       "      <td>4.928571</td>\n",
       "      <td>3</td>\n",
       "    </tr>\n",
       "    <tr>\n",
       "      <th>2</th>\n",
       "      <td>0060973129</td>\n",
       "      <td>Decision in Normandy</td>\n",
       "      <td>Carlo D'Este</td>\n",
       "      <td>1991</td>\n",
       "      <td>HarperPerennial</td>\n",
       "      <td>8</td>\n",
       "      <td>5.000000</td>\n",
       "      <td>3</td>\n",
       "    </tr>\n",
       "    <tr>\n",
       "      <th>3</th>\n",
       "      <td>0374157065</td>\n",
       "      <td>Flu: The Story of the Great Influenza Pandemic...</td>\n",
       "      <td>Gina Bari Kolata</td>\n",
       "      <td>1999</td>\n",
       "      <td>Farrar Straus Giroux</td>\n",
       "      <td>8</td>\n",
       "      <td>4.272727</td>\n",
       "      <td>3</td>\n",
       "    </tr>\n",
       "    <tr>\n",
       "      <th>4</th>\n",
       "      <td>0393045218</td>\n",
       "      <td>The Mummies of Urumchi</td>\n",
       "      <td>E. J. W. Barber</td>\n",
       "      <td>1999</td>\n",
       "      <td>W. W. Norton &amp;amp; Company</td>\n",
       "      <td>8</td>\n",
       "      <td>0.000000</td>\n",
       "      <td>1</td>\n",
       "    </tr>\n",
       "  </tbody>\n",
       "</table>\n",
       "</div>"
      ],
      "text/plain": [
       "         ISBN                                              Title  \\\n",
       "0  0195153448                                Classical Mythology   \n",
       "1  0002005018                                       Clara Callan   \n",
       "2  0060973129                               Decision in Normandy   \n",
       "3  0374157065  Flu: The Story of the Great Influenza Pandemic...   \n",
       "4  0393045218                             The Mummies of Urumchi   \n",
       "\n",
       "                 Author  Year                   Publisher  UserID  BookRating  \\\n",
       "0    Mark P. O. Morford  2002     Oxford University Press       2    0.000000   \n",
       "1  Richard Bruce Wright  2001       HarperFlamingo Canada       8    4.928571   \n",
       "2          Carlo D'Este  1991             HarperPerennial       8    5.000000   \n",
       "3      Gina Bari Kolata  1999        Farrar Straus Giroux       8    4.272727   \n",
       "4       E. J. W. Barber  1999  W. W. Norton &amp; Company       8    0.000000   \n",
       "\n",
       "   Scaled Rating  \n",
       "0              1  \n",
       "1              3  \n",
       "2              3  \n",
       "3              3  \n",
       "4              1  "
      ]
     },
     "execution_count": 35,
     "metadata": {},
     "output_type": "execute_result"
    }
   ],
   "source": [
    "id_bx = pd.merge(books, bx_userratecopy, on='ISBN')\n",
    "id_bx.head()"
   ]
  },
  {
   "cell_type": "markdown",
   "metadata": {},
   "source": [
    "### 2. Goodbooks-10k Dataset"
   ]
  },
  {
   "cell_type": "code",
   "execution_count": 36,
   "metadata": {},
   "outputs": [],
   "source": [
    "goodbooks = pd.read_csv('/Users/sanjeevani1109/Desktop/Book_Recommendation_System/goodreads-10k/books.csv', sep=',',on_bad_lines = 'skip', encoding='latin-1')\n",
    "goodratings = pd.read_csv('/Users/sanjeevani1109/Desktop/Book_Recommendation_System/goodreads-10k/ratings.csv', sep=',',on_bad_lines = 'skip', encoding='latin-1')\n",
    "goodbooks_tags = pd.read_csv('/Users/sanjeevani1109/Desktop/Book_Recommendation_System/goodreads-10k/book_tags.csv',sep=',',on_bad_lines = 'skip', encoding='latin-1')\n",
    "goodtags = pd.read_csv('/Users/sanjeevani1109/Desktop/Book_Recommendation_System/goodreads-10k/tags.csv',sep=',',on_bad_lines = 'skip', encoding='latin-1')\n",
    "good_toread = pd.read_csv('/Users/sanjeevani1109/Desktop/Book_Recommendation_System/goodreads-10k/to_read.csv',sep=',',on_bad_lines = 'skip', encoding='latin-1')"
   ]
  },
  {
   "cell_type": "markdown",
   "metadata": {},
   "source": [
    "### 2.1 Books Table"
   ]
  },
  {
   "cell_type": "code",
   "execution_count": 37,
   "metadata": {},
   "outputs": [],
   "source": [
    "#Dropping the URL columns for the Books table\n",
    "goodbooks.drop(['image_url', 'small_image_url'], axis=1, inplace=True)"
   ]
  },
  {
   "cell_type": "code",
   "execution_count": 38,
   "metadata": {},
   "outputs": [],
   "source": [
    "#Renaming the columns\n",
    "goodbooks.rename(columns={'book_id': 'BookID', 'isbn': 'ISBN', 'authors': 'Author', 'original_publication_year': 'Year', 'original_title': 'Title', 'average_rating': 'Avgrating'}, inplace=True)"
   ]
  },
  {
   "cell_type": "code",
   "execution_count": 39,
   "metadata": {},
   "outputs": [
    {
     "data": {
      "text/plain": [
       "1994.0"
      ]
     },
     "execution_count": 39,
     "metadata": {},
     "output_type": "execute_result"
    }
   ],
   "source": [
    "average_year = goodbooks.loc[goodbooks['Year'] >= 1800, 'Year'].mean().round()\n",
    "average_year"
   ]
  },
  {
   "cell_type": "code",
   "execution_count": 40,
   "metadata": {},
   "outputs": [],
   "source": [
    "goodbooks.loc[goodbooks['Year'] == 0, 'Year'] = average_year\n",
    "goodbooks.loc[:, 'Year'] = goodbooks['Year'].fillna(average_year)\n",
    "goodbooks.loc[goodbooks['Year'] < 1800, 'Year'] = average_year"
   ]
  },
  {
   "cell_type": "code",
   "execution_count": 41,
   "metadata": {},
   "outputs": [],
   "source": [
    "goodbooks.dropna(subset=['Title'], inplace=True)"
   ]
  },
  {
   "cell_type": "code",
   "execution_count": 42,
   "metadata": {},
   "outputs": [
    {
     "data": {
      "text/plain": [
       "(9415, 21)"
      ]
     },
     "execution_count": 42,
     "metadata": {},
     "output_type": "execute_result"
    }
   ],
   "source": [
    "goodbooks.shape"
   ]
  },
  {
   "cell_type": "code",
   "execution_count": 43,
   "metadata": {},
   "outputs": [],
   "source": [
    "goodbooks['Year'] = goodbooks['Year'].astype(int)"
   ]
  },
  {
   "cell_type": "code",
   "execution_count": 44,
   "metadata": {},
   "outputs": [],
   "source": [
    "#creating a new data frame only with the relevant columns\n",
    "selected_cols = ['id', 'BookID', 'Author', 'Year', 'Title', 'Avgrating', 'ratings_count']\n",
    "new_goodbooks = goodbooks[selected_cols].copy()"
   ]
  },
  {
   "cell_type": "code",
   "execution_count": 45,
   "metadata": {},
   "outputs": [
    {
     "data": {
      "text/plain": [
       "(9415, 7)"
      ]
     },
     "execution_count": 45,
     "metadata": {},
     "output_type": "execute_result"
    }
   ],
   "source": [
    "new_goodbooks.shape"
   ]
  },
  {
   "cell_type": "markdown",
   "metadata": {},
   "source": [
    "### 2.2 Ratings Table"
   ]
  },
  {
   "cell_type": "code",
   "execution_count": 46,
   "metadata": {},
   "outputs": [],
   "source": [
    "#Renaming the columns\n",
    "goodratings.rename(columns={'book_id': 'BookID', 'user_id': 'UserID', 'rating': 'Rating'}, inplace=True)"
   ]
  },
  {
   "cell_type": "code",
   "execution_count": 47,
   "metadata": {},
   "outputs": [],
   "source": [
    "# goodratings_copy = goodratings.copy()"
   ]
  },
  {
   "cell_type": "code",
   "execution_count": 48,
   "metadata": {},
   "outputs": [
    {
     "data": {
      "text/html": [
       "<div>\n",
       "<style scoped>\n",
       "    .dataframe tbody tr th:only-of-type {\n",
       "        vertical-align: middle;\n",
       "    }\n",
       "\n",
       "    .dataframe tbody tr th {\n",
       "        vertical-align: top;\n",
       "    }\n",
       "\n",
       "    .dataframe thead th {\n",
       "        text-align: right;\n",
       "    }\n",
       "</style>\n",
       "<table border=\"1\" class=\"dataframe\">\n",
       "  <thead>\n",
       "    <tr style=\"text-align: right;\">\n",
       "      <th></th>\n",
       "      <th>BookID</th>\n",
       "      <th>UserID</th>\n",
       "      <th>Mean Rating</th>\n",
       "    </tr>\n",
       "  </thead>\n",
       "  <tbody>\n",
       "    <tr>\n",
       "      <th>0</th>\n",
       "      <td>1</td>\n",
       "      <td>314</td>\n",
       "      <td>4.0</td>\n",
       "    </tr>\n",
       "    <tr>\n",
       "      <th>1</th>\n",
       "      <td>2</td>\n",
       "      <td>1169</td>\n",
       "      <td>4.0</td>\n",
       "    </tr>\n",
       "    <tr>\n",
       "      <th>2</th>\n",
       "      <td>3</td>\n",
       "      <td>314</td>\n",
       "      <td>3.0</td>\n",
       "    </tr>\n",
       "    <tr>\n",
       "      <th>3</th>\n",
       "      <td>4</td>\n",
       "      <td>439</td>\n",
       "      <td>4.0</td>\n",
       "    </tr>\n",
       "    <tr>\n",
       "      <th>4</th>\n",
       "      <td>5</td>\n",
       "      <td>314</td>\n",
       "      <td>4.0</td>\n",
       "    </tr>\n",
       "  </tbody>\n",
       "</table>\n",
       "</div>"
      ],
      "text/plain": [
       "   BookID  UserID  Mean Rating\n",
       "0       1     314          4.0\n",
       "1       2    1169          4.0\n",
       "2       3     314          3.0\n",
       "3       4     439          4.0\n",
       "4       5     314          4.0"
      ]
     },
     "execution_count": 48,
     "metadata": {},
     "output_type": "execute_result"
    }
   ],
   "source": [
    "user_Ratecopy = goodratings.groupby(['BookID']).agg({'UserID': 'first', 'Rating': 'mean'}).reset_index()\n",
    "user_Ratecopy['Rating'] = user_Ratecopy['Rating'].round(0)\n",
    "user_Ratecopy.rename(columns={'Rating': 'Mean Rating'}, inplace=True)\n",
    "user_Ratecopy.head()"
   ]
  },
  {
   "cell_type": "code",
   "execution_count": 49,
   "metadata": {},
   "outputs": [
    {
     "data": {
      "text/html": [
       "<div>\n",
       "<style scoped>\n",
       "    .dataframe tbody tr th:only-of-type {\n",
       "        vertical-align: middle;\n",
       "    }\n",
       "\n",
       "    .dataframe tbody tr th {\n",
       "        vertical-align: top;\n",
       "    }\n",
       "\n",
       "    .dataframe thead th {\n",
       "        text-align: right;\n",
       "    }\n",
       "</style>\n",
       "<table border=\"1\" class=\"dataframe\">\n",
       "  <thead>\n",
       "    <tr style=\"text-align: right;\">\n",
       "      <th></th>\n",
       "      <th>BookID</th>\n",
       "      <th>UserID</th>\n",
       "      <th>Mean Rating</th>\n",
       "    </tr>\n",
       "  </thead>\n",
       "  <tbody>\n",
       "    <tr>\n",
       "      <th>0</th>\n",
       "      <td>1</td>\n",
       "      <td>314</td>\n",
       "      <td>4</td>\n",
       "    </tr>\n",
       "    <tr>\n",
       "      <th>1</th>\n",
       "      <td>2</td>\n",
       "      <td>1169</td>\n",
       "      <td>4</td>\n",
       "    </tr>\n",
       "    <tr>\n",
       "      <th>2</th>\n",
       "      <td>3</td>\n",
       "      <td>314</td>\n",
       "      <td>3</td>\n",
       "    </tr>\n",
       "    <tr>\n",
       "      <th>3</th>\n",
       "      <td>4</td>\n",
       "      <td>439</td>\n",
       "      <td>4</td>\n",
       "    </tr>\n",
       "    <tr>\n",
       "      <th>4</th>\n",
       "      <td>5</td>\n",
       "      <td>314</td>\n",
       "      <td>4</td>\n",
       "    </tr>\n",
       "  </tbody>\n",
       "</table>\n",
       "</div>"
      ],
      "text/plain": [
       "   BookID  UserID  Mean Rating\n",
       "0       1     314            4\n",
       "1       2    1169            4\n",
       "2       3     314            3\n",
       "3       4     439            4\n",
       "4       5     314            4"
      ]
     },
     "execution_count": 49,
     "metadata": {},
     "output_type": "execute_result"
    }
   ],
   "source": [
    "user_Ratecopy['Mean Rating'] = user_Ratecopy['Mean Rating'].astype(int)\n",
    "user_Ratecopy.head()"
   ]
  },
  {
   "cell_type": "code",
   "execution_count": 50,
   "metadata": {},
   "outputs": [
    {
     "data": {
      "text/html": [
       "<div>\n",
       "<style scoped>\n",
       "    .dataframe tbody tr th:only-of-type {\n",
       "        vertical-align: middle;\n",
       "    }\n",
       "\n",
       "    .dataframe tbody tr th {\n",
       "        vertical-align: top;\n",
       "    }\n",
       "\n",
       "    .dataframe thead th {\n",
       "        text-align: right;\n",
       "    }\n",
       "</style>\n",
       "<table border=\"1\" class=\"dataframe\">\n",
       "  <thead>\n",
       "    <tr style=\"text-align: right;\">\n",
       "      <th></th>\n",
       "      <th>BookID</th>\n",
       "      <th>Rating</th>\n",
       "    </tr>\n",
       "  </thead>\n",
       "  <tbody>\n",
       "    <tr>\n",
       "      <th>0</th>\n",
       "      <td>1</td>\n",
       "      <td>4.0</td>\n",
       "    </tr>\n",
       "    <tr>\n",
       "      <th>1</th>\n",
       "      <td>2</td>\n",
       "      <td>4.0</td>\n",
       "    </tr>\n",
       "    <tr>\n",
       "      <th>2</th>\n",
       "      <td>3</td>\n",
       "      <td>3.0</td>\n",
       "    </tr>\n",
       "    <tr>\n",
       "      <th>3</th>\n",
       "      <td>4</td>\n",
       "      <td>4.0</td>\n",
       "    </tr>\n",
       "    <tr>\n",
       "      <th>4</th>\n",
       "      <td>5</td>\n",
       "      <td>4.0</td>\n",
       "    </tr>\n",
       "  </tbody>\n",
       "</table>\n",
       "</div>"
      ],
      "text/plain": [
       "   BookID  Rating\n",
       "0       1     4.0\n",
       "1       2     4.0\n",
       "2       3     3.0\n",
       "3       4     4.0\n",
       "4       5     4.0"
      ]
     },
     "execution_count": 50,
     "metadata": {},
     "output_type": "execute_result"
    }
   ],
   "source": [
    "user_rate = goodratings.groupby(['BookID'], as_index=False)['Rating'].mean().round(0)\n",
    "user_rate.head()\n",
    "# user_rate.value_counts()"
   ]
  },
  {
   "cell_type": "code",
   "execution_count": 51,
   "metadata": {},
   "outputs": [
    {
     "data": {
      "text/plain": [
       "(10000, 2)"
      ]
     },
     "execution_count": 51,
     "metadata": {},
     "output_type": "execute_result"
    }
   ],
   "source": [
    "user_rate.shape"
   ]
  },
  {
   "cell_type": "code",
   "execution_count": 52,
   "metadata": {},
   "outputs": [
    {
     "data": {
      "text/html": [
       "<div>\n",
       "<style scoped>\n",
       "    .dataframe tbody tr th:only-of-type {\n",
       "        vertical-align: middle;\n",
       "    }\n",
       "\n",
       "    .dataframe tbody tr th {\n",
       "        vertical-align: top;\n",
       "    }\n",
       "\n",
       "    .dataframe thead th {\n",
       "        text-align: right;\n",
       "    }\n",
       "</style>\n",
       "<table border=\"1\" class=\"dataframe\">\n",
       "  <thead>\n",
       "    <tr style=\"text-align: right;\">\n",
       "      <th></th>\n",
       "      <th>BookID</th>\n",
       "      <th>Mean Rating</th>\n",
       "    </tr>\n",
       "  </thead>\n",
       "  <tbody>\n",
       "    <tr>\n",
       "      <th>0</th>\n",
       "      <td>1</td>\n",
       "      <td>4.0</td>\n",
       "    </tr>\n",
       "    <tr>\n",
       "      <th>1</th>\n",
       "      <td>2</td>\n",
       "      <td>4.0</td>\n",
       "    </tr>\n",
       "    <tr>\n",
       "      <th>2</th>\n",
       "      <td>3</td>\n",
       "      <td>3.0</td>\n",
       "    </tr>\n",
       "    <tr>\n",
       "      <th>3</th>\n",
       "      <td>4</td>\n",
       "      <td>4.0</td>\n",
       "    </tr>\n",
       "    <tr>\n",
       "      <th>4</th>\n",
       "      <td>5</td>\n",
       "      <td>4.0</td>\n",
       "    </tr>\n",
       "  </tbody>\n",
       "</table>\n",
       "</div>"
      ],
      "text/plain": [
       "   BookID  Mean Rating\n",
       "0       1          4.0\n",
       "1       2          4.0\n",
       "2       3          3.0\n",
       "3       4          4.0\n",
       "4       5          4.0"
      ]
     },
     "execution_count": 52,
     "metadata": {},
     "output_type": "execute_result"
    }
   ],
   "source": [
    "#Renaming the columns\n",
    "user_rate.rename(columns={'Rating': 'Mean Rating'}, inplace=True)\n",
    "user_rate.head()\n",
    "# user_rate.value_counts()"
   ]
  },
  {
   "cell_type": "code",
   "execution_count": 53,
   "metadata": {},
   "outputs": [],
   "source": [
    "user_rate['Mean Rating'] = user_rate['Mean Rating'].astype(int)"
   ]
  },
  {
   "cell_type": "code",
   "execution_count": 54,
   "metadata": {},
   "outputs": [
    {
     "data": {
      "text/plain": [
       "(10000, 2)"
      ]
     },
     "execution_count": 54,
     "metadata": {},
     "output_type": "execute_result"
    }
   ],
   "source": [
    "user_rate.shape"
   ]
  },
  {
   "cell_type": "markdown",
   "metadata": {},
   "source": [
    "### 2.6 Merging the Books and Ratings tables"
   ]
  },
  {
   "cell_type": "code",
   "execution_count": 55,
   "metadata": {},
   "outputs": [
    {
     "data": {
      "text/html": [
       "<div>\n",
       "<style scoped>\n",
       "    .dataframe tbody tr th:only-of-type {\n",
       "        vertical-align: middle;\n",
       "    }\n",
       "\n",
       "    .dataframe tbody tr th {\n",
       "        vertical-align: top;\n",
       "    }\n",
       "\n",
       "    .dataframe thead th {\n",
       "        text-align: right;\n",
       "    }\n",
       "</style>\n",
       "<table border=\"1\" class=\"dataframe\">\n",
       "  <thead>\n",
       "    <tr style=\"text-align: right;\">\n",
       "      <th></th>\n",
       "      <th>id</th>\n",
       "      <th>BookID</th>\n",
       "      <th>Author</th>\n",
       "      <th>Year</th>\n",
       "      <th>Title</th>\n",
       "      <th>Avgrating</th>\n",
       "      <th>ratings_count</th>\n",
       "    </tr>\n",
       "  </thead>\n",
       "  <tbody>\n",
       "    <tr>\n",
       "      <th>0</th>\n",
       "      <td>1</td>\n",
       "      <td>2767052</td>\n",
       "      <td>Suzanne Collins</td>\n",
       "      <td>2008</td>\n",
       "      <td>The Hunger Games</td>\n",
       "      <td>4.34</td>\n",
       "      <td>4780653</td>\n",
       "    </tr>\n",
       "    <tr>\n",
       "      <th>1</th>\n",
       "      <td>2</td>\n",
       "      <td>3</td>\n",
       "      <td>J.K. Rowling, Mary GrandPrÃ©</td>\n",
       "      <td>1997</td>\n",
       "      <td>Harry Potter and the Philosopher's Stone</td>\n",
       "      <td>4.44</td>\n",
       "      <td>4602479</td>\n",
       "    </tr>\n",
       "    <tr>\n",
       "      <th>2</th>\n",
       "      <td>3</td>\n",
       "      <td>41865</td>\n",
       "      <td>Stephenie Meyer</td>\n",
       "      <td>2005</td>\n",
       "      <td>Twilight</td>\n",
       "      <td>3.57</td>\n",
       "      <td>3866839</td>\n",
       "    </tr>\n",
       "    <tr>\n",
       "      <th>3</th>\n",
       "      <td>4</td>\n",
       "      <td>2657</td>\n",
       "      <td>Harper Lee</td>\n",
       "      <td>1960</td>\n",
       "      <td>To Kill a Mockingbird</td>\n",
       "      <td>4.25</td>\n",
       "      <td>3198671</td>\n",
       "    </tr>\n",
       "    <tr>\n",
       "      <th>4</th>\n",
       "      <td>5</td>\n",
       "      <td>4671</td>\n",
       "      <td>F. Scott Fitzgerald</td>\n",
       "      <td>1925</td>\n",
       "      <td>The Great Gatsby</td>\n",
       "      <td>3.89</td>\n",
       "      <td>2683664</td>\n",
       "    </tr>\n",
       "    <tr>\n",
       "      <th>...</th>\n",
       "      <td>...</td>\n",
       "      <td>...</td>\n",
       "      <td>...</td>\n",
       "      <td>...</td>\n",
       "      <td>...</td>\n",
       "      <td>...</td>\n",
       "      <td>...</td>\n",
       "    </tr>\n",
       "    <tr>\n",
       "      <th>9995</th>\n",
       "      <td>9996</td>\n",
       "      <td>7130616</td>\n",
       "      <td>Ilona Andrews</td>\n",
       "      <td>2010</td>\n",
       "      <td>Bayou Moon</td>\n",
       "      <td>4.09</td>\n",
       "      <td>17204</td>\n",
       "    </tr>\n",
       "    <tr>\n",
       "      <th>9996</th>\n",
       "      <td>9997</td>\n",
       "      <td>208324</td>\n",
       "      <td>Robert A. Caro</td>\n",
       "      <td>1990</td>\n",
       "      <td>Means of Ascent</td>\n",
       "      <td>4.25</td>\n",
       "      <td>12582</td>\n",
       "    </tr>\n",
       "    <tr>\n",
       "      <th>9997</th>\n",
       "      <td>9998</td>\n",
       "      <td>77431</td>\n",
       "      <td>Patrick O'Brian</td>\n",
       "      <td>1977</td>\n",
       "      <td>The Mauritius Command</td>\n",
       "      <td>4.35</td>\n",
       "      <td>9421</td>\n",
       "    </tr>\n",
       "    <tr>\n",
       "      <th>9998</th>\n",
       "      <td>9999</td>\n",
       "      <td>8565083</td>\n",
       "      <td>Peggy Orenstein</td>\n",
       "      <td>2011</td>\n",
       "      <td>Cinderella Ate My Daughter: Dispatches from th...</td>\n",
       "      <td>3.65</td>\n",
       "      <td>11279</td>\n",
       "    </tr>\n",
       "    <tr>\n",
       "      <th>9999</th>\n",
       "      <td>10000</td>\n",
       "      <td>8914</td>\n",
       "      <td>John Keegan</td>\n",
       "      <td>1998</td>\n",
       "      <td>The First World War</td>\n",
       "      <td>4.00</td>\n",
       "      <td>9162</td>\n",
       "    </tr>\n",
       "  </tbody>\n",
       "</table>\n",
       "<p>9415 rows × 7 columns</p>\n",
       "</div>"
      ],
      "text/plain": [
       "         id   BookID                        Author  Year  \\\n",
       "0         1  2767052               Suzanne Collins  2008   \n",
       "1         2        3  J.K. Rowling, Mary GrandPrÃ©  1997   \n",
       "2         3    41865               Stephenie Meyer  2005   \n",
       "3         4     2657                    Harper Lee  1960   \n",
       "4         5     4671           F. Scott Fitzgerald  1925   \n",
       "...     ...      ...                           ...   ...   \n",
       "9995   9996  7130616                 Ilona Andrews  2010   \n",
       "9996   9997   208324                Robert A. Caro  1990   \n",
       "9997   9998    77431               Patrick O'Brian  1977   \n",
       "9998   9999  8565083               Peggy Orenstein  2011   \n",
       "9999  10000     8914                   John Keegan  1998   \n",
       "\n",
       "                                                  Title  Avgrating  \\\n",
       "0                                      The Hunger Games       4.34   \n",
       "1              Harry Potter and the Philosopher's Stone       4.44   \n",
       "2                                              Twilight       3.57   \n",
       "3                                 To Kill a Mockingbird       4.25   \n",
       "4                                      The Great Gatsby       3.89   \n",
       "...                                                 ...        ...   \n",
       "9995                                         Bayou Moon       4.09   \n",
       "9996                                   Means of Ascent        4.25   \n",
       "9997                              The Mauritius Command       4.35   \n",
       "9998  Cinderella Ate My Daughter: Dispatches from th...       3.65   \n",
       "9999                                The First World War       4.00   \n",
       "\n",
       "      ratings_count  \n",
       "0           4780653  \n",
       "1           4602479  \n",
       "2           3866839  \n",
       "3           3198671  \n",
       "4           2683664  \n",
       "...             ...  \n",
       "9995          17204  \n",
       "9996          12582  \n",
       "9997           9421  \n",
       "9998          11279  \n",
       "9999           9162  \n",
       "\n",
       "[9415 rows x 7 columns]"
      ]
     },
     "execution_count": 55,
     "metadata": {},
     "output_type": "execute_result"
    }
   ],
   "source": [
    "new_goodbooks"
   ]
  },
  {
   "cell_type": "code",
   "execution_count": 56,
   "metadata": {},
   "outputs": [
    {
     "data": {
      "text/html": [
       "<div>\n",
       "<style scoped>\n",
       "    .dataframe tbody tr th:only-of-type {\n",
       "        vertical-align: middle;\n",
       "    }\n",
       "\n",
       "    .dataframe tbody tr th {\n",
       "        vertical-align: top;\n",
       "    }\n",
       "\n",
       "    .dataframe thead th {\n",
       "        text-align: right;\n",
       "    }\n",
       "</style>\n",
       "<table border=\"1\" class=\"dataframe\">\n",
       "  <thead>\n",
       "    <tr style=\"text-align: right;\">\n",
       "      <th></th>\n",
       "      <th>id</th>\n",
       "      <th>UserID</th>\n",
       "      <th>Mean Rating</th>\n",
       "    </tr>\n",
       "  </thead>\n",
       "  <tbody>\n",
       "    <tr>\n",
       "      <th>0</th>\n",
       "      <td>1</td>\n",
       "      <td>314</td>\n",
       "      <td>4</td>\n",
       "    </tr>\n",
       "    <tr>\n",
       "      <th>1</th>\n",
       "      <td>2</td>\n",
       "      <td>1169</td>\n",
       "      <td>4</td>\n",
       "    </tr>\n",
       "    <tr>\n",
       "      <th>2</th>\n",
       "      <td>3</td>\n",
       "      <td>314</td>\n",
       "      <td>3</td>\n",
       "    </tr>\n",
       "    <tr>\n",
       "      <th>3</th>\n",
       "      <td>4</td>\n",
       "      <td>439</td>\n",
       "      <td>4</td>\n",
       "    </tr>\n",
       "    <tr>\n",
       "      <th>4</th>\n",
       "      <td>5</td>\n",
       "      <td>314</td>\n",
       "      <td>4</td>\n",
       "    </tr>\n",
       "  </tbody>\n",
       "</table>\n",
       "</div>"
      ],
      "text/plain": [
       "   id  UserID  Mean Rating\n",
       "0   1     314            4\n",
       "1   2    1169            4\n",
       "2   3     314            3\n",
       "3   4     439            4\n",
       "4   5     314            4"
      ]
     },
     "execution_count": 56,
     "metadata": {},
     "output_type": "execute_result"
    }
   ],
   "source": [
    "user_Ratecopy = user_Ratecopy.rename(columns={\"BookID\":\"id\"})\n",
    "user_Ratecopy.head()"
   ]
  },
  {
   "cell_type": "code",
   "execution_count": 57,
   "metadata": {},
   "outputs": [],
   "source": [
    "user_rate = user_rate.rename(columns={\"BookID\":\"id\"})"
   ]
  },
  {
   "cell_type": "code",
   "execution_count": 58,
   "metadata": {},
   "outputs": [
    {
     "data": {
      "text/html": [
       "<div>\n",
       "<style scoped>\n",
       "    .dataframe tbody tr th:only-of-type {\n",
       "        vertical-align: middle;\n",
       "    }\n",
       "\n",
       "    .dataframe tbody tr th {\n",
       "        vertical-align: top;\n",
       "    }\n",
       "\n",
       "    .dataframe thead th {\n",
       "        text-align: right;\n",
       "    }\n",
       "</style>\n",
       "<table border=\"1\" class=\"dataframe\">\n",
       "  <thead>\n",
       "    <tr style=\"text-align: right;\">\n",
       "      <th></th>\n",
       "      <th>id</th>\n",
       "      <th>Mean Rating</th>\n",
       "    </tr>\n",
       "  </thead>\n",
       "  <tbody>\n",
       "    <tr>\n",
       "      <th>0</th>\n",
       "      <td>1</td>\n",
       "      <td>4</td>\n",
       "    </tr>\n",
       "    <tr>\n",
       "      <th>1</th>\n",
       "      <td>2</td>\n",
       "      <td>4</td>\n",
       "    </tr>\n",
       "    <tr>\n",
       "      <th>2</th>\n",
       "      <td>3</td>\n",
       "      <td>3</td>\n",
       "    </tr>\n",
       "    <tr>\n",
       "      <th>3</th>\n",
       "      <td>4</td>\n",
       "      <td>4</td>\n",
       "    </tr>\n",
       "    <tr>\n",
       "      <th>4</th>\n",
       "      <td>5</td>\n",
       "      <td>4</td>\n",
       "    </tr>\n",
       "  </tbody>\n",
       "</table>\n",
       "</div>"
      ],
      "text/plain": [
       "   id  Mean Rating\n",
       "0   1            4\n",
       "1   2            4\n",
       "2   3            3\n",
       "3   4            4\n",
       "4   5            4"
      ]
     },
     "execution_count": 58,
     "metadata": {},
     "output_type": "execute_result"
    }
   ],
   "source": [
    "user_rate.head()"
   ]
  },
  {
   "cell_type": "code",
   "execution_count": 59,
   "metadata": {},
   "outputs": [],
   "source": [
    "gbx = pd.merge(new_goodbooks, user_rate, on='id')"
   ]
  },
  {
   "cell_type": "code",
   "execution_count": 60,
   "metadata": {},
   "outputs": [],
   "source": [
    "id_gbx = pd.merge(new_goodbooks, user_Ratecopy, on='id')"
   ]
  },
  {
   "cell_type": "code",
   "execution_count": 61,
   "metadata": {},
   "outputs": [
    {
     "data": {
      "text/plain": [
       "(9415, 8)"
      ]
     },
     "execution_count": 61,
     "metadata": {},
     "output_type": "execute_result"
    }
   ],
   "source": [
    "gbx.shape"
   ]
  },
  {
   "cell_type": "code",
   "execution_count": 62,
   "metadata": {},
   "outputs": [
    {
     "data": {
      "text/plain": [
       "(9415, 9)"
      ]
     },
     "execution_count": 62,
     "metadata": {},
     "output_type": "execute_result"
    }
   ],
   "source": [
    "id_gbx.shape"
   ]
  },
  {
   "cell_type": "code",
   "execution_count": 63,
   "metadata": {},
   "outputs": [
    {
     "data": {
      "text/html": [
       "<div>\n",
       "<style scoped>\n",
       "    .dataframe tbody tr th:only-of-type {\n",
       "        vertical-align: middle;\n",
       "    }\n",
       "\n",
       "    .dataframe tbody tr th {\n",
       "        vertical-align: top;\n",
       "    }\n",
       "\n",
       "    .dataframe thead th {\n",
       "        text-align: right;\n",
       "    }\n",
       "</style>\n",
       "<table border=\"1\" class=\"dataframe\">\n",
       "  <thead>\n",
       "    <tr style=\"text-align: right;\">\n",
       "      <th></th>\n",
       "      <th>id</th>\n",
       "      <th>BookID</th>\n",
       "      <th>Author</th>\n",
       "      <th>Year</th>\n",
       "      <th>Title</th>\n",
       "      <th>Avgrating</th>\n",
       "      <th>ratings_count</th>\n",
       "      <th>Mean Rating</th>\n",
       "    </tr>\n",
       "  </thead>\n",
       "  <tbody>\n",
       "    <tr>\n",
       "      <th>0</th>\n",
       "      <td>1</td>\n",
       "      <td>2767052</td>\n",
       "      <td>Suzanne Collins</td>\n",
       "      <td>2008</td>\n",
       "      <td>The Hunger Games</td>\n",
       "      <td>4.34</td>\n",
       "      <td>4780653</td>\n",
       "      <td>4</td>\n",
       "    </tr>\n",
       "    <tr>\n",
       "      <th>1</th>\n",
       "      <td>2</td>\n",
       "      <td>3</td>\n",
       "      <td>J.K. Rowling, Mary GrandPrÃ©</td>\n",
       "      <td>1997</td>\n",
       "      <td>Harry Potter and the Philosopher's Stone</td>\n",
       "      <td>4.44</td>\n",
       "      <td>4602479</td>\n",
       "      <td>4</td>\n",
       "    </tr>\n",
       "    <tr>\n",
       "      <th>2</th>\n",
       "      <td>3</td>\n",
       "      <td>41865</td>\n",
       "      <td>Stephenie Meyer</td>\n",
       "      <td>2005</td>\n",
       "      <td>Twilight</td>\n",
       "      <td>3.57</td>\n",
       "      <td>3866839</td>\n",
       "      <td>3</td>\n",
       "    </tr>\n",
       "    <tr>\n",
       "      <th>3</th>\n",
       "      <td>4</td>\n",
       "      <td>2657</td>\n",
       "      <td>Harper Lee</td>\n",
       "      <td>1960</td>\n",
       "      <td>To Kill a Mockingbird</td>\n",
       "      <td>4.25</td>\n",
       "      <td>3198671</td>\n",
       "      <td>4</td>\n",
       "    </tr>\n",
       "    <tr>\n",
       "      <th>4</th>\n",
       "      <td>5</td>\n",
       "      <td>4671</td>\n",
       "      <td>F. Scott Fitzgerald</td>\n",
       "      <td>1925</td>\n",
       "      <td>The Great Gatsby</td>\n",
       "      <td>3.89</td>\n",
       "      <td>2683664</td>\n",
       "      <td>4</td>\n",
       "    </tr>\n",
       "  </tbody>\n",
       "</table>\n",
       "</div>"
      ],
      "text/plain": [
       "   id   BookID                        Author  Year  \\\n",
       "0   1  2767052               Suzanne Collins  2008   \n",
       "1   2        3  J.K. Rowling, Mary GrandPrÃ©  1997   \n",
       "2   3    41865               Stephenie Meyer  2005   \n",
       "3   4     2657                    Harper Lee  1960   \n",
       "4   5     4671           F. Scott Fitzgerald  1925   \n",
       "\n",
       "                                      Title  Avgrating  ratings_count  \\\n",
       "0                          The Hunger Games       4.34        4780653   \n",
       "1  Harry Potter and the Philosopher's Stone       4.44        4602479   \n",
       "2                                  Twilight       3.57        3866839   \n",
       "3                     To Kill a Mockingbird       4.25        3198671   \n",
       "4                          The Great Gatsby       3.89        2683664   \n",
       "\n",
       "   Mean Rating  \n",
       "0            4  \n",
       "1            4  \n",
       "2            3  \n",
       "3            4  \n",
       "4            4  "
      ]
     },
     "execution_count": 63,
     "metadata": {},
     "output_type": "execute_result"
    }
   ],
   "source": [
    "gbx.head()"
   ]
  },
  {
   "cell_type": "code",
   "execution_count": 64,
   "metadata": {},
   "outputs": [
    {
     "data": {
      "text/html": [
       "<div>\n",
       "<style scoped>\n",
       "    .dataframe tbody tr th:only-of-type {\n",
       "        vertical-align: middle;\n",
       "    }\n",
       "\n",
       "    .dataframe tbody tr th {\n",
       "        vertical-align: top;\n",
       "    }\n",
       "\n",
       "    .dataframe thead th {\n",
       "        text-align: right;\n",
       "    }\n",
       "</style>\n",
       "<table border=\"1\" class=\"dataframe\">\n",
       "  <thead>\n",
       "    <tr style=\"text-align: right;\">\n",
       "      <th></th>\n",
       "      <th>id</th>\n",
       "      <th>BookID</th>\n",
       "      <th>Author</th>\n",
       "      <th>Year</th>\n",
       "      <th>Title</th>\n",
       "      <th>Avgrating</th>\n",
       "      <th>ratings_count</th>\n",
       "      <th>UserID</th>\n",
       "      <th>Mean Rating</th>\n",
       "    </tr>\n",
       "  </thead>\n",
       "  <tbody>\n",
       "    <tr>\n",
       "      <th>0</th>\n",
       "      <td>1</td>\n",
       "      <td>2767052</td>\n",
       "      <td>Suzanne Collins</td>\n",
       "      <td>2008</td>\n",
       "      <td>The Hunger Games</td>\n",
       "      <td>4.34</td>\n",
       "      <td>4780653</td>\n",
       "      <td>314</td>\n",
       "      <td>4</td>\n",
       "    </tr>\n",
       "    <tr>\n",
       "      <th>1</th>\n",
       "      <td>2</td>\n",
       "      <td>3</td>\n",
       "      <td>J.K. Rowling, Mary GrandPrÃ©</td>\n",
       "      <td>1997</td>\n",
       "      <td>Harry Potter and the Philosopher's Stone</td>\n",
       "      <td>4.44</td>\n",
       "      <td>4602479</td>\n",
       "      <td>1169</td>\n",
       "      <td>4</td>\n",
       "    </tr>\n",
       "    <tr>\n",
       "      <th>2</th>\n",
       "      <td>3</td>\n",
       "      <td>41865</td>\n",
       "      <td>Stephenie Meyer</td>\n",
       "      <td>2005</td>\n",
       "      <td>Twilight</td>\n",
       "      <td>3.57</td>\n",
       "      <td>3866839</td>\n",
       "      <td>314</td>\n",
       "      <td>3</td>\n",
       "    </tr>\n",
       "    <tr>\n",
       "      <th>3</th>\n",
       "      <td>4</td>\n",
       "      <td>2657</td>\n",
       "      <td>Harper Lee</td>\n",
       "      <td>1960</td>\n",
       "      <td>To Kill a Mockingbird</td>\n",
       "      <td>4.25</td>\n",
       "      <td>3198671</td>\n",
       "      <td>439</td>\n",
       "      <td>4</td>\n",
       "    </tr>\n",
       "    <tr>\n",
       "      <th>4</th>\n",
       "      <td>5</td>\n",
       "      <td>4671</td>\n",
       "      <td>F. Scott Fitzgerald</td>\n",
       "      <td>1925</td>\n",
       "      <td>The Great Gatsby</td>\n",
       "      <td>3.89</td>\n",
       "      <td>2683664</td>\n",
       "      <td>314</td>\n",
       "      <td>4</td>\n",
       "    </tr>\n",
       "  </tbody>\n",
       "</table>\n",
       "</div>"
      ],
      "text/plain": [
       "   id   BookID                        Author  Year  \\\n",
       "0   1  2767052               Suzanne Collins  2008   \n",
       "1   2        3  J.K. Rowling, Mary GrandPrÃ©  1997   \n",
       "2   3    41865               Stephenie Meyer  2005   \n",
       "3   4     2657                    Harper Lee  1960   \n",
       "4   5     4671           F. Scott Fitzgerald  1925   \n",
       "\n",
       "                                      Title  Avgrating  ratings_count  UserID  \\\n",
       "0                          The Hunger Games       4.34        4780653     314   \n",
       "1  Harry Potter and the Philosopher's Stone       4.44        4602479    1169   \n",
       "2                                  Twilight       3.57        3866839     314   \n",
       "3                     To Kill a Mockingbird       4.25        3198671     439   \n",
       "4                          The Great Gatsby       3.89        2683664     314   \n",
       "\n",
       "   Mean Rating  \n",
       "0            4  \n",
       "1            4  \n",
       "2            3  \n",
       "3            4  \n",
       "4            4  "
      ]
     },
     "execution_count": 64,
     "metadata": {},
     "output_type": "execute_result"
    }
   ],
   "source": [
    "id_gbx.head()"
   ]
  },
  {
   "cell_type": "markdown",
   "metadata": {},
   "source": [
    "## NEW"
   ]
  },
  {
   "cell_type": "code",
   "execution_count": 65,
   "metadata": {},
   "outputs": [
    {
     "name": "stderr",
     "output_type": "stream",
     "text": [
      "[nltk_data] Downloading package punkt to\n",
      "[nltk_data]     /Users/sanjeevani1109/nltk_data...\n",
      "[nltk_data]   Package punkt is already up-to-date!\n",
      "[nltk_data] Downloading package wordnet to\n",
      "[nltk_data]     /Users/sanjeevani1109/nltk_data...\n",
      "[nltk_data]   Package wordnet is already up-to-date!\n",
      "[nltk_data] Downloading package omw-1.4 to\n",
      "[nltk_data]     /Users/sanjeevani1109/nltk_data...\n",
      "[nltk_data]   Package omw-1.4 is already up-to-date!\n",
      "[nltk_data] Downloading package stopwords to\n",
      "[nltk_data]     /Users/sanjeevani1109/nltk_data...\n",
      "[nltk_data]   Package stopwords is already up-to-date!\n"
     ]
    }
   ],
   "source": [
    "import nltk #using the nltk library for tokenization and lemmatization\n",
    "nltk.download('punkt')\n",
    "nltk.download('wordnet')\n",
    "nltk.download('omw-1.4')\n",
    "nltk.download('stopwords')\n",
    "\n",
    "import pandas as pd"
   ]
  },
  {
   "cell_type": "code",
   "execution_count": 66,
   "metadata": {},
   "outputs": [],
   "source": [
    "#importing necessary libraries\n",
    "import string\n",
    "import re\n",
    "from nltk.corpus import stopwords\n",
    "from nltk.tokenize import word_tokenize\n",
    "from nltk.stem import WordNetLemmatizer"
   ]
  },
  {
   "cell_type": "code",
   "execution_count": 67,
   "metadata": {},
   "outputs": [],
   "source": [
    "#Function to clean text data\n",
    "def clean_text(text):\n",
    "    text = text.lower()     #Converting the text to lowercase\n",
    "    text = re.sub(r'\\d+', ' ', text)    # Removing digits\n",
    "    text = re.sub(r'[^a-zA-Z\\s]', '', text)  # Removing special characters\n",
    "    text = text.translate(str.maketrans('', '', string.punctuation))    #Removing punctuation     \n",
    "    tokens = word_tokenize(text) #Tokenization of the text\n",
    "    non_stopwords = []  #Creating an empty list to store the non-stopwords\n",
    "    stop_words = set(stopwords.words('english')) #Initializing the NLTK English stopwords\n",
    "    #Lemmatization of the words/tokens\n",
    "    lemmatizer = WordNetLemmatizer()    #Initialization of the NLTK WordNet Lemmatizer\n",
    "\n",
    "    #Iterating through the list of tokens, lemmatizing them, and adding it to the list of non-stopwords\n",
    "    for token in tokens:\n",
    "        if token not in stop_words:\n",
    "            lemma = lemmatizer.lemmatize(token) #Performing lemmatization\n",
    "            non_stopwords.append(lemma)  # Appending the stemmed token back to the list of non-stopwords\n",
    "\n",
    "    # Joining the tokens/words from the list of non-stopwords into a string\n",
    "    filtered_text = ' '.join(non_stopwords)\n",
    "    return filtered_text\n"
   ]
  },
  {
   "cell_type": "code",
   "execution_count": 68,
   "metadata": {},
   "outputs": [],
   "source": [
    "# Apply the text_clean function to the 'Title' column of the first data frame 'bx' i.e., the Book Crossing dataset's final data frame\n",
    "bx['cleaned_title'] = bx['Title'].apply(clean_text)"
   ]
  },
  {
   "cell_type": "code",
   "execution_count": 69,
   "metadata": {},
   "outputs": [
    {
     "name": "stdout",
     "output_type": "stream",
     "text": [
      "First DataFrame - bx:\n",
      "                                               Title  \\\n",
      "0                                Classical Mythology   \n",
      "1                                       Clara Callan   \n",
      "2                               Decision in Normandy   \n",
      "3  Flu: The Story of the Great Influenza Pandemic...   \n",
      "4                             The Mummies of Urumchi   \n",
      "\n",
      "                                       cleaned_title  \n",
      "0                                classical mythology  \n",
      "1                                       clara callan  \n",
      "2                                  decision normandy  \n",
      "3  flu story great influenza pandemic search viru...  \n",
      "4                                      mummy urumchi  \n"
     ]
    }
   ],
   "source": [
    "# Show the first few rows of the cleaned column for the first DataFrame 'bx'\n",
    "print(\"First DataFrame - bx:\")\n",
    "print(bx[['Title', 'cleaned_title']].head())"
   ]
  },
  {
   "cell_type": "code",
   "execution_count": 70,
   "metadata": {},
   "outputs": [],
   "source": [
    "# Apply the text_clean function to the 'Title' column of the second data frame 'gbx' i.e., the Goodbooks-10k dataset's final data frame\n",
    "gbx['cleaned_title'] = gbx['Title'].apply(clean_text)"
   ]
  },
  {
   "cell_type": "code",
   "execution_count": 71,
   "metadata": {},
   "outputs": [
    {
     "name": "stdout",
     "output_type": "stream",
     "text": [
      "\n",
      "Second DataFrame - gbx:\n",
      "                                      Title                   cleaned_title\n",
      "0                          The Hunger Games                     hunger game\n",
      "1  Harry Potter and the Philosopher's Stone  harry potter philosopher stone\n",
      "2                                  Twilight                        twilight\n",
      "3                     To Kill a Mockingbird                kill mockingbird\n",
      "4                          The Great Gatsby                    great gatsby\n"
     ]
    }
   ],
   "source": [
    "# Show the first few rows of the cleaned column for the second DataFrame 'gbx'\n",
    "print(\"\\nSecond DataFrame - gbx:\")\n",
    "print(gbx[['Title', 'cleaned_title']].head())"
   ]
  },
  {
   "cell_type": "markdown",
   "metadata": {},
   "source": [
    "### Cleaning 'Author' columns"
   ]
  },
  {
   "cell_type": "code",
   "execution_count": 72,
   "metadata": {},
   "outputs": [],
   "source": [
    "# Apply the clean_text function to the 'Author' column of the first data frame 'bx'\n",
    "bx['cleaned_author'] = bx['Author'].apply(clean_text)"
   ]
  },
  {
   "cell_type": "code",
   "execution_count": 73,
   "metadata": {},
   "outputs": [
    {
     "name": "stdout",
     "output_type": "stream",
     "text": [
      "First DataFrame - bx:\n",
      "                 Author        cleaned_author\n",
      "0    Mark P. O. Morford        mark p morford\n",
      "1  Richard Bruce Wright  richard bruce wright\n",
      "2          Carlo D'Este           carlo deste\n",
      "3      Gina Bari Kolata      gina bari kolata\n",
      "4       E. J. W. Barber          e j w barber\n"
     ]
    }
   ],
   "source": [
    "# Show the first few rows of the cleaned column for the first DataFrame 'bx'\n",
    "print(\"First DataFrame - bx:\")\n",
    "print(bx[['Author', 'cleaned_author']].head())"
   ]
  },
  {
   "cell_type": "code",
   "execution_count": 74,
   "metadata": {},
   "outputs": [],
   "source": [
    "# Apply the clean_text function to the 'Author' column of the second data frame 'gbx'\n",
    "gbx['cleaned_author'] = gbx['Author'].apply(clean_text)"
   ]
  },
  {
   "cell_type": "code",
   "execution_count": 75,
   "metadata": {},
   "outputs": [
    {
     "name": "stdout",
     "output_type": "stream",
     "text": [
      "\n",
      "Second DataFrame - gbx:\n",
      "                         Author           cleaned_author\n",
      "0               Suzanne Collins          suzanne collins\n",
      "1  J.K. Rowling, Mary GrandPrÃ©  jk rowling mary grandpr\n",
      "2               Stephenie Meyer          stephenie meyer\n",
      "3                    Harper Lee               harper lee\n",
      "4           F. Scott Fitzgerald       f scott fitzgerald\n"
     ]
    }
   ],
   "source": [
    "# Show the first few rows of the cleaned column for the second DataFrame 'gbx'\n",
    "print(\"\\nSecond DataFrame - gbx:\")\n",
    "print(gbx[['Author', 'cleaned_author']].head())"
   ]
  },
  {
   "cell_type": "code",
   "execution_count": 76,
   "metadata": {},
   "outputs": [
    {
     "data": {
      "text/html": [
       "<div>\n",
       "<style scoped>\n",
       "    .dataframe tbody tr th:only-of-type {\n",
       "        vertical-align: middle;\n",
       "    }\n",
       "\n",
       "    .dataframe tbody tr th {\n",
       "        vertical-align: top;\n",
       "    }\n",
       "\n",
       "    .dataframe thead th {\n",
       "        text-align: right;\n",
       "    }\n",
       "</style>\n",
       "<table border=\"1\" class=\"dataframe\">\n",
       "  <thead>\n",
       "    <tr style=\"text-align: right;\">\n",
       "      <th></th>\n",
       "      <th>ISBN</th>\n",
       "      <th>Title</th>\n",
       "      <th>Author</th>\n",
       "      <th>Year</th>\n",
       "      <th>Publisher</th>\n",
       "      <th>BookRating</th>\n",
       "      <th>Scaled Rating</th>\n",
       "      <th>cleaned_title</th>\n",
       "      <th>cleaned_author</th>\n",
       "    </tr>\n",
       "  </thead>\n",
       "  <tbody>\n",
       "    <tr>\n",
       "      <th>0</th>\n",
       "      <td>0195153448</td>\n",
       "      <td>Classical Mythology</td>\n",
       "      <td>Mark P. O. Morford</td>\n",
       "      <td>2002</td>\n",
       "      <td>Oxford University Press</td>\n",
       "      <td>0.0</td>\n",
       "      <td>1</td>\n",
       "      <td>classical mythology</td>\n",
       "      <td>mark p morford</td>\n",
       "    </tr>\n",
       "    <tr>\n",
       "      <th>1</th>\n",
       "      <td>0002005018</td>\n",
       "      <td>Clara Callan</td>\n",
       "      <td>Richard Bruce Wright</td>\n",
       "      <td>2001</td>\n",
       "      <td>HarperFlamingo Canada</td>\n",
       "      <td>5.0</td>\n",
       "      <td>3</td>\n",
       "      <td>clara callan</td>\n",
       "      <td>richard bruce wright</td>\n",
       "    </tr>\n",
       "    <tr>\n",
       "      <th>2</th>\n",
       "      <td>0060973129</td>\n",
       "      <td>Decision in Normandy</td>\n",
       "      <td>Carlo D'Este</td>\n",
       "      <td>1991</td>\n",
       "      <td>HarperPerennial</td>\n",
       "      <td>5.0</td>\n",
       "      <td>3</td>\n",
       "      <td>decision normandy</td>\n",
       "      <td>carlo deste</td>\n",
       "    </tr>\n",
       "    <tr>\n",
       "      <th>3</th>\n",
       "      <td>0374157065</td>\n",
       "      <td>Flu: The Story of the Great Influenza Pandemic...</td>\n",
       "      <td>Gina Bari Kolata</td>\n",
       "      <td>1999</td>\n",
       "      <td>Farrar Straus Giroux</td>\n",
       "      <td>4.0</td>\n",
       "      <td>3</td>\n",
       "      <td>flu story great influenza pandemic search viru...</td>\n",
       "      <td>gina bari kolata</td>\n",
       "    </tr>\n",
       "    <tr>\n",
       "      <th>4</th>\n",
       "      <td>0393045218</td>\n",
       "      <td>The Mummies of Urumchi</td>\n",
       "      <td>E. J. W. Barber</td>\n",
       "      <td>1999</td>\n",
       "      <td>W. W. Norton &amp;amp; Company</td>\n",
       "      <td>0.0</td>\n",
       "      <td>1</td>\n",
       "      <td>mummy urumchi</td>\n",
       "      <td>e j w barber</td>\n",
       "    </tr>\n",
       "  </tbody>\n",
       "</table>\n",
       "</div>"
      ],
      "text/plain": [
       "         ISBN                                              Title  \\\n",
       "0  0195153448                                Classical Mythology   \n",
       "1  0002005018                                       Clara Callan   \n",
       "2  0060973129                               Decision in Normandy   \n",
       "3  0374157065  Flu: The Story of the Great Influenza Pandemic...   \n",
       "4  0393045218                             The Mummies of Urumchi   \n",
       "\n",
       "                 Author  Year                   Publisher  BookRating  \\\n",
       "0    Mark P. O. Morford  2002     Oxford University Press         0.0   \n",
       "1  Richard Bruce Wright  2001       HarperFlamingo Canada         5.0   \n",
       "2          Carlo D'Este  1991             HarperPerennial         5.0   \n",
       "3      Gina Bari Kolata  1999        Farrar Straus Giroux         4.0   \n",
       "4       E. J. W. Barber  1999  W. W. Norton &amp; Company         0.0   \n",
       "\n",
       "   Scaled Rating                                      cleaned_title  \\\n",
       "0              1                                classical mythology   \n",
       "1              3                                       clara callan   \n",
       "2              3                                  decision normandy   \n",
       "3              3  flu story great influenza pandemic search viru...   \n",
       "4              1                                      mummy urumchi   \n",
       "\n",
       "         cleaned_author  \n",
       "0        mark p morford  \n",
       "1  richard bruce wright  \n",
       "2           carlo deste  \n",
       "3      gina bari kolata  \n",
       "4          e j w barber  "
      ]
     },
     "execution_count": 76,
     "metadata": {},
     "output_type": "execute_result"
    }
   ],
   "source": [
    "bx.head()"
   ]
  },
  {
   "cell_type": "code",
   "execution_count": 77,
   "metadata": {},
   "outputs": [],
   "source": [
    "bxcolumns_to_copy = ['ISBN', 'Publisher', 'BookRating']"
   ]
  },
  {
   "cell_type": "code",
   "execution_count": 78,
   "metadata": {},
   "outputs": [
    {
     "data": {
      "text/html": [
       "<div>\n",
       "<style scoped>\n",
       "    .dataframe tbody tr th:only-of-type {\n",
       "        vertical-align: middle;\n",
       "    }\n",
       "\n",
       "    .dataframe tbody tr th {\n",
       "        vertical-align: top;\n",
       "    }\n",
       "\n",
       "    .dataframe thead th {\n",
       "        text-align: right;\n",
       "    }\n",
       "</style>\n",
       "<table border=\"1\" class=\"dataframe\">\n",
       "  <thead>\n",
       "    <tr style=\"text-align: right;\">\n",
       "      <th></th>\n",
       "      <th>Title</th>\n",
       "      <th>Author</th>\n",
       "      <th>Year</th>\n",
       "      <th>Scaled Rating</th>\n",
       "      <th>cleaned_title</th>\n",
       "      <th>cleaned_author</th>\n",
       "    </tr>\n",
       "  </thead>\n",
       "  <tbody>\n",
       "    <tr>\n",
       "      <th>0</th>\n",
       "      <td>Classical Mythology</td>\n",
       "      <td>Mark P. O. Morford</td>\n",
       "      <td>2002</td>\n",
       "      <td>1</td>\n",
       "      <td>classical mythology</td>\n",
       "      <td>mark p morford</td>\n",
       "    </tr>\n",
       "    <tr>\n",
       "      <th>1</th>\n",
       "      <td>Clara Callan</td>\n",
       "      <td>Richard Bruce Wright</td>\n",
       "      <td>2001</td>\n",
       "      <td>3</td>\n",
       "      <td>clara callan</td>\n",
       "      <td>richard bruce wright</td>\n",
       "    </tr>\n",
       "    <tr>\n",
       "      <th>2</th>\n",
       "      <td>Decision in Normandy</td>\n",
       "      <td>Carlo D'Este</td>\n",
       "      <td>1991</td>\n",
       "      <td>3</td>\n",
       "      <td>decision normandy</td>\n",
       "      <td>carlo deste</td>\n",
       "    </tr>\n",
       "    <tr>\n",
       "      <th>3</th>\n",
       "      <td>Flu: The Story of the Great Influenza Pandemic...</td>\n",
       "      <td>Gina Bari Kolata</td>\n",
       "      <td>1999</td>\n",
       "      <td>3</td>\n",
       "      <td>flu story great influenza pandemic search viru...</td>\n",
       "      <td>gina bari kolata</td>\n",
       "    </tr>\n",
       "    <tr>\n",
       "      <th>4</th>\n",
       "      <td>The Mummies of Urumchi</td>\n",
       "      <td>E. J. W. Barber</td>\n",
       "      <td>1999</td>\n",
       "      <td>1</td>\n",
       "      <td>mummy urumchi</td>\n",
       "      <td>e j w barber</td>\n",
       "    </tr>\n",
       "  </tbody>\n",
       "</table>\n",
       "</div>"
      ],
      "text/plain": [
       "                                               Title                Author  \\\n",
       "0                                Classical Mythology    Mark P. O. Morford   \n",
       "1                                       Clara Callan  Richard Bruce Wright   \n",
       "2                               Decision in Normandy          Carlo D'Este   \n",
       "3  Flu: The Story of the Great Influenza Pandemic...      Gina Bari Kolata   \n",
       "4                             The Mummies of Urumchi       E. J. W. Barber   \n",
       "\n",
       "   Year  Scaled Rating                                      cleaned_title  \\\n",
       "0  2002              1                                classical mythology   \n",
       "1  2001              3                                       clara callan   \n",
       "2  1991              3                                  decision normandy   \n",
       "3  1999              3  flu story great influenza pandemic search viru...   \n",
       "4  1999              1                                      mummy urumchi   \n",
       "\n",
       "         cleaned_author  \n",
       "0        mark p morford  \n",
       "1  richard bruce wright  \n",
       "2           carlo deste  \n",
       "3      gina bari kolata  \n",
       "4          e j w barber  "
      ]
     },
     "execution_count": 78,
     "metadata": {},
     "output_type": "execute_result"
    }
   ],
   "source": [
    "bx.drop(columns=bxcolumns_to_copy, inplace=True)\n",
    "bx.head()"
   ]
  },
  {
   "cell_type": "code",
   "execution_count": 79,
   "metadata": {},
   "outputs": [
    {
     "data": {
      "text/html": [
       "<div>\n",
       "<style scoped>\n",
       "    .dataframe tbody tr th:only-of-type {\n",
       "        vertical-align: middle;\n",
       "    }\n",
       "\n",
       "    .dataframe tbody tr th {\n",
       "        vertical-align: top;\n",
       "    }\n",
       "\n",
       "    .dataframe thead th {\n",
       "        text-align: right;\n",
       "    }\n",
       "</style>\n",
       "<table border=\"1\" class=\"dataframe\">\n",
       "  <thead>\n",
       "    <tr style=\"text-align: right;\">\n",
       "      <th></th>\n",
       "      <th>id</th>\n",
       "      <th>BookID</th>\n",
       "      <th>Author</th>\n",
       "      <th>Year</th>\n",
       "      <th>Title</th>\n",
       "      <th>Avgrating</th>\n",
       "      <th>ratings_count</th>\n",
       "      <th>Mean Rating</th>\n",
       "      <th>cleaned_title</th>\n",
       "      <th>cleaned_author</th>\n",
       "    </tr>\n",
       "  </thead>\n",
       "  <tbody>\n",
       "    <tr>\n",
       "      <th>0</th>\n",
       "      <td>1</td>\n",
       "      <td>2767052</td>\n",
       "      <td>Suzanne Collins</td>\n",
       "      <td>2008</td>\n",
       "      <td>The Hunger Games</td>\n",
       "      <td>4.34</td>\n",
       "      <td>4780653</td>\n",
       "      <td>4</td>\n",
       "      <td>hunger game</td>\n",
       "      <td>suzanne collins</td>\n",
       "    </tr>\n",
       "    <tr>\n",
       "      <th>1</th>\n",
       "      <td>2</td>\n",
       "      <td>3</td>\n",
       "      <td>J.K. Rowling, Mary GrandPrÃ©</td>\n",
       "      <td>1997</td>\n",
       "      <td>Harry Potter and the Philosopher's Stone</td>\n",
       "      <td>4.44</td>\n",
       "      <td>4602479</td>\n",
       "      <td>4</td>\n",
       "      <td>harry potter philosopher stone</td>\n",
       "      <td>jk rowling mary grandpr</td>\n",
       "    </tr>\n",
       "    <tr>\n",
       "      <th>2</th>\n",
       "      <td>3</td>\n",
       "      <td>41865</td>\n",
       "      <td>Stephenie Meyer</td>\n",
       "      <td>2005</td>\n",
       "      <td>Twilight</td>\n",
       "      <td>3.57</td>\n",
       "      <td>3866839</td>\n",
       "      <td>3</td>\n",
       "      <td>twilight</td>\n",
       "      <td>stephenie meyer</td>\n",
       "    </tr>\n",
       "    <tr>\n",
       "      <th>3</th>\n",
       "      <td>4</td>\n",
       "      <td>2657</td>\n",
       "      <td>Harper Lee</td>\n",
       "      <td>1960</td>\n",
       "      <td>To Kill a Mockingbird</td>\n",
       "      <td>4.25</td>\n",
       "      <td>3198671</td>\n",
       "      <td>4</td>\n",
       "      <td>kill mockingbird</td>\n",
       "      <td>harper lee</td>\n",
       "    </tr>\n",
       "    <tr>\n",
       "      <th>4</th>\n",
       "      <td>5</td>\n",
       "      <td>4671</td>\n",
       "      <td>F. Scott Fitzgerald</td>\n",
       "      <td>1925</td>\n",
       "      <td>The Great Gatsby</td>\n",
       "      <td>3.89</td>\n",
       "      <td>2683664</td>\n",
       "      <td>4</td>\n",
       "      <td>great gatsby</td>\n",
       "      <td>f scott fitzgerald</td>\n",
       "    </tr>\n",
       "  </tbody>\n",
       "</table>\n",
       "</div>"
      ],
      "text/plain": [
       "   id   BookID                        Author  Year  \\\n",
       "0   1  2767052               Suzanne Collins  2008   \n",
       "1   2        3  J.K. Rowling, Mary GrandPrÃ©  1997   \n",
       "2   3    41865               Stephenie Meyer  2005   \n",
       "3   4     2657                    Harper Lee  1960   \n",
       "4   5     4671           F. Scott Fitzgerald  1925   \n",
       "\n",
       "                                      Title  Avgrating  ratings_count  \\\n",
       "0                          The Hunger Games       4.34        4780653   \n",
       "1  Harry Potter and the Philosopher's Stone       4.44        4602479   \n",
       "2                                  Twilight       3.57        3866839   \n",
       "3                     To Kill a Mockingbird       4.25        3198671   \n",
       "4                          The Great Gatsby       3.89        2683664   \n",
       "\n",
       "   Mean Rating                   cleaned_title           cleaned_author  \n",
       "0            4                     hunger game          suzanne collins  \n",
       "1            4  harry potter philosopher stone  jk rowling mary grandpr  \n",
       "2            3                        twilight          stephenie meyer  \n",
       "3            4                kill mockingbird               harper lee  \n",
       "4            4                    great gatsby       f scott fitzgerald  "
      ]
     },
     "execution_count": 79,
     "metadata": {},
     "output_type": "execute_result"
    }
   ],
   "source": [
    "gbx.head()"
   ]
  },
  {
   "cell_type": "code",
   "execution_count": 80,
   "metadata": {},
   "outputs": [],
   "source": [
    "newgbxcolumns_to_copy = ['id','BookID', 'Avgrating', 'ratings_count']"
   ]
  },
  {
   "cell_type": "code",
   "execution_count": 81,
   "metadata": {},
   "outputs": [
    {
     "data": {
      "text/html": [
       "<div>\n",
       "<style scoped>\n",
       "    .dataframe tbody tr th:only-of-type {\n",
       "        vertical-align: middle;\n",
       "    }\n",
       "\n",
       "    .dataframe tbody tr th {\n",
       "        vertical-align: top;\n",
       "    }\n",
       "\n",
       "    .dataframe thead th {\n",
       "        text-align: right;\n",
       "    }\n",
       "</style>\n",
       "<table border=\"1\" class=\"dataframe\">\n",
       "  <thead>\n",
       "    <tr style=\"text-align: right;\">\n",
       "      <th></th>\n",
       "      <th>Author</th>\n",
       "      <th>Year</th>\n",
       "      <th>Title</th>\n",
       "      <th>Mean Rating</th>\n",
       "      <th>cleaned_title</th>\n",
       "      <th>cleaned_author</th>\n",
       "    </tr>\n",
       "  </thead>\n",
       "  <tbody>\n",
       "    <tr>\n",
       "      <th>0</th>\n",
       "      <td>Suzanne Collins</td>\n",
       "      <td>2008</td>\n",
       "      <td>The Hunger Games</td>\n",
       "      <td>4</td>\n",
       "      <td>hunger game</td>\n",
       "      <td>suzanne collins</td>\n",
       "    </tr>\n",
       "    <tr>\n",
       "      <th>1</th>\n",
       "      <td>J.K. Rowling, Mary GrandPrÃ©</td>\n",
       "      <td>1997</td>\n",
       "      <td>Harry Potter and the Philosopher's Stone</td>\n",
       "      <td>4</td>\n",
       "      <td>harry potter philosopher stone</td>\n",
       "      <td>jk rowling mary grandpr</td>\n",
       "    </tr>\n",
       "    <tr>\n",
       "      <th>2</th>\n",
       "      <td>Stephenie Meyer</td>\n",
       "      <td>2005</td>\n",
       "      <td>Twilight</td>\n",
       "      <td>3</td>\n",
       "      <td>twilight</td>\n",
       "      <td>stephenie meyer</td>\n",
       "    </tr>\n",
       "    <tr>\n",
       "      <th>3</th>\n",
       "      <td>Harper Lee</td>\n",
       "      <td>1960</td>\n",
       "      <td>To Kill a Mockingbird</td>\n",
       "      <td>4</td>\n",
       "      <td>kill mockingbird</td>\n",
       "      <td>harper lee</td>\n",
       "    </tr>\n",
       "    <tr>\n",
       "      <th>4</th>\n",
       "      <td>F. Scott Fitzgerald</td>\n",
       "      <td>1925</td>\n",
       "      <td>The Great Gatsby</td>\n",
       "      <td>4</td>\n",
       "      <td>great gatsby</td>\n",
       "      <td>f scott fitzgerald</td>\n",
       "    </tr>\n",
       "  </tbody>\n",
       "</table>\n",
       "</div>"
      ],
      "text/plain": [
       "                         Author  Year  \\\n",
       "0               Suzanne Collins  2008   \n",
       "1  J.K. Rowling, Mary GrandPrÃ©  1997   \n",
       "2               Stephenie Meyer  2005   \n",
       "3                    Harper Lee  1960   \n",
       "4           F. Scott Fitzgerald  1925   \n",
       "\n",
       "                                      Title  Mean Rating  \\\n",
       "0                          The Hunger Games            4   \n",
       "1  Harry Potter and the Philosopher's Stone            4   \n",
       "2                                  Twilight            3   \n",
       "3                     To Kill a Mockingbird            4   \n",
       "4                          The Great Gatsby            4   \n",
       "\n",
       "                    cleaned_title           cleaned_author  \n",
       "0                     hunger game          suzanne collins  \n",
       "1  harry potter philosopher stone  jk rowling mary grandpr  \n",
       "2                        twilight          stephenie meyer  \n",
       "3                kill mockingbird               harper lee  \n",
       "4                    great gatsby       f scott fitzgerald  "
      ]
     },
     "execution_count": 81,
     "metadata": {},
     "output_type": "execute_result"
    }
   ],
   "source": [
    "gbx.drop(columns=newgbxcolumns_to_copy, inplace=True)\n",
    "gbx.head()"
   ]
  },
  {
   "cell_type": "markdown",
   "metadata": {},
   "source": [
    "## Content-based Recommender"
   ]
  },
  {
   "cell_type": "code",
   "execution_count": 83,
   "metadata": {},
   "outputs": [],
   "source": [
    "from sklearn.feature_extraction.text import TfidfVectorizer\n",
    "from sklearn.metrics.pairwise import cosine_similarity\n",
    "import pandas as pd\n",
    "import numpy as np"
   ]
  },
  {
   "cell_type": "code",
   "execution_count": 84,
   "metadata": {},
   "outputs": [
    {
     "name": "stderr",
     "output_type": "stream",
     "text": [
      "[nltk_data] Downloading package punkt to\n",
      "[nltk_data]     /Users/sanjeevani1109/nltk_data...\n",
      "[nltk_data]   Package punkt is already up-to-date!\n",
      "[nltk_data] Downloading package stopwords to\n",
      "[nltk_data]     /Users/sanjeevani1109/nltk_data...\n",
      "[nltk_data]   Package stopwords is already up-to-date!\n",
      "[nltk_data] Downloading package wordnet to\n",
      "[nltk_data]     /Users/sanjeevani1109/nltk_data...\n",
      "[nltk_data]   Package wordnet is already up-to-date!\n"
     ]
    },
    {
     "data": {
      "text/plain": [
       "True"
      ]
     },
     "execution_count": 84,
     "metadata": {},
     "output_type": "execute_result"
    }
   ],
   "source": [
    "import numpy as np\n",
    "import pandas as pd\n",
    "import re\n",
    "import string\n",
    "from nltk.tokenize import word_tokenize\n",
    "from nltk.corpus import stopwords\n",
    "from nltk.stem import WordNetLemmatizer\n",
    "from sklearn.feature_extraction.text import TfidfVectorizer\n",
    "from sklearn.metrics.pairwise import cosine_similarity\n",
    "from sklearn.model_selection import KFold\n",
    "\n",
    "# Ensure nltk data is downloaded (stopwords, punkt, wordnet)\n",
    "import nltk\n",
    "nltk.download('punkt')\n",
    "nltk.download('stopwords')\n",
    "nltk.download('wordnet')"
   ]
  },
  {
   "cell_type": "code",
   "execution_count": 85,
   "metadata": {},
   "outputs": [],
   "source": [
    "\n",
    "def prepare_tfidf(df):\n",
    "    # Combine title and author after cleaning for more context\n",
    "    df['combined'] = df['cleaned_title'] + \" \" + df['cleaned_author']\n",
    "    # df['combined'] = df['combined'].apply(clean_text)\n",
    "    \n",
    "    tfidf_vectorizer = TfidfVectorizer(max_features=500, stop_words='english')\n",
    "    tfidf_matrix = tfidf_vectorizer.fit_transform(df['combined'])\n",
    "    return tfidf_matrix, tfidf_vectorizer\n"
   ]
  },
  {
   "cell_type": "code",
   "execution_count": 86,
   "metadata": {},
   "outputs": [],
   "source": [
    "import random\n",
    "\n",
    "def generate_content_recommendations(df, query, top_k=5, similarity_threshold=0.1):\n",
    "\n",
    "    tfidf_matrix, tfidf_vectorizer = prepare_tfidf(df)\n",
    "    \n",
    "    #transforming the cleaned query to match TF-IDF dimensions\n",
    "    query_vector = tfidf_vectorizer.transform([clean_text(query)])\n",
    "    \n",
    "    #computing cosine similarity\n",
    "    cosine_sim = cosine_similarity(query_vector, tfidf_matrix).flatten()\n",
    "\n",
    "    # Sorting items based on similarity scores, but only consider those above the threshold\n",
    "    above_threshold_indices = np.where(cosine_sim >= similarity_threshold)[0]\n",
    "\n",
    "    top_indices = np.argsort(cosine_sim[above_threshold_indices]) # Fetch more items for diversity\n",
    "    \n",
    "    #times 2 for safety factor\n",
    "    random_selection = random.choices(top_indices, k=(len(top_indices) % top_k**3))\n",
    "    \n",
    "    # #fetching top indices \n",
    "    # top_indices = np.argsort(cosine_sim)[-top_k*10:]  #fetch more items for diversity (*10)\n",
    "    \n",
    "    seen = set()\n",
    "    unique_recommendations = []\n",
    "    # Reverse because when we sort we get smallest to largest\n",
    "    # print(len(random_selection))\n",
    "    for index in random_selection:\n",
    "        actual_index = above_threshold_indices[index]\n",
    "        title_author = (df.iloc[actual_index]['Title'].lower(), df.iloc[actual_index]['Author'].lower(), df.iloc[actual_index]['Year'])\n",
    "\n",
    "        same_as_query = df.iloc[actual_index]['Title'].lower() == query.lower()            \n",
    "\n",
    "        if title_author not in seen and not same_as_query:\n",
    "            seen.add(title_author)\n",
    "            unique_recommendations.append(actual_index)\n",
    "\n",
    "        # Continue adding until we truly have top_k unique or exhaust the list\n",
    "        if len(unique_recommendations) == top_k or len(seen) == len(top_indices):\n",
    "            break\n",
    "\n",
    "        # if len(unique_recommendations) == top_k:\n",
    "        #     break\n",
    "    \n",
    "    recommendations = df.iloc[unique_recommendations][['Title', 'Author', 'Year']]\n",
    "    return recommendations  # Return recommendations in descending order of similarity\n",
    "    # return recommendations\n",
    "\n"
   ]
  },
  {
   "cell_type": "code",
   "execution_count": 115,
   "metadata": {},
   "outputs": [
    {
     "name": "stdout",
     "output_type": "stream",
     "text": [
      "                                                    Title             Author  \\\n",
      "142141                              Mama, Do You Love Me?  Barbara M. Joosse   \n",
      "172548  The Angel and the Rake (Camfield Novel of Love...   Barbara Cartland   \n",
      "8885                 When the One You Love Wants to Leave   Donald R. Harvey   \n",
      "25650          Love Only Once (Malory Novels (Paperback))    Johanna Lindsey   \n",
      "202488                              Scottish Love Stories      Susie Maguire   \n",
      "\n",
      "        Year  \n",
      "142141  1991  \n",
      "172548  1993  \n",
      "8885    1993  \n",
      "25650   1985  \n",
      "202488  1995  \n"
     ]
    }
   ],
   "source": [
    "query_title = \"love, rosie\"\n",
    "recommended_titles = generate_content_recommendations(bx, query_title, top_k=5)\n",
    "print(recommended_titles)"
   ]
  },
  {
   "cell_type": "markdown",
   "metadata": {},
   "source": [
    "## Collaborative-filtering Recommender (item-based memory-based approach)"
   ]
  },
  {
   "cell_type": "code",
   "execution_count": 87,
   "metadata": {},
   "outputs": [
    {
     "data": {
      "text/html": [
       "<div>\n",
       "<style scoped>\n",
       "    .dataframe tbody tr th:only-of-type {\n",
       "        vertical-align: middle;\n",
       "    }\n",
       "\n",
       "    .dataframe tbody tr th {\n",
       "        vertical-align: top;\n",
       "    }\n",
       "\n",
       "    .dataframe thead th {\n",
       "        text-align: right;\n",
       "    }\n",
       "</style>\n",
       "<table border=\"1\" class=\"dataframe\">\n",
       "  <thead>\n",
       "    <tr style=\"text-align: right;\">\n",
       "      <th></th>\n",
       "      <th>ISBN</th>\n",
       "      <th>Title</th>\n",
       "      <th>Author</th>\n",
       "      <th>Year</th>\n",
       "      <th>Publisher</th>\n",
       "      <th>UserID</th>\n",
       "      <th>BookRating</th>\n",
       "      <th>Scaled Rating</th>\n",
       "    </tr>\n",
       "  </thead>\n",
       "  <tbody>\n",
       "    <tr>\n",
       "      <th>0</th>\n",
       "      <td>0195153448</td>\n",
       "      <td>Classical Mythology</td>\n",
       "      <td>Mark P. O. Morford</td>\n",
       "      <td>2002</td>\n",
       "      <td>Oxford University Press</td>\n",
       "      <td>2</td>\n",
       "      <td>0.000000</td>\n",
       "      <td>1</td>\n",
       "    </tr>\n",
       "    <tr>\n",
       "      <th>1</th>\n",
       "      <td>0002005018</td>\n",
       "      <td>Clara Callan</td>\n",
       "      <td>Richard Bruce Wright</td>\n",
       "      <td>2001</td>\n",
       "      <td>HarperFlamingo Canada</td>\n",
       "      <td>8</td>\n",
       "      <td>4.928571</td>\n",
       "      <td>3</td>\n",
       "    </tr>\n",
       "    <tr>\n",
       "      <th>2</th>\n",
       "      <td>0060973129</td>\n",
       "      <td>Decision in Normandy</td>\n",
       "      <td>Carlo D'Este</td>\n",
       "      <td>1991</td>\n",
       "      <td>HarperPerennial</td>\n",
       "      <td>8</td>\n",
       "      <td>5.000000</td>\n",
       "      <td>3</td>\n",
       "    </tr>\n",
       "    <tr>\n",
       "      <th>3</th>\n",
       "      <td>0374157065</td>\n",
       "      <td>Flu: The Story of the Great Influenza Pandemic...</td>\n",
       "      <td>Gina Bari Kolata</td>\n",
       "      <td>1999</td>\n",
       "      <td>Farrar Straus Giroux</td>\n",
       "      <td>8</td>\n",
       "      <td>4.272727</td>\n",
       "      <td>3</td>\n",
       "    </tr>\n",
       "    <tr>\n",
       "      <th>4</th>\n",
       "      <td>0393045218</td>\n",
       "      <td>The Mummies of Urumchi</td>\n",
       "      <td>E. J. W. Barber</td>\n",
       "      <td>1999</td>\n",
       "      <td>W. W. Norton &amp;amp; Company</td>\n",
       "      <td>8</td>\n",
       "      <td>0.000000</td>\n",
       "      <td>1</td>\n",
       "    </tr>\n",
       "  </tbody>\n",
       "</table>\n",
       "</div>"
      ],
      "text/plain": [
       "         ISBN                                              Title  \\\n",
       "0  0195153448                                Classical Mythology   \n",
       "1  0002005018                                       Clara Callan   \n",
       "2  0060973129                               Decision in Normandy   \n",
       "3  0374157065  Flu: The Story of the Great Influenza Pandemic...   \n",
       "4  0393045218                             The Mummies of Urumchi   \n",
       "\n",
       "                 Author  Year                   Publisher  UserID  BookRating  \\\n",
       "0    Mark P. O. Morford  2002     Oxford University Press       2    0.000000   \n",
       "1  Richard Bruce Wright  2001       HarperFlamingo Canada       8    4.928571   \n",
       "2          Carlo D'Este  1991             HarperPerennial       8    5.000000   \n",
       "3      Gina Bari Kolata  1999        Farrar Straus Giroux       8    4.272727   \n",
       "4       E. J. W. Barber  1999  W. W. Norton &amp; Company       8    0.000000   \n",
       "\n",
       "   Scaled Rating  \n",
       "0              1  \n",
       "1              3  \n",
       "2              3  \n",
       "3              3  \n",
       "4              1  "
      ]
     },
     "execution_count": 87,
     "metadata": {},
     "output_type": "execute_result"
    }
   ],
   "source": [
    "id_bx.head()"
   ]
  },
  {
   "cell_type": "code",
   "execution_count": 88,
   "metadata": {},
   "outputs": [
    {
     "data": {
      "text/html": [
       "<div>\n",
       "<style scoped>\n",
       "    .dataframe tbody tr th:only-of-type {\n",
       "        vertical-align: middle;\n",
       "    }\n",
       "\n",
       "    .dataframe tbody tr th {\n",
       "        vertical-align: top;\n",
       "    }\n",
       "\n",
       "    .dataframe thead th {\n",
       "        text-align: right;\n",
       "    }\n",
       "</style>\n",
       "<table border=\"1\" class=\"dataframe\">\n",
       "  <thead>\n",
       "    <tr style=\"text-align: right;\">\n",
       "      <th></th>\n",
       "      <th>id</th>\n",
       "      <th>BookID</th>\n",
       "      <th>Author</th>\n",
       "      <th>Year</th>\n",
       "      <th>Title</th>\n",
       "      <th>Avgrating</th>\n",
       "      <th>ratings_count</th>\n",
       "      <th>UserID</th>\n",
       "      <th>Mean Rating</th>\n",
       "    </tr>\n",
       "  </thead>\n",
       "  <tbody>\n",
       "    <tr>\n",
       "      <th>0</th>\n",
       "      <td>1</td>\n",
       "      <td>2767052</td>\n",
       "      <td>Suzanne Collins</td>\n",
       "      <td>2008</td>\n",
       "      <td>The Hunger Games</td>\n",
       "      <td>4.34</td>\n",
       "      <td>4780653</td>\n",
       "      <td>314</td>\n",
       "      <td>4</td>\n",
       "    </tr>\n",
       "    <tr>\n",
       "      <th>1</th>\n",
       "      <td>2</td>\n",
       "      <td>3</td>\n",
       "      <td>J.K. Rowling, Mary GrandPrÃ©</td>\n",
       "      <td>1997</td>\n",
       "      <td>Harry Potter and the Philosopher's Stone</td>\n",
       "      <td>4.44</td>\n",
       "      <td>4602479</td>\n",
       "      <td>1169</td>\n",
       "      <td>4</td>\n",
       "    </tr>\n",
       "    <tr>\n",
       "      <th>2</th>\n",
       "      <td>3</td>\n",
       "      <td>41865</td>\n",
       "      <td>Stephenie Meyer</td>\n",
       "      <td>2005</td>\n",
       "      <td>Twilight</td>\n",
       "      <td>3.57</td>\n",
       "      <td>3866839</td>\n",
       "      <td>314</td>\n",
       "      <td>3</td>\n",
       "    </tr>\n",
       "    <tr>\n",
       "      <th>3</th>\n",
       "      <td>4</td>\n",
       "      <td>2657</td>\n",
       "      <td>Harper Lee</td>\n",
       "      <td>1960</td>\n",
       "      <td>To Kill a Mockingbird</td>\n",
       "      <td>4.25</td>\n",
       "      <td>3198671</td>\n",
       "      <td>439</td>\n",
       "      <td>4</td>\n",
       "    </tr>\n",
       "    <tr>\n",
       "      <th>4</th>\n",
       "      <td>5</td>\n",
       "      <td>4671</td>\n",
       "      <td>F. Scott Fitzgerald</td>\n",
       "      <td>1925</td>\n",
       "      <td>The Great Gatsby</td>\n",
       "      <td>3.89</td>\n",
       "      <td>2683664</td>\n",
       "      <td>314</td>\n",
       "      <td>4</td>\n",
       "    </tr>\n",
       "  </tbody>\n",
       "</table>\n",
       "</div>"
      ],
      "text/plain": [
       "   id   BookID                        Author  Year  \\\n",
       "0   1  2767052               Suzanne Collins  2008   \n",
       "1   2        3  J.K. Rowling, Mary GrandPrÃ©  1997   \n",
       "2   3    41865               Stephenie Meyer  2005   \n",
       "3   4     2657                    Harper Lee  1960   \n",
       "4   5     4671           F. Scott Fitzgerald  1925   \n",
       "\n",
       "                                      Title  Avgrating  ratings_count  UserID  \\\n",
       "0                          The Hunger Games       4.34        4780653     314   \n",
       "1  Harry Potter and the Philosopher's Stone       4.44        4602479    1169   \n",
       "2                                  Twilight       3.57        3866839     314   \n",
       "3                     To Kill a Mockingbird       4.25        3198671     439   \n",
       "4                          The Great Gatsby       3.89        2683664     314   \n",
       "\n",
       "   Mean Rating  \n",
       "0            4  \n",
       "1            4  \n",
       "2            3  \n",
       "3            4  \n",
       "4            4  "
      ]
     },
     "execution_count": 88,
     "metadata": {},
     "output_type": "execute_result"
    }
   ],
   "source": [
    "id_gbx.head()"
   ]
  },
  {
   "cell_type": "markdown",
   "metadata": {},
   "source": [
    "### Cleaning 'Title' columns"
   ]
  },
  {
   "cell_type": "code",
   "execution_count": 89,
   "metadata": {},
   "outputs": [],
   "source": [
    "# Apply the text_clean function to the 'Title' column of the first data frame 'bx' i.e., the Book Crossing dataset's final data frame\n",
    "id_bx['cleaned_title'] = id_bx['Title'].apply(clean_text)"
   ]
  },
  {
   "cell_type": "code",
   "execution_count": 90,
   "metadata": {},
   "outputs": [
    {
     "name": "stdout",
     "output_type": "stream",
     "text": [
      "First DataFrame - id_bx:\n",
      "                                               Title  \\\n",
      "0                                Classical Mythology   \n",
      "1                                       Clara Callan   \n",
      "2                               Decision in Normandy   \n",
      "3  Flu: The Story of the Great Influenza Pandemic...   \n",
      "4                             The Mummies of Urumchi   \n",
      "\n",
      "                                       cleaned_title  \n",
      "0                                classical mythology  \n",
      "1                                       clara callan  \n",
      "2                                  decision normandy  \n",
      "3  flu story great influenza pandemic search viru...  \n",
      "4                                      mummy urumchi  \n"
     ]
    }
   ],
   "source": [
    "# Show the first few rows of the cleaned column for the first DataFrame 'bx'\n",
    "print(\"First DataFrame - id_bx:\")\n",
    "print(id_bx[['Title', 'cleaned_title']].head())"
   ]
  },
  {
   "cell_type": "code",
   "execution_count": 91,
   "metadata": {},
   "outputs": [],
   "source": [
    "# Apply the text_clean function to the 'Title' column of the second data frame 'gbx' i.e., the Goodbooks-10k dataset's final data frame\n",
    "id_gbx['cleaned_title'] = id_gbx['Title'].apply(clean_text)"
   ]
  },
  {
   "cell_type": "code",
   "execution_count": 92,
   "metadata": {},
   "outputs": [
    {
     "name": "stdout",
     "output_type": "stream",
     "text": [
      "\n",
      "Second DataFrame - id_gbx:\n",
      "                                      Title                   cleaned_title\n",
      "0                          The Hunger Games                     hunger game\n",
      "1  Harry Potter and the Philosopher's Stone  harry potter philosopher stone\n",
      "2                                  Twilight                        twilight\n",
      "3                     To Kill a Mockingbird                kill mockingbird\n",
      "4                          The Great Gatsby                    great gatsby\n"
     ]
    }
   ],
   "source": [
    "# Show the first few rows of the cleaned column for the second DataFrame 'gbx'\n",
    "print(\"\\nSecond DataFrame - id_gbx:\")\n",
    "print(id_gbx[['Title', 'cleaned_title']].head())"
   ]
  },
  {
   "cell_type": "markdown",
   "metadata": {},
   "source": [
    "### Cleaning 'Author' columns"
   ]
  },
  {
   "cell_type": "code",
   "execution_count": 93,
   "metadata": {},
   "outputs": [],
   "source": [
    "# Apply the clean_text function to the 'Author' column of the first data frame 'bx'\n",
    "id_bx['cleaned_author'] = id_bx['Author'].apply(clean_text)"
   ]
  },
  {
   "cell_type": "code",
   "execution_count": 94,
   "metadata": {},
   "outputs": [
    {
     "name": "stdout",
     "output_type": "stream",
     "text": [
      "First DataFrame - bx:\n",
      "                 Author        cleaned_author\n",
      "0    Mark P. O. Morford        mark p morford\n",
      "1  Richard Bruce Wright  richard bruce wright\n",
      "2          Carlo D'Este           carlo deste\n",
      "3      Gina Bari Kolata      gina bari kolata\n",
      "4       E. J. W. Barber          e j w barber\n"
     ]
    }
   ],
   "source": [
    "# Show the first few rows of the cleaned column for the first DataFrame 'bx'\n",
    "print(\"First DataFrame - bx:\")\n",
    "print(id_bx[['Author', 'cleaned_author']].head())"
   ]
  },
  {
   "cell_type": "code",
   "execution_count": 95,
   "metadata": {},
   "outputs": [],
   "source": [
    "# Apply the clean_text function to the 'Author' column of the second data frame 'gbx'\n",
    "id_gbx['cleaned_author'] = id_gbx['Author'].apply(clean_text)"
   ]
  },
  {
   "cell_type": "code",
   "execution_count": 96,
   "metadata": {},
   "outputs": [
    {
     "name": "stdout",
     "output_type": "stream",
     "text": [
      "\n",
      "Second DataFrame - id_gbx:\n",
      "                         Author           cleaned_author\n",
      "0               Suzanne Collins          suzanne collins\n",
      "1  J.K. Rowling, Mary GrandPrÃ©  jk rowling mary grandpr\n",
      "2               Stephenie Meyer          stephenie meyer\n",
      "3                    Harper Lee               harper lee\n",
      "4           F. Scott Fitzgerald       f scott fitzgerald\n"
     ]
    }
   ],
   "source": [
    "# Show the first few rows of the cleaned column for the second DataFrame 'gbx'\n",
    "print(\"\\nSecond DataFrame - id_gbx:\")\n",
    "print(id_gbx[['Author', 'cleaned_author']].head())"
   ]
  },
  {
   "cell_type": "code",
   "execution_count": 97,
   "metadata": {},
   "outputs": [
    {
     "data": {
      "text/html": [
       "<div>\n",
       "<style scoped>\n",
       "    .dataframe tbody tr th:only-of-type {\n",
       "        vertical-align: middle;\n",
       "    }\n",
       "\n",
       "    .dataframe tbody tr th {\n",
       "        vertical-align: top;\n",
       "    }\n",
       "\n",
       "    .dataframe thead th {\n",
       "        text-align: right;\n",
       "    }\n",
       "</style>\n",
       "<table border=\"1\" class=\"dataframe\">\n",
       "  <thead>\n",
       "    <tr style=\"text-align: right;\">\n",
       "      <th></th>\n",
       "      <th>Title</th>\n",
       "      <th>Author</th>\n",
       "      <th>Year</th>\n",
       "      <th>UserID</th>\n",
       "      <th>Scaled Rating</th>\n",
       "      <th>cleaned_title</th>\n",
       "      <th>cleaned_author</th>\n",
       "    </tr>\n",
       "  </thead>\n",
       "  <tbody>\n",
       "    <tr>\n",
       "      <th>0</th>\n",
       "      <td>Classical Mythology</td>\n",
       "      <td>Mark P. O. Morford</td>\n",
       "      <td>2002</td>\n",
       "      <td>2</td>\n",
       "      <td>1</td>\n",
       "      <td>classical mythology</td>\n",
       "      <td>mark p morford</td>\n",
       "    </tr>\n",
       "    <tr>\n",
       "      <th>1</th>\n",
       "      <td>Clara Callan</td>\n",
       "      <td>Richard Bruce Wright</td>\n",
       "      <td>2001</td>\n",
       "      <td>8</td>\n",
       "      <td>3</td>\n",
       "      <td>clara callan</td>\n",
       "      <td>richard bruce wright</td>\n",
       "    </tr>\n",
       "    <tr>\n",
       "      <th>2</th>\n",
       "      <td>Decision in Normandy</td>\n",
       "      <td>Carlo D'Este</td>\n",
       "      <td>1991</td>\n",
       "      <td>8</td>\n",
       "      <td>3</td>\n",
       "      <td>decision normandy</td>\n",
       "      <td>carlo deste</td>\n",
       "    </tr>\n",
       "    <tr>\n",
       "      <th>3</th>\n",
       "      <td>Flu: The Story of the Great Influenza Pandemic...</td>\n",
       "      <td>Gina Bari Kolata</td>\n",
       "      <td>1999</td>\n",
       "      <td>8</td>\n",
       "      <td>3</td>\n",
       "      <td>flu story great influenza pandemic search viru...</td>\n",
       "      <td>gina bari kolata</td>\n",
       "    </tr>\n",
       "    <tr>\n",
       "      <th>4</th>\n",
       "      <td>The Mummies of Urumchi</td>\n",
       "      <td>E. J. W. Barber</td>\n",
       "      <td>1999</td>\n",
       "      <td>8</td>\n",
       "      <td>1</td>\n",
       "      <td>mummy urumchi</td>\n",
       "      <td>e j w barber</td>\n",
       "    </tr>\n",
       "  </tbody>\n",
       "</table>\n",
       "</div>"
      ],
      "text/plain": [
       "                                               Title                Author  \\\n",
       "0                                Classical Mythology    Mark P. O. Morford   \n",
       "1                                       Clara Callan  Richard Bruce Wright   \n",
       "2                               Decision in Normandy          Carlo D'Este   \n",
       "3  Flu: The Story of the Great Influenza Pandemic...      Gina Bari Kolata   \n",
       "4                             The Mummies of Urumchi       E. J. W. Barber   \n",
       "\n",
       "   Year  UserID  Scaled Rating  \\\n",
       "0  2002       2              1   \n",
       "1  2001       8              3   \n",
       "2  1991       8              3   \n",
       "3  1999       8              3   \n",
       "4  1999       8              1   \n",
       "\n",
       "                                       cleaned_title        cleaned_author  \n",
       "0                                classical mythology        mark p morford  \n",
       "1                                       clara callan  richard bruce wright  \n",
       "2                                  decision normandy           carlo deste  \n",
       "3  flu story great influenza pandemic search viru...      gina bari kolata  \n",
       "4                                      mummy urumchi          e j w barber  "
      ]
     },
     "execution_count": 97,
     "metadata": {},
     "output_type": "execute_result"
    }
   ],
   "source": [
    "idbxcolumns_to_copy = ['ISBN', 'Publisher', 'BookRating']\n",
    "id_bx.drop(columns=idbxcolumns_to_copy, inplace=True)\n",
    "id_bx.head()"
   ]
  },
  {
   "cell_type": "code",
   "execution_count": 98,
   "metadata": {},
   "outputs": [
    {
     "data": {
      "text/html": [
       "<div>\n",
       "<style scoped>\n",
       "    .dataframe tbody tr th:only-of-type {\n",
       "        vertical-align: middle;\n",
       "    }\n",
       "\n",
       "    .dataframe tbody tr th {\n",
       "        vertical-align: top;\n",
       "    }\n",
       "\n",
       "    .dataframe thead th {\n",
       "        text-align: right;\n",
       "    }\n",
       "</style>\n",
       "<table border=\"1\" class=\"dataframe\">\n",
       "  <thead>\n",
       "    <tr style=\"text-align: right;\">\n",
       "      <th></th>\n",
       "      <th>Author</th>\n",
       "      <th>Year</th>\n",
       "      <th>Title</th>\n",
       "      <th>UserID</th>\n",
       "      <th>Scaled Rating</th>\n",
       "      <th>cleaned_title</th>\n",
       "      <th>cleaned_author</th>\n",
       "    </tr>\n",
       "  </thead>\n",
       "  <tbody>\n",
       "    <tr>\n",
       "      <th>0</th>\n",
       "      <td>Suzanne Collins</td>\n",
       "      <td>2008</td>\n",
       "      <td>The Hunger Games</td>\n",
       "      <td>314</td>\n",
       "      <td>4</td>\n",
       "      <td>hunger game</td>\n",
       "      <td>suzanne collins</td>\n",
       "    </tr>\n",
       "    <tr>\n",
       "      <th>1</th>\n",
       "      <td>J.K. Rowling, Mary GrandPrÃ©</td>\n",
       "      <td>1997</td>\n",
       "      <td>Harry Potter and the Philosopher's Stone</td>\n",
       "      <td>1169</td>\n",
       "      <td>4</td>\n",
       "      <td>harry potter philosopher stone</td>\n",
       "      <td>jk rowling mary grandpr</td>\n",
       "    </tr>\n",
       "    <tr>\n",
       "      <th>2</th>\n",
       "      <td>Stephenie Meyer</td>\n",
       "      <td>2005</td>\n",
       "      <td>Twilight</td>\n",
       "      <td>314</td>\n",
       "      <td>3</td>\n",
       "      <td>twilight</td>\n",
       "      <td>stephenie meyer</td>\n",
       "    </tr>\n",
       "    <tr>\n",
       "      <th>3</th>\n",
       "      <td>Harper Lee</td>\n",
       "      <td>1960</td>\n",
       "      <td>To Kill a Mockingbird</td>\n",
       "      <td>439</td>\n",
       "      <td>4</td>\n",
       "      <td>kill mockingbird</td>\n",
       "      <td>harper lee</td>\n",
       "    </tr>\n",
       "    <tr>\n",
       "      <th>4</th>\n",
       "      <td>F. Scott Fitzgerald</td>\n",
       "      <td>1925</td>\n",
       "      <td>The Great Gatsby</td>\n",
       "      <td>314</td>\n",
       "      <td>4</td>\n",
       "      <td>great gatsby</td>\n",
       "      <td>f scott fitzgerald</td>\n",
       "    </tr>\n",
       "  </tbody>\n",
       "</table>\n",
       "</div>"
      ],
      "text/plain": [
       "                         Author  Year  \\\n",
       "0               Suzanne Collins  2008   \n",
       "1  J.K. Rowling, Mary GrandPrÃ©  1997   \n",
       "2               Stephenie Meyer  2005   \n",
       "3                    Harper Lee  1960   \n",
       "4           F. Scott Fitzgerald  1925   \n",
       "\n",
       "                                      Title  UserID  Scaled Rating  \\\n",
       "0                          The Hunger Games     314              4   \n",
       "1  Harry Potter and the Philosopher's Stone    1169              4   \n",
       "2                                  Twilight     314              3   \n",
       "3                     To Kill a Mockingbird     439              4   \n",
       "4                          The Great Gatsby     314              4   \n",
       "\n",
       "                    cleaned_title           cleaned_author  \n",
       "0                     hunger game          suzanne collins  \n",
       "1  harry potter philosopher stone  jk rowling mary grandpr  \n",
       "2                        twilight          stephenie meyer  \n",
       "3                kill mockingbird               harper lee  \n",
       "4                    great gatsby       f scott fitzgerald  "
      ]
     },
     "execution_count": 98,
     "metadata": {},
     "output_type": "execute_result"
    }
   ],
   "source": [
    "new_idgbxcolumns_to_copy = ['id', 'BookID', 'Avgrating', 'ratings_count']\n",
    "id_gbx.drop(columns=new_idgbxcolumns_to_copy, inplace=True)\n",
    "id_gbx = id_gbx.rename(columns={'Mean Rating': 'Scaled Rating'})\n",
    "id_gbx.head()"
   ]
  },
  {
   "cell_type": "code",
   "execution_count": 99,
   "metadata": {},
   "outputs": [],
   "source": [
    "id_bx.fillna(0, inplace=True)  # Replace NaN with 0"
   ]
  },
  {
   "cell_type": "code",
   "execution_count": 100,
   "metadata": {},
   "outputs": [],
   "source": [
    "id_gbx.fillna(0, inplace=True)  # Replace NaN with 0"
   ]
  },
  {
   "cell_type": "code",
   "execution_count": 101,
   "metadata": {},
   "outputs": [],
   "source": [
    "#combining the cleaned_title and cleaned_author columns to form a new column \n",
    "id_bx['combined'] = id_bx['cleaned_title'] + ' ' + id_bx['cleaned_author']\n",
    "id_gbx['combined'] = id_gbx['cleaned_title'] + ' ' + id_gbx['cleaned_author']"
   ]
  },
  {
   "cell_type": "code",
   "execution_count": 102,
   "metadata": {},
   "outputs": [
    {
     "data": {
      "text/html": [
       "<div>\n",
       "<style scoped>\n",
       "    .dataframe tbody tr th:only-of-type {\n",
       "        vertical-align: middle;\n",
       "    }\n",
       "\n",
       "    .dataframe tbody tr th {\n",
       "        vertical-align: top;\n",
       "    }\n",
       "\n",
       "    .dataframe thead th {\n",
       "        text-align: right;\n",
       "    }\n",
       "</style>\n",
       "<table border=\"1\" class=\"dataframe\">\n",
       "  <thead>\n",
       "    <tr style=\"text-align: right;\">\n",
       "      <th></th>\n",
       "      <th>Title</th>\n",
       "      <th>Author</th>\n",
       "      <th>Year</th>\n",
       "      <th>UserID</th>\n",
       "      <th>Scaled Rating</th>\n",
       "      <th>cleaned_title</th>\n",
       "      <th>cleaned_author</th>\n",
       "      <th>combined</th>\n",
       "    </tr>\n",
       "  </thead>\n",
       "  <tbody>\n",
       "    <tr>\n",
       "      <th>0</th>\n",
       "      <td>Classical Mythology</td>\n",
       "      <td>Mark P. O. Morford</td>\n",
       "      <td>2002</td>\n",
       "      <td>2</td>\n",
       "      <td>1</td>\n",
       "      <td>classical mythology</td>\n",
       "      <td>mark p morford</td>\n",
       "      <td>classical mythology mark p morford</td>\n",
       "    </tr>\n",
       "    <tr>\n",
       "      <th>1</th>\n",
       "      <td>Clara Callan</td>\n",
       "      <td>Richard Bruce Wright</td>\n",
       "      <td>2001</td>\n",
       "      <td>8</td>\n",
       "      <td>3</td>\n",
       "      <td>clara callan</td>\n",
       "      <td>richard bruce wright</td>\n",
       "      <td>clara callan richard bruce wright</td>\n",
       "    </tr>\n",
       "    <tr>\n",
       "      <th>2</th>\n",
       "      <td>Decision in Normandy</td>\n",
       "      <td>Carlo D'Este</td>\n",
       "      <td>1991</td>\n",
       "      <td>8</td>\n",
       "      <td>3</td>\n",
       "      <td>decision normandy</td>\n",
       "      <td>carlo deste</td>\n",
       "      <td>decision normandy carlo deste</td>\n",
       "    </tr>\n",
       "    <tr>\n",
       "      <th>3</th>\n",
       "      <td>Flu: The Story of the Great Influenza Pandemic...</td>\n",
       "      <td>Gina Bari Kolata</td>\n",
       "      <td>1999</td>\n",
       "      <td>8</td>\n",
       "      <td>3</td>\n",
       "      <td>flu story great influenza pandemic search viru...</td>\n",
       "      <td>gina bari kolata</td>\n",
       "      <td>flu story great influenza pandemic search viru...</td>\n",
       "    </tr>\n",
       "    <tr>\n",
       "      <th>4</th>\n",
       "      <td>The Mummies of Urumchi</td>\n",
       "      <td>E. J. W. Barber</td>\n",
       "      <td>1999</td>\n",
       "      <td>8</td>\n",
       "      <td>1</td>\n",
       "      <td>mummy urumchi</td>\n",
       "      <td>e j w barber</td>\n",
       "      <td>mummy urumchi e j w barber</td>\n",
       "    </tr>\n",
       "  </tbody>\n",
       "</table>\n",
       "</div>"
      ],
      "text/plain": [
       "                                               Title                Author  \\\n",
       "0                                Classical Mythology    Mark P. O. Morford   \n",
       "1                                       Clara Callan  Richard Bruce Wright   \n",
       "2                               Decision in Normandy          Carlo D'Este   \n",
       "3  Flu: The Story of the Great Influenza Pandemic...      Gina Bari Kolata   \n",
       "4                             The Mummies of Urumchi       E. J. W. Barber   \n",
       "\n",
       "   Year  UserID  Scaled Rating  \\\n",
       "0  2002       2              1   \n",
       "1  2001       8              3   \n",
       "2  1991       8              3   \n",
       "3  1999       8              3   \n",
       "4  1999       8              1   \n",
       "\n",
       "                                       cleaned_title        cleaned_author  \\\n",
       "0                                classical mythology        mark p morford   \n",
       "1                                       clara callan  richard bruce wright   \n",
       "2                                  decision normandy           carlo deste   \n",
       "3  flu story great influenza pandemic search viru...      gina bari kolata   \n",
       "4                                      mummy urumchi          e j w barber   \n",
       "\n",
       "                                            combined  \n",
       "0                 classical mythology mark p morford  \n",
       "1                  clara callan richard bruce wright  \n",
       "2                      decision normandy carlo deste  \n",
       "3  flu story great influenza pandemic search viru...  \n",
       "4                         mummy urumchi e j w barber  "
      ]
     },
     "execution_count": 102,
     "metadata": {},
     "output_type": "execute_result"
    }
   ],
   "source": [
    "id_bx.head()"
   ]
  },
  {
   "cell_type": "code",
   "execution_count": 103,
   "metadata": {},
   "outputs": [
    {
     "data": {
      "text/html": [
       "<div>\n",
       "<style scoped>\n",
       "    .dataframe tbody tr th:only-of-type {\n",
       "        vertical-align: middle;\n",
       "    }\n",
       "\n",
       "    .dataframe tbody tr th {\n",
       "        vertical-align: top;\n",
       "    }\n",
       "\n",
       "    .dataframe thead th {\n",
       "        text-align: right;\n",
       "    }\n",
       "</style>\n",
       "<table border=\"1\" class=\"dataframe\">\n",
       "  <thead>\n",
       "    <tr style=\"text-align: right;\">\n",
       "      <th></th>\n",
       "      <th>Author</th>\n",
       "      <th>Year</th>\n",
       "      <th>Title</th>\n",
       "      <th>UserID</th>\n",
       "      <th>Scaled Rating</th>\n",
       "      <th>cleaned_title</th>\n",
       "      <th>cleaned_author</th>\n",
       "      <th>combined</th>\n",
       "    </tr>\n",
       "  </thead>\n",
       "  <tbody>\n",
       "    <tr>\n",
       "      <th>0</th>\n",
       "      <td>Suzanne Collins</td>\n",
       "      <td>2008</td>\n",
       "      <td>The Hunger Games</td>\n",
       "      <td>314</td>\n",
       "      <td>4</td>\n",
       "      <td>hunger game</td>\n",
       "      <td>suzanne collins</td>\n",
       "      <td>hunger game suzanne collins</td>\n",
       "    </tr>\n",
       "    <tr>\n",
       "      <th>1</th>\n",
       "      <td>J.K. Rowling, Mary GrandPrÃ©</td>\n",
       "      <td>1997</td>\n",
       "      <td>Harry Potter and the Philosopher's Stone</td>\n",
       "      <td>1169</td>\n",
       "      <td>4</td>\n",
       "      <td>harry potter philosopher stone</td>\n",
       "      <td>jk rowling mary grandpr</td>\n",
       "      <td>harry potter philosopher stone jk rowling mary...</td>\n",
       "    </tr>\n",
       "    <tr>\n",
       "      <th>2</th>\n",
       "      <td>Stephenie Meyer</td>\n",
       "      <td>2005</td>\n",
       "      <td>Twilight</td>\n",
       "      <td>314</td>\n",
       "      <td>3</td>\n",
       "      <td>twilight</td>\n",
       "      <td>stephenie meyer</td>\n",
       "      <td>twilight stephenie meyer</td>\n",
       "    </tr>\n",
       "    <tr>\n",
       "      <th>3</th>\n",
       "      <td>Harper Lee</td>\n",
       "      <td>1960</td>\n",
       "      <td>To Kill a Mockingbird</td>\n",
       "      <td>439</td>\n",
       "      <td>4</td>\n",
       "      <td>kill mockingbird</td>\n",
       "      <td>harper lee</td>\n",
       "      <td>kill mockingbird harper lee</td>\n",
       "    </tr>\n",
       "    <tr>\n",
       "      <th>4</th>\n",
       "      <td>F. Scott Fitzgerald</td>\n",
       "      <td>1925</td>\n",
       "      <td>The Great Gatsby</td>\n",
       "      <td>314</td>\n",
       "      <td>4</td>\n",
       "      <td>great gatsby</td>\n",
       "      <td>f scott fitzgerald</td>\n",
       "      <td>great gatsby f scott fitzgerald</td>\n",
       "    </tr>\n",
       "  </tbody>\n",
       "</table>\n",
       "</div>"
      ],
      "text/plain": [
       "                         Author  Year  \\\n",
       "0               Suzanne Collins  2008   \n",
       "1  J.K. Rowling, Mary GrandPrÃ©  1997   \n",
       "2               Stephenie Meyer  2005   \n",
       "3                    Harper Lee  1960   \n",
       "4           F. Scott Fitzgerald  1925   \n",
       "\n",
       "                                      Title  UserID  Scaled Rating  \\\n",
       "0                          The Hunger Games     314              4   \n",
       "1  Harry Potter and the Philosopher's Stone    1169              4   \n",
       "2                                  Twilight     314              3   \n",
       "3                     To Kill a Mockingbird     439              4   \n",
       "4                          The Great Gatsby     314              4   \n",
       "\n",
       "                    cleaned_title           cleaned_author  \\\n",
       "0                     hunger game          suzanne collins   \n",
       "1  harry potter philosopher stone  jk rowling mary grandpr   \n",
       "2                        twilight          stephenie meyer   \n",
       "3                kill mockingbird               harper lee   \n",
       "4                    great gatsby       f scott fitzgerald   \n",
       "\n",
       "                                            combined  \n",
       "0                        hunger game suzanne collins  \n",
       "1  harry potter philosopher stone jk rowling mary...  \n",
       "2                           twilight stephenie meyer  \n",
       "3                        kill mockingbird harper lee  \n",
       "4                    great gatsby f scott fitzgerald  "
      ]
     },
     "execution_count": 103,
     "metadata": {},
     "output_type": "execute_result"
    }
   ],
   "source": [
    "id_gbx.head()"
   ]
  },
  {
   "cell_type": "code",
   "execution_count": 104,
   "metadata": {},
   "outputs": [],
   "source": [
    "import pandas as pd\n",
    "import numpy as np\n",
    "from sklearn.metrics.pairwise import cosine_similarity\n",
    "import random\n",
    "from sklearn.feature_extraction.text import TfidfVectorizer\n",
    "from scipy.sparse import csr_matrix"
   ]
  },
  {
   "cell_type": "code",
   "execution_count": 105,
   "metadata": {},
   "outputs": [],
   "source": [
    "def filter_and_create_user_item_matrix(df, min_book_ratings=3, min_user_ratings=3):\n",
    "    #Filtering out sparse books and users, then creating a user-item matrix from the filtered dataframe.\n",
    "  \n",
    "    # Filtering out books having less than min_book_ratings\n",
    "    book_counts = df['combined'].value_counts() #taking 'combined' column to consider every unique possible author&book combination\n",
    "    books_to_keep = book_counts[book_counts >= min_book_ratings].index\n",
    "    \n",
    "    # Filtering out users having less than min_user_ratings\n",
    "    user_counts = df['UserID'].value_counts()\n",
    "    users_to_keep = user_counts[user_counts >= min_user_ratings].index\n",
    "    \n",
    "    # Filtering the resulting dataframe\n",
    "    filtered_df = df[df['combined'].isin(books_to_keep) & df['UserID'].isin(users_to_keep)]\n",
    "    \n",
    "    # Creating the user-item matrix\n",
    "    user_item_matrix = filtered_df.pivot_table(index='UserID', columns='combined', values='Scaled Rating', aggfunc='mean').fillna(0)\n",
    "    \n",
    "    # Converting to sparse matrix\n",
    "    user_item_matrix_sparse = csr_matrix(user_item_matrix.values)\n",
    "    \n",
    "    return user_item_matrix, user_item_matrix_sparse\n"
   ]
  },
  {
   "cell_type": "code",
   "execution_count": 106,
   "metadata": {},
   "outputs": [],
   "source": [
    "def generate_collaborative_recommendations(df, query, top_k=5, similarity_threshold=0.02):\n",
    "    if 'combined' not in df.columns:\n",
    "        df['combined'] = df['cleaned_title'] + \" \" + df['cleaned_author']\n",
    "    \n",
    "    cleaned_query = clean_text(query)\n",
    "    \n",
    "    matched_books = df[df['combined'].str.contains(cleaned_query, case=False, regex=False)]\n",
    "    if matched_books.empty:\n",
    "        return \"No recommendations found.\"\n",
    "\n",
    "\n",
    "    # Use the new function to filter sparse items/users and create the matrix\n",
    "    user_item_matrix, user_item_matrix_sparse = filter_and_create_user_item_matrix(matched_books, min_book_ratings=1, min_user_ratings=1)\n",
    "    if user_item_matrix.empty:\n",
    "        return \"No recommendations found as user-item matrix is empty after filtering.\"\n",
    "    \n",
    "    if user_item_matrix_sparse.shape[0] == 0 or user_item_matrix_sparse.shape[1] == 0:\n",
    "        return \"No recommendations found as user-item matrix is empty after filtering.\"\n",
    "\n",
    "    item_similarity = cosine_similarity(user_item_matrix_sparse.T)\n",
    "\n",
    "    matched_indices = []\n",
    "    for book in matched_books['combined']:\n",
    "        if book in user_item_matrix.columns:\n",
    "            matched_indices.append(user_item_matrix.columns.get_loc(book))\n",
    "    if not matched_indices:\n",
    "        return \"No recommendations found as no matches found in user-item matrix.\"\n",
    "\n",
    "\n",
    "    aggregated_similarities = np.mean(item_similarity[matched_indices], axis=0)\n",
    "    \n",
    "    above_threshold_indices = np.where(aggregated_similarities >= similarity_threshold)[0]\n",
    "\n",
    "    if len(above_threshold_indices) == 0:\n",
    "        return \"No recommendations found above the similarity threshold.\"\n",
    "\n",
    "    top_indices = np.argsort(aggregated_similarities[above_threshold_indices])[-top_k**3:]  # Fetch more items for diversity\n",
    " \n",
    "    unique_set = set(random.sample(list(top_indices), k=min(len(top_indices), top_k)))\n",
    "    \n",
    "    recommended_combined = []\n",
    "    for i in unique_set:\n",
    "        recommended_combined.append(user_item_matrix.columns[i])\n",
    "        \n",
    "    recommended_titles = df[df['combined'].isin(recommended_combined)][['Title', 'Author', 'Year']].drop_duplicates()\n",
    "\n",
    "    # Ensure the number of recommendations does not exceed top_k\n",
    "    if len(recommended_titles) > top_k:\n",
    "        recommended_titles = recommended_titles.head(top_k)\n",
    "    \n",
    "    return recommended_titles"
   ]
  },
  {
   "cell_type": "code",
   "execution_count": 107,
   "metadata": {},
   "outputs": [
    {
     "name": "stdout",
     "output_type": "stream",
     "text": [
      "                             Title                        Author  Year\n",
      "175                   The Bell Jar                  Sylvia Plath  1963\n",
      "2834                         Ariel                  Sylvia Plath  1965\n",
      "3271           The Collected Poems      Sylvia Plath, Ted Hughes  1981\n",
      "7240  The Journals of Sylvia Plath  Sylvia Plath, Karen V. Kukil  1982\n"
     ]
    }
   ],
   "source": [
    "query_string = \"sylvia plath\"  # or any author's name\n",
    "recommended_books = generate_collaborative_recommendations(id_gbx, query_string, top_k=5)\n",
    "print(recommended_books)"
   ]
  },
  {
   "cell_type": "code",
   "execution_count": 374,
   "metadata": {},
   "outputs": [],
   "source": [
    "# id_gbx[id_gbx['Title'].str.contains(\"Love\")]"
   ]
  },
  {
   "cell_type": "code",
   "execution_count": 108,
   "metadata": {},
   "outputs": [],
   "source": [
    "import ipywidgets as widgets\n",
    "from IPython.display import display, clear_output"
   ]
  },
  {
   "cell_type": "code",
   "execution_count": 109,
   "metadata": {},
   "outputs": [],
   "source": [
    "def interactive_recommendation_system(df):\n",
    "    # Text field input for the query\n",
    "    query_input = widgets.Text(\n",
    "        value='',\n",
    "        placeholder='Type book title or author',\n",
    "        description='Name:',\n",
    "        disabled=False\n",
    "    )\n",
    "    \n",
    "    # Dropdown to select the recommendation type\n",
    "    rec_type = widgets.Dropdown(\n",
    "        options=['Select', 'Content-Based', 'Collaborative'],\n",
    "        value='Select',\n",
    "        description='Model:',\n",
    "    )\n",
    "    \n",
    "    # Button to generate recommendations\n",
    "    generate_button = widgets.Button(description=\"Generate Recommendations\")\n",
    "    \n",
    "    # Output widget to display the recommendations\n",
    "    output = widgets.Output()\n",
    "    \n",
    "    def on_generate_button_clicked(b):\n",
    "        with output:\n",
    "            clear_output()\n",
    "            query = query_input.value\n",
    "            top_k = 5  # You can modify this to be user-selectable as well\n",
    "            similarity_threshold = 0.02  # Default threshold, adjust as necessary\n",
    "            \n",
    "            if query:  # Check if query is not empty\n",
    "                if rec_type.value == 'Content-Based':\n",
    "                    recommendations = generate_content_recommendations(df, query, top_k, similarity_threshold)\n",
    "                else:  # Collaborative\n",
    "                    recommendations = generate_collaborative_recommendations(df, query, top_k, similarity_threshold)\n",
    "                \n",
    "                if not recommendations.empty:\n",
    "                    display(recommendations)\n",
    "                else:\n",
    "                    print(\"No recommendations found.\")\n",
    "            else:\n",
    "                print(\"Please enter a query.\")\n",
    "    \n",
    "    generate_button.on_click(on_generate_button_clicked)\n",
    "    \n",
    "    # Display the widgets\n",
    "    display(query_input, rec_type, generate_button, output)"
   ]
  },
  {
   "cell_type": "code",
   "execution_count": null,
   "metadata": {},
   "outputs": [],
   "source": []
  },
  {
   "cell_type": "code",
   "execution_count": 119,
   "metadata": {},
   "outputs": [
    {
     "data": {
      "application/vnd.jupyter.widget-view+json": {
       "model_id": "825eee60f3ce403fa59af527bf90b9cb",
       "version_major": 2,
       "version_minor": 0
      },
      "text/plain": [
       "Text(value='', description='Name:', placeholder='Type book title or author')"
      ]
     },
     "metadata": {},
     "output_type": "display_data"
    },
    {
     "data": {
      "application/vnd.jupyter.widget-view+json": {
       "model_id": "3ae0ec30a34647d0b546ddf905cf79ec",
       "version_major": 2,
       "version_minor": 0
      },
      "text/plain": [
       "Dropdown(description='Model:', options=('Select', 'Content-Based', 'Collaborative'), value='Select')"
      ]
     },
     "metadata": {},
     "output_type": "display_data"
    },
    {
     "data": {
      "application/vnd.jupyter.widget-view+json": {
       "model_id": "8acfdd3dcbb94fc3823ec31c48aa2247",
       "version_major": 2,
       "version_minor": 0
      },
      "text/plain": [
       "Button(description='Generate Recommendations', style=ButtonStyle())"
      ]
     },
     "metadata": {},
     "output_type": "display_data"
    },
    {
     "data": {
      "application/vnd.jupyter.widget-view+json": {
       "model_id": "14f239c1944b429480c969ce94b34b49",
       "version_major": 2,
       "version_minor": 0
      },
      "text/plain": [
       "Output()"
      ]
     },
     "metadata": {},
     "output_type": "display_data"
    }
   ],
   "source": [
    "# Example usage (make sure `df` is defined as your DataFrame)\n",
    "interactive_recommendation_system(id_bx)"
   ]
  },
  {
   "cell_type": "code",
   "execution_count": 444,
   "metadata": {},
   "outputs": [],
   "source": [
    "# def generate_user_similar_collab_recommendations(df, query, top_k=5, similarity_threshold=0.02):\n",
    "#     if 'combined' not in df.columns:\n",
    "#         df['combined'] = df['cleaned_title'] + \" \" + df['cleaned_author']\n",
    "    \n",
    "#     # Find books that match the query\n",
    "#     query_matched_books = df[df['combined'].str.contains(query, case=False, regex=False)]\n",
    "#     if query_matched_books.empty:\n",
    "#         return \"No matching books or authors found.\"\n",
    "    \n",
    "#     # Filter the DataFrame to users who have interacted with the matched books\n",
    "#     users_interacted = query_matched_books['UserID'].unique()\n",
    "    \n",
    "#     # Filter and create user-item matrix including only users who have interacted with the matched books\n",
    "#     user_item_matrix, user_item_matrix_sparse = filter_and_create_user_item_matrix(df[df['UserID'].isin(users_interacted)], min_book_ratings=3, min_user_ratings=3)\n",
    "    \n",
    "#     # Calculate cosine similarity across users\n",
    "#     user_similarity = cosine_similarity(user_item_matrix_sparse)\n",
    "    \n",
    "#     # Find indices of users who have interacted with the query in the user-item matrix\n",
    "#     interacted_user_indices = [user_item_matrix.index.get_loc(user_id) for user_id in users_interacted]\n",
    "    \n",
    "#     # Calculate mean similarity score of each user to the users who interacted with the query\n",
    "#     mean_similarity_scores = np.mean(user_similarity[:, interacted_user_indices], axis=1)\n",
    "    \n",
    "#     # Apply similarity threshold\n",
    "#     similar_users_indices = np.where(mean_similarity_scores >= similarity_threshold)[0]\n",
    "    \n",
    "#     if len(similar_users_indices) == 0:\n",
    "#         return \"No similar users found above the similarity threshold.\"\n",
    "    \n",
    "#     # Aggregate book ratings from similar users\n",
    "#     recommended_books = {}\n",
    "#     for idx in similar_users_indices:\n",
    "#         similar_user_id = user_item_matrix.index[idx]\n",
    "#         for book, rating in user_item_matrix.loc[similar_user_id].items():\n",
    "#             if pd.notna(rating) and rating > 0:  # Assuming a rating > 0 indicates a positive interaction\n",
    "#                 if book not in recommended_books:\n",
    "#                     recommended_books[book] = [rating]\n",
    "#                 else:\n",
    "#                     recommended_books[book].append(rating)\n",
    "    \n",
    "#     # Sort books by the average rating and select top_k\n",
    "#     sorted_recommended_books = sorted(recommended_books.items(), key=lambda x: np.mean(x[1]), reverse=True)[:top_k]\n",
    "    \n",
    "#     # Prepare the final DataFrame of recommendations\n",
    "#     recommended_titles = pd.DataFrame(sorted_recommended_books, columns=['Book', 'Average Rating'])\n",
    "    \n",
    "#     # Since 'Book' contains the 'combined' column, split to show title and author separately if needed\n",
    "#     recommended_titles[['Title', 'Author']] = recommended_titles['Book'].str.split(\" \", 1, expand=True)\n",
    "    \n",
    "#     return recommended_titles[['Title', 'Author', 'Average Rating']]\n"
   ]
  },
  {
   "cell_type": "code",
   "execution_count": null,
   "metadata": {},
   "outputs": [],
   "source": [
    "# # Example usage:\n",
    "# # df should be your DataFrame containing book interactions\n",
    "# # query can be either a book title or an author's name\n",
    "# # top_k is the number of recommendations you want\n",
    "# # similarity_threshold is the threshold for considering user similarity\n",
    "# query = 'Harry Potter'\n",
    "# recommendations = generate_user_similar_collab_recommendations(id_bx, query, top_k=5, similarity_threshold=0.1)\n",
    "# print(recommendations)"
   ]
  },
  {
   "cell_type": "markdown",
   "metadata": {},
   "source": [
    "## Hybrid-filtering Recommendation Model"
   ]
  },
  {
   "cell_type": "markdown",
   "metadata": {},
   "source": [
    "### Switching Hybrid Model"
   ]
  },
  {
   "cell_type": "code",
   "execution_count": 122,
   "metadata": {},
   "outputs": [],
   "source": [
    "def generate_switching_hybrid_recommendations(df, query, top_k=5, similarity_threshold=0.1):\n",
    "    # Check if the query matches enough user interactions for collaborative filtering\n",
    "    if len(df[df['combined'].str.contains(query, case=False)]) > similarity_threshold:\n",
    "        return generate_collaborative_recommendations(df, query, top_k, similarity_threshold)\n",
    "    else:\n",
    "        return generate_content_recommendations(df, query, top_k, similarity_threshold)"
   ]
  },
  {
   "cell_type": "code",
   "execution_count": 126,
   "metadata": {},
   "outputs": [
    {
     "data": {
      "text/html": [
       "<div>\n",
       "<style scoped>\n",
       "    .dataframe tbody tr th:only-of-type {\n",
       "        vertical-align: middle;\n",
       "    }\n",
       "\n",
       "    .dataframe tbody tr th {\n",
       "        vertical-align: top;\n",
       "    }\n",
       "\n",
       "    .dataframe thead th {\n",
       "        text-align: right;\n",
       "    }\n",
       "</style>\n",
       "<table border=\"1\" class=\"dataframe\">\n",
       "  <thead>\n",
       "    <tr style=\"text-align: right;\">\n",
       "      <th></th>\n",
       "      <th>Title</th>\n",
       "      <th>Author</th>\n",
       "      <th>Year</th>\n",
       "    </tr>\n",
       "  </thead>\n",
       "  <tbody>\n",
       "    <tr>\n",
       "      <th>234698</th>\n",
       "      <td>The Power That Heals: Love, Healing &amp;amp; the ...</td>\n",
       "      <td>David James Randolph</td>\n",
       "      <td>1994</td>\n",
       "    </tr>\n",
       "    <tr>\n",
       "      <th>225531</th>\n",
       "      <td>Love Invents Us</td>\n",
       "      <td>Amy Bloom</td>\n",
       "      <td>2002</td>\n",
       "    </tr>\n",
       "    <tr>\n",
       "      <th>262429</th>\n",
       "      <td>A Puppy to Love (Clifford's Big Ideas)</td>\n",
       "      <td>Bob Barkly</td>\n",
       "      <td>2001</td>\n",
       "    </tr>\n",
       "    <tr>\n",
       "      <th>186775</th>\n",
       "      <td>Dangerous To Love (Devil's Gambit, #5)</td>\n",
       "      <td>Lisa Jackson</td>\n",
       "      <td>1985</td>\n",
       "    </tr>\n",
       "    <tr>\n",
       "      <th>122485</th>\n",
       "      <td>Love Lives: Why Women Behave the Way They Do i...</td>\n",
       "      <td>Carol Bowtin</td>\n",
       "      <td>1983</td>\n",
       "    </tr>\n",
       "  </tbody>\n",
       "</table>\n",
       "</div>"
      ],
      "text/plain": [
       "                                                    Title  \\\n",
       "234698  The Power That Heals: Love, Healing &amp; the ...   \n",
       "225531                                    Love Invents Us   \n",
       "262429             A Puppy to Love (Clifford's Big Ideas)   \n",
       "186775             Dangerous To Love (Devil's Gambit, #5)   \n",
       "122485  Love Lives: Why Women Behave the Way They Do i...   \n",
       "\n",
       "                      Author  Year  \n",
       "234698  David James Randolph  1994  \n",
       "225531             Amy Bloom  2002  \n",
       "262429            Bob Barkly  2001  \n",
       "186775          Lisa Jackson  1985  \n",
       "122485          Carol Bowtin  1983  "
      ]
     },
     "execution_count": 126,
     "metadata": {},
     "output_type": "execute_result"
    }
   ],
   "source": [
    "query = \"Love, Rosie\"\n",
    "generate_switching_hybrid_recommendations(id_bx, query, top_k=5)"
   ]
  },
  {
   "cell_type": "code",
   "execution_count": 127,
   "metadata": {},
   "outputs": [
    {
     "data": {
      "text/html": [
       "<div>\n",
       "<style scoped>\n",
       "    .dataframe tbody tr th:only-of-type {\n",
       "        vertical-align: middle;\n",
       "    }\n",
       "\n",
       "    .dataframe tbody tr th {\n",
       "        vertical-align: top;\n",
       "    }\n",
       "\n",
       "    .dataframe thead th {\n",
       "        text-align: right;\n",
       "    }\n",
       "</style>\n",
       "<table border=\"1\" class=\"dataframe\">\n",
       "  <thead>\n",
       "    <tr style=\"text-align: right;\">\n",
       "      <th></th>\n",
       "      <th>Title</th>\n",
       "      <th>Author</th>\n",
       "      <th>Year</th>\n",
       "    </tr>\n",
       "  </thead>\n",
       "  <tbody>\n",
       "    <tr>\n",
       "      <th>5764</th>\n",
       "      <td>Fables, Volume 3: Storybook Love</td>\n",
       "      <td>Bill Willingham, Mark Buckingham, Steve Leialo...</td>\n",
       "      <td>2004</td>\n",
       "    </tr>\n",
       "    <tr>\n",
       "      <th>6204</th>\n",
       "      <td>Passion and Purity: Learning to Bring Your Lov...</td>\n",
       "      <td>Elisabeth Elliot</td>\n",
       "      <td>1984</td>\n",
       "    </tr>\n",
       "    <tr>\n",
       "      <th>1108</th>\n",
       "      <td>Ugly Love</td>\n",
       "      <td>Colleen Hoover</td>\n",
       "      <td>2014</td>\n",
       "    </tr>\n",
       "    <tr>\n",
       "      <th>3698</th>\n",
       "      <td>Conversations with God, An Uncommon Dialogue: ...</td>\n",
       "      <td>Neale Donald Walsch</td>\n",
       "      <td>1995</td>\n",
       "    </tr>\n",
       "    <tr>\n",
       "      <th>7408</th>\n",
       "      <td>Lunch in Paris: A Love Story, with Recipes</td>\n",
       "      <td>Elizabeth Bard</td>\n",
       "      <td>2010</td>\n",
       "    </tr>\n",
       "  </tbody>\n",
       "</table>\n",
       "</div>"
      ],
      "text/plain": [
       "                                                  Title  \\\n",
       "5764                   Fables, Volume 3: Storybook Love   \n",
       "6204  Passion and Purity: Learning to Bring Your Lov...   \n",
       "1108                                          Ugly Love   \n",
       "3698  Conversations with God, An Uncommon Dialogue: ...   \n",
       "7408         Lunch in Paris: A Love Story, with Recipes   \n",
       "\n",
       "                                                 Author  Year  \n",
       "5764  Bill Willingham, Mark Buckingham, Steve Leialo...  2004  \n",
       "6204                                   Elisabeth Elliot  1984  \n",
       "1108                                     Colleen Hoover  2014  \n",
       "3698                                Neale Donald Walsch  1995  \n",
       "7408                                     Elizabeth Bard  2010  "
      ]
     },
     "execution_count": 127,
     "metadata": {},
     "output_type": "execute_result"
    }
   ],
   "source": [
    "query = \"Love, Rosie\"\n",
    "generate_switching_hybrid_recommendations(id_gbx, query, top_k=5)"
   ]
  },
  {
   "cell_type": "code",
   "execution_count": 128,
   "metadata": {},
   "outputs": [
    {
     "data": {
      "text/html": [
       "<div>\n",
       "<style scoped>\n",
       "    .dataframe tbody tr th:only-of-type {\n",
       "        vertical-align: middle;\n",
       "    }\n",
       "\n",
       "    .dataframe tbody tr th {\n",
       "        vertical-align: top;\n",
       "    }\n",
       "\n",
       "    .dataframe thead th {\n",
       "        text-align: right;\n",
       "    }\n",
       "</style>\n",
       "<table border=\"1\" class=\"dataframe\">\n",
       "  <thead>\n",
       "    <tr style=\"text-align: right;\">\n",
       "      <th></th>\n",
       "      <th>Title</th>\n",
       "      <th>Author</th>\n",
       "      <th>Year</th>\n",
       "    </tr>\n",
       "  </thead>\n",
       "  <tbody>\n",
       "    <tr>\n",
       "      <th>138298</th>\n",
       "      <td>Reflections of Love</td>\n",
       "      <td>Alice Joyce Davidson</td>\n",
       "      <td>1983</td>\n",
       "    </tr>\n",
       "    <tr>\n",
       "      <th>43039</th>\n",
       "      <td>NAPOLEON AND LOVE</td>\n",
       "      <td>Philip MacKie</td>\n",
       "      <td>1976</td>\n",
       "    </tr>\n",
       "    <tr>\n",
       "      <th>222293</th>\n",
       "      <td>Lesbian Love Stories</td>\n",
       "      <td>Irene Zahava</td>\n",
       "      <td>1989</td>\n",
       "    </tr>\n",
       "    <tr>\n",
       "      <th>143794</th>\n",
       "      <td>First Loves : Poets Introduce the Essential Po...</td>\n",
       "      <td>Carmela Ciuraru</td>\n",
       "      <td>2000</td>\n",
       "    </tr>\n",
       "    <tr>\n",
       "      <th>169879</th>\n",
       "      <td>Love for Sale. Erotische Fantasien.</td>\n",
       "      <td>Marie Sahr</td>\n",
       "      <td>2002</td>\n",
       "    </tr>\n",
       "  </tbody>\n",
       "</table>\n",
       "</div>"
      ],
      "text/plain": [
       "                                                    Title  \\\n",
       "138298                                Reflections of Love   \n",
       "43039                                   NAPOLEON AND LOVE   \n",
       "222293                               Lesbian Love Stories   \n",
       "143794  First Loves : Poets Introduce the Essential Po...   \n",
       "169879                Love for Sale. Erotische Fantasien.   \n",
       "\n",
       "                      Author  Year  \n",
       "138298  Alice Joyce Davidson  1983  \n",
       "43039          Philip MacKie  1976  \n",
       "222293          Irene Zahava  1989  \n",
       "143794       Carmela Ciuraru  2000  \n",
       "169879            Marie Sahr  2002  "
      ]
     },
     "execution_count": 128,
     "metadata": {},
     "output_type": "execute_result"
    }
   ],
   "source": [
    "query = \"Love, Rosie\"\n",
    "generate_switching_hybrid_recommendations(bx, query, top_k=5)"
   ]
  },
  {
   "cell_type": "code",
   "execution_count": 129,
   "metadata": {},
   "outputs": [
    {
     "data": {
      "text/html": [
       "<div>\n",
       "<style scoped>\n",
       "    .dataframe tbody tr th:only-of-type {\n",
       "        vertical-align: middle;\n",
       "    }\n",
       "\n",
       "    .dataframe tbody tr th {\n",
       "        vertical-align: top;\n",
       "    }\n",
       "\n",
       "    .dataframe thead th {\n",
       "        text-align: right;\n",
       "    }\n",
       "</style>\n",
       "<table border=\"1\" class=\"dataframe\">\n",
       "  <thead>\n",
       "    <tr style=\"text-align: right;\">\n",
       "      <th></th>\n",
       "      <th>Title</th>\n",
       "      <th>Author</th>\n",
       "      <th>Year</th>\n",
       "    </tr>\n",
       "  </thead>\n",
       "  <tbody>\n",
       "    <tr>\n",
       "      <th>642</th>\n",
       "      <td>I'd Tell You I Love You, But Then I'd Have to ...</td>\n",
       "      <td>Ally Carter</td>\n",
       "      <td>2006</td>\n",
       "    </tr>\n",
       "    <tr>\n",
       "      <th>7486</th>\n",
       "      <td>What Remains: A Memoir of Fate, Friendship, an...</td>\n",
       "      <td>Carole Radziwill</td>\n",
       "      <td>2005</td>\n",
       "    </tr>\n",
       "    <tr>\n",
       "      <th>9404</th>\n",
       "      <td>The Mambo Kings Play Songs of Love</td>\n",
       "      <td>Oscar Hijuelos</td>\n",
       "      <td>1989</td>\n",
       "    </tr>\n",
       "    <tr>\n",
       "      <th>7283</th>\n",
       "      <td>of course i love you</td>\n",
       "      <td>Durjoy Datta, Maanvi Ahuja</td>\n",
       "      <td>2008</td>\n",
       "    </tr>\n",
       "    <tr>\n",
       "      <th>7463</th>\n",
       "      <td>The Love Song of J. Alfred Prufrock and Other ...</td>\n",
       "      <td>T.S. Eliot</td>\n",
       "      <td>1915</td>\n",
       "    </tr>\n",
       "  </tbody>\n",
       "</table>\n",
       "</div>"
      ],
      "text/plain": [
       "                                                  Title  \\\n",
       "642   I'd Tell You I Love You, But Then I'd Have to ...   \n",
       "7486  What Remains: A Memoir of Fate, Friendship, an...   \n",
       "9404                 The Mambo Kings Play Songs of Love   \n",
       "7283                               of course i love you   \n",
       "7463  The Love Song of J. Alfred Prufrock and Other ...   \n",
       "\n",
       "                          Author  Year  \n",
       "642                  Ally Carter  2006  \n",
       "7486            Carole Radziwill  2005  \n",
       "9404              Oscar Hijuelos  1989  \n",
       "7283  Durjoy Datta, Maanvi Ahuja  2008  \n",
       "7463                  T.S. Eliot  1915  "
      ]
     },
     "execution_count": 129,
     "metadata": {},
     "output_type": "execute_result"
    }
   ],
   "source": [
    "query = \"Love, Rosie\"\n",
    "generate_switching_hybrid_recommendations(gbx, query, top_k=5)"
   ]
  },
  {
   "cell_type": "code",
   "execution_count": 133,
   "metadata": {},
   "outputs": [
    {
     "data": {
      "text/html": [
       "<div>\n",
       "<style scoped>\n",
       "    .dataframe tbody tr th:only-of-type {\n",
       "        vertical-align: middle;\n",
       "    }\n",
       "\n",
       "    .dataframe tbody tr th {\n",
       "        vertical-align: top;\n",
       "    }\n",
       "\n",
       "    .dataframe thead th {\n",
       "        text-align: right;\n",
       "    }\n",
       "</style>\n",
       "<table border=\"1\" class=\"dataframe\">\n",
       "  <thead>\n",
       "    <tr style=\"text-align: right;\">\n",
       "      <th></th>\n",
       "      <th>Title</th>\n",
       "      <th>Author</th>\n",
       "      <th>Year</th>\n",
       "    </tr>\n",
       "  </thead>\n",
       "  <tbody>\n",
       "    <tr>\n",
       "      <th>16217</th>\n",
       "      <td>Star Wars Episode I: The Phantom Menace</td>\n",
       "      <td>Patricia C. Wrede</td>\n",
       "      <td>1999</td>\n",
       "    </tr>\n",
       "    <tr>\n",
       "      <th>37825</th>\n",
       "      <td>Life Signs: The Biology of Star Trek</td>\n",
       "      <td>Susan Jenkins</td>\n",
       "      <td>1998</td>\n",
       "    </tr>\n",
       "    <tr>\n",
       "      <th>205548</th>\n",
       "      <td>Follow the Star Pushalong Book</td>\n",
       "      <td>Pushalong Book</td>\n",
       "      <td>2001</td>\n",
       "    </tr>\n",
       "    <tr>\n",
       "      <th>214152</th>\n",
       "      <td>DWELLERS IN CRUCBL (Star Trek (Numbered Paperb...</td>\n",
       "      <td>Margaret Wander Bonanno</td>\n",
       "      <td>1988</td>\n",
       "    </tr>\n",
       "    <tr>\n",
       "      <th>167107</th>\n",
       "      <td>LONE STAR RANGER</td>\n",
       "      <td>Zane Grey</td>\n",
       "      <td>1984</td>\n",
       "    </tr>\n",
       "  </tbody>\n",
       "</table>\n",
       "</div>"
      ],
      "text/plain": [
       "                                                    Title  \\\n",
       "16217             Star Wars Episode I: The Phantom Menace   \n",
       "37825                Life Signs: The Biology of Star Trek   \n",
       "205548                     Follow the Star Pushalong Book   \n",
       "214152  DWELLERS IN CRUCBL (Star Trek (Numbered Paperb...   \n",
       "167107                                   LONE STAR RANGER   \n",
       "\n",
       "                         Author  Year  \n",
       "16217         Patricia C. Wrede  1999  \n",
       "37825             Susan Jenkins  1998  \n",
       "205548           Pushalong Book  2001  \n",
       "214152  Margaret Wander Bonanno  1988  \n",
       "167107                Zane Grey  1984  "
      ]
     },
     "execution_count": 133,
     "metadata": {},
     "output_type": "execute_result"
    }
   ],
   "source": [
    "query = \"The Fault In our stars\"\n",
    "generate_switching_hybrid_recommendations(bx, query, top_k=5)"
   ]
  },
  {
   "cell_type": "markdown",
   "metadata": {},
   "source": [
    "### Feature Combination Hybrid Model"
   ]
  },
  {
   "cell_type": "code",
   "execution_count": 134,
   "metadata": {},
   "outputs": [],
   "source": [
    "def generate_feature_combination_hybrid_recommendations(df, query, top_k=5, similarity_threshold=0.1):\n",
    "    # Example: Assume a machine learning model is trained on features combining content attributes and user interactions\n",
    "    # For demonstration, we'll manually combine scores from both methods\n",
    "    \n",
    "    content_recs = generate_content_recommendations(df, query, top_k, similarity_threshold)\n",
    "    collaborative_recs = generate_collaborative_recommendations(df, query, top_k, similarity_threshold)\n",
    "    \n",
    "    # Assume both functions return DataFrames with 'Title', 'Author', and 'Score'\n",
    "    # Merge the recommendations on 'Title' and 'Author', combining scores\n",
    "    combined_recs = pd.merge(content_recs, collaborative_recs, on=['Title', 'Author'], how='outer', suffixes=('_content', '_collab'))\n",
    "    \n",
    "    # Fill missing values and combine scores\n",
    "    combined_recs.fillna(0, inplace=True)\n",
    "    combined_recs['combined_score'] = combined_recs['Score_content'] + combined_recs['Score_collab']\n",
    "    \n",
    "    # Sort and select top recommendations\n",
    "    final_recs = combined_recs.sort_values(by='combined_score', ascending=False).head(top_k)\n",
    "    \n",
    "    return final_recs[['Title', 'Author', 'combined_score']]"
   ]
  },
  {
   "cell_type": "code",
   "execution_count": null,
   "metadata": {},
   "outputs": [],
   "source": [
    "query = \"Love, Rosie\"\n",
    "generate_feature_combination_hybrid_recommendations(id_bx, query, top_k=5)"
   ]
  },
  {
   "cell_type": "markdown",
   "metadata": {},
   "source": [
    "### Cascade Hybrid Model"
   ]
  },
  {
   "cell_type": "code",
   "execution_count": 136,
   "metadata": {},
   "outputs": [],
   "source": [
    "def generate_cascade_hybrid_recommendations(df, query, top_k=5, intermediate_k=10, similarity_threshold=0.1):\n",
    "    # Generate an intermediate set of recommendations using content-based filtering\n",
    "    intermediate_recs = generate_content_recommendations(df, query, intermediate_k, similarity_threshold)\n",
    "    \n",
    "    # Refine the intermediate set using collaborative filtering\n",
    "    # For this example, assume collaborative recommendations can accept a list of books\n",
    "    final_recs = generate_collaborative_recommendations(df, intermediate_recs['Title'].tolist(), top_k, similarity_threshold)\n",
    "    \n",
    "    return final_recs\n"
   ]
  },
  {
   "cell_type": "code",
   "execution_count": 137,
   "metadata": {},
   "outputs": [
    {
     "ename": "AttributeError",
     "evalue": "'list' object has no attribute 'lower'",
     "output_type": "error",
     "traceback": [
      "\u001b[0;31m---------------------------------------------------------------------------\u001b[0m",
      "\u001b[0;31mAttributeError\u001b[0m                            Traceback (most recent call last)",
      "\u001b[1;32m/Users/sanjeevani1109/Desktop/Book_Recommendation_System/newest.ipynb Cell 144\u001b[0m line \u001b[0;36m2\n\u001b[1;32m      <a href='vscode-notebook-cell:/Users/sanjeevani1109/Desktop/Book_Recommendation_System/newest.ipynb#Y316sZmlsZQ%3D%3D?line=0'>1</a>\u001b[0m query \u001b[39m=\u001b[39m \u001b[39m\"\u001b[39m\u001b[39mLove, Rosie\u001b[39m\u001b[39m\"\u001b[39m\n\u001b[0;32m----> <a href='vscode-notebook-cell:/Users/sanjeevani1109/Desktop/Book_Recommendation_System/newest.ipynb#Y316sZmlsZQ%3D%3D?line=1'>2</a>\u001b[0m generate_cascade_hybrid_recommendations(id_bx, query, top_k\u001b[39m=\u001b[39;49m\u001b[39m5\u001b[39;49m)\n",
      "\u001b[1;32m/Users/sanjeevani1109/Desktop/Book_Recommendation_System/newest.ipynb Cell 144\u001b[0m line \u001b[0;36m7\n\u001b[1;32m      <a href='vscode-notebook-cell:/Users/sanjeevani1109/Desktop/Book_Recommendation_System/newest.ipynb#Y316sZmlsZQ%3D%3D?line=2'>3</a>\u001b[0m intermediate_recs \u001b[39m=\u001b[39m generate_content_recommendations(df, query, intermediate_k, similarity_threshold)\n\u001b[1;32m      <a href='vscode-notebook-cell:/Users/sanjeevani1109/Desktop/Book_Recommendation_System/newest.ipynb#Y316sZmlsZQ%3D%3D?line=4'>5</a>\u001b[0m \u001b[39m# Refine the intermediate set using collaborative filtering\u001b[39;00m\n\u001b[1;32m      <a href='vscode-notebook-cell:/Users/sanjeevani1109/Desktop/Book_Recommendation_System/newest.ipynb#Y316sZmlsZQ%3D%3D?line=5'>6</a>\u001b[0m \u001b[39m# For this example, assume collaborative recommendations can accept a list of books\u001b[39;00m\n\u001b[0;32m----> <a href='vscode-notebook-cell:/Users/sanjeevani1109/Desktop/Book_Recommendation_System/newest.ipynb#Y316sZmlsZQ%3D%3D?line=6'>7</a>\u001b[0m final_recs \u001b[39m=\u001b[39m generate_collaborative_recommendations(df, intermediate_recs[\u001b[39m'\u001b[39;49m\u001b[39mTitle\u001b[39;49m\u001b[39m'\u001b[39;49m]\u001b[39m.\u001b[39;49mtolist(), top_k, similarity_threshold)\n\u001b[1;32m      <a href='vscode-notebook-cell:/Users/sanjeevani1109/Desktop/Book_Recommendation_System/newest.ipynb#Y316sZmlsZQ%3D%3D?line=8'>9</a>\u001b[0m \u001b[39mreturn\u001b[39;00m final_recs\n",
      "\u001b[1;32m/Users/sanjeevani1109/Desktop/Book_Recommendation_System/newest.ipynb Cell 144\u001b[0m line \u001b[0;36m5\n\u001b[1;32m      <a href='vscode-notebook-cell:/Users/sanjeevani1109/Desktop/Book_Recommendation_System/newest.ipynb#Y316sZmlsZQ%3D%3D?line=1'>2</a>\u001b[0m \u001b[39mif\u001b[39;00m \u001b[39m'\u001b[39m\u001b[39mcombined\u001b[39m\u001b[39m'\u001b[39m \u001b[39mnot\u001b[39;00m \u001b[39min\u001b[39;00m df\u001b[39m.\u001b[39mcolumns:\n\u001b[1;32m      <a href='vscode-notebook-cell:/Users/sanjeevani1109/Desktop/Book_Recommendation_System/newest.ipynb#Y316sZmlsZQ%3D%3D?line=2'>3</a>\u001b[0m     df[\u001b[39m'\u001b[39m\u001b[39mcombined\u001b[39m\u001b[39m'\u001b[39m] \u001b[39m=\u001b[39m df[\u001b[39m'\u001b[39m\u001b[39mcleaned_title\u001b[39m\u001b[39m'\u001b[39m] \u001b[39m+\u001b[39m \u001b[39m\"\u001b[39m\u001b[39m \u001b[39m\u001b[39m\"\u001b[39m \u001b[39m+\u001b[39m df[\u001b[39m'\u001b[39m\u001b[39mcleaned_author\u001b[39m\u001b[39m'\u001b[39m]\n\u001b[0;32m----> <a href='vscode-notebook-cell:/Users/sanjeevani1109/Desktop/Book_Recommendation_System/newest.ipynb#Y316sZmlsZQ%3D%3D?line=4'>5</a>\u001b[0m cleaned_query \u001b[39m=\u001b[39m clean_text(query)\n\u001b[1;32m      <a href='vscode-notebook-cell:/Users/sanjeevani1109/Desktop/Book_Recommendation_System/newest.ipynb#Y316sZmlsZQ%3D%3D?line=6'>7</a>\u001b[0m matched_books \u001b[39m=\u001b[39m df[df[\u001b[39m'\u001b[39m\u001b[39mcombined\u001b[39m\u001b[39m'\u001b[39m]\u001b[39m.\u001b[39mstr\u001b[39m.\u001b[39mcontains(cleaned_query, case\u001b[39m=\u001b[39m\u001b[39mFalse\u001b[39;00m, regex\u001b[39m=\u001b[39m\u001b[39mFalse\u001b[39;00m)]\n\u001b[1;32m      <a href='vscode-notebook-cell:/Users/sanjeevani1109/Desktop/Book_Recommendation_System/newest.ipynb#Y316sZmlsZQ%3D%3D?line=7'>8</a>\u001b[0m \u001b[39mif\u001b[39;00m matched_books\u001b[39m.\u001b[39mempty:\n",
      "\u001b[1;32m/Users/sanjeevani1109/Desktop/Book_Recommendation_System/newest.ipynb Cell 144\u001b[0m line \u001b[0;36m3\n\u001b[1;32m      <a href='vscode-notebook-cell:/Users/sanjeevani1109/Desktop/Book_Recommendation_System/newest.ipynb#Y316sZmlsZQ%3D%3D?line=1'>2</a>\u001b[0m \u001b[39mdef\u001b[39;00m \u001b[39mclean_text\u001b[39m(text):\n\u001b[0;32m----> <a href='vscode-notebook-cell:/Users/sanjeevani1109/Desktop/Book_Recommendation_System/newest.ipynb#Y316sZmlsZQ%3D%3D?line=2'>3</a>\u001b[0m     text \u001b[39m=\u001b[39m text\u001b[39m.\u001b[39;49mlower()     \u001b[39m#Converting the text to lowercase\u001b[39;00m\n\u001b[1;32m      <a href='vscode-notebook-cell:/Users/sanjeevani1109/Desktop/Book_Recommendation_System/newest.ipynb#Y316sZmlsZQ%3D%3D?line=3'>4</a>\u001b[0m     text \u001b[39m=\u001b[39m re\u001b[39m.\u001b[39msub(\u001b[39mr\u001b[39m\u001b[39m'\u001b[39m\u001b[39m\\\u001b[39m\u001b[39md+\u001b[39m\u001b[39m'\u001b[39m, \u001b[39m'\u001b[39m\u001b[39m \u001b[39m\u001b[39m'\u001b[39m, text)    \u001b[39m# Removing digits\u001b[39;00m\n\u001b[1;32m      <a href='vscode-notebook-cell:/Users/sanjeevani1109/Desktop/Book_Recommendation_System/newest.ipynb#Y316sZmlsZQ%3D%3D?line=4'>5</a>\u001b[0m     text \u001b[39m=\u001b[39m re\u001b[39m.\u001b[39msub(\u001b[39mr\u001b[39m\u001b[39m'\u001b[39m\u001b[39m[^a-zA-Z\u001b[39m\u001b[39m\\\u001b[39m\u001b[39ms]\u001b[39m\u001b[39m'\u001b[39m, \u001b[39m'\u001b[39m\u001b[39m'\u001b[39m, text)  \u001b[39m# Removing special characters\u001b[39;00m\n",
      "\u001b[0;31mAttributeError\u001b[0m: 'list' object has no attribute 'lower'"
     ]
    }
   ],
   "source": [
    "query = \"Love, Rosie\"\n",
    "generate_cascade_hybrid_recommendations(id_bx, query, top_k=5)"
   ]
  }
 ],
 "metadata": {
  "kernelspec": {
   "display_name": "Python 3 (ipykernel)",
   "language": "python",
   "name": "python3"
  },
  "language_info": {
   "codemirror_mode": {
    "name": "ipython",
    "version": 3
   },
   "file_extension": ".py",
   "mimetype": "text/x-python",
   "name": "python",
   "nbconvert_exporter": "python",
   "pygments_lexer": "ipython3",
   "version": "3.9.18"
  }
 },
 "nbformat": 4,
 "nbformat_minor": 5
}

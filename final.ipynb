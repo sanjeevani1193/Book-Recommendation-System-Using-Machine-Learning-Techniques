{
 "cells": [
  {
   "cell_type": "code",
   "execution_count": 1,
   "id": "255614e2",
   "metadata": {},
   "outputs": [
    {
     "name": "stderr",
     "output_type": "stream",
     "text": [
      "/var/folders/n5/f6xjtlr526zbr86__yns243m0000gn/T/ipykernel_13237/1662815981.py:2: DeprecationWarning: \n",
      "Pyarrow will become a required dependency of pandas in the next major release of pandas (pandas 3.0),\n",
      "(to allow more performant data types, such as the Arrow string type, and better interoperability with other libraries)\n",
      "but was not found to be installed on your system.\n",
      "If this would cause problems for you,\n",
      "please provide us feedback at https://github.com/pandas-dev/pandas/issues/54466\n",
      "        \n",
      "  import pandas as pd\n"
     ]
    }
   ],
   "source": [
    "import numpy as np\n",
    "import pandas as pd"
   ]
  },
  {
   "cell_type": "markdown",
   "metadata": {},
   "source": [
    "# Data Preprocessing"
   ]
  },
  {
   "cell_type": "markdown",
   "metadata": {},
   "source": [
    "### 1. Book-Crossing dataset"
   ]
  },
  {
   "cell_type": "code",
   "execution_count": 2,
   "metadata": {},
   "outputs": [
    {
     "name": "stderr",
     "output_type": "stream",
     "text": [
      "/var/folders/n5/f6xjtlr526zbr86__yns243m0000gn/T/ipykernel_13237/3698374196.py:2: DtypeWarning: Columns (3) have mixed types. Specify dtype option on import or set low_memory=False.\n",
      "  books = pd.read_csv('/Users/sanjeevani1109/Desktop/Book_Recommendation_System/Book crossing /BX-Books.csv', sep=';',on_bad_lines = 'skip', encoding='latin-1')\n"
     ]
    }
   ],
   "source": [
    "# Reading the CSV files and skipping the bad lines\n",
    "books = pd.read_csv('/Users/sanjeevani1109/Desktop/Book_Recommendation_System/Book crossing /BX-Books.csv', sep=';',on_bad_lines = 'skip', encoding='latin-1')\n",
    "ratings = pd.read_csv('/Users/sanjeevani1109/Desktop/Book_Recommendation_System/Book crossing /BX-Book-Ratings.csv', sep=';',on_bad_lines = 'skip', encoding='latin-1')\n",
    "users = pd.read_csv('/Users/sanjeevani1109/Desktop/Book_Recommendation_System/Book crossing /BX-Users.csv',sep=';',on_bad_lines = 'skip', encoding='latin-1')"
   ]
  },
  {
   "cell_type": "markdown",
   "metadata": {},
   "source": [
    "#### 1.1 'books' data frame"
   ]
  },
  {
   "cell_type": "code",
   "execution_count": 3,
   "metadata": {},
   "outputs": [
    {
     "data": {
      "text/html": [
       "<div>\n",
       "<style scoped>\n",
       "    .dataframe tbody tr th:only-of-type {\n",
       "        vertical-align: middle;\n",
       "    }\n",
       "\n",
       "    .dataframe tbody tr th {\n",
       "        vertical-align: top;\n",
       "    }\n",
       "\n",
       "    .dataframe thead th {\n",
       "        text-align: right;\n",
       "    }\n",
       "</style>\n",
       "<table border=\"1\" class=\"dataframe\">\n",
       "  <thead>\n",
       "    <tr style=\"text-align: right;\">\n",
       "      <th></th>\n",
       "      <th>ISBN</th>\n",
       "      <th>Book-Title</th>\n",
       "      <th>Book-Author</th>\n",
       "      <th>Year-Of-Publication</th>\n",
       "      <th>Publisher</th>\n",
       "      <th>Image-URL-S</th>\n",
       "      <th>Image-URL-M</th>\n",
       "      <th>Image-URL-L</th>\n",
       "    </tr>\n",
       "  </thead>\n",
       "  <tbody>\n",
       "    <tr>\n",
       "      <th>0</th>\n",
       "      <td>0195153448</td>\n",
       "      <td>Classical Mythology</td>\n",
       "      <td>Mark P. O. Morford</td>\n",
       "      <td>2002</td>\n",
       "      <td>Oxford University Press</td>\n",
       "      <td>http://images.amazon.com/images/P/0195153448.0...</td>\n",
       "      <td>http://images.amazon.com/images/P/0195153448.0...</td>\n",
       "      <td>http://images.amazon.com/images/P/0195153448.0...</td>\n",
       "    </tr>\n",
       "    <tr>\n",
       "      <th>1</th>\n",
       "      <td>0002005018</td>\n",
       "      <td>Clara Callan</td>\n",
       "      <td>Richard Bruce Wright</td>\n",
       "      <td>2001</td>\n",
       "      <td>HarperFlamingo Canada</td>\n",
       "      <td>http://images.amazon.com/images/P/0002005018.0...</td>\n",
       "      <td>http://images.amazon.com/images/P/0002005018.0...</td>\n",
       "      <td>http://images.amazon.com/images/P/0002005018.0...</td>\n",
       "    </tr>\n",
       "    <tr>\n",
       "      <th>2</th>\n",
       "      <td>0060973129</td>\n",
       "      <td>Decision in Normandy</td>\n",
       "      <td>Carlo D'Este</td>\n",
       "      <td>1991</td>\n",
       "      <td>HarperPerennial</td>\n",
       "      <td>http://images.amazon.com/images/P/0060973129.0...</td>\n",
       "      <td>http://images.amazon.com/images/P/0060973129.0...</td>\n",
       "      <td>http://images.amazon.com/images/P/0060973129.0...</td>\n",
       "    </tr>\n",
       "    <tr>\n",
       "      <th>3</th>\n",
       "      <td>0374157065</td>\n",
       "      <td>Flu: The Story of the Great Influenza Pandemic...</td>\n",
       "      <td>Gina Bari Kolata</td>\n",
       "      <td>1999</td>\n",
       "      <td>Farrar Straus Giroux</td>\n",
       "      <td>http://images.amazon.com/images/P/0374157065.0...</td>\n",
       "      <td>http://images.amazon.com/images/P/0374157065.0...</td>\n",
       "      <td>http://images.amazon.com/images/P/0374157065.0...</td>\n",
       "    </tr>\n",
       "    <tr>\n",
       "      <th>4</th>\n",
       "      <td>0393045218</td>\n",
       "      <td>The Mummies of Urumchi</td>\n",
       "      <td>E. J. W. Barber</td>\n",
       "      <td>1999</td>\n",
       "      <td>W. W. Norton &amp;amp; Company</td>\n",
       "      <td>http://images.amazon.com/images/P/0393045218.0...</td>\n",
       "      <td>http://images.amazon.com/images/P/0393045218.0...</td>\n",
       "      <td>http://images.amazon.com/images/P/0393045218.0...</td>\n",
       "    </tr>\n",
       "    <tr>\n",
       "      <th>...</th>\n",
       "      <td>...</td>\n",
       "      <td>...</td>\n",
       "      <td>...</td>\n",
       "      <td>...</td>\n",
       "      <td>...</td>\n",
       "      <td>...</td>\n",
       "      <td>...</td>\n",
       "      <td>...</td>\n",
       "    </tr>\n",
       "    <tr>\n",
       "      <th>271355</th>\n",
       "      <td>0440400988</td>\n",
       "      <td>There's a Bat in Bunk Five</td>\n",
       "      <td>Paula Danziger</td>\n",
       "      <td>1988</td>\n",
       "      <td>Random House Childrens Pub (Mm)</td>\n",
       "      <td>http://images.amazon.com/images/P/0440400988.0...</td>\n",
       "      <td>http://images.amazon.com/images/P/0440400988.0...</td>\n",
       "      <td>http://images.amazon.com/images/P/0440400988.0...</td>\n",
       "    </tr>\n",
       "    <tr>\n",
       "      <th>271356</th>\n",
       "      <td>0525447644</td>\n",
       "      <td>From One to One Hundred</td>\n",
       "      <td>Teri Sloat</td>\n",
       "      <td>1991</td>\n",
       "      <td>Dutton Books</td>\n",
       "      <td>http://images.amazon.com/images/P/0525447644.0...</td>\n",
       "      <td>http://images.amazon.com/images/P/0525447644.0...</td>\n",
       "      <td>http://images.amazon.com/images/P/0525447644.0...</td>\n",
       "    </tr>\n",
       "    <tr>\n",
       "      <th>271357</th>\n",
       "      <td>006008667X</td>\n",
       "      <td>Lily Dale : The True Story of the Town that Ta...</td>\n",
       "      <td>Christine Wicker</td>\n",
       "      <td>2004</td>\n",
       "      <td>HarperSanFrancisco</td>\n",
       "      <td>http://images.amazon.com/images/P/006008667X.0...</td>\n",
       "      <td>http://images.amazon.com/images/P/006008667X.0...</td>\n",
       "      <td>http://images.amazon.com/images/P/006008667X.0...</td>\n",
       "    </tr>\n",
       "    <tr>\n",
       "      <th>271358</th>\n",
       "      <td>0192126040</td>\n",
       "      <td>Republic (World's Classics)</td>\n",
       "      <td>Plato</td>\n",
       "      <td>1996</td>\n",
       "      <td>Oxford University Press</td>\n",
       "      <td>http://images.amazon.com/images/P/0192126040.0...</td>\n",
       "      <td>http://images.amazon.com/images/P/0192126040.0...</td>\n",
       "      <td>http://images.amazon.com/images/P/0192126040.0...</td>\n",
       "    </tr>\n",
       "    <tr>\n",
       "      <th>271359</th>\n",
       "      <td>0767409752</td>\n",
       "      <td>A Guided Tour of Rene Descartes' Meditations o...</td>\n",
       "      <td>Christopher  Biffle</td>\n",
       "      <td>2000</td>\n",
       "      <td>McGraw-Hill Humanities/Social Sciences/Languages</td>\n",
       "      <td>http://images.amazon.com/images/P/0767409752.0...</td>\n",
       "      <td>http://images.amazon.com/images/P/0767409752.0...</td>\n",
       "      <td>http://images.amazon.com/images/P/0767409752.0...</td>\n",
       "    </tr>\n",
       "  </tbody>\n",
       "</table>\n",
       "<p>271360 rows × 8 columns</p>\n",
       "</div>"
      ],
      "text/plain": [
       "              ISBN                                         Book-Title  \\\n",
       "0       0195153448                                Classical Mythology   \n",
       "1       0002005018                                       Clara Callan   \n",
       "2       0060973129                               Decision in Normandy   \n",
       "3       0374157065  Flu: The Story of the Great Influenza Pandemic...   \n",
       "4       0393045218                             The Mummies of Urumchi   \n",
       "...            ...                                                ...   \n",
       "271355  0440400988                         There's a Bat in Bunk Five   \n",
       "271356  0525447644                            From One to One Hundred   \n",
       "271357  006008667X  Lily Dale : The True Story of the Town that Ta...   \n",
       "271358  0192126040                        Republic (World's Classics)   \n",
       "271359  0767409752  A Guided Tour of Rene Descartes' Meditations o...   \n",
       "\n",
       "                 Book-Author Year-Of-Publication  \\\n",
       "0         Mark P. O. Morford                2002   \n",
       "1       Richard Bruce Wright                2001   \n",
       "2               Carlo D'Este                1991   \n",
       "3           Gina Bari Kolata                1999   \n",
       "4            E. J. W. Barber                1999   \n",
       "...                      ...                 ...   \n",
       "271355        Paula Danziger                1988   \n",
       "271356            Teri Sloat                1991   \n",
       "271357      Christine Wicker                2004   \n",
       "271358                 Plato                1996   \n",
       "271359   Christopher  Biffle                2000   \n",
       "\n",
       "                                               Publisher  \\\n",
       "0                                Oxford University Press   \n",
       "1                                  HarperFlamingo Canada   \n",
       "2                                        HarperPerennial   \n",
       "3                                   Farrar Straus Giroux   \n",
       "4                             W. W. Norton &amp; Company   \n",
       "...                                                  ...   \n",
       "271355                   Random House Childrens Pub (Mm)   \n",
       "271356                                      Dutton Books   \n",
       "271357                                HarperSanFrancisco   \n",
       "271358                           Oxford University Press   \n",
       "271359  McGraw-Hill Humanities/Social Sciences/Languages   \n",
       "\n",
       "                                              Image-URL-S  \\\n",
       "0       http://images.amazon.com/images/P/0195153448.0...   \n",
       "1       http://images.amazon.com/images/P/0002005018.0...   \n",
       "2       http://images.amazon.com/images/P/0060973129.0...   \n",
       "3       http://images.amazon.com/images/P/0374157065.0...   \n",
       "4       http://images.amazon.com/images/P/0393045218.0...   \n",
       "...                                                   ...   \n",
       "271355  http://images.amazon.com/images/P/0440400988.0...   \n",
       "271356  http://images.amazon.com/images/P/0525447644.0...   \n",
       "271357  http://images.amazon.com/images/P/006008667X.0...   \n",
       "271358  http://images.amazon.com/images/P/0192126040.0...   \n",
       "271359  http://images.amazon.com/images/P/0767409752.0...   \n",
       "\n",
       "                                              Image-URL-M  \\\n",
       "0       http://images.amazon.com/images/P/0195153448.0...   \n",
       "1       http://images.amazon.com/images/P/0002005018.0...   \n",
       "2       http://images.amazon.com/images/P/0060973129.0...   \n",
       "3       http://images.amazon.com/images/P/0374157065.0...   \n",
       "4       http://images.amazon.com/images/P/0393045218.0...   \n",
       "...                                                   ...   \n",
       "271355  http://images.amazon.com/images/P/0440400988.0...   \n",
       "271356  http://images.amazon.com/images/P/0525447644.0...   \n",
       "271357  http://images.amazon.com/images/P/006008667X.0...   \n",
       "271358  http://images.amazon.com/images/P/0192126040.0...   \n",
       "271359  http://images.amazon.com/images/P/0767409752.0...   \n",
       "\n",
       "                                              Image-URL-L  \n",
       "0       http://images.amazon.com/images/P/0195153448.0...  \n",
       "1       http://images.amazon.com/images/P/0002005018.0...  \n",
       "2       http://images.amazon.com/images/P/0060973129.0...  \n",
       "3       http://images.amazon.com/images/P/0374157065.0...  \n",
       "4       http://images.amazon.com/images/P/0393045218.0...  \n",
       "...                                                   ...  \n",
       "271355  http://images.amazon.com/images/P/0440400988.0...  \n",
       "271356  http://images.amazon.com/images/P/0525447644.0...  \n",
       "271357  http://images.amazon.com/images/P/006008667X.0...  \n",
       "271358  http://images.amazon.com/images/P/0192126040.0...  \n",
       "271359  http://images.amazon.com/images/P/0767409752.0...  \n",
       "\n",
       "[271360 rows x 8 columns]"
      ]
     },
     "execution_count": 3,
     "metadata": {},
     "output_type": "execute_result"
    }
   ],
   "source": [
    "books"
   ]
  },
  {
   "cell_type": "code",
   "execution_count": 4,
   "metadata": {},
   "outputs": [],
   "source": [
    "#Renaming the columns\n",
    "books.rename(columns={'Book-Title': 'Title', 'Book-Author': 'Author', 'Year-Of-Publication': 'Year'}, inplace=True)"
   ]
  },
  {
   "cell_type": "code",
   "execution_count": 5,
   "metadata": {},
   "outputs": [],
   "source": [
    "#Dropping the URL columns for the Books table\n",
    "books.drop(['Image-URL-S', 'Image-URL-M', 'Image-URL-L'], axis=1, inplace=True)"
   ]
  },
  {
   "cell_type": "code",
   "execution_count": 6,
   "metadata": {},
   "outputs": [
    {
     "data": {
      "text/plain": [
       "2"
      ]
     },
     "execution_count": 6,
     "metadata": {},
     "output_type": "execute_result"
    }
   ],
   "source": [
    "books['Author'].isnull().sum()"
   ]
  },
  {
   "cell_type": "code",
   "execution_count": 7,
   "metadata": {},
   "outputs": [],
   "source": [
    "books.loc[books['Author'].isnull(), 'Author'] = \"Others\""
   ]
  },
  {
   "cell_type": "code",
   "execution_count": 8,
   "metadata": {},
   "outputs": [
    {
     "data": {
      "text/plain": [
       "0"
      ]
     },
     "execution_count": 8,
     "metadata": {},
     "output_type": "execute_result"
    }
   ],
   "source": [
    "books['Author'].isnull().sum()"
   ]
  },
  {
   "cell_type": "code",
   "execution_count": 9,
   "metadata": {},
   "outputs": [
    {
     "data": {
      "text/plain": [
       "2"
      ]
     },
     "execution_count": 9,
     "metadata": {},
     "output_type": "execute_result"
    }
   ],
   "source": [
    "books['Publisher'].isnull().sum()"
   ]
  },
  {
   "cell_type": "code",
   "execution_count": 10,
   "metadata": {},
   "outputs": [],
   "source": [
    "books.loc[books['Publisher'].isnull(), 'Publisher'] = \"Others\""
   ]
  },
  {
   "cell_type": "code",
   "execution_count": 11,
   "metadata": {},
   "outputs": [
    {
     "data": {
      "text/plain": [
       "0"
      ]
     },
     "execution_count": 11,
     "metadata": {},
     "output_type": "execute_result"
    }
   ],
   "source": [
    "books['Publisher'].isnull().sum()"
   ]
  },
  {
   "cell_type": "code",
   "execution_count": 12,
   "metadata": {},
   "outputs": [
    {
     "data": {
      "text/plain": [
       "ISBN         0\n",
       "Title        0\n",
       "Author       0\n",
       "Year         0\n",
       "Publisher    0\n",
       "dtype: int64"
      ]
     },
     "execution_count": 12,
     "metadata": {},
     "output_type": "execute_result"
    }
   ],
   "source": [
    "books.isnull().sum() "
   ]
  },
  {
   "cell_type": "code",
   "execution_count": 13,
   "metadata": {},
   "outputs": [],
   "source": [
    "books.drop_duplicates(subset='ISBN', inplace=True)"
   ]
  },
  {
   "cell_type": "code",
   "execution_count": 14,
   "metadata": {},
   "outputs": [
    {
     "data": {
      "text/plain": [
       "array([2002, 2001, 1991, 1999, 2000, 1993, 1996, 1988, 2004, 1998, 1994,\n",
       "       2003, 1997, 1983, 1979, 1995, 1982, 1985, 1992, 1986, 1978, 1980,\n",
       "       1952, 1987, 1990, 1981, 1989, 1984, 0, 1968, 1961, 1958, 1974,\n",
       "       1976, 1971, 1977, 1975, 1965, 1941, 1970, 1962, 1973, 1972, 1960,\n",
       "       1966, 1920, 1956, 1959, 1953, 1951, 1942, 1963, 1964, 1969, 1954,\n",
       "       1950, 1967, 2005, 1957, 1940, 1937, 1955, 1946, 1936, 1930, 2011,\n",
       "       1925, 1948, 1943, 1947, 1945, 1923, 2020, 1939, 1926, 1938, 2030,\n",
       "       1911, 1904, 1949, 1932, 1928, 1929, 1927, 1931, 1914, 2050, 1934,\n",
       "       1910, 1933, 1902, 1924, 1921, 1900, 2038, 2026, 1944, 1917, 1901,\n",
       "       2010, 1908, 1906, 1935, 1806, 2021, '2000', '1995', '1999', '2004',\n",
       "       '2003', '1990', '1994', '1986', '1989', '2002', '1981', '1993',\n",
       "       '1983', '1982', '1976', '1991', '1977', '1998', '1992', '1996',\n",
       "       '0', '1997', '2001', '1974', '1968', '1987', '1984', '1988',\n",
       "       '1963', '1956', '1970', '1985', '1978', '1973', '1980', '1979',\n",
       "       '1975', '1969', '1961', '1965', '1939', '1958', '1950', '1953',\n",
       "       '1966', '1971', '1959', '1972', '1955', '1957', '1945', '1960',\n",
       "       '1967', '1932', '1924', '1964', '2012', '1911', '1927', '1948',\n",
       "       '1962', '2006', '1952', '1940', '1951', '1931', '1954', '2005',\n",
       "       '1930', '1941', '1944', 'DK Publishing Inc', '1943', '1938',\n",
       "       '1900', '1942', '1923', '1920', '1933', 'Gallimard', '1909',\n",
       "       '1946', '2008', '1378', '2030', '1936', '1947', '2011', '2020',\n",
       "       '1919', '1949', '1922', '1897', '2024', '1376', '1926', '2037'],\n",
       "      dtype=object)"
      ]
     },
     "execution_count": 14,
     "metadata": {},
     "output_type": "execute_result"
    }
   ],
   "source": [
    "#Checking the unique set of possible values in the 'Year' column\n",
    "books['Year'].unique()"
   ]
  },
  {
   "cell_type": "code",
   "execution_count": 15,
   "metadata": {},
   "outputs": [
    {
     "data": {
      "text/html": [
       "<div>\n",
       "<style scoped>\n",
       "    .dataframe tbody tr th:only-of-type {\n",
       "        vertical-align: middle;\n",
       "    }\n",
       "\n",
       "    .dataframe tbody tr th {\n",
       "        vertical-align: top;\n",
       "    }\n",
       "\n",
       "    .dataframe thead th {\n",
       "        text-align: right;\n",
       "    }\n",
       "</style>\n",
       "<table border=\"1\" class=\"dataframe\">\n",
       "  <thead>\n",
       "    <tr style=\"text-align: right;\">\n",
       "      <th></th>\n",
       "      <th>ISBN</th>\n",
       "      <th>Title</th>\n",
       "      <th>Author</th>\n",
       "      <th>Year</th>\n",
       "      <th>Publisher</th>\n",
       "    </tr>\n",
       "  </thead>\n",
       "  <tbody>\n",
       "    <tr>\n",
       "      <th>209538</th>\n",
       "      <td>078946697X</td>\n",
       "      <td>DK Readers: Creating the X-Men, How It All Beg...</td>\n",
       "      <td>2000</td>\n",
       "      <td>DK Publishing Inc</td>\n",
       "      <td>http://images.amazon.com/images/P/078946697X.0...</td>\n",
       "    </tr>\n",
       "    <tr>\n",
       "      <th>221678</th>\n",
       "      <td>0789466953</td>\n",
       "      <td>DK Readers: Creating the X-Men, How Comic Book...</td>\n",
       "      <td>2000</td>\n",
       "      <td>DK Publishing Inc</td>\n",
       "      <td>http://images.amazon.com/images/P/0789466953.0...</td>\n",
       "    </tr>\n",
       "  </tbody>\n",
       "</table>\n",
       "</div>"
      ],
      "text/plain": [
       "              ISBN                                              Title Author  \\\n",
       "209538  078946697X  DK Readers: Creating the X-Men, How It All Beg...   2000   \n",
       "221678  0789466953  DK Readers: Creating the X-Men, How Comic Book...   2000   \n",
       "\n",
       "                     Year                                          Publisher  \n",
       "209538  DK Publishing Inc  http://images.amazon.com/images/P/078946697X.0...  \n",
       "221678  DK Publishing Inc  http://images.amazon.com/images/P/0789466953.0...  "
      ]
     },
     "execution_count": 15,
     "metadata": {},
     "output_type": "execute_result"
    }
   ],
   "source": [
    "books.loc[books['Year'] == 'DK Publishing Inc',:]"
   ]
  },
  {
   "cell_type": "code",
   "execution_count": 16,
   "metadata": {},
   "outputs": [],
   "source": [
    "books.at[209538, 'Publisher'] = 'DK Publishing Inc'\n",
    "books.at[209538, 'Year'] = 2000\n",
    "books.at[209538, 'Title'] = 'DK Readers: Creating the X-Men, How It All Began (Level 4: Proficient Readers)'\n",
    "books.at[209538, 'Author'] = 'Michael Teitelbaum'"
   ]
  },
  {
   "cell_type": "code",
   "execution_count": 17,
   "metadata": {},
   "outputs": [],
   "source": [
    "books.at[221678, 'Publisher'] = 'DK Publishing Inc'\n",
    "books.at[221678, 'Year'] = 2000\n",
    "books.at[221678, 'Title'] = 'DK Readers: Creating the X-Men, How Comic Books Come to Life (Level 4: Proficient Readers)'\n",
    "books.at[221678, 'Author'] = 'James Buckley'"
   ]
  },
  {
   "cell_type": "code",
   "execution_count": 18,
   "metadata": {},
   "outputs": [
    {
     "data": {
      "text/html": [
       "<div>\n",
       "<style scoped>\n",
       "    .dataframe tbody tr th:only-of-type {\n",
       "        vertical-align: middle;\n",
       "    }\n",
       "\n",
       "    .dataframe tbody tr th {\n",
       "        vertical-align: top;\n",
       "    }\n",
       "\n",
       "    .dataframe thead th {\n",
       "        text-align: right;\n",
       "    }\n",
       "</style>\n",
       "<table border=\"1\" class=\"dataframe\">\n",
       "  <thead>\n",
       "    <tr style=\"text-align: right;\">\n",
       "      <th></th>\n",
       "      <th>ISBN</th>\n",
       "      <th>Title</th>\n",
       "      <th>Author</th>\n",
       "      <th>Year</th>\n",
       "      <th>Publisher</th>\n",
       "    </tr>\n",
       "  </thead>\n",
       "  <tbody>\n",
       "    <tr>\n",
       "      <th>220731</th>\n",
       "      <td>2070426769</td>\n",
       "      <td>Peuple du ciel, suivi de 'Les Bergers\\\";Jean-M...</td>\n",
       "      <td>2003</td>\n",
       "      <td>Gallimard</td>\n",
       "      <td>http://images.amazon.com/images/P/2070426769.0...</td>\n",
       "    </tr>\n",
       "  </tbody>\n",
       "</table>\n",
       "</div>"
      ],
      "text/plain": [
       "              ISBN                                              Title Author  \\\n",
       "220731  2070426769  Peuple du ciel, suivi de 'Les Bergers\\\";Jean-M...   2003   \n",
       "\n",
       "             Year                                          Publisher  \n",
       "220731  Gallimard  http://images.amazon.com/images/P/2070426769.0...  "
      ]
     },
     "execution_count": 18,
     "metadata": {},
     "output_type": "execute_result"
    }
   ],
   "source": [
    "books.loc[books['Year'] == 'Gallimard',:]"
   ]
  },
  {
   "cell_type": "code",
   "execution_count": 19,
   "metadata": {},
   "outputs": [],
   "source": [
    "books.at[220731, 'Publisher'] = 'Gallimard'\n",
    "books.at[220731, 'Year'] = 2003\n",
    "books.at[220731, 'Title'] = 'Peuple du ciel - Suivi de Les bergers '\n",
    "books.at[220731, 'Author'] = 'Jean-Marie Gustave Le ClÃ?Â©zio'"
   ]
  },
  {
   "cell_type": "code",
   "execution_count": 20,
   "metadata": {},
   "outputs": [],
   "source": [
    "#converting year to integer values\n",
    "books['Year'] = pd.to_numeric(books['Year'], errors='coerce')\n",
    "\n",
    "count = books['Year'].value_counts()\n",
    "most_common_year = count[count == count.max()].index.tolist()[0]\n",
    "\n",
    "#Replacing all values for Publishing years greater than 2004 or equal to 0 with the maximum year\n",
    "books.loc[books['Year'] > 2004, 'Year'] = most_common_year\n",
    "books.loc[books['Year'] == 0, 'Year'] = most_common_year"
   ]
  },
  {
   "cell_type": "code",
   "execution_count": 21,
   "metadata": {},
   "outputs": [],
   "source": [
    "# Changing all characters to uppercase in ISBN\n",
    "books['ISBN'] = books['ISBN'].str.upper()"
   ]
  },
  {
   "cell_type": "code",
   "execution_count": 22,
   "metadata": {},
   "outputs": [],
   "source": [
    "books['Year'] = books['Year'].astype(int)"
   ]
  },
  {
   "cell_type": "markdown",
   "metadata": {},
   "source": [
    "#### 1.2 'users' data frame"
   ]
  },
  {
   "cell_type": "code",
   "execution_count": 23,
   "metadata": {},
   "outputs": [
    {
     "data": {
      "text/html": [
       "<div>\n",
       "<style scoped>\n",
       "    .dataframe tbody tr th:only-of-type {\n",
       "        vertical-align: middle;\n",
       "    }\n",
       "\n",
       "    .dataframe tbody tr th {\n",
       "        vertical-align: top;\n",
       "    }\n",
       "\n",
       "    .dataframe thead th {\n",
       "        text-align: right;\n",
       "    }\n",
       "</style>\n",
       "<table border=\"1\" class=\"dataframe\">\n",
       "  <thead>\n",
       "    <tr style=\"text-align: right;\">\n",
       "      <th></th>\n",
       "      <th>User-ID</th>\n",
       "      <th>Location</th>\n",
       "      <th>Age</th>\n",
       "    </tr>\n",
       "  </thead>\n",
       "  <tbody>\n",
       "    <tr>\n",
       "      <th>0</th>\n",
       "      <td>1</td>\n",
       "      <td>nyc, new york, usa</td>\n",
       "      <td>NaN</td>\n",
       "    </tr>\n",
       "    <tr>\n",
       "      <th>1</th>\n",
       "      <td>2</td>\n",
       "      <td>stockton, california, usa</td>\n",
       "      <td>18.0</td>\n",
       "    </tr>\n",
       "    <tr>\n",
       "      <th>2</th>\n",
       "      <td>3</td>\n",
       "      <td>moscow, yukon territory, russia</td>\n",
       "      <td>NaN</td>\n",
       "    </tr>\n",
       "    <tr>\n",
       "      <th>3</th>\n",
       "      <td>4</td>\n",
       "      <td>porto, v.n.gaia, portugal</td>\n",
       "      <td>17.0</td>\n",
       "    </tr>\n",
       "    <tr>\n",
       "      <th>4</th>\n",
       "      <td>5</td>\n",
       "      <td>farnborough, hants, united kingdom</td>\n",
       "      <td>NaN</td>\n",
       "    </tr>\n",
       "    <tr>\n",
       "      <th>...</th>\n",
       "      <td>...</td>\n",
       "      <td>...</td>\n",
       "      <td>...</td>\n",
       "    </tr>\n",
       "    <tr>\n",
       "      <th>278853</th>\n",
       "      <td>278854</td>\n",
       "      <td>portland, oregon, usa</td>\n",
       "      <td>NaN</td>\n",
       "    </tr>\n",
       "    <tr>\n",
       "      <th>278854</th>\n",
       "      <td>278855</td>\n",
       "      <td>tacoma, washington, united kingdom</td>\n",
       "      <td>50.0</td>\n",
       "    </tr>\n",
       "    <tr>\n",
       "      <th>278855</th>\n",
       "      <td>278856</td>\n",
       "      <td>brampton, ontario, canada</td>\n",
       "      <td>NaN</td>\n",
       "    </tr>\n",
       "    <tr>\n",
       "      <th>278856</th>\n",
       "      <td>278857</td>\n",
       "      <td>knoxville, tennessee, usa</td>\n",
       "      <td>NaN</td>\n",
       "    </tr>\n",
       "    <tr>\n",
       "      <th>278857</th>\n",
       "      <td>278858</td>\n",
       "      <td>dublin, n/a, ireland</td>\n",
       "      <td>NaN</td>\n",
       "    </tr>\n",
       "  </tbody>\n",
       "</table>\n",
       "<p>278858 rows × 3 columns</p>\n",
       "</div>"
      ],
      "text/plain": [
       "        User-ID                            Location   Age\n",
       "0             1                  nyc, new york, usa   NaN\n",
       "1             2           stockton, california, usa  18.0\n",
       "2             3     moscow, yukon territory, russia   NaN\n",
       "3             4           porto, v.n.gaia, portugal  17.0\n",
       "4             5  farnborough, hants, united kingdom   NaN\n",
       "...         ...                                 ...   ...\n",
       "278853   278854               portland, oregon, usa   NaN\n",
       "278854   278855  tacoma, washington, united kingdom  50.0\n",
       "278855   278856           brampton, ontario, canada   NaN\n",
       "278856   278857           knoxville, tennessee, usa   NaN\n",
       "278857   278858                dublin, n/a, ireland   NaN\n",
       "\n",
       "[278858 rows x 3 columns]"
      ]
     },
     "execution_count": 23,
     "metadata": {},
     "output_type": "execute_result"
    }
   ],
   "source": [
    "users"
   ]
  },
  {
   "cell_type": "code",
   "execution_count": 24,
   "metadata": {},
   "outputs": [],
   "source": [
    "#Renaming the columns\n",
    "users.rename(columns={'User-ID': 'UserID'}, inplace=True)"
   ]
  },
  {
   "cell_type": "markdown",
   "metadata": {},
   "source": [
    "##### Ages that have values nan, less than 8, and more than 90 are invalid "
   ]
  },
  {
   "cell_type": "code",
   "execution_count": 25,
   "metadata": {},
   "outputs": [],
   "source": [
    "age_range = users[users['Age'] <= 90] \n",
    "age_range = age_range[age_range['Age'] >= 8]\n",
    "mean = age_range['Age'].mean().round() "
   ]
  },
  {
   "cell_type": "code",
   "execution_count": 26,
   "metadata": {},
   "outputs": [],
   "source": [
    "users.loc[(users['Age'] > 90) | (users['Age'] < 8),'Age'] = mean\n",
    "users['Age']=users['Age'].fillna(mean).astype(int)"
   ]
  },
  {
   "cell_type": "code",
   "execution_count": 27,
   "metadata": {},
   "outputs": [],
   "source": [
    "# Changing all characters to uppercase in ISBN\n",
    "ratings['ISBN'] = ratings['ISBN'].str.upper()"
   ]
  },
  {
   "cell_type": "code",
   "execution_count": 28,
   "metadata": {},
   "outputs": [],
   "source": [
    "users.drop_duplicates(subset='UserID', inplace=True)"
   ]
  },
  {
   "cell_type": "markdown",
   "metadata": {},
   "source": [
    "#### 1.3 'ratings' data frame"
   ]
  },
  {
   "cell_type": "code",
   "execution_count": 29,
   "metadata": {},
   "outputs": [
    {
     "data": {
      "text/html": [
       "<div>\n",
       "<style scoped>\n",
       "    .dataframe tbody tr th:only-of-type {\n",
       "        vertical-align: middle;\n",
       "    }\n",
       "\n",
       "    .dataframe tbody tr th {\n",
       "        vertical-align: top;\n",
       "    }\n",
       "\n",
       "    .dataframe thead th {\n",
       "        text-align: right;\n",
       "    }\n",
       "</style>\n",
       "<table border=\"1\" class=\"dataframe\">\n",
       "  <thead>\n",
       "    <tr style=\"text-align: right;\">\n",
       "      <th></th>\n",
       "      <th>User-ID</th>\n",
       "      <th>ISBN</th>\n",
       "      <th>Book-Rating</th>\n",
       "    </tr>\n",
       "  </thead>\n",
       "  <tbody>\n",
       "    <tr>\n",
       "      <th>0</th>\n",
       "      <td>276725</td>\n",
       "      <td>034545104X</td>\n",
       "      <td>0</td>\n",
       "    </tr>\n",
       "    <tr>\n",
       "      <th>1</th>\n",
       "      <td>276726</td>\n",
       "      <td>0155061224</td>\n",
       "      <td>5</td>\n",
       "    </tr>\n",
       "    <tr>\n",
       "      <th>2</th>\n",
       "      <td>276727</td>\n",
       "      <td>0446520802</td>\n",
       "      <td>0</td>\n",
       "    </tr>\n",
       "    <tr>\n",
       "      <th>3</th>\n",
       "      <td>276729</td>\n",
       "      <td>052165615X</td>\n",
       "      <td>3</td>\n",
       "    </tr>\n",
       "    <tr>\n",
       "      <th>4</th>\n",
       "      <td>276729</td>\n",
       "      <td>0521795028</td>\n",
       "      <td>6</td>\n",
       "    </tr>\n",
       "    <tr>\n",
       "      <th>...</th>\n",
       "      <td>...</td>\n",
       "      <td>...</td>\n",
       "      <td>...</td>\n",
       "    </tr>\n",
       "    <tr>\n",
       "      <th>1149775</th>\n",
       "      <td>276704</td>\n",
       "      <td>1563526298</td>\n",
       "      <td>9</td>\n",
       "    </tr>\n",
       "    <tr>\n",
       "      <th>1149776</th>\n",
       "      <td>276706</td>\n",
       "      <td>0679447156</td>\n",
       "      <td>0</td>\n",
       "    </tr>\n",
       "    <tr>\n",
       "      <th>1149777</th>\n",
       "      <td>276709</td>\n",
       "      <td>0515107662</td>\n",
       "      <td>10</td>\n",
       "    </tr>\n",
       "    <tr>\n",
       "      <th>1149778</th>\n",
       "      <td>276721</td>\n",
       "      <td>0590442449</td>\n",
       "      <td>10</td>\n",
       "    </tr>\n",
       "    <tr>\n",
       "      <th>1149779</th>\n",
       "      <td>276723</td>\n",
       "      <td>05162443314</td>\n",
       "      <td>8</td>\n",
       "    </tr>\n",
       "  </tbody>\n",
       "</table>\n",
       "<p>1149780 rows × 3 columns</p>\n",
       "</div>"
      ],
      "text/plain": [
       "         User-ID         ISBN  Book-Rating\n",
       "0         276725   034545104X            0\n",
       "1         276726   0155061224            5\n",
       "2         276727   0446520802            0\n",
       "3         276729   052165615X            3\n",
       "4         276729   0521795028            6\n",
       "...          ...          ...          ...\n",
       "1149775   276704   1563526298            9\n",
       "1149776   276706   0679447156            0\n",
       "1149777   276709   0515107662           10\n",
       "1149778   276721   0590442449           10\n",
       "1149779   276723  05162443314            8\n",
       "\n",
       "[1149780 rows x 3 columns]"
      ]
     },
     "execution_count": 29,
     "metadata": {},
     "output_type": "execute_result"
    }
   ],
   "source": [
    "ratings"
   ]
  },
  {
   "cell_type": "code",
   "execution_count": 30,
   "metadata": {},
   "outputs": [],
   "source": [
    "#Renaming the columns\n",
    "ratings.rename(columns={'User-ID': 'UserID', 'Book-Rating': 'User_Rating'}, inplace=True)"
   ]
  },
  {
   "cell_type": "code",
   "execution_count": 31,
   "metadata": {},
   "outputs": [],
   "source": [
    "avg_rating = ratings.groupby('ISBN')['User_Rating'].mean().reset_index()\n",
    "avg_rating.rename(columns={'User_Rating': 'Average_Rating'}, inplace=True)"
   ]
  },
  {
   "cell_type": "code",
   "execution_count": 32,
   "metadata": {},
   "outputs": [],
   "source": [
    "books_with_avg_ratings = pd.merge(books, avg_rating, on='ISBN', how='left')"
   ]
  },
  {
   "cell_type": "code",
   "execution_count": 33,
   "metadata": {},
   "outputs": [
    {
     "data": {
      "text/html": [
       "<div>\n",
       "<style scoped>\n",
       "    .dataframe tbody tr th:only-of-type {\n",
       "        vertical-align: middle;\n",
       "    }\n",
       "\n",
       "    .dataframe tbody tr th {\n",
       "        vertical-align: top;\n",
       "    }\n",
       "\n",
       "    .dataframe thead th {\n",
       "        text-align: right;\n",
       "    }\n",
       "</style>\n",
       "<table border=\"1\" class=\"dataframe\">\n",
       "  <thead>\n",
       "    <tr style=\"text-align: right;\">\n",
       "      <th></th>\n",
       "      <th>UserID</th>\n",
       "      <th>ISBN</th>\n",
       "      <th>User_Rating</th>\n",
       "      <th>Title</th>\n",
       "      <th>Author</th>\n",
       "      <th>Year</th>\n",
       "      <th>Publisher</th>\n",
       "      <th>Average_Rating</th>\n",
       "    </tr>\n",
       "  </thead>\n",
       "  <tbody>\n",
       "    <tr>\n",
       "      <th>0</th>\n",
       "      <td>276725</td>\n",
       "      <td>034545104X</td>\n",
       "      <td>0</td>\n",
       "      <td>Flesh Tones: A Novel</td>\n",
       "      <td>M. J. Rose</td>\n",
       "      <td>2002.0</td>\n",
       "      <td>Ballantine Books</td>\n",
       "      <td>2.933333</td>\n",
       "    </tr>\n",
       "    <tr>\n",
       "      <th>1</th>\n",
       "      <td>276726</td>\n",
       "      <td>0155061224</td>\n",
       "      <td>5</td>\n",
       "      <td>Rites of Passage</td>\n",
       "      <td>Judith Rae</td>\n",
       "      <td>2001.0</td>\n",
       "      <td>Heinle</td>\n",
       "      <td>2.500000</td>\n",
       "    </tr>\n",
       "    <tr>\n",
       "      <th>2</th>\n",
       "      <td>276727</td>\n",
       "      <td>0446520802</td>\n",
       "      <td>0</td>\n",
       "      <td>The Notebook</td>\n",
       "      <td>Nicholas Sparks</td>\n",
       "      <td>1996.0</td>\n",
       "      <td>Warner Books</td>\n",
       "      <td>4.060345</td>\n",
       "    </tr>\n",
       "    <tr>\n",
       "      <th>3</th>\n",
       "      <td>276729</td>\n",
       "      <td>052165615X</td>\n",
       "      <td>3</td>\n",
       "      <td>Help!: Level 1</td>\n",
       "      <td>Philip Prowse</td>\n",
       "      <td>1999.0</td>\n",
       "      <td>Cambridge University Press</td>\n",
       "      <td>3.000000</td>\n",
       "    </tr>\n",
       "    <tr>\n",
       "      <th>4</th>\n",
       "      <td>276729</td>\n",
       "      <td>0521795028</td>\n",
       "      <td>6</td>\n",
       "      <td>The Amsterdam Connection : Level 4 (Cambridge ...</td>\n",
       "      <td>Sue Leather</td>\n",
       "      <td>2001.0</td>\n",
       "      <td>Cambridge University Press</td>\n",
       "      <td>6.000000</td>\n",
       "    </tr>\n",
       "    <tr>\n",
       "      <th>...</th>\n",
       "      <td>...</td>\n",
       "      <td>...</td>\n",
       "      <td>...</td>\n",
       "      <td>...</td>\n",
       "      <td>...</td>\n",
       "      <td>...</td>\n",
       "      <td>...</td>\n",
       "      <td>...</td>\n",
       "    </tr>\n",
       "    <tr>\n",
       "      <th>1163598</th>\n",
       "      <td>276704</td>\n",
       "      <td>1563526298</td>\n",
       "      <td>9</td>\n",
       "      <td>Get Clark Smart : The Ultimate Guide for the S...</td>\n",
       "      <td>Clark Howard</td>\n",
       "      <td>2000.0</td>\n",
       "      <td>Longstreet Press</td>\n",
       "      <td>7.000000</td>\n",
       "    </tr>\n",
       "    <tr>\n",
       "      <th>1163599</th>\n",
       "      <td>276706</td>\n",
       "      <td>0679447156</td>\n",
       "      <td>0</td>\n",
       "      <td>Eight Weeks to Optimum Health: A Proven Progra...</td>\n",
       "      <td>Andrew Weil</td>\n",
       "      <td>1997.0</td>\n",
       "      <td>Alfred A. Knopf</td>\n",
       "      <td>2.925000</td>\n",
       "    </tr>\n",
       "    <tr>\n",
       "      <th>1163600</th>\n",
       "      <td>276709</td>\n",
       "      <td>0515107662</td>\n",
       "      <td>10</td>\n",
       "      <td>The Sherbrooke Bride (Bride Trilogy (Paperback))</td>\n",
       "      <td>Catherine Coulter</td>\n",
       "      <td>1996.0</td>\n",
       "      <td>Jove Books</td>\n",
       "      <td>3.454545</td>\n",
       "    </tr>\n",
       "    <tr>\n",
       "      <th>1163601</th>\n",
       "      <td>276721</td>\n",
       "      <td>0590442449</td>\n",
       "      <td>10</td>\n",
       "      <td>Fourth Grade Rats</td>\n",
       "      <td>Jerry Spinelli</td>\n",
       "      <td>1996.0</td>\n",
       "      <td>Scholastic</td>\n",
       "      <td>1.200000</td>\n",
       "    </tr>\n",
       "    <tr>\n",
       "      <th>1163602</th>\n",
       "      <td>276723</td>\n",
       "      <td>05162443314</td>\n",
       "      <td>8</td>\n",
       "      <td>NaN</td>\n",
       "      <td>NaN</td>\n",
       "      <td>NaN</td>\n",
       "      <td>NaN</td>\n",
       "      <td>NaN</td>\n",
       "    </tr>\n",
       "  </tbody>\n",
       "</table>\n",
       "<p>1163603 rows × 8 columns</p>\n",
       "</div>"
      ],
      "text/plain": [
       "         UserID         ISBN  User_Rating  \\\n",
       "0        276725   034545104X            0   \n",
       "1        276726   0155061224            5   \n",
       "2        276727   0446520802            0   \n",
       "3        276729   052165615X            3   \n",
       "4        276729   0521795028            6   \n",
       "...         ...          ...          ...   \n",
       "1163598  276704   1563526298            9   \n",
       "1163599  276706   0679447156            0   \n",
       "1163600  276709   0515107662           10   \n",
       "1163601  276721   0590442449           10   \n",
       "1163602  276723  05162443314            8   \n",
       "\n",
       "                                                     Title             Author  \\\n",
       "0                                     Flesh Tones: A Novel         M. J. Rose   \n",
       "1                                         Rites of Passage         Judith Rae   \n",
       "2                                             The Notebook    Nicholas Sparks   \n",
       "3                                           Help!: Level 1      Philip Prowse   \n",
       "4        The Amsterdam Connection : Level 4 (Cambridge ...        Sue Leather   \n",
       "...                                                    ...                ...   \n",
       "1163598  Get Clark Smart : The Ultimate Guide for the S...       Clark Howard   \n",
       "1163599  Eight Weeks to Optimum Health: A Proven Progra...        Andrew Weil   \n",
       "1163600   The Sherbrooke Bride (Bride Trilogy (Paperback))  Catherine Coulter   \n",
       "1163601                                  Fourth Grade Rats     Jerry Spinelli   \n",
       "1163602                                                NaN                NaN   \n",
       "\n",
       "           Year                   Publisher  Average_Rating  \n",
       "0        2002.0            Ballantine Books        2.933333  \n",
       "1        2001.0                      Heinle        2.500000  \n",
       "2        1996.0                Warner Books        4.060345  \n",
       "3        1999.0  Cambridge University Press        3.000000  \n",
       "4        2001.0  Cambridge University Press        6.000000  \n",
       "...         ...                         ...             ...  \n",
       "1163598  2000.0            Longstreet Press        7.000000  \n",
       "1163599  1997.0             Alfred A. Knopf        2.925000  \n",
       "1163600  1996.0                  Jove Books        3.454545  \n",
       "1163601  1996.0                  Scholastic        1.200000  \n",
       "1163602     NaN                         NaN             NaN  \n",
       "\n",
       "[1163603 rows x 8 columns]"
      ]
     },
     "execution_count": 33,
     "metadata": {},
     "output_type": "execute_result"
    }
   ],
   "source": [
    "bx = pd.merge(ratings, books_with_avg_ratings, on='ISBN', how='left')\n",
    "bx"
   ]
  },
  {
   "cell_type": "code",
   "execution_count": 34,
   "metadata": {},
   "outputs": [],
   "source": [
    "bx.dropna(subset=['Average_Rating'], inplace=True)"
   ]
  },
  {
   "cell_type": "code",
   "execution_count": 35,
   "metadata": {},
   "outputs": [],
   "source": [
    "# Scale user ratings\n",
    "u_scaled_ratings = (bx['User_Rating'] - 1) * (5 / 9) + 1\n",
    "bx['User_Rating'] = np.clip(np.round(u_scaled_ratings), 1, 5).astype(int)"
   ]
  },
  {
   "cell_type": "code",
   "execution_count": 36,
   "metadata": {},
   "outputs": [
    {
     "data": {
      "text/plain": [
       "array([1, 3, 2, 4, 5])"
      ]
     },
     "execution_count": 36,
     "metadata": {},
     "output_type": "execute_result"
    }
   ],
   "source": [
    "bx['User_Rating'].unique()"
   ]
  },
  {
   "cell_type": "code",
   "execution_count": 37,
   "metadata": {},
   "outputs": [
    {
     "data": {
      "text/plain": [
       "0"
      ]
     },
     "execution_count": 37,
     "metadata": {},
     "output_type": "execute_result"
    }
   ],
   "source": [
    "u_scaled_ratings.isnull().sum()"
   ]
  },
  {
   "cell_type": "code",
   "execution_count": 38,
   "metadata": {},
   "outputs": [
    {
     "data": {
      "text/plain": [
       "0"
      ]
     },
     "execution_count": 38,
     "metadata": {},
     "output_type": "execute_result"
    }
   ],
   "source": [
    "bx['Average_Rating'].isna().sum()"
   ]
  },
  {
   "cell_type": "code",
   "execution_count": 39,
   "metadata": {},
   "outputs": [
    {
     "data": {
      "text/plain": [
       "array([2.93333333, 2.5       , 4.06034483, ..., 2.85294118, 7.88888889,\n",
       "       9.125     ])"
      ]
     },
     "execution_count": 39,
     "metadata": {},
     "output_type": "execute_result"
    }
   ],
   "source": [
    "bx['Average_Rating'].unique()"
   ]
  },
  {
   "cell_type": "code",
   "execution_count": 40,
   "metadata": {},
   "outputs": [],
   "source": [
    "bx['Average_Rating'] = ((bx['Average_Rating'] - 1) * (4 / 9) + 1).round().astype(int)"
   ]
  },
  {
   "cell_type": "code",
   "execution_count": 41,
   "metadata": {},
   "outputs": [
    {
     "data": {
      "text/plain": [
       "array([2, 3, 1, 4, 5])"
      ]
     },
     "execution_count": 41,
     "metadata": {},
     "output_type": "execute_result"
    }
   ],
   "source": [
    "bx['Average_Rating'].unique()"
   ]
  },
  {
   "cell_type": "code",
   "execution_count": 42,
   "metadata": {},
   "outputs": [
    {
     "data": {
      "text/html": [
       "<div>\n",
       "<style scoped>\n",
       "    .dataframe tbody tr th:only-of-type {\n",
       "        vertical-align: middle;\n",
       "    }\n",
       "\n",
       "    .dataframe tbody tr th {\n",
       "        vertical-align: top;\n",
       "    }\n",
       "\n",
       "    .dataframe thead th {\n",
       "        text-align: right;\n",
       "    }\n",
       "</style>\n",
       "<table border=\"1\" class=\"dataframe\">\n",
       "  <thead>\n",
       "    <tr style=\"text-align: right;\">\n",
       "      <th></th>\n",
       "      <th>UserID</th>\n",
       "      <th>ISBN</th>\n",
       "      <th>User_Rating</th>\n",
       "      <th>Title</th>\n",
       "      <th>Author</th>\n",
       "      <th>Year</th>\n",
       "      <th>Publisher</th>\n",
       "      <th>Average_Rating</th>\n",
       "    </tr>\n",
       "  </thead>\n",
       "  <tbody>\n",
       "    <tr>\n",
       "      <th>0</th>\n",
       "      <td>276725</td>\n",
       "      <td>034545104X</td>\n",
       "      <td>1</td>\n",
       "      <td>Flesh Tones: A Novel</td>\n",
       "      <td>M. J. Rose</td>\n",
       "      <td>2002</td>\n",
       "      <td>Ballantine Books</td>\n",
       "      <td>2</td>\n",
       "    </tr>\n",
       "    <tr>\n",
       "      <th>1</th>\n",
       "      <td>276726</td>\n",
       "      <td>0155061224</td>\n",
       "      <td>3</td>\n",
       "      <td>Rites of Passage</td>\n",
       "      <td>Judith Rae</td>\n",
       "      <td>2001</td>\n",
       "      <td>Heinle</td>\n",
       "      <td>2</td>\n",
       "    </tr>\n",
       "    <tr>\n",
       "      <th>2</th>\n",
       "      <td>276727</td>\n",
       "      <td>0446520802</td>\n",
       "      <td>1</td>\n",
       "      <td>The Notebook</td>\n",
       "      <td>Nicholas Sparks</td>\n",
       "      <td>1996</td>\n",
       "      <td>Warner Books</td>\n",
       "      <td>2</td>\n",
       "    </tr>\n",
       "    <tr>\n",
       "      <th>3</th>\n",
       "      <td>276729</td>\n",
       "      <td>052165615X</td>\n",
       "      <td>2</td>\n",
       "      <td>Help!: Level 1</td>\n",
       "      <td>Philip Prowse</td>\n",
       "      <td>1999</td>\n",
       "      <td>Cambridge University Press</td>\n",
       "      <td>2</td>\n",
       "    </tr>\n",
       "    <tr>\n",
       "      <th>4</th>\n",
       "      <td>276729</td>\n",
       "      <td>0521795028</td>\n",
       "      <td>4</td>\n",
       "      <td>The Amsterdam Connection : Level 4 (Cambridge ...</td>\n",
       "      <td>Sue Leather</td>\n",
       "      <td>2001</td>\n",
       "      <td>Cambridge University Press</td>\n",
       "      <td>3</td>\n",
       "    </tr>\n",
       "    <tr>\n",
       "      <th>...</th>\n",
       "      <td>...</td>\n",
       "      <td>...</td>\n",
       "      <td>...</td>\n",
       "      <td>...</td>\n",
       "      <td>...</td>\n",
       "      <td>...</td>\n",
       "      <td>...</td>\n",
       "      <td>...</td>\n",
       "    </tr>\n",
       "    <tr>\n",
       "      <th>1163597</th>\n",
       "      <td>276704</td>\n",
       "      <td>0876044011</td>\n",
       "      <td>1</td>\n",
       "      <td>Edgar Cayce on the Akashic Records: The Book o...</td>\n",
       "      <td>Kevin J. Todeschi</td>\n",
       "      <td>1998</td>\n",
       "      <td>A.R.E. Press (Association of Research &amp;amp; Enlig</td>\n",
       "      <td>1</td>\n",
       "    </tr>\n",
       "    <tr>\n",
       "      <th>1163598</th>\n",
       "      <td>276704</td>\n",
       "      <td>1563526298</td>\n",
       "      <td>5</td>\n",
       "      <td>Get Clark Smart : The Ultimate Guide for the S...</td>\n",
       "      <td>Clark Howard</td>\n",
       "      <td>2000</td>\n",
       "      <td>Longstreet Press</td>\n",
       "      <td>4</td>\n",
       "    </tr>\n",
       "    <tr>\n",
       "      <th>1163599</th>\n",
       "      <td>276706</td>\n",
       "      <td>0679447156</td>\n",
       "      <td>1</td>\n",
       "      <td>Eight Weeks to Optimum Health: A Proven Progra...</td>\n",
       "      <td>Andrew Weil</td>\n",
       "      <td>1997</td>\n",
       "      <td>Alfred A. Knopf</td>\n",
       "      <td>2</td>\n",
       "    </tr>\n",
       "    <tr>\n",
       "      <th>1163600</th>\n",
       "      <td>276709</td>\n",
       "      <td>0515107662</td>\n",
       "      <td>5</td>\n",
       "      <td>The Sherbrooke Bride (Bride Trilogy (Paperback))</td>\n",
       "      <td>Catherine Coulter</td>\n",
       "      <td>1996</td>\n",
       "      <td>Jove Books</td>\n",
       "      <td>2</td>\n",
       "    </tr>\n",
       "    <tr>\n",
       "      <th>1163601</th>\n",
       "      <td>276721</td>\n",
       "      <td>0590442449</td>\n",
       "      <td>5</td>\n",
       "      <td>Fourth Grade Rats</td>\n",
       "      <td>Jerry Spinelli</td>\n",
       "      <td>1996</td>\n",
       "      <td>Scholastic</td>\n",
       "      <td>1</td>\n",
       "    </tr>\n",
       "  </tbody>\n",
       "</table>\n",
       "<p>1044959 rows × 8 columns</p>\n",
       "</div>"
      ],
      "text/plain": [
       "         UserID        ISBN  User_Rating  \\\n",
       "0        276725  034545104X            1   \n",
       "1        276726  0155061224            3   \n",
       "2        276727  0446520802            1   \n",
       "3        276729  052165615X            2   \n",
       "4        276729  0521795028            4   \n",
       "...         ...         ...          ...   \n",
       "1163597  276704  0876044011            1   \n",
       "1163598  276704  1563526298            5   \n",
       "1163599  276706  0679447156            1   \n",
       "1163600  276709  0515107662            5   \n",
       "1163601  276721  0590442449            5   \n",
       "\n",
       "                                                     Title             Author  \\\n",
       "0                                     Flesh Tones: A Novel         M. J. Rose   \n",
       "1                                         Rites of Passage         Judith Rae   \n",
       "2                                             The Notebook    Nicholas Sparks   \n",
       "3                                           Help!: Level 1      Philip Prowse   \n",
       "4        The Amsterdam Connection : Level 4 (Cambridge ...        Sue Leather   \n",
       "...                                                    ...                ...   \n",
       "1163597  Edgar Cayce on the Akashic Records: The Book o...  Kevin J. Todeschi   \n",
       "1163598  Get Clark Smart : The Ultimate Guide for the S...       Clark Howard   \n",
       "1163599  Eight Weeks to Optimum Health: A Proven Progra...        Andrew Weil   \n",
       "1163600   The Sherbrooke Bride (Bride Trilogy (Paperback))  Catherine Coulter   \n",
       "1163601                                  Fourth Grade Rats     Jerry Spinelli   \n",
       "\n",
       "         Year                                          Publisher  \\\n",
       "0        2002                                   Ballantine Books   \n",
       "1        2001                                             Heinle   \n",
       "2        1996                                       Warner Books   \n",
       "3        1999                         Cambridge University Press   \n",
       "4        2001                         Cambridge University Press   \n",
       "...       ...                                                ...   \n",
       "1163597  1998  A.R.E. Press (Association of Research &amp; Enlig   \n",
       "1163598  2000                                   Longstreet Press   \n",
       "1163599  1997                                    Alfred A. Knopf   \n",
       "1163600  1996                                         Jove Books   \n",
       "1163601  1996                                         Scholastic   \n",
       "\n",
       "         Average_Rating  \n",
       "0                     2  \n",
       "1                     2  \n",
       "2                     2  \n",
       "3                     2  \n",
       "4                     3  \n",
       "...                 ...  \n",
       "1163597               1  \n",
       "1163598               4  \n",
       "1163599               2  \n",
       "1163600               2  \n",
       "1163601               1  \n",
       "\n",
       "[1044959 rows x 8 columns]"
      ]
     },
     "execution_count": 42,
     "metadata": {},
     "output_type": "execute_result"
    }
   ],
   "source": [
    "bx['Year'] = bx['Year'].astype(int)\n",
    "bx"
   ]
  },
  {
   "cell_type": "code",
   "execution_count": 43,
   "metadata": {},
   "outputs": [
    {
     "data": {
      "text/plain": [
       "UserID            0\n",
       "ISBN              0\n",
       "User_Rating       0\n",
       "Title             0\n",
       "Author            0\n",
       "Year              0\n",
       "Publisher         0\n",
       "Average_Rating    0\n",
       "dtype: int64"
      ]
     },
     "execution_count": 43,
     "metadata": {},
     "output_type": "execute_result"
    }
   ],
   "source": [
    "bx.isnull().sum()"
   ]
  },
  {
   "cell_type": "markdown",
   "metadata": {},
   "source": [
    "### 2. Goodbooks-10k dataset"
   ]
  },
  {
   "cell_type": "code",
   "execution_count": 44,
   "metadata": {},
   "outputs": [],
   "source": [
    "goodbooks = pd.read_csv('/Users/sanjeevani1109/Desktop/Book_Recommendation_System/goodreads-10k/books.csv', sep=',',on_bad_lines = 'skip', encoding='latin-1')\n",
    "goodratings = pd.read_csv('/Users/sanjeevani1109/Desktop/Book_Recommendation_System/goodreads-10k/ratings.csv', sep=',',on_bad_lines = 'skip', encoding='latin-1')\n",
    "goodbooks_tags = pd.read_csv('/Users/sanjeevani1109/Desktop/Book_Recommendation_System/goodreads-10k/book_tags.csv',sep=',',on_bad_lines = 'skip', encoding='latin-1')\n",
    "goodtags = pd.read_csv('/Users/sanjeevani1109/Desktop/Book_Recommendation_System/goodreads-10k/tags.csv',sep=',',on_bad_lines = 'skip', encoding='latin-1')\n",
    "good_toread = pd.read_csv('/Users/sanjeevani1109/Desktop/Book_Recommendation_System/goodreads-10k/to_read.csv',sep=',',on_bad_lines = 'skip', encoding='latin-1')"
   ]
  },
  {
   "cell_type": "markdown",
   "metadata": {},
   "source": [
    "#### 2.1 'books' data frame"
   ]
  },
  {
   "cell_type": "code",
   "execution_count": 45,
   "metadata": {},
   "outputs": [
    {
     "data": {
      "text/html": [
       "<div>\n",
       "<style scoped>\n",
       "    .dataframe tbody tr th:only-of-type {\n",
       "        vertical-align: middle;\n",
       "    }\n",
       "\n",
       "    .dataframe tbody tr th {\n",
       "        vertical-align: top;\n",
       "    }\n",
       "\n",
       "    .dataframe thead th {\n",
       "        text-align: right;\n",
       "    }\n",
       "</style>\n",
       "<table border=\"1\" class=\"dataframe\">\n",
       "  <thead>\n",
       "    <tr style=\"text-align: right;\">\n",
       "      <th></th>\n",
       "      <th>id</th>\n",
       "      <th>book_id</th>\n",
       "      <th>best_book_id</th>\n",
       "      <th>work_id</th>\n",
       "      <th>books_count</th>\n",
       "      <th>isbn</th>\n",
       "      <th>isbn13</th>\n",
       "      <th>authors</th>\n",
       "      <th>original_publication_year</th>\n",
       "      <th>original_title</th>\n",
       "      <th>...</th>\n",
       "      <th>ratings_count</th>\n",
       "      <th>work_ratings_count</th>\n",
       "      <th>work_text_reviews_count</th>\n",
       "      <th>ratings_1</th>\n",
       "      <th>ratings_2</th>\n",
       "      <th>ratings_3</th>\n",
       "      <th>ratings_4</th>\n",
       "      <th>ratings_5</th>\n",
       "      <th>image_url</th>\n",
       "      <th>small_image_url</th>\n",
       "    </tr>\n",
       "  </thead>\n",
       "  <tbody>\n",
       "    <tr>\n",
       "      <th>0</th>\n",
       "      <td>1</td>\n",
       "      <td>2767052</td>\n",
       "      <td>2767052</td>\n",
       "      <td>2792775</td>\n",
       "      <td>272</td>\n",
       "      <td>439023483</td>\n",
       "      <td>9.780439e+12</td>\n",
       "      <td>Suzanne Collins</td>\n",
       "      <td>2008.0</td>\n",
       "      <td>The Hunger Games</td>\n",
       "      <td>...</td>\n",
       "      <td>4780653</td>\n",
       "      <td>4942365</td>\n",
       "      <td>155254</td>\n",
       "      <td>66715</td>\n",
       "      <td>127936</td>\n",
       "      <td>560092</td>\n",
       "      <td>1481305</td>\n",
       "      <td>2706317</td>\n",
       "      <td>https://images.gr-assets.com/books/1447303603m...</td>\n",
       "      <td>https://images.gr-assets.com/books/1447303603s...</td>\n",
       "    </tr>\n",
       "    <tr>\n",
       "      <th>1</th>\n",
       "      <td>2</td>\n",
       "      <td>3</td>\n",
       "      <td>3</td>\n",
       "      <td>4640799</td>\n",
       "      <td>491</td>\n",
       "      <td>439554934</td>\n",
       "      <td>9.780440e+12</td>\n",
       "      <td>J.K. Rowling, Mary GrandPrÃ©</td>\n",
       "      <td>1997.0</td>\n",
       "      <td>Harry Potter and the Philosopher's Stone</td>\n",
       "      <td>...</td>\n",
       "      <td>4602479</td>\n",
       "      <td>4800065</td>\n",
       "      <td>75867</td>\n",
       "      <td>75504</td>\n",
       "      <td>101676</td>\n",
       "      <td>455024</td>\n",
       "      <td>1156318</td>\n",
       "      <td>3011543</td>\n",
       "      <td>https://images.gr-assets.com/books/1474154022m...</td>\n",
       "      <td>https://images.gr-assets.com/books/1474154022s...</td>\n",
       "    </tr>\n",
       "    <tr>\n",
       "      <th>2</th>\n",
       "      <td>3</td>\n",
       "      <td>41865</td>\n",
       "      <td>41865</td>\n",
       "      <td>3212258</td>\n",
       "      <td>226</td>\n",
       "      <td>316015849</td>\n",
       "      <td>9.780316e+12</td>\n",
       "      <td>Stephenie Meyer</td>\n",
       "      <td>2005.0</td>\n",
       "      <td>Twilight</td>\n",
       "      <td>...</td>\n",
       "      <td>3866839</td>\n",
       "      <td>3916824</td>\n",
       "      <td>95009</td>\n",
       "      <td>456191</td>\n",
       "      <td>436802</td>\n",
       "      <td>793319</td>\n",
       "      <td>875073</td>\n",
       "      <td>1355439</td>\n",
       "      <td>https://images.gr-assets.com/books/1361039443m...</td>\n",
       "      <td>https://images.gr-assets.com/books/1361039443s...</td>\n",
       "    </tr>\n",
       "    <tr>\n",
       "      <th>3</th>\n",
       "      <td>4</td>\n",
       "      <td>2657</td>\n",
       "      <td>2657</td>\n",
       "      <td>3275794</td>\n",
       "      <td>487</td>\n",
       "      <td>61120081</td>\n",
       "      <td>9.780061e+12</td>\n",
       "      <td>Harper Lee</td>\n",
       "      <td>1960.0</td>\n",
       "      <td>To Kill a Mockingbird</td>\n",
       "      <td>...</td>\n",
       "      <td>3198671</td>\n",
       "      <td>3340896</td>\n",
       "      <td>72586</td>\n",
       "      <td>60427</td>\n",
       "      <td>117415</td>\n",
       "      <td>446835</td>\n",
       "      <td>1001952</td>\n",
       "      <td>1714267</td>\n",
       "      <td>https://images.gr-assets.com/books/1361975680m...</td>\n",
       "      <td>https://images.gr-assets.com/books/1361975680s...</td>\n",
       "    </tr>\n",
       "    <tr>\n",
       "      <th>4</th>\n",
       "      <td>5</td>\n",
       "      <td>4671</td>\n",
       "      <td>4671</td>\n",
       "      <td>245494</td>\n",
       "      <td>1356</td>\n",
       "      <td>743273567</td>\n",
       "      <td>9.780743e+12</td>\n",
       "      <td>F. Scott Fitzgerald</td>\n",
       "      <td>1925.0</td>\n",
       "      <td>The Great Gatsby</td>\n",
       "      <td>...</td>\n",
       "      <td>2683664</td>\n",
       "      <td>2773745</td>\n",
       "      <td>51992</td>\n",
       "      <td>86236</td>\n",
       "      <td>197621</td>\n",
       "      <td>606158</td>\n",
       "      <td>936012</td>\n",
       "      <td>947718</td>\n",
       "      <td>https://images.gr-assets.com/books/1490528560m...</td>\n",
       "      <td>https://images.gr-assets.com/books/1490528560s...</td>\n",
       "    </tr>\n",
       "    <tr>\n",
       "      <th>...</th>\n",
       "      <td>...</td>\n",
       "      <td>...</td>\n",
       "      <td>...</td>\n",
       "      <td>...</td>\n",
       "      <td>...</td>\n",
       "      <td>...</td>\n",
       "      <td>...</td>\n",
       "      <td>...</td>\n",
       "      <td>...</td>\n",
       "      <td>...</td>\n",
       "      <td>...</td>\n",
       "      <td>...</td>\n",
       "      <td>...</td>\n",
       "      <td>...</td>\n",
       "      <td>...</td>\n",
       "      <td>...</td>\n",
       "      <td>...</td>\n",
       "      <td>...</td>\n",
       "      <td>...</td>\n",
       "      <td>...</td>\n",
       "      <td>...</td>\n",
       "    </tr>\n",
       "    <tr>\n",
       "      <th>9995</th>\n",
       "      <td>9996</td>\n",
       "      <td>7130616</td>\n",
       "      <td>7130616</td>\n",
       "      <td>7392860</td>\n",
       "      <td>19</td>\n",
       "      <td>441019455</td>\n",
       "      <td>9.780441e+12</td>\n",
       "      <td>Ilona Andrews</td>\n",
       "      <td>2010.0</td>\n",
       "      <td>Bayou Moon</td>\n",
       "      <td>...</td>\n",
       "      <td>17204</td>\n",
       "      <td>18856</td>\n",
       "      <td>1180</td>\n",
       "      <td>105</td>\n",
       "      <td>575</td>\n",
       "      <td>3538</td>\n",
       "      <td>7860</td>\n",
       "      <td>6778</td>\n",
       "      <td>https://images.gr-assets.com/books/1307445460m...</td>\n",
       "      <td>https://images.gr-assets.com/books/1307445460s...</td>\n",
       "    </tr>\n",
       "    <tr>\n",
       "      <th>9996</th>\n",
       "      <td>9997</td>\n",
       "      <td>208324</td>\n",
       "      <td>208324</td>\n",
       "      <td>1084709</td>\n",
       "      <td>19</td>\n",
       "      <td>067973371X</td>\n",
       "      <td>9.780680e+12</td>\n",
       "      <td>Robert A. Caro</td>\n",
       "      <td>1990.0</td>\n",
       "      <td>Means of Ascent</td>\n",
       "      <td>...</td>\n",
       "      <td>12582</td>\n",
       "      <td>12952</td>\n",
       "      <td>395</td>\n",
       "      <td>303</td>\n",
       "      <td>551</td>\n",
       "      <td>1737</td>\n",
       "      <td>3389</td>\n",
       "      <td>6972</td>\n",
       "      <td>https://s.gr-assets.com/assets/nophoto/book/11...</td>\n",
       "      <td>https://s.gr-assets.com/assets/nophoto/book/50...</td>\n",
       "    </tr>\n",
       "    <tr>\n",
       "      <th>9997</th>\n",
       "      <td>9998</td>\n",
       "      <td>77431</td>\n",
       "      <td>77431</td>\n",
       "      <td>2393986</td>\n",
       "      <td>60</td>\n",
       "      <td>039330762X</td>\n",
       "      <td>9.780393e+12</td>\n",
       "      <td>Patrick O'Brian</td>\n",
       "      <td>1977.0</td>\n",
       "      <td>The Mauritius Command</td>\n",
       "      <td>...</td>\n",
       "      <td>9421</td>\n",
       "      <td>10733</td>\n",
       "      <td>374</td>\n",
       "      <td>11</td>\n",
       "      <td>111</td>\n",
       "      <td>1191</td>\n",
       "      <td>4240</td>\n",
       "      <td>5180</td>\n",
       "      <td>https://images.gr-assets.com/books/1455373531m...</td>\n",
       "      <td>https://images.gr-assets.com/books/1455373531s...</td>\n",
       "    </tr>\n",
       "    <tr>\n",
       "      <th>9998</th>\n",
       "      <td>9999</td>\n",
       "      <td>8565083</td>\n",
       "      <td>8565083</td>\n",
       "      <td>13433613</td>\n",
       "      <td>7</td>\n",
       "      <td>61711527</td>\n",
       "      <td>9.780062e+12</td>\n",
       "      <td>Peggy Orenstein</td>\n",
       "      <td>2011.0</td>\n",
       "      <td>Cinderella Ate My Daughter: Dispatches from th...</td>\n",
       "      <td>...</td>\n",
       "      <td>11279</td>\n",
       "      <td>11994</td>\n",
       "      <td>1988</td>\n",
       "      <td>275</td>\n",
       "      <td>1002</td>\n",
       "      <td>3765</td>\n",
       "      <td>4577</td>\n",
       "      <td>2375</td>\n",
       "      <td>https://images.gr-assets.com/books/1279214118m...</td>\n",
       "      <td>https://images.gr-assets.com/books/1279214118s...</td>\n",
       "    </tr>\n",
       "    <tr>\n",
       "      <th>9999</th>\n",
       "      <td>10000</td>\n",
       "      <td>8914</td>\n",
       "      <td>8914</td>\n",
       "      <td>11817</td>\n",
       "      <td>31</td>\n",
       "      <td>375700455</td>\n",
       "      <td>9.780376e+12</td>\n",
       "      <td>John Keegan</td>\n",
       "      <td>1998.0</td>\n",
       "      <td>The First World War</td>\n",
       "      <td>...</td>\n",
       "      <td>9162</td>\n",
       "      <td>9700</td>\n",
       "      <td>364</td>\n",
       "      <td>117</td>\n",
       "      <td>345</td>\n",
       "      <td>2031</td>\n",
       "      <td>4138</td>\n",
       "      <td>3069</td>\n",
       "      <td>https://images.gr-assets.com/books/1403194704m...</td>\n",
       "      <td>https://images.gr-assets.com/books/1403194704s...</td>\n",
       "    </tr>\n",
       "  </tbody>\n",
       "</table>\n",
       "<p>10000 rows × 23 columns</p>\n",
       "</div>"
      ],
      "text/plain": [
       "         id  book_id  best_book_id   work_id  books_count        isbn  \\\n",
       "0         1  2767052       2767052   2792775          272   439023483   \n",
       "1         2        3             3   4640799          491   439554934   \n",
       "2         3    41865         41865   3212258          226   316015849   \n",
       "3         4     2657          2657   3275794          487    61120081   \n",
       "4         5     4671          4671    245494         1356   743273567   \n",
       "...     ...      ...           ...       ...          ...         ...   \n",
       "9995   9996  7130616       7130616   7392860           19   441019455   \n",
       "9996   9997   208324        208324   1084709           19  067973371X   \n",
       "9997   9998    77431         77431   2393986           60  039330762X   \n",
       "9998   9999  8565083       8565083  13433613            7    61711527   \n",
       "9999  10000     8914          8914     11817           31   375700455   \n",
       "\n",
       "            isbn13                       authors  original_publication_year  \\\n",
       "0     9.780439e+12               Suzanne Collins                     2008.0   \n",
       "1     9.780440e+12  J.K. Rowling, Mary GrandPrÃ©                     1997.0   \n",
       "2     9.780316e+12               Stephenie Meyer                     2005.0   \n",
       "3     9.780061e+12                    Harper Lee                     1960.0   \n",
       "4     9.780743e+12           F. Scott Fitzgerald                     1925.0   \n",
       "...            ...                           ...                        ...   \n",
       "9995  9.780441e+12                 Ilona Andrews                     2010.0   \n",
       "9996  9.780680e+12                Robert A. Caro                     1990.0   \n",
       "9997  9.780393e+12               Patrick O'Brian                     1977.0   \n",
       "9998  9.780062e+12               Peggy Orenstein                     2011.0   \n",
       "9999  9.780376e+12                   John Keegan                     1998.0   \n",
       "\n",
       "                                         original_title  ... ratings_count  \\\n",
       "0                                      The Hunger Games  ...       4780653   \n",
       "1              Harry Potter and the Philosopher's Stone  ...       4602479   \n",
       "2                                              Twilight  ...       3866839   \n",
       "3                                 To Kill a Mockingbird  ...       3198671   \n",
       "4                                      The Great Gatsby  ...       2683664   \n",
       "...                                                 ...  ...           ...   \n",
       "9995                                         Bayou Moon  ...         17204   \n",
       "9996                                   Means of Ascent   ...         12582   \n",
       "9997                              The Mauritius Command  ...          9421   \n",
       "9998  Cinderella Ate My Daughter: Dispatches from th...  ...         11279   \n",
       "9999                                The First World War  ...          9162   \n",
       "\n",
       "     work_ratings_count  work_text_reviews_count  ratings_1  ratings_2  \\\n",
       "0               4942365                   155254      66715     127936   \n",
       "1               4800065                    75867      75504     101676   \n",
       "2               3916824                    95009     456191     436802   \n",
       "3               3340896                    72586      60427     117415   \n",
       "4               2773745                    51992      86236     197621   \n",
       "...                 ...                      ...        ...        ...   \n",
       "9995              18856                     1180        105        575   \n",
       "9996              12952                      395        303        551   \n",
       "9997              10733                      374         11        111   \n",
       "9998              11994                     1988        275       1002   \n",
       "9999               9700                      364        117        345   \n",
       "\n",
       "      ratings_3  ratings_4  ratings_5  \\\n",
       "0        560092    1481305    2706317   \n",
       "1        455024    1156318    3011543   \n",
       "2        793319     875073    1355439   \n",
       "3        446835    1001952    1714267   \n",
       "4        606158     936012     947718   \n",
       "...         ...        ...        ...   \n",
       "9995       3538       7860       6778   \n",
       "9996       1737       3389       6972   \n",
       "9997       1191       4240       5180   \n",
       "9998       3765       4577       2375   \n",
       "9999       2031       4138       3069   \n",
       "\n",
       "                                              image_url  \\\n",
       "0     https://images.gr-assets.com/books/1447303603m...   \n",
       "1     https://images.gr-assets.com/books/1474154022m...   \n",
       "2     https://images.gr-assets.com/books/1361039443m...   \n",
       "3     https://images.gr-assets.com/books/1361975680m...   \n",
       "4     https://images.gr-assets.com/books/1490528560m...   \n",
       "...                                                 ...   \n",
       "9995  https://images.gr-assets.com/books/1307445460m...   \n",
       "9996  https://s.gr-assets.com/assets/nophoto/book/11...   \n",
       "9997  https://images.gr-assets.com/books/1455373531m...   \n",
       "9998  https://images.gr-assets.com/books/1279214118m...   \n",
       "9999  https://images.gr-assets.com/books/1403194704m...   \n",
       "\n",
       "                                        small_image_url  \n",
       "0     https://images.gr-assets.com/books/1447303603s...  \n",
       "1     https://images.gr-assets.com/books/1474154022s...  \n",
       "2     https://images.gr-assets.com/books/1361039443s...  \n",
       "3     https://images.gr-assets.com/books/1361975680s...  \n",
       "4     https://images.gr-assets.com/books/1490528560s...  \n",
       "...                                                 ...  \n",
       "9995  https://images.gr-assets.com/books/1307445460s...  \n",
       "9996  https://s.gr-assets.com/assets/nophoto/book/50...  \n",
       "9997  https://images.gr-assets.com/books/1455373531s...  \n",
       "9998  https://images.gr-assets.com/books/1279214118s...  \n",
       "9999  https://images.gr-assets.com/books/1403194704s...  \n",
       "\n",
       "[10000 rows x 23 columns]"
      ]
     },
     "execution_count": 45,
     "metadata": {},
     "output_type": "execute_result"
    }
   ],
   "source": [
    "goodbooks"
   ]
  },
  {
   "cell_type": "code",
   "execution_count": 46,
   "metadata": {},
   "outputs": [],
   "source": [
    "#Dropping the URL columns for the Books table\n",
    "goodbooks.drop(['image_url', 'small_image_url'], axis=1, inplace=True)"
   ]
  },
  {
   "cell_type": "code",
   "execution_count": 47,
   "metadata": {},
   "outputs": [],
   "source": [
    "#Renaming the columns\n",
    "goodbooks.rename(columns={'book_id': 'BookID', 'isbn': 'ISBN', 'authors': 'Author', 'original_publication_year': 'Year', 'original_title': 'Title', 'average_rating': 'Average_Rating'}, inplace=True)"
   ]
  },
  {
   "cell_type": "code",
   "execution_count": 48,
   "metadata": {},
   "outputs": [
    {
     "data": {
      "text/plain": [
       "21"
      ]
     },
     "execution_count": 48,
     "metadata": {},
     "output_type": "execute_result"
    }
   ],
   "source": [
    "goodbooks['Year'].isnull().sum()"
   ]
  },
  {
   "cell_type": "code",
   "execution_count": 49,
   "metadata": {},
   "outputs": [],
   "source": [
    "# goodbooks.dropna(subset=['Year'], inplace=True)"
   ]
  },
  {
   "cell_type": "code",
   "execution_count": 50,
   "metadata": {},
   "outputs": [
    {
     "data": {
      "text/plain": [
       "1994.0"
      ]
     },
     "execution_count": 50,
     "metadata": {},
     "output_type": "execute_result"
    }
   ],
   "source": [
    "average_year = goodbooks.loc[goodbooks['Year'] >= 1800, 'Year'].mean().round()\n",
    "average_year"
   ]
  },
  {
   "cell_type": "code",
   "execution_count": 51,
   "metadata": {},
   "outputs": [],
   "source": [
    "goodbooks.loc[goodbooks['Year'] == 0, 'Year'] = average_year\n",
    "goodbooks.loc[:, 'Year'] = goodbooks['Year'].fillna(average_year)\n",
    "goodbooks.loc[goodbooks['Year'] < 1800, 'Year'] = average_year"
   ]
  },
  {
   "cell_type": "code",
   "execution_count": 52,
   "metadata": {},
   "outputs": [
    {
     "data": {
      "text/plain": [
       "0"
      ]
     },
     "execution_count": 52,
     "metadata": {},
     "output_type": "execute_result"
    }
   ],
   "source": [
    "goodbooks['Year'].isnull().sum()"
   ]
  },
  {
   "cell_type": "code",
   "execution_count": 53,
   "metadata": {},
   "outputs": [],
   "source": [
    "goodbooks['Year'] = goodbooks['Year'].astype(int)"
   ]
  },
  {
   "cell_type": "code",
   "execution_count": 54,
   "metadata": {},
   "outputs": [
    {
     "data": {
      "text/plain": [
       "id                            0\n",
       "BookID                        0\n",
       "best_book_id                  0\n",
       "work_id                       0\n",
       "books_count                   0\n",
       "ISBN                        700\n",
       "isbn13                      585\n",
       "Author                        0\n",
       "Year                          0\n",
       "Title                       585\n",
       "title                         0\n",
       "language_code              1084\n",
       "Average_Rating                0\n",
       "ratings_count                 0\n",
       "work_ratings_count            0\n",
       "work_text_reviews_count       0\n",
       "ratings_1                     0\n",
       "ratings_2                     0\n",
       "ratings_3                     0\n",
       "ratings_4                     0\n",
       "ratings_5                     0\n",
       "dtype: int64"
      ]
     },
     "execution_count": 54,
     "metadata": {},
     "output_type": "execute_result"
    }
   ],
   "source": [
    "goodbooks.isnull().sum()"
   ]
  },
  {
   "cell_type": "code",
   "execution_count": 55,
   "metadata": {},
   "outputs": [
    {
     "data": {
      "text/plain": [
       "9274"
      ]
     },
     "execution_count": 55,
     "metadata": {},
     "output_type": "execute_result"
    }
   ],
   "source": [
    "goodbooks['Title'].nunique()"
   ]
  },
  {
   "cell_type": "code",
   "execution_count": 56,
   "metadata": {},
   "outputs": [],
   "source": [
    "# #creating a new data frame only with the relevant columns\n",
    "# selected_cols = ['id', 'BookID', 'ISBN', 'Author', 'Year', 'Title', 'Average_Rating']\n",
    "# new_goodbooks = goodbooks[selected_cols].copy()"
   ]
  },
  {
   "cell_type": "code",
   "execution_count": 57,
   "metadata": {},
   "outputs": [],
   "source": [
    "# new_goodbooks['Title'].nunique()"
   ]
  },
  {
   "cell_type": "code",
   "execution_count": 58,
   "metadata": {},
   "outputs": [],
   "source": [
    "# goodbooks.dropna(subset=['Title'], inplace=True)"
   ]
  },
  {
   "cell_type": "markdown",
   "metadata": {},
   "source": [
    "##### Retrieving missing ISBN values from book-crossing dataset"
   ]
  },
  {
   "cell_type": "code",
   "execution_count": 59,
   "metadata": {},
   "outputs": [],
   "source": [
    "# Create a mapping dictionary from 'books' DataFrame with 'title' and 'author' as keys and 'ISBN' as values\n",
    "isbn_mapping = dict(zip(zip(books['Title'], books['Author']), books['ISBN']))"
   ]
  },
  {
   "cell_type": "code",
   "execution_count": 60,
   "metadata": {},
   "outputs": [],
   "source": [
    "# Update missing ISBN values in 'goodbooks' based on the mapping dictionary\n",
    "goodbooks['ISBN'] = goodbooks.apply(lambda row: isbn_mapping.get((row['Title'], row['Author']), row['ISBN']), axis=1)"
   ]
  },
  {
   "cell_type": "code",
   "execution_count": 61,
   "metadata": {},
   "outputs": [
    {
     "data": {
      "text/plain": [
       "id                            0\n",
       "BookID                        0\n",
       "best_book_id                  0\n",
       "work_id                       0\n",
       "books_count                   0\n",
       "ISBN                        680\n",
       "isbn13                      585\n",
       "Author                        0\n",
       "Year                          0\n",
       "Title                       585\n",
       "title                         0\n",
       "language_code              1084\n",
       "Average_Rating                0\n",
       "ratings_count                 0\n",
       "work_ratings_count            0\n",
       "work_text_reviews_count       0\n",
       "ratings_1                     0\n",
       "ratings_2                     0\n",
       "ratings_3                     0\n",
       "ratings_4                     0\n",
       "ratings_5                     0\n",
       "dtype: int64"
      ]
     },
     "execution_count": 61,
     "metadata": {},
     "output_type": "execute_result"
    }
   ],
   "source": [
    "goodbooks.isnull().sum()"
   ]
  },
  {
   "cell_type": "code",
   "execution_count": 62,
   "metadata": {},
   "outputs": [
    {
     "data": {
      "text/plain": [
       "9274"
      ]
     },
     "execution_count": 62,
     "metadata": {},
     "output_type": "execute_result"
    }
   ],
   "source": [
    "goodbooks['Title'].nunique()"
   ]
  },
  {
   "cell_type": "code",
   "execution_count": 63,
   "metadata": {},
   "outputs": [],
   "source": [
    "#creating a new data frame only with the relevant columns\n",
    "selected_cols = ['id', 'BookID', 'ISBN', 'Author', 'Year', 'Title', 'Average_Rating']\n",
    "new_goodbooks = goodbooks[selected_cols].copy()"
   ]
  },
  {
   "cell_type": "code",
   "execution_count": 64,
   "metadata": {},
   "outputs": [
    {
     "data": {
      "text/plain": [
       "9274"
      ]
     },
     "execution_count": 64,
     "metadata": {},
     "output_type": "execute_result"
    }
   ],
   "source": [
    "new_goodbooks['Title'].nunique()"
   ]
  },
  {
   "cell_type": "code",
   "execution_count": 65,
   "metadata": {},
   "outputs": [
    {
     "data": {
      "text/plain": [
       "id                  0\n",
       "BookID              0\n",
       "ISBN              680\n",
       "Author              0\n",
       "Year                0\n",
       "Title             585\n",
       "Average_Rating      0\n",
       "dtype: int64"
      ]
     },
     "execution_count": 65,
     "metadata": {},
     "output_type": "execute_result"
    }
   ],
   "source": [
    "new_goodbooks.isnull().sum()"
   ]
  },
  {
   "cell_type": "markdown",
   "metadata": {},
   "source": [
    "#### 2.2 'ratings' data frame"
   ]
  },
  {
   "cell_type": "code",
   "execution_count": 66,
   "metadata": {},
   "outputs": [
    {
     "data": {
      "text/html": [
       "<div>\n",
       "<style scoped>\n",
       "    .dataframe tbody tr th:only-of-type {\n",
       "        vertical-align: middle;\n",
       "    }\n",
       "\n",
       "    .dataframe tbody tr th {\n",
       "        vertical-align: top;\n",
       "    }\n",
       "\n",
       "    .dataframe thead th {\n",
       "        text-align: right;\n",
       "    }\n",
       "</style>\n",
       "<table border=\"1\" class=\"dataframe\">\n",
       "  <thead>\n",
       "    <tr style=\"text-align: right;\">\n",
       "      <th></th>\n",
       "      <th>book_id</th>\n",
       "      <th>user_id</th>\n",
       "      <th>rating</th>\n",
       "    </tr>\n",
       "  </thead>\n",
       "  <tbody>\n",
       "    <tr>\n",
       "      <th>0</th>\n",
       "      <td>1</td>\n",
       "      <td>314</td>\n",
       "      <td>5</td>\n",
       "    </tr>\n",
       "    <tr>\n",
       "      <th>1</th>\n",
       "      <td>1</td>\n",
       "      <td>439</td>\n",
       "      <td>3</td>\n",
       "    </tr>\n",
       "    <tr>\n",
       "      <th>2</th>\n",
       "      <td>1</td>\n",
       "      <td>588</td>\n",
       "      <td>5</td>\n",
       "    </tr>\n",
       "    <tr>\n",
       "      <th>3</th>\n",
       "      <td>1</td>\n",
       "      <td>1169</td>\n",
       "      <td>4</td>\n",
       "    </tr>\n",
       "    <tr>\n",
       "      <th>4</th>\n",
       "      <td>1</td>\n",
       "      <td>1185</td>\n",
       "      <td>4</td>\n",
       "    </tr>\n",
       "    <tr>\n",
       "      <th>...</th>\n",
       "      <td>...</td>\n",
       "      <td>...</td>\n",
       "      <td>...</td>\n",
       "    </tr>\n",
       "    <tr>\n",
       "      <th>981751</th>\n",
       "      <td>10000</td>\n",
       "      <td>48386</td>\n",
       "      <td>5</td>\n",
       "    </tr>\n",
       "    <tr>\n",
       "      <th>981752</th>\n",
       "      <td>10000</td>\n",
       "      <td>49007</td>\n",
       "      <td>4</td>\n",
       "    </tr>\n",
       "    <tr>\n",
       "      <th>981753</th>\n",
       "      <td>10000</td>\n",
       "      <td>49383</td>\n",
       "      <td>5</td>\n",
       "    </tr>\n",
       "    <tr>\n",
       "      <th>981754</th>\n",
       "      <td>10000</td>\n",
       "      <td>50124</td>\n",
       "      <td>5</td>\n",
       "    </tr>\n",
       "    <tr>\n",
       "      <th>981755</th>\n",
       "      <td>10000</td>\n",
       "      <td>51328</td>\n",
       "      <td>1</td>\n",
       "    </tr>\n",
       "  </tbody>\n",
       "</table>\n",
       "<p>981756 rows × 3 columns</p>\n",
       "</div>"
      ],
      "text/plain": [
       "        book_id  user_id  rating\n",
       "0             1      314       5\n",
       "1             1      439       3\n",
       "2             1      588       5\n",
       "3             1     1169       4\n",
       "4             1     1185       4\n",
       "...         ...      ...     ...\n",
       "981751    10000    48386       5\n",
       "981752    10000    49007       4\n",
       "981753    10000    49383       5\n",
       "981754    10000    50124       5\n",
       "981755    10000    51328       1\n",
       "\n",
       "[981756 rows x 3 columns]"
      ]
     },
     "execution_count": 66,
     "metadata": {},
     "output_type": "execute_result"
    }
   ],
   "source": [
    "goodratings"
   ]
  },
  {
   "cell_type": "code",
   "execution_count": 67,
   "metadata": {},
   "outputs": [],
   "source": [
    "goodratings.rename(columns={'book_id':'id', 'user_id':'UserID', 'rating':'User_Rating'}, inplace=True)"
   ]
  },
  {
   "cell_type": "code",
   "execution_count": null,
   "metadata": {},
   "outputs": [],
   "source": [
    "# # Calculating average book rating per ISBN\n",
    "# avg_goodbook_rating = goodratings.groupby('BookID')['User_Rating'].mean().reset_index()\n",
    "# avg_goodbook_rating.rename(columns={'User_Rating': 'Average_Rating'}, inplace=True)"
   ]
  },
  {
   "cell_type": "code",
   "execution_count": null,
   "metadata": {},
   "outputs": [],
   "source": [
    "# # Merging avg_goodbook_rating with goodbooks DataFrame on BookID\n",
    "# goodbooks = pd.merge(goodbooks, avg_goodbook_rating, on='BookID', how='left')"
   ]
  },
  {
   "cell_type": "code",
   "execution_count": 68,
   "metadata": {},
   "outputs": [
    {
     "data": {
      "text/html": [
       "<div>\n",
       "<style scoped>\n",
       "    .dataframe tbody tr th:only-of-type {\n",
       "        vertical-align: middle;\n",
       "    }\n",
       "\n",
       "    .dataframe tbody tr th {\n",
       "        vertical-align: top;\n",
       "    }\n",
       "\n",
       "    .dataframe thead th {\n",
       "        text-align: right;\n",
       "    }\n",
       "</style>\n",
       "<table border=\"1\" class=\"dataframe\">\n",
       "  <thead>\n",
       "    <tr style=\"text-align: right;\">\n",
       "      <th></th>\n",
       "      <th>id</th>\n",
       "      <th>BookID</th>\n",
       "      <th>ISBN</th>\n",
       "      <th>Author</th>\n",
       "      <th>Year</th>\n",
       "      <th>Title</th>\n",
       "      <th>Average_Rating</th>\n",
       "      <th>UserID</th>\n",
       "      <th>User_Rating</th>\n",
       "    </tr>\n",
       "  </thead>\n",
       "  <tbody>\n",
       "    <tr>\n",
       "      <th>0</th>\n",
       "      <td>1</td>\n",
       "      <td>2767052</td>\n",
       "      <td>439023483</td>\n",
       "      <td>Suzanne Collins</td>\n",
       "      <td>2008</td>\n",
       "      <td>The Hunger Games</td>\n",
       "      <td>4.34</td>\n",
       "      <td>314</td>\n",
       "      <td>5</td>\n",
       "    </tr>\n",
       "    <tr>\n",
       "      <th>1</th>\n",
       "      <td>1</td>\n",
       "      <td>2767052</td>\n",
       "      <td>439023483</td>\n",
       "      <td>Suzanne Collins</td>\n",
       "      <td>2008</td>\n",
       "      <td>The Hunger Games</td>\n",
       "      <td>4.34</td>\n",
       "      <td>439</td>\n",
       "      <td>3</td>\n",
       "    </tr>\n",
       "    <tr>\n",
       "      <th>2</th>\n",
       "      <td>1</td>\n",
       "      <td>2767052</td>\n",
       "      <td>439023483</td>\n",
       "      <td>Suzanne Collins</td>\n",
       "      <td>2008</td>\n",
       "      <td>The Hunger Games</td>\n",
       "      <td>4.34</td>\n",
       "      <td>588</td>\n",
       "      <td>5</td>\n",
       "    </tr>\n",
       "    <tr>\n",
       "      <th>3</th>\n",
       "      <td>1</td>\n",
       "      <td>2767052</td>\n",
       "      <td>439023483</td>\n",
       "      <td>Suzanne Collins</td>\n",
       "      <td>2008</td>\n",
       "      <td>The Hunger Games</td>\n",
       "      <td>4.34</td>\n",
       "      <td>1169</td>\n",
       "      <td>4</td>\n",
       "    </tr>\n",
       "    <tr>\n",
       "      <th>4</th>\n",
       "      <td>1</td>\n",
       "      <td>2767052</td>\n",
       "      <td>439023483</td>\n",
       "      <td>Suzanne Collins</td>\n",
       "      <td>2008</td>\n",
       "      <td>The Hunger Games</td>\n",
       "      <td>4.34</td>\n",
       "      <td>1185</td>\n",
       "      <td>4</td>\n",
       "    </tr>\n",
       "  </tbody>\n",
       "</table>\n",
       "</div>"
      ],
      "text/plain": [
       "   id   BookID       ISBN           Author  Year             Title  \\\n",
       "0   1  2767052  439023483  Suzanne Collins  2008  The Hunger Games   \n",
       "1   1  2767052  439023483  Suzanne Collins  2008  The Hunger Games   \n",
       "2   1  2767052  439023483  Suzanne Collins  2008  The Hunger Games   \n",
       "3   1  2767052  439023483  Suzanne Collins  2008  The Hunger Games   \n",
       "4   1  2767052  439023483  Suzanne Collins  2008  The Hunger Games   \n",
       "\n",
       "   Average_Rating  UserID  User_Rating  \n",
       "0            4.34     314            5  \n",
       "1            4.34     439            3  \n",
       "2            4.34     588            5  \n",
       "3            4.34    1169            4  \n",
       "4            4.34    1185            4  "
      ]
     },
     "execution_count": 68,
     "metadata": {},
     "output_type": "execute_result"
    }
   ],
   "source": [
    "gbx = pd.merge(new_goodbooks, goodratings, on='id')\n",
    "gbx.head()"
   ]
  },
  {
   "cell_type": "code",
   "execution_count": 69,
   "metadata": {},
   "outputs": [
    {
     "data": {
      "text/plain": [
       "9274"
      ]
     },
     "execution_count": 69,
     "metadata": {},
     "output_type": "execute_result"
    }
   ],
   "source": [
    "gbx['Title'].nunique()"
   ]
  },
  {
   "cell_type": "code",
   "execution_count": 70,
   "metadata": {},
   "outputs": [
    {
     "data": {
      "text/plain": [
       "id                    0\n",
       "BookID                0\n",
       "ISBN              65287\n",
       "Author                0\n",
       "Year                  0\n",
       "Title             55537\n",
       "Average_Rating        0\n",
       "UserID                0\n",
       "User_Rating           0\n",
       "dtype: int64"
      ]
     },
     "execution_count": 70,
     "metadata": {},
     "output_type": "execute_result"
    }
   ],
   "source": [
    "gbx.isnull().sum()"
   ]
  },
  {
   "cell_type": "code",
   "execution_count": null,
   "metadata": {},
   "outputs": [],
   "source": [
    "# gbx.dropna(subset=['Title'], inplace=True)"
   ]
  },
  {
   "cell_type": "code",
   "execution_count": 71,
   "metadata": {},
   "outputs": [],
   "source": [
    "gbx.dropna(subset=['ISBN'], inplace=True)"
   ]
  },
  {
   "cell_type": "code",
   "execution_count": 72,
   "metadata": {},
   "outputs": [
    {
     "data": {
      "text/plain": [
       "id                    0\n",
       "BookID                0\n",
       "ISBN                  0\n",
       "Author                0\n",
       "Year                  0\n",
       "Title             42207\n",
       "Average_Rating        0\n",
       "UserID                0\n",
       "User_Rating           0\n",
       "dtype: int64"
      ]
     },
     "execution_count": 72,
     "metadata": {},
     "output_type": "execute_result"
    }
   ],
   "source": [
    "gbx.isnull().sum()"
   ]
  },
  {
   "cell_type": "code",
   "execution_count": 73,
   "metadata": {},
   "outputs": [
    {
     "data": {
      "text/plain": [
       "8755"
      ]
     },
     "execution_count": 73,
     "metadata": {},
     "output_type": "execute_result"
    }
   ],
   "source": [
    "gbx['Title'].nunique()"
   ]
  },
  {
   "cell_type": "code",
   "execution_count": 74,
   "metadata": {},
   "outputs": [
    {
     "data": {
      "text/plain": [
       "array([5, 3, 4, 1, 2])"
      ]
     },
     "execution_count": 74,
     "metadata": {},
     "output_type": "execute_result"
    }
   ],
   "source": [
    "gbx['User_Rating'].unique()"
   ]
  },
  {
   "cell_type": "code",
   "execution_count": 75,
   "metadata": {},
   "outputs": [],
   "source": [
    "gbx['Average_Rating'] = gbx['Average_Rating'].round().astype(int)"
   ]
  },
  {
   "cell_type": "code",
   "execution_count": 76,
   "metadata": {},
   "outputs": [
    {
     "data": {
      "text/plain": [
       "array([4, 5, 3, 2])"
      ]
     },
     "execution_count": 76,
     "metadata": {},
     "output_type": "execute_result"
    }
   ],
   "source": [
    "gbx['Average_Rating'].unique()"
   ]
  },
  {
   "cell_type": "code",
   "execution_count": 77,
   "metadata": {},
   "outputs": [
    {
     "data": {
      "text/html": [
       "<div>\n",
       "<style scoped>\n",
       "    .dataframe tbody tr th:only-of-type {\n",
       "        vertical-align: middle;\n",
       "    }\n",
       "\n",
       "    .dataframe tbody tr th {\n",
       "        vertical-align: top;\n",
       "    }\n",
       "\n",
       "    .dataframe thead th {\n",
       "        text-align: right;\n",
       "    }\n",
       "</style>\n",
       "<table border=\"1\" class=\"dataframe\">\n",
       "  <thead>\n",
       "    <tr style=\"text-align: right;\">\n",
       "      <th></th>\n",
       "      <th>id</th>\n",
       "      <th>BookID</th>\n",
       "      <th>ISBN</th>\n",
       "      <th>Author</th>\n",
       "      <th>Year</th>\n",
       "      <th>Title</th>\n",
       "      <th>Average_Rating</th>\n",
       "      <th>UserID</th>\n",
       "      <th>User_Rating</th>\n",
       "    </tr>\n",
       "  </thead>\n",
       "  <tbody>\n",
       "    <tr>\n",
       "      <th>0</th>\n",
       "      <td>1</td>\n",
       "      <td>2767052</td>\n",
       "      <td>439023483</td>\n",
       "      <td>Suzanne Collins</td>\n",
       "      <td>2008</td>\n",
       "      <td>The Hunger Games</td>\n",
       "      <td>4</td>\n",
       "      <td>314</td>\n",
       "      <td>5</td>\n",
       "    </tr>\n",
       "    <tr>\n",
       "      <th>1</th>\n",
       "      <td>1</td>\n",
       "      <td>2767052</td>\n",
       "      <td>439023483</td>\n",
       "      <td>Suzanne Collins</td>\n",
       "      <td>2008</td>\n",
       "      <td>The Hunger Games</td>\n",
       "      <td>4</td>\n",
       "      <td>439</td>\n",
       "      <td>3</td>\n",
       "    </tr>\n",
       "    <tr>\n",
       "      <th>2</th>\n",
       "      <td>1</td>\n",
       "      <td>2767052</td>\n",
       "      <td>439023483</td>\n",
       "      <td>Suzanne Collins</td>\n",
       "      <td>2008</td>\n",
       "      <td>The Hunger Games</td>\n",
       "      <td>4</td>\n",
       "      <td>588</td>\n",
       "      <td>5</td>\n",
       "    </tr>\n",
       "    <tr>\n",
       "      <th>3</th>\n",
       "      <td>1</td>\n",
       "      <td>2767052</td>\n",
       "      <td>439023483</td>\n",
       "      <td>Suzanne Collins</td>\n",
       "      <td>2008</td>\n",
       "      <td>The Hunger Games</td>\n",
       "      <td>4</td>\n",
       "      <td>1169</td>\n",
       "      <td>4</td>\n",
       "    </tr>\n",
       "    <tr>\n",
       "      <th>4</th>\n",
       "      <td>1</td>\n",
       "      <td>2767052</td>\n",
       "      <td>439023483</td>\n",
       "      <td>Suzanne Collins</td>\n",
       "      <td>2008</td>\n",
       "      <td>The Hunger Games</td>\n",
       "      <td>4</td>\n",
       "      <td>1185</td>\n",
       "      <td>4</td>\n",
       "    </tr>\n",
       "    <tr>\n",
       "      <th>...</th>\n",
       "      <td>...</td>\n",
       "      <td>...</td>\n",
       "      <td>...</td>\n",
       "      <td>...</td>\n",
       "      <td>...</td>\n",
       "      <td>...</td>\n",
       "      <td>...</td>\n",
       "      <td>...</td>\n",
       "      <td>...</td>\n",
       "    </tr>\n",
       "    <tr>\n",
       "      <th>981751</th>\n",
       "      <td>10000</td>\n",
       "      <td>8914</td>\n",
       "      <td>0375400524</td>\n",
       "      <td>John Keegan</td>\n",
       "      <td>1998</td>\n",
       "      <td>The First World War</td>\n",
       "      <td>4</td>\n",
       "      <td>48386</td>\n",
       "      <td>5</td>\n",
       "    </tr>\n",
       "    <tr>\n",
       "      <th>981752</th>\n",
       "      <td>10000</td>\n",
       "      <td>8914</td>\n",
       "      <td>0375400524</td>\n",
       "      <td>John Keegan</td>\n",
       "      <td>1998</td>\n",
       "      <td>The First World War</td>\n",
       "      <td>4</td>\n",
       "      <td>49007</td>\n",
       "      <td>4</td>\n",
       "    </tr>\n",
       "    <tr>\n",
       "      <th>981753</th>\n",
       "      <td>10000</td>\n",
       "      <td>8914</td>\n",
       "      <td>0375400524</td>\n",
       "      <td>John Keegan</td>\n",
       "      <td>1998</td>\n",
       "      <td>The First World War</td>\n",
       "      <td>4</td>\n",
       "      <td>49383</td>\n",
       "      <td>5</td>\n",
       "    </tr>\n",
       "    <tr>\n",
       "      <th>981754</th>\n",
       "      <td>10000</td>\n",
       "      <td>8914</td>\n",
       "      <td>0375400524</td>\n",
       "      <td>John Keegan</td>\n",
       "      <td>1998</td>\n",
       "      <td>The First World War</td>\n",
       "      <td>4</td>\n",
       "      <td>50124</td>\n",
       "      <td>5</td>\n",
       "    </tr>\n",
       "    <tr>\n",
       "      <th>981755</th>\n",
       "      <td>10000</td>\n",
       "      <td>8914</td>\n",
       "      <td>0375400524</td>\n",
       "      <td>John Keegan</td>\n",
       "      <td>1998</td>\n",
       "      <td>The First World War</td>\n",
       "      <td>4</td>\n",
       "      <td>51328</td>\n",
       "      <td>1</td>\n",
       "    </tr>\n",
       "  </tbody>\n",
       "</table>\n",
       "<p>916469 rows × 9 columns</p>\n",
       "</div>"
      ],
      "text/plain": [
       "           id   BookID        ISBN           Author  Year  \\\n",
       "0           1  2767052   439023483  Suzanne Collins  2008   \n",
       "1           1  2767052   439023483  Suzanne Collins  2008   \n",
       "2           1  2767052   439023483  Suzanne Collins  2008   \n",
       "3           1  2767052   439023483  Suzanne Collins  2008   \n",
       "4           1  2767052   439023483  Suzanne Collins  2008   \n",
       "...       ...      ...         ...              ...   ...   \n",
       "981751  10000     8914  0375400524      John Keegan  1998   \n",
       "981752  10000     8914  0375400524      John Keegan  1998   \n",
       "981753  10000     8914  0375400524      John Keegan  1998   \n",
       "981754  10000     8914  0375400524      John Keegan  1998   \n",
       "981755  10000     8914  0375400524      John Keegan  1998   \n",
       "\n",
       "                      Title  Average_Rating  UserID  User_Rating  \n",
       "0          The Hunger Games               4     314            5  \n",
       "1          The Hunger Games               4     439            3  \n",
       "2          The Hunger Games               4     588            5  \n",
       "3          The Hunger Games               4    1169            4  \n",
       "4          The Hunger Games               4    1185            4  \n",
       "...                     ...             ...     ...          ...  \n",
       "981751  The First World War               4   48386            5  \n",
       "981752  The First World War               4   49007            4  \n",
       "981753  The First World War               4   49383            5  \n",
       "981754  The First World War               4   50124            5  \n",
       "981755  The First World War               4   51328            1  \n",
       "\n",
       "[916469 rows x 9 columns]"
      ]
     },
     "execution_count": 77,
     "metadata": {},
     "output_type": "execute_result"
    }
   ],
   "source": [
    "gbx"
   ]
  },
  {
   "cell_type": "markdown",
   "metadata": {},
   "source": [
    "#### 2.3 'book_tags' data frame"
   ]
  },
  {
   "cell_type": "code",
   "execution_count": 78,
   "metadata": {},
   "outputs": [
    {
     "data": {
      "text/html": [
       "<div>\n",
       "<style scoped>\n",
       "    .dataframe tbody tr th:only-of-type {\n",
       "        vertical-align: middle;\n",
       "    }\n",
       "\n",
       "    .dataframe tbody tr th {\n",
       "        vertical-align: top;\n",
       "    }\n",
       "\n",
       "    .dataframe thead th {\n",
       "        text-align: right;\n",
       "    }\n",
       "</style>\n",
       "<table border=\"1\" class=\"dataframe\">\n",
       "  <thead>\n",
       "    <tr style=\"text-align: right;\">\n",
       "      <th></th>\n",
       "      <th>goodreads_book_id</th>\n",
       "      <th>tag_id</th>\n",
       "      <th>count</th>\n",
       "    </tr>\n",
       "  </thead>\n",
       "  <tbody>\n",
       "    <tr>\n",
       "      <th>0</th>\n",
       "      <td>1</td>\n",
       "      <td>30574</td>\n",
       "      <td>167697</td>\n",
       "    </tr>\n",
       "    <tr>\n",
       "      <th>1</th>\n",
       "      <td>1</td>\n",
       "      <td>11305</td>\n",
       "      <td>37174</td>\n",
       "    </tr>\n",
       "    <tr>\n",
       "      <th>2</th>\n",
       "      <td>1</td>\n",
       "      <td>11557</td>\n",
       "      <td>34173</td>\n",
       "    </tr>\n",
       "    <tr>\n",
       "      <th>3</th>\n",
       "      <td>1</td>\n",
       "      <td>8717</td>\n",
       "      <td>12986</td>\n",
       "    </tr>\n",
       "    <tr>\n",
       "      <th>4</th>\n",
       "      <td>1</td>\n",
       "      <td>33114</td>\n",
       "      <td>12716</td>\n",
       "    </tr>\n",
       "    <tr>\n",
       "      <th>...</th>\n",
       "      <td>...</td>\n",
       "      <td>...</td>\n",
       "      <td>...</td>\n",
       "    </tr>\n",
       "    <tr>\n",
       "      <th>999907</th>\n",
       "      <td>33288638</td>\n",
       "      <td>21303</td>\n",
       "      <td>7</td>\n",
       "    </tr>\n",
       "    <tr>\n",
       "      <th>999908</th>\n",
       "      <td>33288638</td>\n",
       "      <td>17271</td>\n",
       "      <td>7</td>\n",
       "    </tr>\n",
       "    <tr>\n",
       "      <th>999909</th>\n",
       "      <td>33288638</td>\n",
       "      <td>1126</td>\n",
       "      <td>7</td>\n",
       "    </tr>\n",
       "    <tr>\n",
       "      <th>999910</th>\n",
       "      <td>33288638</td>\n",
       "      <td>11478</td>\n",
       "      <td>7</td>\n",
       "    </tr>\n",
       "    <tr>\n",
       "      <th>999911</th>\n",
       "      <td>33288638</td>\n",
       "      <td>27939</td>\n",
       "      <td>7</td>\n",
       "    </tr>\n",
       "  </tbody>\n",
       "</table>\n",
       "<p>999912 rows × 3 columns</p>\n",
       "</div>"
      ],
      "text/plain": [
       "        goodreads_book_id  tag_id   count\n",
       "0                       1   30574  167697\n",
       "1                       1   11305   37174\n",
       "2                       1   11557   34173\n",
       "3                       1    8717   12986\n",
       "4                       1   33114   12716\n",
       "...                   ...     ...     ...\n",
       "999907           33288638   21303       7\n",
       "999908           33288638   17271       7\n",
       "999909           33288638    1126       7\n",
       "999910           33288638   11478       7\n",
       "999911           33288638   27939       7\n",
       "\n",
       "[999912 rows x 3 columns]"
      ]
     },
     "execution_count": 78,
     "metadata": {},
     "output_type": "execute_result"
    }
   ],
   "source": [
    "goodbooks_tags"
   ]
  },
  {
   "cell_type": "markdown",
   "metadata": {},
   "source": [
    "#### 2.4 'tags' data frame"
   ]
  },
  {
   "cell_type": "code",
   "execution_count": 79,
   "metadata": {},
   "outputs": [
    {
     "data": {
      "text/html": [
       "<div>\n",
       "<style scoped>\n",
       "    .dataframe tbody tr th:only-of-type {\n",
       "        vertical-align: middle;\n",
       "    }\n",
       "\n",
       "    .dataframe tbody tr th {\n",
       "        vertical-align: top;\n",
       "    }\n",
       "\n",
       "    .dataframe thead th {\n",
       "        text-align: right;\n",
       "    }\n",
       "</style>\n",
       "<table border=\"1\" class=\"dataframe\">\n",
       "  <thead>\n",
       "    <tr style=\"text-align: right;\">\n",
       "      <th></th>\n",
       "      <th>tag_id</th>\n",
       "      <th>tag_name</th>\n",
       "    </tr>\n",
       "  </thead>\n",
       "  <tbody>\n",
       "    <tr>\n",
       "      <th>0</th>\n",
       "      <td>0</td>\n",
       "      <td>-</td>\n",
       "    </tr>\n",
       "    <tr>\n",
       "      <th>1</th>\n",
       "      <td>1</td>\n",
       "      <td>--1-</td>\n",
       "    </tr>\n",
       "    <tr>\n",
       "      <th>2</th>\n",
       "      <td>2</td>\n",
       "      <td>--10-</td>\n",
       "    </tr>\n",
       "    <tr>\n",
       "      <th>3</th>\n",
       "      <td>3</td>\n",
       "      <td>--12-</td>\n",
       "    </tr>\n",
       "    <tr>\n",
       "      <th>4</th>\n",
       "      <td>4</td>\n",
       "      <td>--122-</td>\n",
       "    </tr>\n",
       "    <tr>\n",
       "      <th>...</th>\n",
       "      <td>...</td>\n",
       "      <td>...</td>\n",
       "    </tr>\n",
       "    <tr>\n",
       "      <th>34247</th>\n",
       "      <td>34247</td>\n",
       "      <td>ï¼£hildrens</td>\n",
       "    </tr>\n",
       "    <tr>\n",
       "      <th>34248</th>\n",
       "      <td>34248</td>\n",
       "      <td>ï¼¦ï½ï½ï½ï½ï½ï½ï½ï½</td>\n",
       "    </tr>\n",
       "    <tr>\n",
       "      <th>34249</th>\n",
       "      <td>34249</td>\n",
       "      <td>ï¼­ï½ï½ï½ï½</td>\n",
       "    </tr>\n",
       "    <tr>\n",
       "      <th>34250</th>\n",
       "      <td>34250</td>\n",
       "      <td>ï¼³ï¼¥ï¼²ï¼©ï¼¥ï¼³</td>\n",
       "    </tr>\n",
       "    <tr>\n",
       "      <th>34251</th>\n",
       "      <td>34251</td>\n",
       "      <td>ï½ï½ï½ï½ï½ï½ï½ï½ï½ï½</td>\n",
       "    </tr>\n",
       "  </tbody>\n",
       "</table>\n",
       "<p>34252 rows × 2 columns</p>\n",
       "</div>"
      ],
      "text/plain": [
       "       tag_id                        tag_name\n",
       "0           0                               -\n",
       "1           1                            --1-\n",
       "2           2                           --10-\n",
       "3           3                           --12-\n",
       "4           4                          --122-\n",
       "...       ...                             ...\n",
       "34247   34247                     ï¼£hildrens\n",
       "34248   34248     ï¼¦ï½ï½ï½ï½ï½ï½ï½\n",
       "ï½\n",
       "34249   34249                 ï¼­ï½ï½ï½ï½\n",
       "34250   34250              ï¼³ï¼¥ï¼²ï¼©ï¼¥ï¼³\n",
       "34251   34251  ï½ï½ï½ï½ï½ï½ï½ï½ï½\n",
       "ï½\n",
       "\n",
       "[34252 rows x 2 columns]"
      ]
     },
     "execution_count": 79,
     "metadata": {},
     "output_type": "execute_result"
    }
   ],
   "source": [
    "goodtags"
   ]
  },
  {
   "cell_type": "markdown",
   "metadata": {},
   "source": [
    "#### 2.5 'to_read' data frame"
   ]
  },
  {
   "cell_type": "code",
   "execution_count": 80,
   "metadata": {},
   "outputs": [
    {
     "data": {
      "text/html": [
       "<div>\n",
       "<style scoped>\n",
       "    .dataframe tbody tr th:only-of-type {\n",
       "        vertical-align: middle;\n",
       "    }\n",
       "\n",
       "    .dataframe tbody tr th {\n",
       "        vertical-align: top;\n",
       "    }\n",
       "\n",
       "    .dataframe thead th {\n",
       "        text-align: right;\n",
       "    }\n",
       "</style>\n",
       "<table border=\"1\" class=\"dataframe\">\n",
       "  <thead>\n",
       "    <tr style=\"text-align: right;\">\n",
       "      <th></th>\n",
       "      <th>user_id</th>\n",
       "      <th>book_id</th>\n",
       "    </tr>\n",
       "  </thead>\n",
       "  <tbody>\n",
       "    <tr>\n",
       "      <th>0</th>\n",
       "      <td>1</td>\n",
       "      <td>112</td>\n",
       "    </tr>\n",
       "    <tr>\n",
       "      <th>1</th>\n",
       "      <td>1</td>\n",
       "      <td>235</td>\n",
       "    </tr>\n",
       "    <tr>\n",
       "      <th>2</th>\n",
       "      <td>1</td>\n",
       "      <td>533</td>\n",
       "    </tr>\n",
       "    <tr>\n",
       "      <th>3</th>\n",
       "      <td>1</td>\n",
       "      <td>1198</td>\n",
       "    </tr>\n",
       "    <tr>\n",
       "      <th>4</th>\n",
       "      <td>1</td>\n",
       "      <td>1874</td>\n",
       "    </tr>\n",
       "    <tr>\n",
       "      <th>...</th>\n",
       "      <td>...</td>\n",
       "      <td>...</td>\n",
       "    </tr>\n",
       "    <tr>\n",
       "      <th>912700</th>\n",
       "      <td>53424</td>\n",
       "      <td>4716</td>\n",
       "    </tr>\n",
       "    <tr>\n",
       "      <th>912701</th>\n",
       "      <td>53424</td>\n",
       "      <td>4844</td>\n",
       "    </tr>\n",
       "    <tr>\n",
       "      <th>912702</th>\n",
       "      <td>53424</td>\n",
       "      <td>5907</td>\n",
       "    </tr>\n",
       "    <tr>\n",
       "      <th>912703</th>\n",
       "      <td>53424</td>\n",
       "      <td>7569</td>\n",
       "    </tr>\n",
       "    <tr>\n",
       "      <th>912704</th>\n",
       "      <td>53424</td>\n",
       "      <td>8859</td>\n",
       "    </tr>\n",
       "  </tbody>\n",
       "</table>\n",
       "<p>912705 rows × 2 columns</p>\n",
       "</div>"
      ],
      "text/plain": [
       "        user_id  book_id\n",
       "0             1      112\n",
       "1             1      235\n",
       "2             1      533\n",
       "3             1     1198\n",
       "4             1     1874\n",
       "...         ...      ...\n",
       "912700    53424     4716\n",
       "912701    53424     4844\n",
       "912702    53424     5907\n",
       "912703    53424     7569\n",
       "912704    53424     8859\n",
       "\n",
       "[912705 rows x 2 columns]"
      ]
     },
     "execution_count": 80,
     "metadata": {},
     "output_type": "execute_result"
    }
   ],
   "source": [
    "good_toread"
   ]
  },
  {
   "cell_type": "markdown",
   "metadata": {},
   "source": [
    "### Cleaning values for 'bx' and 'gbx' data frames"
   ]
  },
  {
   "cell_type": "code",
   "execution_count": 81,
   "metadata": {},
   "outputs": [
    {
     "name": "stderr",
     "output_type": "stream",
     "text": [
      "[nltk_data] Downloading package punkt to\n",
      "[nltk_data]     /Users/sanjeevani1109/nltk_data...\n",
      "[nltk_data]   Package punkt is already up-to-date!\n",
      "[nltk_data] Downloading package wordnet to\n",
      "[nltk_data]     /Users/sanjeevani1109/nltk_data...\n",
      "[nltk_data]   Package wordnet is already up-to-date!\n",
      "[nltk_data] Downloading package omw-1.4 to\n",
      "[nltk_data]     /Users/sanjeevani1109/nltk_data...\n",
      "[nltk_data]   Package omw-1.4 is already up-to-date!\n",
      "[nltk_data] Downloading package stopwords to\n",
      "[nltk_data]     /Users/sanjeevani1109/nltk_data...\n",
      "[nltk_data]   Package stopwords is already up-to-date!\n"
     ]
    },
    {
     "data": {
      "text/plain": [
       "True"
      ]
     },
     "execution_count": 81,
     "metadata": {},
     "output_type": "execute_result"
    }
   ],
   "source": [
    "import nltk #using the nltk library for tokenization and lemmatization\n",
    "nltk.download('punkt')\n",
    "nltk.download('wordnet')\n",
    "nltk.download('omw-1.4')\n",
    "nltk.download('stopwords')"
   ]
  },
  {
   "cell_type": "code",
   "execution_count": 82,
   "metadata": {},
   "outputs": [],
   "source": [
    "import string\n",
    "import re\n",
    "from nltk.corpus import stopwords\n",
    "from nltk.tokenize import word_tokenize\n",
    "from nltk.stem import WordNetLemmatizer"
   ]
  },
  {
   "cell_type": "code",
   "execution_count": 83,
   "metadata": {},
   "outputs": [],
   "source": [
    "#Function to clean text data\n",
    "def clean_text(text):\n",
    "    text = text.lower()     #Converting the text to lowercase\n",
    "    text = re.sub(r'\\d+', ' ', text)    # Removing digits\n",
    "    text = re.sub(r'[^a-zA-Z\\s]', '', text)  # Removing special characters\n",
    "    text = text.translate(str.maketrans('', '', string.punctuation))    #Removing punctuation     \n",
    "    tokens = word_tokenize(text) #Tokenization of the text\n",
    "    non_stopwords = []  #Creating an empty list to store the non-stopwords\n",
    "    stop_words = set(stopwords.words('english')) #Initializing the NLTK English stopwords\n",
    "    #Lemmatization of the words/tokens\n",
    "    lemmatizer = WordNetLemmatizer()    #Initialization of the NLTK WordNet Lemmatizer\n",
    "\n",
    "    #Iterating through the list of tokens, lemmatizing them, and adding it to the list of non-stopwords\n",
    "    for token in tokens:\n",
    "        if token not in stop_words:\n",
    "            lemma = lemmatizer.lemmatize(token) #Performing lemmatization\n",
    "            non_stopwords.append(lemma)  # Appending the stemmed token back to the list of non-stopwords\n",
    "\n",
    "    # Joining the tokens/words from the list of non-stopwords into a string\n",
    "    filtered_text = ' '.join(non_stopwords)\n",
    "    return filtered_text"
   ]
  },
  {
   "cell_type": "code",
   "execution_count": 84,
   "metadata": {},
   "outputs": [
    {
     "data": {
      "text/plain": [
       "241071"
      ]
     },
     "execution_count": 84,
     "metadata": {},
     "output_type": "execute_result"
    }
   ],
   "source": [
    "bx['Title'].nunique()"
   ]
  },
  {
   "cell_type": "code",
   "execution_count": 85,
   "metadata": {},
   "outputs": [
    {
     "data": {
      "text/plain": [
       "8755"
      ]
     },
     "execution_count": 85,
     "metadata": {},
     "output_type": "execute_result"
    }
   ],
   "source": [
    "gbx['Title'].nunique()"
   ]
  },
  {
   "cell_type": "code",
   "execution_count": 93,
   "metadata": {},
   "outputs": [
    {
     "data": {
      "text/plain": [
       "874262"
      ]
     },
     "execution_count": 93,
     "metadata": {},
     "output_type": "execute_result"
    }
   ],
   "source": [
    "gbx['Title'].count()"
   ]
  },
  {
   "cell_type": "code",
   "execution_count": 92,
   "metadata": {},
   "outputs": [
    {
     "data": {
      "text/plain": [
       "42207"
      ]
     },
     "execution_count": 92,
     "metadata": {},
     "output_type": "execute_result"
    }
   ],
   "source": [
    "gbx['Title'].isna().sum()"
   ]
  },
  {
   "cell_type": "code",
   "execution_count": 94,
   "metadata": {},
   "outputs": [],
   "source": [
    "gbx.dropna(subset=['Title'], inplace=True)"
   ]
  },
  {
   "cell_type": "code",
   "execution_count": 95,
   "metadata": {},
   "outputs": [
    {
     "data": {
      "text/plain": [
       "8755"
      ]
     },
     "execution_count": 95,
     "metadata": {},
     "output_type": "execute_result"
    }
   ],
   "source": [
    "gbx['Title'].nunique()"
   ]
  },
  {
   "cell_type": "code",
   "execution_count": 96,
   "metadata": {},
   "outputs": [
    {
     "data": {
      "text/plain": [
       "874262"
      ]
     },
     "execution_count": 96,
     "metadata": {},
     "output_type": "execute_result"
    }
   ],
   "source": [
    "gbx['Title'].count()"
   ]
  },
  {
   "cell_type": "code",
   "execution_count": 97,
   "metadata": {},
   "outputs": [
    {
     "data": {
      "text/plain": [
       "0"
      ]
     },
     "execution_count": 97,
     "metadata": {},
     "output_type": "execute_result"
    }
   ],
   "source": [
    "gbx['Title'].isna().sum()"
   ]
  },
  {
   "cell_type": "markdown",
   "metadata": {},
   "source": [
    "#### Cleaning columns for 'bx' data frame"
   ]
  },
  {
   "cell_type": "code",
   "execution_count": 86,
   "metadata": {},
   "outputs": [],
   "source": [
    "# Applying the clean_text function to the 'Title' column of the first data frame 'bx' i.e., the Book Crossing dataset's final data frame\n",
    "bx['cleaned_title'] = bx['Title'].apply(clean_text)"
   ]
  },
  {
   "cell_type": "code",
   "execution_count": 87,
   "metadata": {},
   "outputs": [
    {
     "name": "stdout",
     "output_type": "stream",
     "text": [
      "First DataFrame - bx:\n",
      "                                               Title  \\\n",
      "0                               Flesh Tones: A Novel   \n",
      "1                                   Rites of Passage   \n",
      "2                                       The Notebook   \n",
      "3                                     Help!: Level 1   \n",
      "4  The Amsterdam Connection : Level 4 (Cambridge ...   \n",
      "\n",
      "                                       cleaned_title  \n",
      "0                                   flesh tone novel  \n",
      "1                                       rite passage  \n",
      "2                                           notebook  \n",
      "3                                         help level  \n",
      "4  amsterdam connection level cambridge english r...  \n"
     ]
    }
   ],
   "source": [
    "print(\"First DataFrame - bx:\")\n",
    "print(bx[['Title', 'cleaned_title']].head())"
   ]
  },
  {
   "cell_type": "code",
   "execution_count": 88,
   "metadata": {},
   "outputs": [],
   "source": [
    "# Applying the clean_text function to the 'Author' column of the first data frame 'bx'\n",
    "bx['cleaned_author'] = bx['Author'].apply(clean_text)"
   ]
  },
  {
   "cell_type": "code",
   "execution_count": 89,
   "metadata": {},
   "outputs": [
    {
     "name": "stdout",
     "output_type": "stream",
     "text": [
      "First DataFrame - bx:\n",
      "            Author  cleaned_author\n",
      "0       M. J. Rose          j rose\n",
      "1       Judith Rae      judith rae\n",
      "2  Nicholas Sparks  nicholas spark\n",
      "3    Philip Prowse   philip prowse\n",
      "4      Sue Leather     sue leather\n"
     ]
    }
   ],
   "source": [
    "print(\"First DataFrame - bx:\")\n",
    "print(bx[['Author', 'cleaned_author']].head())"
   ]
  },
  {
   "cell_type": "markdown",
   "metadata": {},
   "source": [
    "#### Cleaning columns for 'gbx' data frame"
   ]
  },
  {
   "cell_type": "code",
   "execution_count": 98,
   "metadata": {},
   "outputs": [],
   "source": [
    "# Applying the text_clean function to the 'Title' column of the second data frame 'gbx' i.e., the Goodbooks-10k dataset's final data frame\n",
    "gbx['cleaned_title'] = gbx['Title'].apply(clean_text)"
   ]
  },
  {
   "cell_type": "code",
   "execution_count": 99,
   "metadata": {},
   "outputs": [
    {
     "name": "stdout",
     "output_type": "stream",
     "text": [
      "\n",
      "Second DataFrame - gbx:\n",
      "              Title cleaned_title\n",
      "0  The Hunger Games   hunger game\n",
      "1  The Hunger Games   hunger game\n",
      "2  The Hunger Games   hunger game\n",
      "3  The Hunger Games   hunger game\n",
      "4  The Hunger Games   hunger game\n"
     ]
    }
   ],
   "source": [
    "print(\"\\nSecond DataFrame - gbx:\")\n",
    "print(gbx[['Title', 'cleaned_title']].head())"
   ]
  },
  {
   "cell_type": "code",
   "execution_count": 100,
   "metadata": {},
   "outputs": [],
   "source": [
    "# Applying the clean_text function to the 'Author' column of the second data frame 'gbx'\n",
    "gbx['cleaned_author'] = gbx['Author'].apply(clean_text)"
   ]
  },
  {
   "cell_type": "code",
   "execution_count": 101,
   "metadata": {},
   "outputs": [
    {
     "name": "stdout",
     "output_type": "stream",
     "text": [
      "\n",
      "Second DataFrame - gbx:\n",
      "            Author   cleaned_author\n",
      "0  Suzanne Collins  suzanne collins\n",
      "1  Suzanne Collins  suzanne collins\n",
      "2  Suzanne Collins  suzanne collins\n",
      "3  Suzanne Collins  suzanne collins\n",
      "4  Suzanne Collins  suzanne collins\n"
     ]
    }
   ],
   "source": [
    "print(\"\\nSecond DataFrame - gbx:\")\n",
    "print(gbx[['Author', 'cleaned_author']].head())"
   ]
  },
  {
   "cell_type": "markdown",
   "metadata": {},
   "source": [
    "# Web-Scraping Genres from Goodreads"
   ]
  },
  {
   "cell_type": "code",
   "execution_count": 105,
   "metadata": {},
   "outputs": [
    {
     "data": {
      "text/html": [
       "<div>\n",
       "<style scoped>\n",
       "    .dataframe tbody tr th:only-of-type {\n",
       "        vertical-align: middle;\n",
       "    }\n",
       "\n",
       "    .dataframe tbody tr th {\n",
       "        vertical-align: top;\n",
       "    }\n",
       "\n",
       "    .dataframe thead th {\n",
       "        text-align: right;\n",
       "    }\n",
       "</style>\n",
       "<table border=\"1\" class=\"dataframe\">\n",
       "  <thead>\n",
       "    <tr style=\"text-align: right;\">\n",
       "      <th></th>\n",
       "      <th>UserID</th>\n",
       "      <th>ISBN</th>\n",
       "      <th>User_Rating</th>\n",
       "      <th>Title</th>\n",
       "      <th>Author</th>\n",
       "      <th>Average_Rating</th>\n",
       "      <th>cleaned_title</th>\n",
       "      <th>cleaned_author</th>\n",
       "    </tr>\n",
       "  </thead>\n",
       "  <tbody>\n",
       "    <tr>\n",
       "      <th>0</th>\n",
       "      <td>276725</td>\n",
       "      <td>034545104X</td>\n",
       "      <td>1</td>\n",
       "      <td>Flesh Tones: A Novel</td>\n",
       "      <td>M. J. Rose</td>\n",
       "      <td>2</td>\n",
       "      <td>flesh tone novel</td>\n",
       "      <td>j rose</td>\n",
       "    </tr>\n",
       "    <tr>\n",
       "      <th>1</th>\n",
       "      <td>276726</td>\n",
       "      <td>0155061224</td>\n",
       "      <td>3</td>\n",
       "      <td>Rites of Passage</td>\n",
       "      <td>Judith Rae</td>\n",
       "      <td>2</td>\n",
       "      <td>rite passage</td>\n",
       "      <td>judith rae</td>\n",
       "    </tr>\n",
       "    <tr>\n",
       "      <th>2</th>\n",
       "      <td>276727</td>\n",
       "      <td>0446520802</td>\n",
       "      <td>1</td>\n",
       "      <td>The Notebook</td>\n",
       "      <td>Nicholas Sparks</td>\n",
       "      <td>2</td>\n",
       "      <td>notebook</td>\n",
       "      <td>nicholas spark</td>\n",
       "    </tr>\n",
       "    <tr>\n",
       "      <th>3</th>\n",
       "      <td>276729</td>\n",
       "      <td>052165615X</td>\n",
       "      <td>2</td>\n",
       "      <td>Help!: Level 1</td>\n",
       "      <td>Philip Prowse</td>\n",
       "      <td>2</td>\n",
       "      <td>help level</td>\n",
       "      <td>philip prowse</td>\n",
       "    </tr>\n",
       "    <tr>\n",
       "      <th>4</th>\n",
       "      <td>276729</td>\n",
       "      <td>0521795028</td>\n",
       "      <td>4</td>\n",
       "      <td>The Amsterdam Connection : Level 4 (Cambridge ...</td>\n",
       "      <td>Sue Leather</td>\n",
       "      <td>3</td>\n",
       "      <td>amsterdam connection level cambridge english r...</td>\n",
       "      <td>sue leather</td>\n",
       "    </tr>\n",
       "    <tr>\n",
       "      <th>...</th>\n",
       "      <td>...</td>\n",
       "      <td>...</td>\n",
       "      <td>...</td>\n",
       "      <td>...</td>\n",
       "      <td>...</td>\n",
       "      <td>...</td>\n",
       "      <td>...</td>\n",
       "      <td>...</td>\n",
       "    </tr>\n",
       "    <tr>\n",
       "      <th>1163597</th>\n",
       "      <td>276704</td>\n",
       "      <td>0876044011</td>\n",
       "      <td>1</td>\n",
       "      <td>Edgar Cayce on the Akashic Records: The Book o...</td>\n",
       "      <td>Kevin J. Todeschi</td>\n",
       "      <td>1</td>\n",
       "      <td>edgar cayce akashic record book life</td>\n",
       "      <td>kevin j todeschi</td>\n",
       "    </tr>\n",
       "    <tr>\n",
       "      <th>1163598</th>\n",
       "      <td>276704</td>\n",
       "      <td>1563526298</td>\n",
       "      <td>5</td>\n",
       "      <td>Get Clark Smart : The Ultimate Guide for the S...</td>\n",
       "      <td>Clark Howard</td>\n",
       "      <td>4</td>\n",
       "      <td>get clark smart ultimate guide savvy consumer</td>\n",
       "      <td>clark howard</td>\n",
       "    </tr>\n",
       "    <tr>\n",
       "      <th>1163599</th>\n",
       "      <td>276706</td>\n",
       "      <td>0679447156</td>\n",
       "      <td>1</td>\n",
       "      <td>Eight Weeks to Optimum Health: A Proven Progra...</td>\n",
       "      <td>Andrew Weil</td>\n",
       "      <td>2</td>\n",
       "      <td>eight week optimum health proven program takin...</td>\n",
       "      <td>andrew weil</td>\n",
       "    </tr>\n",
       "    <tr>\n",
       "      <th>1163600</th>\n",
       "      <td>276709</td>\n",
       "      <td>0515107662</td>\n",
       "      <td>5</td>\n",
       "      <td>The Sherbrooke Bride (Bride Trilogy (Paperback))</td>\n",
       "      <td>Catherine Coulter</td>\n",
       "      <td>2</td>\n",
       "      <td>sherbrooke bride bride trilogy paperback</td>\n",
       "      <td>catherine coulter</td>\n",
       "    </tr>\n",
       "    <tr>\n",
       "      <th>1163601</th>\n",
       "      <td>276721</td>\n",
       "      <td>0590442449</td>\n",
       "      <td>5</td>\n",
       "      <td>Fourth Grade Rats</td>\n",
       "      <td>Jerry Spinelli</td>\n",
       "      <td>1</td>\n",
       "      <td>fourth grade rat</td>\n",
       "      <td>jerry spinelli</td>\n",
       "    </tr>\n",
       "  </tbody>\n",
       "</table>\n",
       "<p>1044959 rows × 8 columns</p>\n",
       "</div>"
      ],
      "text/plain": [
       "         UserID        ISBN  User_Rating  \\\n",
       "0        276725  034545104X            1   \n",
       "1        276726  0155061224            3   \n",
       "2        276727  0446520802            1   \n",
       "3        276729  052165615X            2   \n",
       "4        276729  0521795028            4   \n",
       "...         ...         ...          ...   \n",
       "1163597  276704  0876044011            1   \n",
       "1163598  276704  1563526298            5   \n",
       "1163599  276706  0679447156            1   \n",
       "1163600  276709  0515107662            5   \n",
       "1163601  276721  0590442449            5   \n",
       "\n",
       "                                                     Title             Author  \\\n",
       "0                                     Flesh Tones: A Novel         M. J. Rose   \n",
       "1                                         Rites of Passage         Judith Rae   \n",
       "2                                             The Notebook    Nicholas Sparks   \n",
       "3                                           Help!: Level 1      Philip Prowse   \n",
       "4        The Amsterdam Connection : Level 4 (Cambridge ...        Sue Leather   \n",
       "...                                                    ...                ...   \n",
       "1163597  Edgar Cayce on the Akashic Records: The Book o...  Kevin J. Todeschi   \n",
       "1163598  Get Clark Smart : The Ultimate Guide for the S...       Clark Howard   \n",
       "1163599  Eight Weeks to Optimum Health: A Proven Progra...        Andrew Weil   \n",
       "1163600   The Sherbrooke Bride (Bride Trilogy (Paperback))  Catherine Coulter   \n",
       "1163601                                  Fourth Grade Rats     Jerry Spinelli   \n",
       "\n",
       "         Average_Rating                                      cleaned_title  \\\n",
       "0                     2                                   flesh tone novel   \n",
       "1                     2                                       rite passage   \n",
       "2                     2                                           notebook   \n",
       "3                     2                                         help level   \n",
       "4                     3  amsterdam connection level cambridge english r...   \n",
       "...                 ...                                                ...   \n",
       "1163597               1               edgar cayce akashic record book life   \n",
       "1163598               4      get clark smart ultimate guide savvy consumer   \n",
       "1163599               2  eight week optimum health proven program takin...   \n",
       "1163600               2           sherbrooke bride bride trilogy paperback   \n",
       "1163601               1                                   fourth grade rat   \n",
       "\n",
       "            cleaned_author  \n",
       "0                   j rose  \n",
       "1               judith rae  \n",
       "2           nicholas spark  \n",
       "3            philip prowse  \n",
       "4              sue leather  \n",
       "...                    ...  \n",
       "1163597   kevin j todeschi  \n",
       "1163598       clark howard  \n",
       "1163599        andrew weil  \n",
       "1163600  catherine coulter  \n",
       "1163601     jerry spinelli  \n",
       "\n",
       "[1044959 rows x 8 columns]"
      ]
     },
     "execution_count": 105,
     "metadata": {},
     "output_type": "execute_result"
    }
   ],
   "source": [
    "bx.drop(columns=['Year', 'Publisher'], inplace=True)\n",
    "bx"
   ]
  },
  {
   "cell_type": "code",
   "execution_count": 106,
   "metadata": {},
   "outputs": [
    {
     "data": {
      "text/plain": [
       "241071"
      ]
     },
     "execution_count": 106,
     "metadata": {},
     "output_type": "execute_result"
    }
   ],
   "source": [
    "bx['Title'].nunique()"
   ]
  },
  {
   "cell_type": "code",
   "execution_count": 108,
   "metadata": {},
   "outputs": [
    {
     "data": {
      "text/html": [
       "<div>\n",
       "<style scoped>\n",
       "    .dataframe tbody tr th:only-of-type {\n",
       "        vertical-align: middle;\n",
       "    }\n",
       "\n",
       "    .dataframe tbody tr th {\n",
       "        vertical-align: top;\n",
       "    }\n",
       "\n",
       "    .dataframe thead th {\n",
       "        text-align: right;\n",
       "    }\n",
       "</style>\n",
       "<table border=\"1\" class=\"dataframe\">\n",
       "  <thead>\n",
       "    <tr style=\"text-align: right;\">\n",
       "      <th></th>\n",
       "      <th>id</th>\n",
       "      <th>BookID</th>\n",
       "      <th>ISBN</th>\n",
       "      <th>Author</th>\n",
       "      <th>Title</th>\n",
       "      <th>Average_Rating</th>\n",
       "      <th>UserID</th>\n",
       "      <th>User_Rating</th>\n",
       "      <th>cleaned_title</th>\n",
       "      <th>cleaned_author</th>\n",
       "    </tr>\n",
       "  </thead>\n",
       "  <tbody>\n",
       "    <tr>\n",
       "      <th>0</th>\n",
       "      <td>1</td>\n",
       "      <td>2767052</td>\n",
       "      <td>439023483</td>\n",
       "      <td>Suzanne Collins</td>\n",
       "      <td>The Hunger Games</td>\n",
       "      <td>4</td>\n",
       "      <td>314</td>\n",
       "      <td>5</td>\n",
       "      <td>hunger game</td>\n",
       "      <td>suzanne collins</td>\n",
       "    </tr>\n",
       "    <tr>\n",
       "      <th>1</th>\n",
       "      <td>1</td>\n",
       "      <td>2767052</td>\n",
       "      <td>439023483</td>\n",
       "      <td>Suzanne Collins</td>\n",
       "      <td>The Hunger Games</td>\n",
       "      <td>4</td>\n",
       "      <td>439</td>\n",
       "      <td>3</td>\n",
       "      <td>hunger game</td>\n",
       "      <td>suzanne collins</td>\n",
       "    </tr>\n",
       "    <tr>\n",
       "      <th>2</th>\n",
       "      <td>1</td>\n",
       "      <td>2767052</td>\n",
       "      <td>439023483</td>\n",
       "      <td>Suzanne Collins</td>\n",
       "      <td>The Hunger Games</td>\n",
       "      <td>4</td>\n",
       "      <td>588</td>\n",
       "      <td>5</td>\n",
       "      <td>hunger game</td>\n",
       "      <td>suzanne collins</td>\n",
       "    </tr>\n",
       "    <tr>\n",
       "      <th>3</th>\n",
       "      <td>1</td>\n",
       "      <td>2767052</td>\n",
       "      <td>439023483</td>\n",
       "      <td>Suzanne Collins</td>\n",
       "      <td>The Hunger Games</td>\n",
       "      <td>4</td>\n",
       "      <td>1169</td>\n",
       "      <td>4</td>\n",
       "      <td>hunger game</td>\n",
       "      <td>suzanne collins</td>\n",
       "    </tr>\n",
       "    <tr>\n",
       "      <th>4</th>\n",
       "      <td>1</td>\n",
       "      <td>2767052</td>\n",
       "      <td>439023483</td>\n",
       "      <td>Suzanne Collins</td>\n",
       "      <td>The Hunger Games</td>\n",
       "      <td>4</td>\n",
       "      <td>1185</td>\n",
       "      <td>4</td>\n",
       "      <td>hunger game</td>\n",
       "      <td>suzanne collins</td>\n",
       "    </tr>\n",
       "    <tr>\n",
       "      <th>...</th>\n",
       "      <td>...</td>\n",
       "      <td>...</td>\n",
       "      <td>...</td>\n",
       "      <td>...</td>\n",
       "      <td>...</td>\n",
       "      <td>...</td>\n",
       "      <td>...</td>\n",
       "      <td>...</td>\n",
       "      <td>...</td>\n",
       "      <td>...</td>\n",
       "    </tr>\n",
       "    <tr>\n",
       "      <th>981751</th>\n",
       "      <td>10000</td>\n",
       "      <td>8914</td>\n",
       "      <td>0375400524</td>\n",
       "      <td>John Keegan</td>\n",
       "      <td>The First World War</td>\n",
       "      <td>4</td>\n",
       "      <td>48386</td>\n",
       "      <td>5</td>\n",
       "      <td>first world war</td>\n",
       "      <td>john keegan</td>\n",
       "    </tr>\n",
       "    <tr>\n",
       "      <th>981752</th>\n",
       "      <td>10000</td>\n",
       "      <td>8914</td>\n",
       "      <td>0375400524</td>\n",
       "      <td>John Keegan</td>\n",
       "      <td>The First World War</td>\n",
       "      <td>4</td>\n",
       "      <td>49007</td>\n",
       "      <td>4</td>\n",
       "      <td>first world war</td>\n",
       "      <td>john keegan</td>\n",
       "    </tr>\n",
       "    <tr>\n",
       "      <th>981753</th>\n",
       "      <td>10000</td>\n",
       "      <td>8914</td>\n",
       "      <td>0375400524</td>\n",
       "      <td>John Keegan</td>\n",
       "      <td>The First World War</td>\n",
       "      <td>4</td>\n",
       "      <td>49383</td>\n",
       "      <td>5</td>\n",
       "      <td>first world war</td>\n",
       "      <td>john keegan</td>\n",
       "    </tr>\n",
       "    <tr>\n",
       "      <th>981754</th>\n",
       "      <td>10000</td>\n",
       "      <td>8914</td>\n",
       "      <td>0375400524</td>\n",
       "      <td>John Keegan</td>\n",
       "      <td>The First World War</td>\n",
       "      <td>4</td>\n",
       "      <td>50124</td>\n",
       "      <td>5</td>\n",
       "      <td>first world war</td>\n",
       "      <td>john keegan</td>\n",
       "    </tr>\n",
       "    <tr>\n",
       "      <th>981755</th>\n",
       "      <td>10000</td>\n",
       "      <td>8914</td>\n",
       "      <td>0375400524</td>\n",
       "      <td>John Keegan</td>\n",
       "      <td>The First World War</td>\n",
       "      <td>4</td>\n",
       "      <td>51328</td>\n",
       "      <td>1</td>\n",
       "      <td>first world war</td>\n",
       "      <td>john keegan</td>\n",
       "    </tr>\n",
       "  </tbody>\n",
       "</table>\n",
       "<p>874262 rows × 10 columns</p>\n",
       "</div>"
      ],
      "text/plain": [
       "           id   BookID        ISBN           Author                Title  \\\n",
       "0           1  2767052   439023483  Suzanne Collins     The Hunger Games   \n",
       "1           1  2767052   439023483  Suzanne Collins     The Hunger Games   \n",
       "2           1  2767052   439023483  Suzanne Collins     The Hunger Games   \n",
       "3           1  2767052   439023483  Suzanne Collins     The Hunger Games   \n",
       "4           1  2767052   439023483  Suzanne Collins     The Hunger Games   \n",
       "...       ...      ...         ...              ...                  ...   \n",
       "981751  10000     8914  0375400524      John Keegan  The First World War   \n",
       "981752  10000     8914  0375400524      John Keegan  The First World War   \n",
       "981753  10000     8914  0375400524      John Keegan  The First World War   \n",
       "981754  10000     8914  0375400524      John Keegan  The First World War   \n",
       "981755  10000     8914  0375400524      John Keegan  The First World War   \n",
       "\n",
       "        Average_Rating  UserID  User_Rating    cleaned_title   cleaned_author  \n",
       "0                    4     314            5      hunger game  suzanne collins  \n",
       "1                    4     439            3      hunger game  suzanne collins  \n",
       "2                    4     588            5      hunger game  suzanne collins  \n",
       "3                    4    1169            4      hunger game  suzanne collins  \n",
       "4                    4    1185            4      hunger game  suzanne collins  \n",
       "...                ...     ...          ...              ...              ...  \n",
       "981751               4   48386            5  first world war      john keegan  \n",
       "981752               4   49007            4  first world war      john keegan  \n",
       "981753               4   49383            5  first world war      john keegan  \n",
       "981754               4   50124            5  first world war      john keegan  \n",
       "981755               4   51328            1  first world war      john keegan  \n",
       "\n",
       "[874262 rows x 10 columns]"
      ]
     },
     "execution_count": 108,
     "metadata": {},
     "output_type": "execute_result"
    }
   ],
   "source": [
    "gbx.drop(columns=['Year'], inplace=True)\n",
    "gbx"
   ]
  },
  {
   "cell_type": "code",
   "execution_count": 109,
   "metadata": {},
   "outputs": [
    {
     "data": {
      "text/plain": [
       "8755"
      ]
     },
     "execution_count": 109,
     "metadata": {},
     "output_type": "execute_result"
    }
   ],
   "source": [
    "gbx['Title'].nunique()"
   ]
  },
  {
   "cell_type": "code",
   "execution_count": 110,
   "metadata": {},
   "outputs": [
    {
     "name": "stdout",
     "output_type": "stream",
     "text": [
      "\u001b[33mDEPRECATION: Configuring installation scheme with distutils config files is deprecated and will no longer work in the near future. If you are using a Homebrew or Linuxbrew Python, please see discussion at https://github.com/Homebrew/homebrew-core/issues/76621\u001b[0m\u001b[33m\n",
      "\u001b[0mRequirement already satisfied: requests in /opt/homebrew/lib/python3.9/site-packages (2.31.0)\n",
      "Requirement already satisfied: beautifulsoup4 in /opt/homebrew/lib/python3.9/site-packages (4.12.3)\n",
      "Requirement already satisfied: charset-normalizer<4,>=2 in /opt/homebrew/lib/python3.9/site-packages (from requests) (3.3.2)\n",
      "Requirement already satisfied: idna<4,>=2.5 in /opt/homebrew/lib/python3.9/site-packages (from requests) (3.6)\n",
      "Requirement already satisfied: urllib3<3,>=1.21.1 in /opt/homebrew/lib/python3.9/site-packages (from requests) (2.2.0)\n",
      "Requirement already satisfied: certifi>=2017.4.17 in /opt/homebrew/lib/python3.9/site-packages (from requests) (2024.2.2)\n",
      "Requirement already satisfied: soupsieve>1.2 in /opt/homebrew/lib/python3.9/site-packages (from beautifulsoup4) (2.5)\n",
      "\u001b[33mDEPRECATION: Configuring installation scheme with distutils config files is deprecated and will no longer work in the near future. If you are using a Homebrew or Linuxbrew Python, please see discussion at https://github.com/Homebrew/homebrew-core/issues/76621\u001b[0m\u001b[33m\n",
      "\u001b[0mNote: you may need to restart the kernel to use updated packages.\n"
     ]
    }
   ],
   "source": [
    "pip install requests beautifulsoup4"
   ]
  },
  {
   "cell_type": "code",
   "execution_count": 111,
   "metadata": {},
   "outputs": [
    {
     "name": "stdout",
     "output_type": "stream",
     "text": [
      "\u001b[33mDEPRECATION: Configuring installation scheme with distutils config files is deprecated and will no longer work in the near future. If you are using a Homebrew or Linuxbrew Python, please see discussion at https://github.com/Homebrew/homebrew-core/issues/76621\u001b[0m\u001b[33m\n",
      "\u001b[0mRequirement already satisfied: requests in /opt/homebrew/lib/python3.9/site-packages (2.31.0)\n",
      "Requirement already satisfied: charset-normalizer<4,>=2 in /opt/homebrew/lib/python3.9/site-packages (from requests) (3.3.2)\n",
      "Requirement already satisfied: idna<4,>=2.5 in /opt/homebrew/lib/python3.9/site-packages (from requests) (3.6)\n",
      "Requirement already satisfied: urllib3<3,>=1.21.1 in /opt/homebrew/lib/python3.9/site-packages (from requests) (2.2.0)\n",
      "Requirement already satisfied: certifi>=2017.4.17 in /opt/homebrew/lib/python3.9/site-packages (from requests) (2024.2.2)\n",
      "\u001b[33mDEPRECATION: Configuring installation scheme with distutils config files is deprecated and will no longer work in the near future. If you are using a Homebrew or Linuxbrew Python, please see discussion at https://github.com/Homebrew/homebrew-core/issues/76621\u001b[0m\u001b[33m\n",
      "\u001b[0mNote: you may need to restart the kernel to use updated packages.\n"
     ]
    }
   ],
   "source": [
    "pip install requests"
   ]
  },
  {
   "cell_type": "code",
   "execution_count": 112,
   "metadata": {},
   "outputs": [],
   "source": [
    "import requests\n",
    "from bs4 import BeautifulSoup\n",
    "import pandas as pd\n",
    "import time\n",
    "import json\n",
    "from requests.exceptions import RequestException"
   ]
  },
  {
   "cell_type": "markdown",
   "metadata": {},
   "source": [
    "### Functions for web-scraping for 'gbx' data frame"
   ]
  },
  {
   "cell_type": "code",
   "execution_count": 113,
   "metadata": {},
   "outputs": [],
   "source": [
    "# Load or create cache\n",
    "def load_cache(cache_file='goodreads_genre_cache.json'):\n",
    "    try:\n",
    "        with open(cache_file, 'r') as file:\n",
    "            cache = json.load(file)\n",
    "    except FileNotFoundError:\n",
    "        cache = {}\n",
    "    return cache"
   ]
  },
  {
   "cell_type": "code",
   "execution_count": 114,
   "metadata": {},
   "outputs": [],
   "source": [
    "# Save cache\n",
    "def save_cache(cache, cache_file='goodreads_genre_cache.json'):\n",
    "    with open(cache_file, 'w') as file:\n",
    "        json.dump(cache, file, indent=4)"
   ]
  },
  {
   "cell_type": "code",
   "execution_count": 115,
   "metadata": {},
   "outputs": [],
   "source": [
    "# Handle request with retry mechanism\n",
    "def make_request_with_retries(url, headers=None, max_retries=5, timeout=10):\n",
    "    for attempt in range(max_retries):\n",
    "        try:\n",
    "            response = requests.get(url, headers=headers, timeout=timeout)\n",
    "            response.raise_for_status()  # Raises exception for 4XX or 5XX status codes\n",
    "            return response\n",
    "        except RequestException as e:\n",
    "            print(f\"Request failed, attempt {attempt + 1}/{max_retries}. Error: {e}\")\n",
    "            time.sleep(2 ** attempt)  # Exponential backoff\n",
    "    print(\"Max retries exceeded.\")\n",
    "    return None"
   ]
  },
  {
   "cell_type": "code",
   "execution_count": 116,
   "metadata": {},
   "outputs": [],
   "source": [
    "# Scrape genres from Goodreads\n",
    "def scrape_genres_from_goodreads(title, cache):\n",
    "    if title in cache:  # Skip if already in cache\n",
    "        print(f\"Skipping cached title: {title}\")\n",
    "        return cache[title]\n",
    "    \n",
    "    search_url = f\"https://www.goodreads.com/search?q={requests.utils.quote(title)}\"\n",
    "    headers = {\n",
    "        'User-Agent': 'Mozilla/5.0'\n",
    "    }\n",
    "\n",
    "    try:\n",
    "        response = requests.get(search_url, headers=headers)\n",
    "        if response.status_code == 200:\n",
    "            soup = BeautifulSoup(response.content, 'html.parser')\n",
    "            book_link = soup.select_one('a.bookTitle')\n",
    "            if book_link:\n",
    "                book_page_url = 'https://www.goodreads.com' + book_link['href']\n",
    "                book_response = requests.get(book_page_url, headers=headers)\n",
    "                if book_response.status_code == 200:\n",
    "                    book_soup = BeautifulSoup(book_response.content, 'html.parser')\n",
    "                    # genres = [genre.text.strip() for genre in book_soup.select('.BookPageMetadataSection__genres .actionLinkLite.bookPageGenreLink')]\n",
    "                    genres = [genre.text.strip() for genre in book_soup.select('a[href*=\"/genres/\"]')]\n",
    "                    if genres:\n",
    "                        cache[title] = genres\n",
    "                        print(f\"Retrieved genres for {title}: {genres}\")\n",
    "                        return genres\n",
    "        # cache[title] = ['No Genres Found']\n",
    "        # print(f\"Genres not found for {title}\")\n",
    "        # return ['No Genres Found']\n",
    "    \n",
    "    except Exception as e:\n",
    "        print(f\"Error fetching data for '{title}': {e}\")\n",
    "    \n",
    "    cache[title] = ['No Genres Found']\n",
    "    return ['No Genres Found']"
   ]
  },
  {
   "cell_type": "code",
   "execution_count": 117,
   "metadata": {},
   "outputs": [],
   "source": [
    "def add_genres_to_dataframe(df, start_index, batch_size=50, delay_between_batches=20, cache_file='goodreads_genre_cache.json'):\n",
    "    cache = load_cache(cache_file)\n",
    "    total_batches = (len(df) - start_index + batch_size - 1) // batch_size\n",
    "\n",
    "    for batch_num in range(total_batches):\n",
    "        # start_index = batch_num * batch_size\n",
    "        # end_index = min(start_index + batch_size, len(df))\n",
    "        # batch = df.iloc[start_index:end_index]\n",
    "        batch_start_index = start_index + batch_num * batch_size\n",
    "        batch_end_index = min(batch_start_index + batch_size, len(df))\n",
    "        batch = df.iloc[batch_start_index:batch_end_index]\n",
    "\n",
    "        for index, row in batch.iterrows():\n",
    "            title = row['Title']\n",
    "            genres = scrape_genres_from_goodreads(title, cache)\n",
    "            df.at[index, 'Genres'] = ', '.join(genres)\n",
    "\n",
    "        save_cache(cache, cache_file)\n",
    "        print(f\"Processed batch {batch_num + 1} of {total_batches}.\")\n",
    "        # print(df)  # Print the updated DataFrame\n",
    "        print(df.iloc[batch_start_index:batch_end_index])  # Print the updated DataFrame batch\n",
    "\n",
    "        if batch_num < total_batches - 1:\n",
    "            time.sleep(delay_between_batches)\n",
    "\n",
    "    return df"
   ]
  },
  {
   "cell_type": "code",
   "execution_count": null,
   "metadata": {},
   "outputs": [],
   "source": [
    "# start_index = 1936  # Specify the index to start from\n",
    "# gbx_with_genres = add_genres_to_dataframe(gbx, start_index, batch_size=50, delay_between_batches=20)"
   ]
  },
  {
   "cell_type": "code",
   "execution_count": 118,
   "metadata": {},
   "outputs": [
    {
     "name": "stdout",
     "output_type": "stream",
     "text": [
      "Number of books with genres cached: 9242\n"
     ]
    }
   ],
   "source": [
    "#Function to count the number of scraped books\n",
    "import json\n",
    "\n",
    "def count_cached_books(cache_file='goodreads_genre_cache.json'):\n",
    "    try:\n",
    "        with open(cache_file, 'r') as file:\n",
    "            cache = json.load(file)\n",
    "        num_cached_books = len(cache)\n",
    "        print(f\"Number of books with genres cached: {num_cached_books}\")\n",
    "    except FileNotFoundError:\n",
    "        print(\"Cache file not found. No books with genres cached.\")\n",
    "\n",
    "# Call the function to count cached books\n",
    "count_cached_books()"
   ]
  },
  {
   "cell_type": "code",
   "execution_count": 119,
   "metadata": {},
   "outputs": [],
   "source": [
    "# Function to update the DataFrame with genres from the cache within specified indices\n",
    "def update_genres_from_cache_with_indices(df, cache, start_index, stop_index):\n",
    "    # Ensure stop_index does not exceed the DataFrame's length\n",
    "    stop_index = min(stop_index, len(df))\n",
    "    \n",
    "    for index in range(start_index, stop_index):\n",
    "        title = df.at[index, 'Title']\n",
    "        # Update the 'Genres' column from the cache if the title exists in the cache\n",
    "        if title in cache:\n",
    "            df.at[index, 'Genres'] = ', '.join(cache[title])\n",
    "        else:\n",
    "            # Optional: Handle titles not found in the cache\n",
    "            df.at[index, 'Genres'] = 'Genres Not Found'  # or leave as is or any other placeholder you prefer\n"
   ]
  },
  {
   "cell_type": "code",
   "execution_count": 123,
   "metadata": {},
   "outputs": [],
   "source": [
    "gbx.reset_index(drop=True, inplace=True)"
   ]
  },
  {
   "cell_type": "code",
   "execution_count": 125,
   "metadata": {},
   "outputs": [
    {
     "data": {
      "text/plain": [
       "874261"
      ]
     },
     "execution_count": 125,
     "metadata": {},
     "output_type": "execute_result"
    }
   ],
   "source": [
    "gbx.index[-1]"
   ]
  },
  {
   "cell_type": "code",
   "execution_count": 126,
   "metadata": {},
   "outputs": [],
   "source": [
    "start_index = 0  # Start from the beginning or any index you prefer\n",
    "stop_index = 874261  # Specify your stop index\n",
    "\n",
    "cache = load_cache()# Load the cached genres\n",
    "\n",
    "# Update the DataFrame within the specified index range\n",
    "update_genres_from_cache_with_indices(gbx, cache, start_index, stop_index)"
   ]
  },
  {
   "cell_type": "code",
   "execution_count": 127,
   "metadata": {},
   "outputs": [
    {
     "data": {
      "text/html": [
       "<div>\n",
       "<style scoped>\n",
       "    .dataframe tbody tr th:only-of-type {\n",
       "        vertical-align: middle;\n",
       "    }\n",
       "\n",
       "    .dataframe tbody tr th {\n",
       "        vertical-align: top;\n",
       "    }\n",
       "\n",
       "    .dataframe thead th {\n",
       "        text-align: right;\n",
       "    }\n",
       "</style>\n",
       "<table border=\"1\" class=\"dataframe\">\n",
       "  <thead>\n",
       "    <tr style=\"text-align: right;\">\n",
       "      <th></th>\n",
       "      <th>id</th>\n",
       "      <th>BookID</th>\n",
       "      <th>ISBN</th>\n",
       "      <th>Author</th>\n",
       "      <th>Title</th>\n",
       "      <th>Average_Rating</th>\n",
       "      <th>UserID</th>\n",
       "      <th>User_Rating</th>\n",
       "      <th>cleaned_title</th>\n",
       "      <th>cleaned_author</th>\n",
       "      <th>Genres</th>\n",
       "    </tr>\n",
       "  </thead>\n",
       "  <tbody>\n",
       "    <tr>\n",
       "      <th>0</th>\n",
       "      <td>1</td>\n",
       "      <td>2767052</td>\n",
       "      <td>439023483</td>\n",
       "      <td>Suzanne Collins</td>\n",
       "      <td>The Hunger Games</td>\n",
       "      <td>4</td>\n",
       "      <td>314</td>\n",
       "      <td>5</td>\n",
       "      <td>hunger game</td>\n",
       "      <td>suzanne collins</td>\n",
       "      <td>Young Adult, Fiction, Fantasy, Dystopia, Scien...</td>\n",
       "    </tr>\n",
       "    <tr>\n",
       "      <th>1</th>\n",
       "      <td>1</td>\n",
       "      <td>2767052</td>\n",
       "      <td>439023483</td>\n",
       "      <td>Suzanne Collins</td>\n",
       "      <td>The Hunger Games</td>\n",
       "      <td>4</td>\n",
       "      <td>439</td>\n",
       "      <td>3</td>\n",
       "      <td>hunger game</td>\n",
       "      <td>suzanne collins</td>\n",
       "      <td>Young Adult, Fiction, Fantasy, Dystopia, Scien...</td>\n",
       "    </tr>\n",
       "    <tr>\n",
       "      <th>2</th>\n",
       "      <td>1</td>\n",
       "      <td>2767052</td>\n",
       "      <td>439023483</td>\n",
       "      <td>Suzanne Collins</td>\n",
       "      <td>The Hunger Games</td>\n",
       "      <td>4</td>\n",
       "      <td>588</td>\n",
       "      <td>5</td>\n",
       "      <td>hunger game</td>\n",
       "      <td>suzanne collins</td>\n",
       "      <td>Young Adult, Fiction, Fantasy, Dystopia, Scien...</td>\n",
       "    </tr>\n",
       "    <tr>\n",
       "      <th>3</th>\n",
       "      <td>1</td>\n",
       "      <td>2767052</td>\n",
       "      <td>439023483</td>\n",
       "      <td>Suzanne Collins</td>\n",
       "      <td>The Hunger Games</td>\n",
       "      <td>4</td>\n",
       "      <td>1169</td>\n",
       "      <td>4</td>\n",
       "      <td>hunger game</td>\n",
       "      <td>suzanne collins</td>\n",
       "      <td>Young Adult, Fiction, Fantasy, Dystopia, Scien...</td>\n",
       "    </tr>\n",
       "    <tr>\n",
       "      <th>4</th>\n",
       "      <td>1</td>\n",
       "      <td>2767052</td>\n",
       "      <td>439023483</td>\n",
       "      <td>Suzanne Collins</td>\n",
       "      <td>The Hunger Games</td>\n",
       "      <td>4</td>\n",
       "      <td>1185</td>\n",
       "      <td>4</td>\n",
       "      <td>hunger game</td>\n",
       "      <td>suzanne collins</td>\n",
       "      <td>Young Adult, Fiction, Fantasy, Dystopia, Scien...</td>\n",
       "    </tr>\n",
       "    <tr>\n",
       "      <th>...</th>\n",
       "      <td>...</td>\n",
       "      <td>...</td>\n",
       "      <td>...</td>\n",
       "      <td>...</td>\n",
       "      <td>...</td>\n",
       "      <td>...</td>\n",
       "      <td>...</td>\n",
       "      <td>...</td>\n",
       "      <td>...</td>\n",
       "      <td>...</td>\n",
       "      <td>...</td>\n",
       "    </tr>\n",
       "    <tr>\n",
       "      <th>874257</th>\n",
       "      <td>10000</td>\n",
       "      <td>8914</td>\n",
       "      <td>0375400524</td>\n",
       "      <td>John Keegan</td>\n",
       "      <td>The First World War</td>\n",
       "      <td>4</td>\n",
       "      <td>48386</td>\n",
       "      <td>5</td>\n",
       "      <td>first world war</td>\n",
       "      <td>john keegan</td>\n",
       "      <td>History, Nonfiction, War, World War I, Militar...</td>\n",
       "    </tr>\n",
       "    <tr>\n",
       "      <th>874258</th>\n",
       "      <td>10000</td>\n",
       "      <td>8914</td>\n",
       "      <td>0375400524</td>\n",
       "      <td>John Keegan</td>\n",
       "      <td>The First World War</td>\n",
       "      <td>4</td>\n",
       "      <td>49007</td>\n",
       "      <td>4</td>\n",
       "      <td>first world war</td>\n",
       "      <td>john keegan</td>\n",
       "      <td>History, Nonfiction, War, World War I, Militar...</td>\n",
       "    </tr>\n",
       "    <tr>\n",
       "      <th>874259</th>\n",
       "      <td>10000</td>\n",
       "      <td>8914</td>\n",
       "      <td>0375400524</td>\n",
       "      <td>John Keegan</td>\n",
       "      <td>The First World War</td>\n",
       "      <td>4</td>\n",
       "      <td>49383</td>\n",
       "      <td>5</td>\n",
       "      <td>first world war</td>\n",
       "      <td>john keegan</td>\n",
       "      <td>History, Nonfiction, War, World War I, Militar...</td>\n",
       "    </tr>\n",
       "    <tr>\n",
       "      <th>874260</th>\n",
       "      <td>10000</td>\n",
       "      <td>8914</td>\n",
       "      <td>0375400524</td>\n",
       "      <td>John Keegan</td>\n",
       "      <td>The First World War</td>\n",
       "      <td>4</td>\n",
       "      <td>50124</td>\n",
       "      <td>5</td>\n",
       "      <td>first world war</td>\n",
       "      <td>john keegan</td>\n",
       "      <td>History, Nonfiction, War, World War I, Militar...</td>\n",
       "    </tr>\n",
       "    <tr>\n",
       "      <th>874261</th>\n",
       "      <td>10000</td>\n",
       "      <td>8914</td>\n",
       "      <td>0375400524</td>\n",
       "      <td>John Keegan</td>\n",
       "      <td>The First World War</td>\n",
       "      <td>4</td>\n",
       "      <td>51328</td>\n",
       "      <td>1</td>\n",
       "      <td>first world war</td>\n",
       "      <td>john keegan</td>\n",
       "      <td>NaN</td>\n",
       "    </tr>\n",
       "  </tbody>\n",
       "</table>\n",
       "<p>874262 rows × 11 columns</p>\n",
       "</div>"
      ],
      "text/plain": [
       "           id   BookID        ISBN           Author                Title  \\\n",
       "0           1  2767052   439023483  Suzanne Collins     The Hunger Games   \n",
       "1           1  2767052   439023483  Suzanne Collins     The Hunger Games   \n",
       "2           1  2767052   439023483  Suzanne Collins     The Hunger Games   \n",
       "3           1  2767052   439023483  Suzanne Collins     The Hunger Games   \n",
       "4           1  2767052   439023483  Suzanne Collins     The Hunger Games   \n",
       "...       ...      ...         ...              ...                  ...   \n",
       "874257  10000     8914  0375400524      John Keegan  The First World War   \n",
       "874258  10000     8914  0375400524      John Keegan  The First World War   \n",
       "874259  10000     8914  0375400524      John Keegan  The First World War   \n",
       "874260  10000     8914  0375400524      John Keegan  The First World War   \n",
       "874261  10000     8914  0375400524      John Keegan  The First World War   \n",
       "\n",
       "        Average_Rating  UserID  User_Rating    cleaned_title   cleaned_author  \\\n",
       "0                    4     314            5      hunger game  suzanne collins   \n",
       "1                    4     439            3      hunger game  suzanne collins   \n",
       "2                    4     588            5      hunger game  suzanne collins   \n",
       "3                    4    1169            4      hunger game  suzanne collins   \n",
       "4                    4    1185            4      hunger game  suzanne collins   \n",
       "...                ...     ...          ...              ...              ...   \n",
       "874257               4   48386            5  first world war      john keegan   \n",
       "874258               4   49007            4  first world war      john keegan   \n",
       "874259               4   49383            5  first world war      john keegan   \n",
       "874260               4   50124            5  first world war      john keegan   \n",
       "874261               4   51328            1  first world war      john keegan   \n",
       "\n",
       "                                                   Genres  \n",
       "0       Young Adult, Fiction, Fantasy, Dystopia, Scien...  \n",
       "1       Young Adult, Fiction, Fantasy, Dystopia, Scien...  \n",
       "2       Young Adult, Fiction, Fantasy, Dystopia, Scien...  \n",
       "3       Young Adult, Fiction, Fantasy, Dystopia, Scien...  \n",
       "4       Young Adult, Fiction, Fantasy, Dystopia, Scien...  \n",
       "...                                                   ...  \n",
       "874257  History, Nonfiction, War, World War I, Militar...  \n",
       "874258  History, Nonfiction, War, World War I, Militar...  \n",
       "874259  History, Nonfiction, War, World War I, Militar...  \n",
       "874260  History, Nonfiction, War, World War I, Militar...  \n",
       "874261                                                NaN  \n",
       "\n",
       "[874262 rows x 11 columns]"
      ]
     },
     "execution_count": 127,
     "metadata": {},
     "output_type": "execute_result"
    }
   ],
   "source": [
    "gbx"
   ]
  },
  {
   "cell_type": "code",
   "execution_count": 129,
   "metadata": {},
   "outputs": [
    {
     "data": {
      "text/plain": [
       "51611"
      ]
     },
     "execution_count": 129,
     "metadata": {},
     "output_type": "execute_result"
    }
   ],
   "source": [
    "(gbx['Genres'] == 'No Genres Found').sum()"
   ]
  },
  {
   "cell_type": "code",
   "execution_count": 130,
   "metadata": {},
   "outputs": [],
   "source": [
    "gbx['Genres'] = gbx['Genres'].replace('Genres Not Found', 'No Genres Found')"
   ]
  },
  {
   "cell_type": "code",
   "execution_count": 131,
   "metadata": {},
   "outputs": [
    {
     "data": {
      "text/plain": [
       "54611"
      ]
     },
     "execution_count": 131,
     "metadata": {},
     "output_type": "execute_result"
    }
   ],
   "source": [
    "(gbx['Genres'] == 'No Genres Found').sum()"
   ]
  },
  {
   "cell_type": "code",
   "execution_count": 132,
   "metadata": {},
   "outputs": [
    {
     "data": {
      "text/plain": [
       "8755"
      ]
     },
     "execution_count": 132,
     "metadata": {},
     "output_type": "execute_result"
    }
   ],
   "source": [
    "gbx['Title'].nunique()"
   ]
  },
  {
   "cell_type": "code",
   "execution_count": 133,
   "metadata": {},
   "outputs": [
    {
     "data": {
      "text/html": [
       "<div>\n",
       "<style scoped>\n",
       "    .dataframe tbody tr th:only-of-type {\n",
       "        vertical-align: middle;\n",
       "    }\n",
       "\n",
       "    .dataframe tbody tr th {\n",
       "        vertical-align: top;\n",
       "    }\n",
       "\n",
       "    .dataframe thead th {\n",
       "        text-align: right;\n",
       "    }\n",
       "</style>\n",
       "<table border=\"1\" class=\"dataframe\">\n",
       "  <thead>\n",
       "    <tr style=\"text-align: right;\">\n",
       "      <th></th>\n",
       "      <th>id</th>\n",
       "      <th>BookID</th>\n",
       "      <th>ISBN</th>\n",
       "      <th>Author</th>\n",
       "      <th>Title</th>\n",
       "      <th>Average_Rating</th>\n",
       "      <th>UserID</th>\n",
       "      <th>User_Rating</th>\n",
       "      <th>cleaned_title</th>\n",
       "      <th>cleaned_author</th>\n",
       "      <th>Genres</th>\n",
       "    </tr>\n",
       "  </thead>\n",
       "  <tbody>\n",
       "    <tr>\n",
       "      <th>0</th>\n",
       "      <td>1</td>\n",
       "      <td>2767052</td>\n",
       "      <td>439023483</td>\n",
       "      <td>Suzanne Collins</td>\n",
       "      <td>The Hunger Games</td>\n",
       "      <td>4</td>\n",
       "      <td>314</td>\n",
       "      <td>5</td>\n",
       "      <td>hunger game</td>\n",
       "      <td>suzanne collins</td>\n",
       "      <td>Young Adult, Fiction, Fantasy, Dystopia, Scien...</td>\n",
       "    </tr>\n",
       "    <tr>\n",
       "      <th>1</th>\n",
       "      <td>1</td>\n",
       "      <td>2767052</td>\n",
       "      <td>439023483</td>\n",
       "      <td>Suzanne Collins</td>\n",
       "      <td>The Hunger Games</td>\n",
       "      <td>4</td>\n",
       "      <td>439</td>\n",
       "      <td>3</td>\n",
       "      <td>hunger game</td>\n",
       "      <td>suzanne collins</td>\n",
       "      <td>Young Adult, Fiction, Fantasy, Dystopia, Scien...</td>\n",
       "    </tr>\n",
       "    <tr>\n",
       "      <th>2</th>\n",
       "      <td>1</td>\n",
       "      <td>2767052</td>\n",
       "      <td>439023483</td>\n",
       "      <td>Suzanne Collins</td>\n",
       "      <td>The Hunger Games</td>\n",
       "      <td>4</td>\n",
       "      <td>588</td>\n",
       "      <td>5</td>\n",
       "      <td>hunger game</td>\n",
       "      <td>suzanne collins</td>\n",
       "      <td>Young Adult, Fiction, Fantasy, Dystopia, Scien...</td>\n",
       "    </tr>\n",
       "    <tr>\n",
       "      <th>3</th>\n",
       "      <td>1</td>\n",
       "      <td>2767052</td>\n",
       "      <td>439023483</td>\n",
       "      <td>Suzanne Collins</td>\n",
       "      <td>The Hunger Games</td>\n",
       "      <td>4</td>\n",
       "      <td>1169</td>\n",
       "      <td>4</td>\n",
       "      <td>hunger game</td>\n",
       "      <td>suzanne collins</td>\n",
       "      <td>Young Adult, Fiction, Fantasy, Dystopia, Scien...</td>\n",
       "    </tr>\n",
       "    <tr>\n",
       "      <th>4</th>\n",
       "      <td>1</td>\n",
       "      <td>2767052</td>\n",
       "      <td>439023483</td>\n",
       "      <td>Suzanne Collins</td>\n",
       "      <td>The Hunger Games</td>\n",
       "      <td>4</td>\n",
       "      <td>1185</td>\n",
       "      <td>4</td>\n",
       "      <td>hunger game</td>\n",
       "      <td>suzanne collins</td>\n",
       "      <td>Young Adult, Fiction, Fantasy, Dystopia, Scien...</td>\n",
       "    </tr>\n",
       "    <tr>\n",
       "      <th>...</th>\n",
       "      <td>...</td>\n",
       "      <td>...</td>\n",
       "      <td>...</td>\n",
       "      <td>...</td>\n",
       "      <td>...</td>\n",
       "      <td>...</td>\n",
       "      <td>...</td>\n",
       "      <td>...</td>\n",
       "      <td>...</td>\n",
       "      <td>...</td>\n",
       "      <td>...</td>\n",
       "    </tr>\n",
       "    <tr>\n",
       "      <th>874256</th>\n",
       "      <td>10000</td>\n",
       "      <td>8914</td>\n",
       "      <td>0375400524</td>\n",
       "      <td>John Keegan</td>\n",
       "      <td>The First World War</td>\n",
       "      <td>4</td>\n",
       "      <td>48281</td>\n",
       "      <td>4</td>\n",
       "      <td>first world war</td>\n",
       "      <td>john keegan</td>\n",
       "      <td>History, Nonfiction, War, World War I, Militar...</td>\n",
       "    </tr>\n",
       "    <tr>\n",
       "      <th>874257</th>\n",
       "      <td>10000</td>\n",
       "      <td>8914</td>\n",
       "      <td>0375400524</td>\n",
       "      <td>John Keegan</td>\n",
       "      <td>The First World War</td>\n",
       "      <td>4</td>\n",
       "      <td>48386</td>\n",
       "      <td>5</td>\n",
       "      <td>first world war</td>\n",
       "      <td>john keegan</td>\n",
       "      <td>History, Nonfiction, War, World War I, Militar...</td>\n",
       "    </tr>\n",
       "    <tr>\n",
       "      <th>874258</th>\n",
       "      <td>10000</td>\n",
       "      <td>8914</td>\n",
       "      <td>0375400524</td>\n",
       "      <td>John Keegan</td>\n",
       "      <td>The First World War</td>\n",
       "      <td>4</td>\n",
       "      <td>49007</td>\n",
       "      <td>4</td>\n",
       "      <td>first world war</td>\n",
       "      <td>john keegan</td>\n",
       "      <td>History, Nonfiction, War, World War I, Militar...</td>\n",
       "    </tr>\n",
       "    <tr>\n",
       "      <th>874259</th>\n",
       "      <td>10000</td>\n",
       "      <td>8914</td>\n",
       "      <td>0375400524</td>\n",
       "      <td>John Keegan</td>\n",
       "      <td>The First World War</td>\n",
       "      <td>4</td>\n",
       "      <td>49383</td>\n",
       "      <td>5</td>\n",
       "      <td>first world war</td>\n",
       "      <td>john keegan</td>\n",
       "      <td>History, Nonfiction, War, World War I, Militar...</td>\n",
       "    </tr>\n",
       "    <tr>\n",
       "      <th>874260</th>\n",
       "      <td>10000</td>\n",
       "      <td>8914</td>\n",
       "      <td>0375400524</td>\n",
       "      <td>John Keegan</td>\n",
       "      <td>The First World War</td>\n",
       "      <td>4</td>\n",
       "      <td>50124</td>\n",
       "      <td>5</td>\n",
       "      <td>first world war</td>\n",
       "      <td>john keegan</td>\n",
       "      <td>History, Nonfiction, War, World War I, Militar...</td>\n",
       "    </tr>\n",
       "  </tbody>\n",
       "</table>\n",
       "<p>819650 rows × 11 columns</p>\n",
       "</div>"
      ],
      "text/plain": [
       "           id   BookID        ISBN           Author                Title  \\\n",
       "0           1  2767052   439023483  Suzanne Collins     The Hunger Games   \n",
       "1           1  2767052   439023483  Suzanne Collins     The Hunger Games   \n",
       "2           1  2767052   439023483  Suzanne Collins     The Hunger Games   \n",
       "3           1  2767052   439023483  Suzanne Collins     The Hunger Games   \n",
       "4           1  2767052   439023483  Suzanne Collins     The Hunger Games   \n",
       "...       ...      ...         ...              ...                  ...   \n",
       "874256  10000     8914  0375400524      John Keegan  The First World War   \n",
       "874257  10000     8914  0375400524      John Keegan  The First World War   \n",
       "874258  10000     8914  0375400524      John Keegan  The First World War   \n",
       "874259  10000     8914  0375400524      John Keegan  The First World War   \n",
       "874260  10000     8914  0375400524      John Keegan  The First World War   \n",
       "\n",
       "        Average_Rating  UserID  User_Rating    cleaned_title   cleaned_author  \\\n",
       "0                    4     314            5      hunger game  suzanne collins   \n",
       "1                    4     439            3      hunger game  suzanne collins   \n",
       "2                    4     588            5      hunger game  suzanne collins   \n",
       "3                    4    1169            4      hunger game  suzanne collins   \n",
       "4                    4    1185            4      hunger game  suzanne collins   \n",
       "...                ...     ...          ...              ...              ...   \n",
       "874256               4   48281            4  first world war      john keegan   \n",
       "874257               4   48386            5  first world war      john keegan   \n",
       "874258               4   49007            4  first world war      john keegan   \n",
       "874259               4   49383            5  first world war      john keegan   \n",
       "874260               4   50124            5  first world war      john keegan   \n",
       "\n",
       "                                                   Genres  \n",
       "0       Young Adult, Fiction, Fantasy, Dystopia, Scien...  \n",
       "1       Young Adult, Fiction, Fantasy, Dystopia, Scien...  \n",
       "2       Young Adult, Fiction, Fantasy, Dystopia, Scien...  \n",
       "3       Young Adult, Fiction, Fantasy, Dystopia, Scien...  \n",
       "4       Young Adult, Fiction, Fantasy, Dystopia, Scien...  \n",
       "...                                                   ...  \n",
       "874256  History, Nonfiction, War, World War I, Militar...  \n",
       "874257  History, Nonfiction, War, World War I, Militar...  \n",
       "874258  History, Nonfiction, War, World War I, Militar...  \n",
       "874259  History, Nonfiction, War, World War I, Militar...  \n",
       "874260  History, Nonfiction, War, World War I, Militar...  \n",
       "\n",
       "[819650 rows x 11 columns]"
      ]
     },
     "execution_count": 133,
     "metadata": {},
     "output_type": "execute_result"
    }
   ],
   "source": [
    "# gbx_cleaned = gbx[gbx['Genres'] != 'No Genres Found'] #creating a new dataframe not containing any missing values in the genres column\n",
    "gbx_cleaned = gbx[(gbx['Genres'] != 'No Genres Found') & gbx['Genres'].notna()]\n",
    "gbx_cleaned"
   ]
  },
  {
   "cell_type": "code",
   "execution_count": 134,
   "metadata": {},
   "outputs": [
    {
     "data": {
      "text/plain": [
       "8195"
      ]
     },
     "execution_count": 134,
     "metadata": {},
     "output_type": "execute_result"
    }
   ],
   "source": [
    "gbx_cleaned['Title'].nunique()"
   ]
  },
  {
   "cell_type": "markdown",
   "metadata": {},
   "source": [
    "### Functions for web-scraping for 'bx' data frame"
   ]
  },
  {
   "cell_type": "code",
   "execution_count": 135,
   "metadata": {},
   "outputs": [
    {
     "data": {
      "text/plain": [
       "241071"
      ]
     },
     "execution_count": 135,
     "metadata": {},
     "output_type": "execute_result"
    }
   ],
   "source": [
    "bx['Title'].nunique()"
   ]
  },
  {
   "cell_type": "code",
   "execution_count": 136,
   "metadata": {},
   "outputs": [],
   "source": [
    "#Function to match title and author and copy genres from gbx_cleaned\n",
    "def match_and_copy_genres(row):\n",
    "    matched_row = gbx_cleaned[(gbx_cleaned['Title'] == row['Title']) & (gbx_cleaned['Author'] == row['Author'])]\n",
    "    if not matched_row.empty:\n",
    "        return matched_row.iloc[0]['Genres']\n",
    "    else:\n",
    "        return 'No Genres Found'"
   ]
  },
  {
   "cell_type": "code",
   "execution_count": 137,
   "metadata": {},
   "outputs": [],
   "source": [
    "# Apply the function to each row in bx\n",
    "bx['Genres'] = bx.apply(lambda row: match_and_copy_genres(row), axis=1)"
   ]
  },
  {
   "cell_type": "code",
   "execution_count": null,
   "metadata": {},
   "outputs": [],
   "source": [
    "bx"
   ]
  },
  {
   "cell_type": "code",
   "execution_count": null,
   "metadata": {},
   "outputs": [],
   "source": [
    "bx_cleaned1 = bx[bx['Genres'] != 'No Genres Found']\n",
    "bx_cleaned1"
   ]
  },
  {
   "cell_type": "code",
   "execution_count": null,
   "metadata": {},
   "outputs": [],
   "source": [
    "# Load or create cache\n",
    "def load_bookcache(cache_file='newbook_crossing_genre_cache.json'):\n",
    "    try:\n",
    "        with open(cache_file, 'r') as file:\n",
    "            cache = json.load(file)\n",
    "    except FileNotFoundError:\n",
    "        cache = {}\n",
    "    return cache"
   ]
  },
  {
   "cell_type": "code",
   "execution_count": null,
   "metadata": {},
   "outputs": [],
   "source": [
    "# Save cache\n",
    "def save_bookcache(cache, cache_file='newbook_crossing_genre_cache.json'):\n",
    "    with open(cache_file, 'w') as file:\n",
    "        json.dump(cache, file, indent=4)"
   ]
  },
  {
   "cell_type": "code",
   "execution_count": null,
   "metadata": {},
   "outputs": [],
   "source": [
    "# Handle request with retry mechanism\n",
    "def make_bookrequest_with_retries(url, headers=None, max_retries=5, timeout=10):\n",
    "    for attempt in range(max_retries):\n",
    "        try:\n",
    "            response = requests.get(url, headers=headers, timeout=timeout)\n",
    "            response.raise_for_status()  # Raises exception for 4XX or 5XX status codes\n",
    "            return response\n",
    "        except RequestException as e:\n",
    "            print(f\"Request failed, attempt {attempt + 1}/{max_retries}. Error: {e}\")\n",
    "            time.sleep(2 ** attempt)  # Exponential backoff\n",
    "    print(\"Max retries exceeded.\")\n",
    "    return None"
   ]
  },
  {
   "cell_type": "code",
   "execution_count": null,
   "metadata": {},
   "outputs": [],
   "source": [
    "# Scrape genres from Goodreads\n",
    "def scrape_bookgenres_from_goodreads(title, cache):\n",
    "    if title in cache:  # Skip if already in cache\n",
    "        print(f\"Skipping cached title: {title}\")\n",
    "        return cache[title]\n",
    "    \n",
    "    search_url = f\"https://www.goodreads.com/search?q={requests.utils.quote(title)}\"\n",
    "    headers = {\n",
    "        'User-Agent': 'Mozilla/5.0'\n",
    "    }\n",
    "\n",
    "    try:\n",
    "        response = requests.get(search_url, headers=headers)\n",
    "        if response.status_code == 200:\n",
    "            soup = BeautifulSoup(response.content, 'html.parser')\n",
    "            book_link = soup.select_one('a.bookTitle')\n",
    "            if book_link:\n",
    "                book_page_url = 'https://www.goodreads.com' + book_link['href']\n",
    "                book_response = requests.get(book_page_url, headers=headers)\n",
    "                if book_response.status_code == 200:\n",
    "                    book_soup = BeautifulSoup(book_response.content, 'html.parser')\n",
    "                    # genres = [genre.text.strip() for genre in book_soup.select('.BookPageMetadataSection__genres .actionLinkLite.bookPageGenreLink')]\n",
    "                    genres = [genre.text.strip() for genre in book_soup.select('a[href*=\"/genres/\"]')]\n",
    "                    if genres:\n",
    "                        cache[title] = genres\n",
    "                        print(f\"Retrieved genres for {title}: {genres}\")\n",
    "                        return genres\n",
    "        # cache[title] = ['No Genres Found']\n",
    "        # print(f\"Genres not found for {title}\")\n",
    "        # return ['No Genres Found']\n",
    "    \n",
    "    except Exception as e:\n",
    "        print(f\"Error fetching data for '{title}': {e}\")\n",
    "    \n",
    "    cache[title] = ['No Genres Found']\n",
    "    return ['No Genres Found']"
   ]
  },
  {
   "cell_type": "code",
   "execution_count": null,
   "metadata": {},
   "outputs": [],
   "source": [
    "def add_bookgenres_to_dataframe(df, start_index, batch_size=50, delay_between_batches=20, cache_file='newbook_crossing_genre_cache.json'):\n",
    "    cache = load_bookcache(cache_file)\n",
    "    total_batches = (len(df) - start_index + batch_size - 1) // batch_size\n",
    "\n",
    "    for batch_num in range(total_batches):\n",
    "        # start_index = batch_num * batch_size\n",
    "        # end_index = min(start_index + batch_size, len(df))\n",
    "        # batch = df.iloc[start_index:end_index]\n",
    "        batch_start_index = start_index + batch_num * batch_size\n",
    "        batch_end_index = min(batch_start_index + batch_size, len(df))\n",
    "        batch = df.iloc[batch_start_index:batch_end_index]\n",
    "\n",
    "        for index, row in batch.iterrows():\n",
    "            title = row['Title']\n",
    "            # genres = scrape_bookgenres_from_goodreads(title, cache)\n",
    "            # df.at[index, 'Genres'] = ', '.join(genres)\n",
    "\n",
    "            # Check if genre is \"No Genres Found\" or empty before scraping\n",
    "            if row['Genres'] == 'No Genres Found' or not row['Genres']:\n",
    "                genres = scrape_bookgenres_from_goodreads(title, cache)\n",
    "                # Update the Genres column only if new genres are found\n",
    "                if genres != ['No Genres Found']:\n",
    "                    df.at[index, 'Genres'] = ', '.join(genres)\n",
    "            else:\n",
    "                # Optionally, print a message for titles that are skipped\n",
    "                print(f\"Skipping '{title}' as it already has genres.\")\n",
    "\n",
    "        save_bookcache(cache, cache_file)\n",
    "        print(f\"Processed batch {batch_num + 1} of {total_batches}.\")\n",
    "        # print(df)  # Print the updated DataFrame\n",
    "        print(df.iloc[batch_start_index:batch_end_index])  # Print the updated DataFrame batch\n",
    "\n",
    "        if batch_num < total_batches - 1:\n",
    "            time.sleep(delay_between_batches)\n",
    "\n",
    "    return df"
   ]
  },
  {
   "cell_type": "code",
   "execution_count": null,
   "metadata": {},
   "outputs": [],
   "source": [
    "# start_index = 27400  # Specify the index to start from\n",
    "# newbx_with_genres = add_bookgenres_to_dataframe(bx, start_index, batch_size=50, delay_between_batches=10)"
   ]
  },
  {
   "cell_type": "code",
   "execution_count": null,
   "metadata": {},
   "outputs": [],
   "source": [
    "# Function to update the DataFrame with genres from the cache within specified indices\n",
    "def update_genres_from_bookcache_with_indices(df, cache, start_index, stop_index):\n",
    "    # Ensure stop_index does not exceed the DataFrame's length\n",
    "    stop_index = min(stop_index, len(df))\n",
    "    \n",
    "    for index in range(start_index, stop_index):\n",
    "        title = df.at[index, 'Title']\n",
    "        # Update the 'Genres' column from the cache if the title exists in the cache\n",
    "        if title in cache:\n",
    "            df.at[index, 'Genres'] = ', '.join(cache[title])\n",
    "        else:\n",
    "            # Optional: Handle titles not found in the cache\n",
    "            df.at[index, 'Genres'] = 'Genres Not Found'  # or leave as is or any other placeholder you prefer"
   ]
  },
  {
   "cell_type": "code",
   "execution_count": null,
   "metadata": {},
   "outputs": [],
   "source": [
    "bx.reset_index(drop=True, inplace=True)"
   ]
  },
  {
   "cell_type": "code",
   "execution_count": null,
   "metadata": {},
   "outputs": [],
   "source": [
    "bx.index[-1]"
   ]
  },
  {
   "cell_type": "code",
   "execution_count": null,
   "metadata": {},
   "outputs": [],
   "source": [
    "start_index = 0  # Start from the beginning or any index you prefer\n",
    "stop_index = 241071  # Specify your stop index\n",
    "\n",
    "cache = load_bookcache()# Load the cached genres\n",
    "\n",
    "# Update the DataFrame within the specified index range\n",
    "update_genres_from_bookcache_with_indices(bx, cache, start_index, stop_index)"
   ]
  },
  {
   "cell_type": "code",
   "execution_count": null,
   "metadata": {},
   "outputs": [],
   "source": [
    "bx_cleaned = bx[(bx['Genres'] != 'Genres Not Found') & (bx['Genres'] != 'No Genres Found')]\n",
    "bx_cleaned"
   ]
  },
  {
   "cell_type": "code",
   "execution_count": null,
   "metadata": {},
   "outputs": [],
   "source": [
    "def clean_genres(text):\n",
    "    text = text.lower()\n",
    "    text = re.sub(r'\\d+', ' ', text)\n",
    "    text = re.sub(r'[^a-zA-Z\\s]', '', text)\n",
    "    text = text.translate(str.maketrans('', '', string.punctuation))\n",
    "    return text"
   ]
  },
  {
   "cell_type": "code",
   "execution_count": null,
   "metadata": {},
   "outputs": [],
   "source": [
    "bx_cleaned['new_combined'] = bx_cleaned['cleaned_title'] + \" \" + bx_cleaned['cleaned_author'] + \" \" + bx_cleaned['Genres'].apply(clean_genres)"
   ]
  },
  {
   "cell_type": "code",
   "execution_count": null,
   "metadata": {},
   "outputs": [],
   "source": [
    "gbx_cleaned['new_combined'] = gbx_cleaned['cleaned_title'] + \" \" + gbx_cleaned['cleaned_author'] + \" \" + gbx_cleaned['Genres'].apply(clean_genres)"
   ]
  },
  {
   "cell_type": "markdown",
   "metadata": {},
   "source": [
    "# BERT Embeddings"
   ]
  },
  {
   "cell_type": "code",
   "execution_count": null,
   "metadata": {},
   "outputs": [],
   "source": [
    "pip install transformers"
   ]
  },
  {
   "cell_type": "code",
   "execution_count": null,
   "metadata": {},
   "outputs": [],
   "source": [
    "pip install torch torchvision torchaudio"
   ]
  },
  {
   "cell_type": "code",
   "execution_count": null,
   "metadata": {},
   "outputs": [],
   "source": [
    "from sklearn.model_selection import train_test_split\n",
    "from transformers import BertTokenizer, BertModel\n",
    "import torch"
   ]
  },
  {
   "cell_type": "code",
   "execution_count": null,
   "metadata": {},
   "outputs": [],
   "source": [
    "# Initializing BERT tokenizer and model\n",
    "tokenizer = BertTokenizer.from_pretrained('bert-base-uncased')\n",
    "model = BertModel.from_pretrained('bert-base-uncased')"
   ]
  },
  {
   "cell_type": "code",
   "execution_count": null,
   "metadata": {},
   "outputs": [],
   "source": [
    "def get_bert_embeddings_batch(text_list, batch_size=32):\n",
    "    \"\"\"Generate BERT embeddings for a list of texts in batches.\"\"\"\n",
    "    embeddings = [] #initializign an empty list to store the BERT embeddings for all the texts\n",
    "    for i in range(0, len(text_list), batch_size):  #batch processing the texts from the list of texts\n",
    "        batch = text_list[i:i+batch_size]\n",
    "        inputs = tokenizer(batch, return_tensors=\"pt\", padding=True, truncation=True, max_length=512) #tokenization of the texts in the batch and returning the PyTorch tensors\n",
    "        outputs = model(**inputs)   #passing the tokenized inputs to the BERT model to retrieve the outputs\n",
    "        embeddings.extend(outputs.last_hidden_state.mean(dim=1).detach().numpy()) \n",
    "    return np.vstack(embeddings)    #vertical stacking of of the embeddings to create a single matrix of embeddings for the input texts"
   ]
  },
  {
   "cell_type": "markdown",
   "metadata": {},
   "source": [
    "# Content-based Recommendation System"
   ]
  },
  {
   "cell_type": "markdown",
   "metadata": {},
   "source": [
    "### 1. Using BERT Embeddings only"
   ]
  },
  {
   "cell_type": "code",
   "execution_count": null,
   "metadata": {},
   "outputs": [],
   "source": [
    "from sklearn.feature_extraction.text import TfidfVectorizer\n",
    "from sklearn.metrics.pairwise import cosine_similarity"
   ]
  },
  {
   "cell_type": "code",
   "execution_count": null,
   "metadata": {},
   "outputs": [],
   "source": [
    "# Function to get book recommendations from a query using BERT embeddings\n",
    "def get_content_bert_book_recommendations(query, df, embeddings, top_k=10, similarity_threshold=0.1):\n",
    "    query_embedding = get_bert_embeddings_batch([query])[0]\n",
    "    \n",
    "    # Calculate cosine similarity between the query and all books\n",
    "    cosine_sim = cosine_similarity([query_embedding], embeddings).flatten()\n",
    "    \n",
    "    # Get indices of books above the similarity threshold\n",
    "    above_threshold_indices = np.where(cosine_sim >= similarity_threshold)[0]\n",
    "    \n",
    "    # Sort by cosine similarity\n",
    "    sorted_indices = np.argsort(cosine_sim[above_threshold_indices])[::-1]\n",
    "    \n",
    "    # Get top K similar books\n",
    "    top_indices = above_threshold_indices[sorted_indices[:top_k]]\n",
    "    \n",
    "    # Return recommended books\n",
    "    recommendations = df.iloc[top_indices][['Title', 'Author', 'Genres']]\n",
    "    return recommendations"
   ]
  },
  {
   "cell_type": "markdown",
   "metadata": {},
   "source": [
    "#### 1.1 Using 'Title' only"
   ]
  },
  {
   "cell_type": "code",
   "execution_count": null,
   "metadata": {},
   "outputs": [],
   "source": [
    "#Generating BERT embeddings for all books in batches\n",
    "X_title = get_bert_embeddings_batch(gbx_cleaned['Title'].tolist())"
   ]
  },
  {
   "cell_type": "code",
   "execution_count": null,
   "metadata": {},
   "outputs": [],
   "source": [
    "Y_title = get_bert_embeddings_batch(bx_cleaned['Title'].tolist())"
   ]
  },
  {
   "cell_type": "code",
   "execution_count": null,
   "metadata": {},
   "outputs": [],
   "source": [
    "query = \"the fault in our stars\"  # Query with a book title\n",
    "recommendations = get_content_bert_book_recommendations(query, bx_cleaned, Y_title, top_k=5, similarity_threshold=0.1)\n",
    "print(recommendations)"
   ]
  },
  {
   "cell_type": "code",
   "execution_count": null,
   "metadata": {},
   "outputs": [],
   "source": [
    "query = \"the fault in our stars\"  # Query with a book title\n",
    "recommendations = get_content_bert_book_recommendations(query, gbx_cleaned, X_title, top_k=5, similarity_threshold=0.1)\n",
    "print(recommendations)"
   ]
  },
  {
   "cell_type": "markdown",
   "metadata": {},
   "source": [
    "#### 1.2 Using the 'combined' column"
   ]
  },
  {
   "cell_type": "code",
   "execution_count": null,
   "metadata": {},
   "outputs": [],
   "source": [
    "#Generating BERT embeddings for all books in batches\n",
    "X_combined= get_bert_embeddings_batch(gbx_cleaned['new_combined'].tolist())"
   ]
  },
  {
   "cell_type": "code",
   "execution_count": null,
   "metadata": {},
   "outputs": [],
   "source": [
    "Y_combined = get_bert_embeddings_batch(bx_cleaned['new_combined'].tolist())"
   ]
  },
  {
   "cell_type": "code",
   "execution_count": null,
   "metadata": {},
   "outputs": [],
   "source": [
    "query = \"harry potter and the order of the phoenix\"  # Query with a book title\n",
    "recommendations = get_content_bert_book_recommendations(query, gbx_cleaned, X_combined, top_k=5, similarity_threshold=0.1)\n",
    "print(recommendations)"
   ]
  },
  {
   "cell_type": "code",
   "execution_count": null,
   "metadata": {},
   "outputs": [],
   "source": [
    "query = \"harry potter and the order of the phoenix\"  # Query with a book title\n",
    "recommendations = get_content_bert_book_recommendations(query, bx_cleaned, Y_combined, top_k=5, similarity_threshold=0.1)\n",
    "print(recommendations)"
   ]
  },
  {
   "cell_type": "markdown",
   "metadata": {},
   "source": [
    "#### 1.3 Using the 'Genres' column only"
   ]
  },
  {
   "cell_type": "code",
   "execution_count": null,
   "metadata": {},
   "outputs": [],
   "source": [
    "X_genres = get_bert_embeddings_batch(gbx_cleaned['Genres'].tolist())"
   ]
  },
  {
   "cell_type": "code",
   "execution_count": null,
   "metadata": {},
   "outputs": [],
   "source": [
    "Y_genres = get_bert_embeddings_batch(bx_cleaned['Genres'].tolist())"
   ]
  },
  {
   "cell_type": "code",
   "execution_count": null,
   "metadata": {},
   "outputs": [],
   "source": [
    "query = \"harry potter and the order of the phoenix\"  # Query with a book title\n",
    "recommendations = get_content_bert_book_recommendations(query, gbx_cleaned, X_genres, top_k=5, similarity_threshold=0.1)\n",
    "print(recommendations)"
   ]
  },
  {
   "cell_type": "code",
   "execution_count": null,
   "metadata": {},
   "outputs": [],
   "source": [
    "query = \"harry potter and the order of the phoenix\"  # Query with a book title\n",
    "recommendations = get_content_bert_book_recommendations(query, bx_cleaned, Y_genres, top_k=5, similarity_threshold=0.1)\n",
    "print(recommendations)"
   ]
  },
  {
   "cell_type": "markdown",
   "metadata": {},
   "source": [
    "### 2. Using BERT Embeddings and K-Means Clustering"
   ]
  },
  {
   "cell_type": "code",
   "execution_count": null,
   "metadata": {},
   "outputs": [],
   "source": [
    "from sklearn.cluster import KMeans"
   ]
  },
  {
   "cell_type": "code",
   "execution_count": null,
   "metadata": {},
   "outputs": [],
   "source": [
    "# Convert the embeddings to float64\n",
    "X_combined_float64 = X_combined.astype(np.float64)\n",
    "Y_combined_float64 = Y_combined.astype(np.float64)"
   ]
  },
  {
   "cell_type": "code",
   "execution_count": null,
   "metadata": {},
   "outputs": [],
   "source": [
    "X_genres_float64 = X_genres.astype(np.float64)\n",
    "Y_genres_float64 = Y_genres.astype(np.float64)"
   ]
  },
  {
   "cell_type": "code",
   "execution_count": null,
   "metadata": {},
   "outputs": [],
   "source": [
    "# Train the KMeans model for combined embeddings\n",
    "kmeans_combined_X = KMeans(n_clusters=5, random_state=42).fit(X_combined_float64)\n",
    "kmeans_combined_Y = KMeans(n_clusters=5, random_state=42).fit(Y_combined_float64)"
   ]
  },
  {
   "cell_type": "code",
   "execution_count": null,
   "metadata": {},
   "outputs": [],
   "source": [
    "kmeans_X_genres = KMeans(n_clusters=5, random_state=42).fit(X_genres_float64)\n",
    "kmeans_Y_genres = KMeans(n_clusters=5, random_state=42).fit(Y_genres_float64)"
   ]
  },
  {
   "cell_type": "code",
   "execution_count": null,
   "metadata": {},
   "outputs": [],
   "source": [
    "# Predict cluster labels for the same books\n",
    "cluster_label_combined_X = kmeans_combined_X.predict(X_combined_float64)\n",
    "cluster_label_combined_Y = kmeans_combined_Y.predict(Y_combined_float64)"
   ]
  },
  {
   "cell_type": "code",
   "execution_count": null,
   "metadata": {},
   "outputs": [],
   "source": [
    "cluster_label_X_genres = kmeans_X_genres.predict(X_genres_float64)\n",
    "cluster_label_Y_genres = kmeans_Y_genres.predict(Y_genres_float64)"
   ]
  },
  {
   "cell_type": "code",
   "execution_count": null,
   "metadata": {},
   "outputs": [],
   "source": [
    "# Adding cluster labels to your DataFrame\n",
    "gbx_cleaned['combined_cluster_label'] = cluster_label_combined_X\n",
    "bx_cleaned['combined_cluster_label'] = cluster_label_combined_Y"
   ]
  },
  {
   "cell_type": "code",
   "execution_count": null,
   "metadata": {},
   "outputs": [],
   "source": [
    "gbx_cleaned['genre_cluster_label'] = cluster_label_X_genres\n",
    "bx_cleaned['genre_cluster_label'] = cluster_label_Y_genres"
   ]
  },
  {
   "cell_type": "code",
   "execution_count": null,
   "metadata": {},
   "outputs": [],
   "source": [
    "gbx_cleaned.head()"
   ]
  },
  {
   "cell_type": "code",
   "execution_count": null,
   "metadata": {},
   "outputs": [],
   "source": [
    "bx_cleaned.head()"
   ]
  },
  {
   "cell_type": "code",
   "execution_count": null,
   "metadata": {},
   "outputs": [],
   "source": [
    "def get_kmeans_content_book_recommendations(query, kmeans_model, df, top_k=5):\n",
    "    # query_embedding = get_bert_embeddings_batch([query])[0]\n",
    "\n",
    "    # Ensure the embeddings are converted to float64\n",
    "    query_embedding = get_bert_embeddings_batch([query])[0].astype(np.float64)\n",
    "\n",
    "    # Predict the cluster for the query embedding\n",
    "    query_label = kmeans_model.predict([query_embedding])[0]\n",
    "    \n",
    "    # Get books from the same cluster as the query\n",
    "    cluster_books = df[df['cluster_label'] == query_label]\n",
    "    \n",
    "    # Calculate cosine similarity between the query and cluster books\n",
    "    cluster_embeddings = get_bert_embeddings_batch(cluster_books['combined'].tolist())\n",
    "    cosine_sim = np.dot(query_embedding, cluster_embeddings.T).flatten()\n",
    "    \n",
    "    # Sorting items based on similarity scores\n",
    "    sorted_indices = np.argsort(cosine_sim)[-top_k*10:]  # Fetch more items for diversity\n",
    "    \n",
    "    seen = set()\n",
    "    unique_recommendations = []\n",
    "    for index in sorted_indices[::-1]:  # Iterate in descending order of similarity\n",
    "        # Ensure unique (Title, Author) combinations\n",
    "        title_author_genre = (cluster_books.iloc[index]['Title'].lower(), cluster_books.iloc[index]['Author'].lower())\n",
    "        \n",
    "        # Check if the current book matches the query to avoid recommending the query itself\n",
    "        same_as_query = cluster_books.iloc[index]['combined'].lower() == query.lower()\n",
    "        \n",
    "        if title_author_genre not in seen and not same_as_query:\n",
    "            seen.add(title_author_genre)\n",
    "            unique_recommendations.append(index)\n",
    "            \n",
    "            # Break the loop if we have collected enough unique recommendations\n",
    "            if len(unique_recommendations) == top_k:\n",
    "                break\n",
    "    \n",
    "    if not unique_recommendations:\n",
    "        return [], \"No unique recommendations found.\"\n",
    "    \n",
    "    # Retrieve recommended books based on unique indices\n",
    "    recommendations = cluster_books.iloc[unique_recommendations][['Title', 'Author', 'Genres']]\n",
    "    return recommendations, \"\\nSuccess!\""
   ]
  },
  {
   "cell_type": "markdown",
   "metadata": {},
   "source": [
    "#### 2.1 Using the 'Genres' column only"
   ]
  },
  {
   "cell_type": "code",
   "execution_count": null,
   "metadata": {},
   "outputs": [],
   "source": [
    "query = \"To Kill a Mockingbird\"\n",
    "# Assuming `gbx_cleaned` is your DataFrame and `kmeans_model` is your trained KMeans model\n",
    "recommendations, message = get_kmeans_content_book_recommendations(query, kmeans_X_genres, gbx_cleaned, top_k=5)\n",
    "print(recommendations, message)"
   ]
  },
  {
   "cell_type": "code",
   "execution_count": null,
   "metadata": {},
   "outputs": [],
   "source": [
    "query = \"To Kill a Mockingbird\"\n",
    "# Assuming `gbx_cleaned` is your DataFrame and `kmeans_model` is your trained KMeans model\n",
    "recommendations, message = get_kmeans_content_book_recommendations(query, kmeans_Y_genres, bx_cleaned, top_k=5)\n",
    "print(recommendations, message)"
   ]
  },
  {
   "cell_type": "markdown",
   "metadata": {},
   "source": [
    "#### 2.2 Using the 'combined' column "
   ]
  },
  {
   "cell_type": "code",
   "execution_count": null,
   "metadata": {},
   "outputs": [],
   "source": [
    "query = \"To Kill a Mockingbird\"\n",
    "# Assuming `gbx_cleaned` is your DataFrame and `kmeans_model` is your trained KMeans model\n",
    "recommendations, message = get_kmeans_content_book_recommendations(query, kmeans_combined_X, gbx_cleaned, top_k=5)\n",
    "print(recommendations, message)"
   ]
  },
  {
   "cell_type": "code",
   "execution_count": null,
   "metadata": {},
   "outputs": [],
   "source": [
    "query = \"To Kill a Mockingbird\"\n",
    "# Assuming `gbx_cleaned` is your DataFrame and `kmeans_model` is your trained KMeans model\n",
    "recommendations, message = get_kmeans_content_book_recommendations(query, kmeans_combined_Y, bx_cleaned, top_k=5)\n",
    "print(recommendations, message)"
   ]
  },
  {
   "cell_type": "markdown",
   "metadata": {},
   "source": [
    "# Collaborative-Filtering"
   ]
  },
  {
   "cell_type": "markdown",
   "metadata": {},
   "source": []
  }
 ],
 "metadata": {
  "kernelspec": {
   "display_name": "Python 3 (ipykernel)",
   "language": "python",
   "name": "python3"
  },
  "language_info": {
   "codemirror_mode": {
    "name": "ipython",
    "version": 3
   },
   "file_extension": ".py",
   "mimetype": "text/x-python",
   "name": "python",
   "nbconvert_exporter": "python",
   "pygments_lexer": "ipython3",
   "version": "3.9.18"
  }
 },
 "nbformat": 4,
 "nbformat_minor": 5
}

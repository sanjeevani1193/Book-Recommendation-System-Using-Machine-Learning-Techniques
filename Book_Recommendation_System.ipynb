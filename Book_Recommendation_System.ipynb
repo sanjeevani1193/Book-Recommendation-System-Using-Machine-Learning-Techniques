{
 "cells": [
  {
   "cell_type": "code",
   "execution_count": 1,
   "id": "c4288767",
   "metadata": {},
   "outputs": [
    {
     "name": "stdout",
     "output_type": "stream",
     "text": [
      "\u001b[33mDEPRECATION: Configuring installation scheme with distutils config files is deprecated and will no longer work in the near future. If you are using a Homebrew or Linuxbrew Python, please see discussion at https://github.com/Homebrew/homebrew-core/issues/76621\u001b[0m\u001b[33m\n",
      "\u001b[0mRequirement already satisfied: transformers in /opt/homebrew/lib/python3.9/site-packages (4.38.2)\n",
      "Requirement already satisfied: filelock in /opt/homebrew/lib/python3.9/site-packages (from transformers) (3.13.1)\n",
      "Requirement already satisfied: huggingface-hub<1.0,>=0.19.3 in /opt/homebrew/lib/python3.9/site-packages (from transformers) (0.21.3)\n",
      "Requirement already satisfied: numpy>=1.17 in /opt/homebrew/lib/python3.9/site-packages (from transformers) (1.26.3)\n",
      "Requirement already satisfied: packaging>=20.0 in /Users/sanjeevani1109/Library/Python/3.9/lib/python/site-packages (from transformers) (23.2)\n",
      "Requirement already satisfied: pyyaml>=5.1 in /opt/homebrew/lib/python3.9/site-packages (from transformers) (6.0.1)\n",
      "Requirement already satisfied: regex!=2019.12.17 in /opt/homebrew/lib/python3.9/site-packages (from transformers) (2023.12.25)\n",
      "Requirement already satisfied: requests in /opt/homebrew/lib/python3.9/site-packages (from transformers) (2.31.0)\n",
      "Requirement already satisfied: tokenizers<0.19,>=0.14 in /opt/homebrew/lib/python3.9/site-packages (from transformers) (0.15.2)\n",
      "Requirement already satisfied: safetensors>=0.4.1 in /opt/homebrew/lib/python3.9/site-packages (from transformers) (0.4.2)\n",
      "Requirement already satisfied: tqdm>=4.27 in /opt/homebrew/lib/python3.9/site-packages (from transformers) (4.66.1)\n",
      "Requirement already satisfied: fsspec>=2023.5.0 in /opt/homebrew/lib/python3.9/site-packages (from huggingface-hub<1.0,>=0.19.3->transformers) (2024.2.0)\n",
      "Requirement already satisfied: typing-extensions>=3.7.4.3 in /Users/sanjeevani1109/Library/Python/3.9/lib/python/site-packages (from huggingface-hub<1.0,>=0.19.3->transformers) (4.9.0)\n",
      "Requirement already satisfied: charset-normalizer<4,>=2 in /opt/homebrew/lib/python3.9/site-packages (from requests->transformers) (3.3.2)\n",
      "Requirement already satisfied: idna<4,>=2.5 in /opt/homebrew/lib/python3.9/site-packages (from requests->transformers) (3.6)\n",
      "Requirement already satisfied: urllib3<3,>=1.21.1 in /opt/homebrew/lib/python3.9/site-packages (from requests->transformers) (2.2.0)\n",
      "Requirement already satisfied: certifi>=2017.4.17 in /opt/homebrew/lib/python3.9/site-packages (from requests->transformers) (2024.2.2)\n",
      "\u001b[33mDEPRECATION: Configuring installation scheme with distutils config files is deprecated and will no longer work in the near future. If you are using a Homebrew or Linuxbrew Python, please see discussion at https://github.com/Homebrew/homebrew-core/issues/76621\u001b[0m\u001b[33m\n",
      "\u001b[0mNote: you may need to restart the kernel to use updated packages.\n"
     ]
    }
   ],
   "source": [
    "pip install transformers"
   ]
  },
  {
   "cell_type": "code",
   "execution_count": 2,
   "metadata": {},
   "outputs": [
    {
     "name": "stdout",
     "output_type": "stream",
     "text": [
      "\u001b[33mDEPRECATION: Configuring installation scheme with distutils config files is deprecated and will no longer work in the near future. If you are using a Homebrew or Linuxbrew Python, please see discussion at https://github.com/Homebrew/homebrew-core/issues/76621\u001b[0m\u001b[33m\n",
      "\u001b[0mRequirement already satisfied: torch in /opt/homebrew/lib/python3.9/site-packages (2.2.1)\n",
      "Requirement already satisfied: torchvision in /opt/homebrew/lib/python3.9/site-packages (0.17.1)\n",
      "Requirement already satisfied: torchaudio in /opt/homebrew/lib/python3.9/site-packages (2.2.1)\n",
      "Requirement already satisfied: filelock in /opt/homebrew/lib/python3.9/site-packages (from torch) (3.13.1)\n",
      "Requirement already satisfied: typing-extensions>=4.8.0 in /Users/sanjeevani1109/Library/Python/3.9/lib/python/site-packages (from torch) (4.9.0)\n",
      "Requirement already satisfied: sympy in /opt/homebrew/lib/python3.9/site-packages (from torch) (1.12)\n",
      "Requirement already satisfied: networkx in /opt/homebrew/lib/python3.9/site-packages (from torch) (3.2.1)\n",
      "Requirement already satisfied: jinja2 in /opt/homebrew/lib/python3.9/site-packages (from torch) (3.1.3)\n",
      "Requirement already satisfied: fsspec in /opt/homebrew/lib/python3.9/site-packages (from torch) (2024.2.0)\n",
      "Requirement already satisfied: numpy in /opt/homebrew/lib/python3.9/site-packages (from torchvision) (1.26.3)\n",
      "Requirement already satisfied: pillow!=8.3.*,>=5.3.0 in /opt/homebrew/lib/python3.9/site-packages (from torchvision) (10.2.0)\n",
      "Requirement already satisfied: MarkupSafe>=2.0 in /opt/homebrew/lib/python3.9/site-packages (from jinja2->torch) (2.1.5)\n",
      "Requirement already satisfied: mpmath>=0.19 in /opt/homebrew/lib/python3.9/site-packages (from sympy->torch) (1.3.0)\n",
      "\u001b[33mDEPRECATION: Configuring installation scheme with distutils config files is deprecated and will no longer work in the near future. If you are using a Homebrew or Linuxbrew Python, please see discussion at https://github.com/Homebrew/homebrew-core/issues/76621\u001b[0m\u001b[33m\n",
      "\u001b[0mNote: you may need to restart the kernel to use updated packages.\n"
     ]
    }
   ],
   "source": [
    "pip install torch torchvision torchaudio"
   ]
  },
  {
   "cell_type": "code",
   "execution_count": 3,
   "metadata": {},
   "outputs": [
    {
     "name": "stderr",
     "output_type": "stream",
     "text": [
      "/var/folders/n5/f6xjtlr526zbr86__yns243m0000gn/T/ipykernel_3310/4035032612.py:2: DeprecationWarning: \n",
      "Pyarrow will become a required dependency of pandas in the next major release of pandas (pandas 3.0),\n",
      "(to allow more performant data types, such as the Arrow string type, and better interoperability with other libraries)\n",
      "but was not found to be installed on your system.\n",
      "If this would cause problems for you,\n",
      "please provide us feedback at https://github.com/pandas-dev/pandas/issues/54466\n",
      "        \n",
      "  import pandas as pd\n",
      "[nltk_data] Downloading package punkt to\n",
      "[nltk_data]     /Users/sanjeevani1109/nltk_data...\n",
      "[nltk_data]   Package punkt is already up-to-date!\n",
      "[nltk_data] Downloading package wordnet to\n",
      "[nltk_data]     /Users/sanjeevani1109/nltk_data...\n",
      "[nltk_data]   Package wordnet is already up-to-date!\n",
      "[nltk_data] Downloading package omw-1.4 to\n",
      "[nltk_data]     /Users/sanjeevani1109/nltk_data...\n",
      "[nltk_data]   Package omw-1.4 is already up-to-date!\n",
      "[nltk_data] Downloading package stopwords to\n",
      "[nltk_data]     /Users/sanjeevani1109/nltk_data...\n",
      "[nltk_data]   Package stopwords is already up-to-date!\n"
     ]
    }
   ],
   "source": [
    "import numpy as np\n",
    "import pandas as pd\n",
    "import string\n",
    "import re\n",
    "import scipy.sparse as sp\n",
    "\n",
    "import nltk #using the nltk library for tokenization and lemmatization\n",
    "nltk.download('punkt')\n",
    "nltk.download('wordnet')\n",
    "nltk.download('omw-1.4')\n",
    "nltk.download('stopwords')\n",
    "\n",
    "\n",
    "from nltk.corpus import stopwords\n",
    "from nltk.tokenize import word_tokenize\n",
    "from nltk.stem import WordNetLemmatizer\n",
    "\n",
    "from transformers import BertTokenizer, BertModel\n",
    "\n",
    "from sklearn.feature_extraction.text import TfidfVectorizer\n",
    "from sklearn.neighbors import NearestNeighbors\n",
    "from scipy.sparse import vstack, hstack\n",
    "from sklearn.metrics.pairwise import cosine_similarity"
   ]
  },
  {
   "cell_type": "code",
   "execution_count": 4,
   "metadata": {},
   "outputs": [],
   "source": [
    "bx_cleaned = pd.read_csv('/Users/sanjeevani1109/Desktop/Book_Recommendation_System/bx_cleaned')"
   ]
  },
  {
   "cell_type": "code",
   "execution_count": 5,
   "metadata": {},
   "outputs": [],
   "source": [
    "gbx_cleaned = pd.read_csv('/Users/sanjeevani1109/Desktop/Book_Recommendation_System/gbx_cleaned')"
   ]
  },
  {
   "cell_type": "code",
   "execution_count": 6,
   "metadata": {},
   "outputs": [],
   "source": [
    "#Function to clean text data\n",
    "def clean_text(text):\n",
    "    text = text.lower()     #Converting the text to lowercase\n",
    "    text = re.sub(r'\\d+', ' ', text)    # Removing digits\n",
    "    text = re.sub(r'[^a-zA-Z\\s]', '', text)  # Removing special characters\n",
    "    text = text.translate(str.maketrans('', '', string.punctuation))    #Removing punctuation     \n",
    "    tokens = word_tokenize(text) #Tokenization of the text\n",
    "    non_stopwords = []  #Creating an empty list to store the non-stopwords\n",
    "    stop_words = set(stopwords.words('english')) #Initializing the NLTK English stopwords\n",
    "    #Lemmatization of the words/tokens\n",
    "    lemmatizer = WordNetLemmatizer()    #Initialization of the NLTK WordNet Lemmatizer\n",
    "\n",
    "    #Iterating through the list of tokens, lemmatizing them, and adding it to the list of non-stopwords\n",
    "    for token in tokens:\n",
    "        if token not in stop_words:\n",
    "            lemma = lemmatizer.lemmatize(token) #Performing lemmatization\n",
    "            non_stopwords.append(lemma)  # Appending the stemmed token back to the list of non-stopwords\n",
    "\n",
    "    # Joining the tokens/words from the list of non-stopwords into a string\n",
    "    filtered_text = ' '.join(non_stopwords)\n",
    "    return filtered_text"
   ]
  },
  {
   "cell_type": "code",
   "execution_count": 7,
   "metadata": {},
   "outputs": [],
   "source": [
    "def clean_genres(text):\n",
    "    text = text.lower()\n",
    "    text = re.sub(r'\\d+', ' ', text)\n",
    "    text = re.sub(r'[^a-zA-Z\\s]', '', text)\n",
    "    text = text.translate(str.maketrans('', '', string.punctuation))\n",
    "    return text"
   ]
  },
  {
   "cell_type": "code",
   "execution_count": 8,
   "metadata": {},
   "outputs": [],
   "source": [
    "bx_cleaned['cleaned_genres'] = bx_cleaned['Genres'].apply(clean_genres)"
   ]
  },
  {
   "cell_type": "code",
   "execution_count": 9,
   "metadata": {},
   "outputs": [],
   "source": [
    "gbx_cleaned['cleaned_genres'] = gbx_cleaned['Genres'].apply(clean_genres)"
   ]
  },
  {
   "cell_type": "code",
   "execution_count": 10,
   "metadata": {},
   "outputs": [],
   "source": [
    "bx_cleaned['title_genres_combined'] = bx_cleaned['cleaned_title'] + ' ' + bx_cleaned['cleaned_genres']\n",
    "gbx_cleaned['title_genres_combined'] = gbx_cleaned['cleaned_title'] + ' ' + gbx_cleaned['cleaned_genres']"
   ]
  },
  {
   "cell_type": "code",
   "execution_count": 11,
   "metadata": {},
   "outputs": [],
   "source": [
    "# Initializing BERT tokenizer and model\n",
    "tokenizer = BertTokenizer.from_pretrained('bert-base-uncased')\n",
    "model = BertModel.from_pretrained('bert-base-uncased')"
   ]
  },
  {
   "cell_type": "code",
   "execution_count": 12,
   "metadata": {},
   "outputs": [],
   "source": [
    "# Generate BERT embeddings for a list of texts in batches\n",
    "\n",
    "def get_bert_embeddings_batch(text_list, batch_size=32):\n",
    "    embeddings = [] #initializign an empty list to store the BERT embeddings for all the texts\n",
    "    for i in range(0, len(text_list), batch_size):  #batch processing the texts from the list of texts\n",
    "        batch = text_list[i:i+batch_size]\n",
    "        inputs = tokenizer(batch, return_tensors=\"pt\", padding=True, truncation=True, max_length=512) #tokenization of the texts in the batch and returning the PyTorch tensors\n",
    "        outputs = model(**inputs)   #passing the tokenized inputs to the BERT model to retrieve the outputs\n",
    "        embeddings.extend(outputs.last_hidden_state.mean(dim=1).detach().numpy()) \n",
    "    return np.vstack(embeddings)    #vertical stacking of of the embeddings to create a single matrix of embeddings for the input texts"
   ]
  },
  {
   "cell_type": "code",
   "execution_count": 13,
   "metadata": {},
   "outputs": [],
   "source": [
    "# unique_author_bx = bx_cleaned['Author'].drop_duplicates().reset_index(drop=True)\n",
    "# author_embeddings_bx = get_bert_embeddings_batch(bx_cleaned['Author'].tolist())\n",
    "# genres_to_embedding_bx = dict(zip(unique_author_bx, author_embeddings_bx))\n",
    "# # bx_cleaned.head(3)"
   ]
  },
  {
   "cell_type": "code",
   "execution_count": 14,
   "metadata": {},
   "outputs": [],
   "source": [
    "# unique_author_gbx = gbx_cleaned['Author'].drop_duplicates().reset_index(drop=True)\n",
    "# author_embeddings_gbx = get_bert_embeddings_batch(gbx_cleaned['Author'].tolist())\n",
    "# genres_to_embedding_gbx = dict(zip(unique_author_gbx, author_embeddings_gbx))\n",
    "# # gbx_cleaned.head(3)"
   ]
  },
  {
   "cell_type": "code",
   "execution_count": 15,
   "metadata": {},
   "outputs": [],
   "source": [
    "# unique_author_bx.to_csv('unique_author_bx.csv', index=False)\n",
    "# unique_author_gbx.to_csv('unique_author_gbx.csv', index=False)"
   ]
  },
  {
   "cell_type": "code",
   "execution_count": 16,
   "metadata": {},
   "outputs": [],
   "source": [
    "# np.save('author_embeddings_bx.npy', author_embeddings_bx)\n",
    "# np.save('author_embeddings_gbx.npy', author_embeddings_gbx)"
   ]
  },
  {
   "cell_type": "markdown",
   "metadata": {},
   "source": [
    "### Saving the data frames as csv files"
   ]
  },
  {
   "cell_type": "code",
   "execution_count": 17,
   "metadata": {},
   "outputs": [],
   "source": [
    "# gbx_cleaned.to_csv('/Users/sanjeevani1109/Desktop/Book_Recommendation_System/gbx_cleaned', index=False)"
   ]
  },
  {
   "cell_type": "code",
   "execution_count": 18,
   "metadata": {},
   "outputs": [],
   "source": [
    "# bx_cleaned.to_csv('/Users/sanjeevani1109/Desktop/Book_Recommendation_System/bx_cleaned', index=False)"
   ]
  },
  {
   "cell_type": "markdown",
   "metadata": {},
   "source": [
    "### Loading the embeddings from the Numpys"
   ]
  },
  {
   "cell_type": "code",
   "execution_count": 19,
   "metadata": {},
   "outputs": [],
   "source": [
    "bx_title_embeddings_array = np.load('title_embeddings_bx.npy')\n",
    "gbx_title_embeddings_array = np.load('title_embeddings_gbx.npy')\n",
    "bx_combined_embeddings_array = np.load('combined_embeddings_bx.npy')\n",
    "gbx_combined_embeddings_array = np.load('combined_embeddings_gbx.npy')\n",
    "bx_genres_embeddings_array = np.load('genres_embeddings_bx.npy')\n",
    "gbx_genres_embeddings_array = np.load('genres_embeddings_gbx.npy')\n",
    "\n",
    "bx_authors_embeddings_array = np.load('author_embeddings_bx.npy')\n",
    "gbx_authors_embeddings_array = np.load('author_embeddings_gbx.npy')"
   ]
  },
  {
   "cell_type": "markdown",
   "metadata": {},
   "source": [
    "### Loading the unique embeddings"
   ]
  },
  {
   "cell_type": "code",
   "execution_count": 20,
   "metadata": {},
   "outputs": [],
   "source": [
    "unique_titles_gbx = pd.read_csv('unique_titles_gbx.csv')['Title']\n",
    "unique_titles_bx = pd.read_csv('unique_titles_bx.csv')['Title']\n",
    "unique_combined_gbx = pd.read_csv('unique_combined_gbx.csv')['new_combined']\n",
    "unique_combined_bx = pd.read_csv('unique_combined_bx.csv')['new_combined']\n",
    "unique_genres_gbx = pd.read_csv('unique_genres_gbx.csv')['Genres']\n",
    "unique_genres_bx = pd.read_csv('unique_genres_bx.csv')['Genres']\n",
    "\n",
    "unique_authors_bx = pd.read_csv('unique_author_bx.csv')['Author']\n",
    "unique_authors_gbx = pd.read_csv('unique_author_gbx.csv')['Author']"
   ]
  },
  {
   "cell_type": "markdown",
   "metadata": {},
   "source": [
    "### Updating the data frame with the embedding values"
   ]
  },
  {
   "cell_type": "code",
   "execution_count": 21,
   "metadata": {},
   "outputs": [],
   "source": [
    "title_to_embedding_gbx = dict(zip(unique_titles_gbx, gbx_title_embeddings_array))\n",
    "gbx_cleaned['title_embeddings'] = gbx_cleaned['Title'].map(title_to_embedding_gbx)\n",
    "\n",
    "title_to_embedding_bx = dict(zip(unique_titles_bx, bx_title_embeddings_array))\n",
    "bx_cleaned['title_embeddings'] = bx_cleaned['Title'].map(title_to_embedding_bx)\n",
    "\n",
    "combined_to_embedding_gbx = dict(zip(unique_combined_gbx, gbx_combined_embeddings_array))\n",
    "gbx_cleaned['combined_embeddings'] = gbx_cleaned['new_combined'].map(combined_to_embedding_gbx)\n",
    "\n",
    "combined_to_embedding_bx = dict(zip(unique_combined_bx, bx_combined_embeddings_array))\n",
    "bx_cleaned['combined_embeddings'] = bx_cleaned['new_combined'].map(combined_to_embedding_bx)\n",
    "\n",
    "genres_to_embedding_gbx = dict(zip(unique_genres_gbx, gbx_genres_embeddings_array))\n",
    "gbx_cleaned['genres_embeddings'] = gbx_cleaned['Genres'].map(genres_to_embedding_gbx)\n",
    "\n",
    "genres_to_embedding_bx = dict(zip(unique_genres_bx, bx_genres_embeddings_array))\n",
    "bx_cleaned['genres_embeddings'] = bx_cleaned['Genres'].map(genres_to_embedding_bx)\n",
    "\n",
    "authors_to_embedding_bx = dict(zip(unique_authors_bx, bx_authors_embeddings_array))\n",
    "bx_cleaned['authors_embeddings'] = bx_cleaned['Author'].map(authors_to_embedding_bx)\n",
    "\n",
    "authors_to_embedding_gbx = dict(zip(unique_authors_gbx, gbx_authors_embeddings_array))\n",
    "gbx_cleaned['authors_embeddings'] = gbx_cleaned['Author'].map(authors_to_embedding_gbx)"
   ]
  },
  {
   "cell_type": "markdown",
   "metadata": {},
   "source": [
    "# Content-based Model"
   ]
  },
  {
   "cell_type": "markdown",
   "metadata": {},
   "source": [
    "##### Using BERT embeddings, TFIDF vectorization, and kNN"
   ]
  },
  {
   "cell_type": "code",
   "execution_count": 22,
   "metadata": {},
   "outputs": [],
   "source": [
    "relevant_columns = ['Title', 'Author', 'Genres', 'cleaned_title', 'cleaned_author', 'new_combined', 'title_embeddings', 'authors_embeddings', 'genres_embeddings', 'combined_embeddings', 'cleaned_genres']  "
   ]
  },
  {
   "cell_type": "code",
   "execution_count": 23,
   "metadata": {},
   "outputs": [],
   "source": [
    "relevant_columns_gbx = ['BookID', 'Title', 'Author', 'Genres', 'cleaned_title', 'cleaned_author', 'new_combined', 'title_embeddings', 'authors_embeddings', 'genres_embeddings', 'combined_embeddings', 'cleaned_genres']  "
   ]
  },
  {
   "cell_type": "code",
   "execution_count": 24,
   "metadata": {},
   "outputs": [],
   "source": [
    "# Drop duplicates based on the 'Title' column and select only the relevant columns for bx_cleaned and gbx_cleaned\n",
    "gbx_content = gbx_cleaned.drop_duplicates(subset='Title')[relevant_columns_gbx]\n",
    "bx_content = bx_cleaned.drop_duplicates(subset='Title')[relevant_columns]"
   ]
  },
  {
   "cell_type": "code",
   "execution_count": 25,
   "metadata": {},
   "outputs": [
    {
     "data": {
      "text/html": [
       "<div>\n",
       "<style scoped>\n",
       "    .dataframe tbody tr th:only-of-type {\n",
       "        vertical-align: middle;\n",
       "    }\n",
       "\n",
       "    .dataframe tbody tr th {\n",
       "        vertical-align: top;\n",
       "    }\n",
       "\n",
       "    .dataframe thead th {\n",
       "        text-align: right;\n",
       "    }\n",
       "</style>\n",
       "<table border=\"1\" class=\"dataframe\">\n",
       "  <thead>\n",
       "    <tr style=\"text-align: right;\">\n",
       "      <th></th>\n",
       "      <th>BookID</th>\n",
       "      <th>Title</th>\n",
       "      <th>Author</th>\n",
       "      <th>Genres</th>\n",
       "      <th>cleaned_title</th>\n",
       "      <th>cleaned_author</th>\n",
       "      <th>new_combined</th>\n",
       "      <th>title_embeddings</th>\n",
       "      <th>authors_embeddings</th>\n",
       "      <th>genres_embeddings</th>\n",
       "      <th>combined_embeddings</th>\n",
       "      <th>cleaned_genres</th>\n",
       "    </tr>\n",
       "  </thead>\n",
       "  <tbody>\n",
       "    <tr>\n",
       "      <th>0</th>\n",
       "      <td>2767052</td>\n",
       "      <td>The Hunger Games</td>\n",
       "      <td>Suzanne Collins</td>\n",
       "      <td>Young Adult, Fiction, Fantasy, Dystopia, Scien...</td>\n",
       "      <td>hunger game</td>\n",
       "      <td>suzanne collins</td>\n",
       "      <td>hunger game suzanne collins young adult fictio...</td>\n",
       "      <td>[-0.35120225, -0.6337399, -0.2950579, -0.18312...</td>\n",
       "      <td>[-0.12804408, 0.11276019, -0.25651056, -0.0526...</td>\n",
       "      <td>[-0.03419616, 0.14870769, 0.5226705, -0.080204...</td>\n",
       "      <td>[-0.10558018, 0.06420389, 0.4107097, 0.1490544...</td>\n",
       "      <td>young adult fiction fantasy dystopia science f...</td>\n",
       "    </tr>\n",
       "  </tbody>\n",
       "</table>\n",
       "</div>"
      ],
      "text/plain": [
       "    BookID             Title           Author  \\\n",
       "0  2767052  The Hunger Games  Suzanne Collins   \n",
       "\n",
       "                                              Genres cleaned_title  \\\n",
       "0  Young Adult, Fiction, Fantasy, Dystopia, Scien...   hunger game   \n",
       "\n",
       "    cleaned_author                                       new_combined  \\\n",
       "0  suzanne collins  hunger game suzanne collins young adult fictio...   \n",
       "\n",
       "                                    title_embeddings  \\\n",
       "0  [-0.35120225, -0.6337399, -0.2950579, -0.18312...   \n",
       "\n",
       "                                  authors_embeddings  \\\n",
       "0  [-0.12804408, 0.11276019, -0.25651056, -0.0526...   \n",
       "\n",
       "                                   genres_embeddings  \\\n",
       "0  [-0.03419616, 0.14870769, 0.5226705, -0.080204...   \n",
       "\n",
       "                                 combined_embeddings  \\\n",
       "0  [-0.10558018, 0.06420389, 0.4107097, 0.1490544...   \n",
       "\n",
       "                                      cleaned_genres  \n",
       "0  young adult fiction fantasy dystopia science f...  "
      ]
     },
     "execution_count": 25,
     "metadata": {},
     "output_type": "execute_result"
    }
   ],
   "source": [
    "gbx_content.head(1)"
   ]
  },
  {
   "cell_type": "code",
   "execution_count": 26,
   "metadata": {},
   "outputs": [
    {
     "data": {
      "text/html": [
       "<div>\n",
       "<style scoped>\n",
       "    .dataframe tbody tr th:only-of-type {\n",
       "        vertical-align: middle;\n",
       "    }\n",
       "\n",
       "    .dataframe tbody tr th {\n",
       "        vertical-align: top;\n",
       "    }\n",
       "\n",
       "    .dataframe thead th {\n",
       "        text-align: right;\n",
       "    }\n",
       "</style>\n",
       "<table border=\"1\" class=\"dataframe\">\n",
       "  <thead>\n",
       "    <tr style=\"text-align: right;\">\n",
       "      <th></th>\n",
       "      <th>Title</th>\n",
       "      <th>Author</th>\n",
       "      <th>Genres</th>\n",
       "      <th>cleaned_title</th>\n",
       "      <th>cleaned_author</th>\n",
       "      <th>new_combined</th>\n",
       "      <th>title_embeddings</th>\n",
       "      <th>authors_embeddings</th>\n",
       "      <th>genres_embeddings</th>\n",
       "      <th>combined_embeddings</th>\n",
       "      <th>cleaned_genres</th>\n",
       "    </tr>\n",
       "  </thead>\n",
       "  <tbody>\n",
       "    <tr>\n",
       "      <th>0</th>\n",
       "      <td>Les Particules Elementaires</td>\n",
       "      <td>Michel Houellebecq</td>\n",
       "      <td>Fiction, France, Literature, Novels, French Li...</td>\n",
       "      <td>le particules elementaires</td>\n",
       "      <td>michel houellebecq</td>\n",
       "      <td>le particules elementaires michel houellebecq ...</td>\n",
       "      <td>[-0.22314462, 0.42006478, -0.28728843, -0.1840...</td>\n",
       "      <td>[-0.3414879, -0.07702848, -0.051483676, -0.296...</td>\n",
       "      <td>[0.11841526, 0.20468897, -0.028159915, -0.2183...</td>\n",
       "      <td>[-0.21087638, 0.38165882, -0.00066206243, -0.3...</td>\n",
       "      <td>fiction france literature novels french litera...</td>\n",
       "    </tr>\n",
       "  </tbody>\n",
       "</table>\n",
       "</div>"
      ],
      "text/plain": [
       "                         Title              Author  \\\n",
       "0  Les Particules Elementaires  Michel Houellebecq   \n",
       "\n",
       "                                              Genres  \\\n",
       "0  Fiction, France, Literature, Novels, French Li...   \n",
       "\n",
       "                cleaned_title      cleaned_author  \\\n",
       "0  le particules elementaires  michel houellebecq   \n",
       "\n",
       "                                        new_combined  \\\n",
       "0  le particules elementaires michel houellebecq ...   \n",
       "\n",
       "                                    title_embeddings  \\\n",
       "0  [-0.22314462, 0.42006478, -0.28728843, -0.1840...   \n",
       "\n",
       "                                  authors_embeddings  \\\n",
       "0  [-0.3414879, -0.07702848, -0.051483676, -0.296...   \n",
       "\n",
       "                                   genres_embeddings  \\\n",
       "0  [0.11841526, 0.20468897, -0.028159915, -0.2183...   \n",
       "\n",
       "                                 combined_embeddings  \\\n",
       "0  [-0.21087638, 0.38165882, -0.00066206243, -0.3...   \n",
       "\n",
       "                                      cleaned_genres  \n",
       "0  fiction france literature novels french litera...  "
      ]
     },
     "execution_count": 26,
     "metadata": {},
     "output_type": "execute_result"
    }
   ],
   "source": [
    "bx_content.head(1)"
   ]
  },
  {
   "cell_type": "code",
   "execution_count": 27,
   "metadata": {},
   "outputs": [],
   "source": [
    "# def compute_combined_features(df, column_type):\n",
    "#     #Computing TF-IDF Features\n",
    "#     tfidf_vectorizer = TfidfVectorizer(max_features=100)  # Adjust max_features as needed\n",
    "#     tfidf_features = tfidf_vectorizer.fit_transform(df['new_combined'])\n",
    "\n",
    "#     #Concatenating BERT and TF-IDF Features\n",
    "#     bert_features = np.stack(df['combined_embeddings'].to_numpy())  # Use stack for an array of arrays\n",
    "#     combined_features = hstack([bert_features, tfidf_features])\n",
    "\n",
    "#     return combined_features, tfidf_vectorizer"
   ]
  },
  {
   "cell_type": "code",
   "execution_count": 99,
   "metadata": {},
   "outputs": [],
   "source": [
    "def cosine_sims(df, book_title):\n",
    "    # if book_title not in df['Title'].values:\n",
    "    #     print(f\"Query title '{book_title}' not found in the dataset.\")\n",
    "    #     return df\n",
    "    \n",
    "# try creating new_cobijned with clean_text features for tfidf\n",
    "    \n",
    "    # all_titles = df['Title'].values\n",
    "    all_titles = df['Genres'].values\n",
    "    np.append(all_titles, (np.array([book_title])))\n",
    "    all_titles = all_titles.astype(\"U\")\n",
    "\n",
    "    tfidf_vectorizer = TfidfVectorizer()\n",
    "    tfidf_matrix = tfidf_vectorizer.fit_transform(all_titles)\n",
    "\n",
    "    # Convert the TF-IDF matrix to CSR format\n",
    "    tfidf_matrix_csr = sp.csr_matrix(tfidf_matrix)\n",
    "\n",
    "    # Get the index of the query title\n",
    "    # query_index = df.index[df['Title'] == book_title].tolist()[0]\n",
    "\n",
    "    # Compute cosine similarity between the query title and all titles\n",
    "    query_vector = tfidf_matrix_csr[-1]\n",
    "    cosine_similarities = cosine_similarity(query_vector, tfidf_matrix_csr).flatten()\n",
    "\n",
    "\n",
    "    # cosine_similarities = cosine_similarity(query_index, tfidf_matrix_csr).flatten()\n",
    "\n",
    "    # Add cosine similarity values to a new column in the DataFrame\n",
    "    df['Cosine Similarity'] = cosine_similarities\n",
    "\n",
    "    return df"
   ]
  },
  {
   "cell_type": "code",
   "execution_count": 28,
   "metadata": {},
   "outputs": [],
   "source": [
    "# NEW FEATURE COMPUTATION\n",
    "\n",
    "def compute_combined_features(df, column_type, embeddings):\n",
    "    #Computing TF-IDF Features\n",
    "    tfidf_vectorizer = TfidfVectorizer(max_features=100)  # Adjust max_features as needed\n",
    "    tfidf_features = tfidf_vectorizer.fit_transform(df[column_type])\n",
    "\n",
    "    #Concatenating BERT and TF-IDF Features\n",
    "    bert_features = np.stack(df[embeddings].to_numpy())  # Use stack for an array of arrays\n",
    "    combined_features = hstack([bert_features, tfidf_features])\n",
    "\n",
    "    return combined_features, tfidf_vectorizer"
   ]
  },
  {
   "cell_type": "code",
   "execution_count": 130,
   "metadata": {},
   "outputs": [],
   "source": [
    "# NEW COMBINED\n",
    "\n",
    "def content_based_recommendations(query, df, type = \"combined\", n_recommendations=5):\n",
    "\n",
    "    if 'BookID' in df.columns:\n",
    "        df = gbx_content\n",
    "    else:\n",
    "        df = bx_content\n",
    "\n",
    "    if type.lower() == \"combined\":\n",
    "        column_type = \"new_combined\"\n",
    "        embeddings = \"combined_embeddings\"\n",
    "    elif type.lower() == \"title\":\n",
    "        column_type = \"Title\"\n",
    "        embeddings = \"title_embeddings\"\n",
    "    elif type.lower() == \"author\":\n",
    "        column_type = \"Author\"\n",
    "        embeddings = \"authors_embeddings\"\n",
    "    elif type.lower() == \"genres\":\n",
    "        column_type = \"cleaned_genres\"\n",
    "        embeddings = \"genres_embeddings\"\n",
    "\n",
    "    # cleaned_query = clean_text(query)\n",
    "    # Compute combined features for the specified DataFrame\n",
    "    combined_features, tfidf_vectorizer = compute_combined_features(df, column_type, embeddings)\n",
    "\n",
    "    # Use KNN for Recommendations\n",
    "    knn_model = NearestNeighbors(n_neighbors=n_recommendations, metric='cosine')\n",
    "    knn_model.fit(combined_features)\n",
    "\n",
    "    query_embedding = get_bert_embeddings_batch([query])[0].astype(np.float64)\n",
    "    query_tfidf = tfidf_vectorizer.transform([query])\n",
    "    query_combined = hstack([np.array([query_embedding]), query_tfidf])\n",
    "\n",
    "    distances, indices = knn_model.kneighbors(query_combined, n_neighbors=n_recommendations*10)\n",
    "\n",
    "    # Flatten indices and fetch recommendations\n",
    "    recommendations = df.iloc[indices.flatten()]\n",
    "\n",
    "    # Ensure unique recommendations based on Title and Author, excluding the query itself\n",
    "    unique_titles = set()\n",
    "    unique_recommendations = []\n",
    "    for _, row in recommendations.iterrows():\n",
    "        unique_key = (row['Title'].lower(), row['Author'].lower())\n",
    "        if unique_key not in unique_titles and row['Title'].lower() != query.lower():\n",
    "            unique_titles.add(unique_key)\n",
    "            unique_recommendations.append(row)\n",
    "            if len(unique_recommendations) >= n_recommendations:\n",
    "                break    \n",
    "    print(\"Your query:-\")\n",
    "    print(\"Query:\", query)\n",
    "    # print(\"Title:\", row['Title'])\n",
    "    # print(\"Author:\", row['Author'])\n",
    "    # print(\"Genres:\", row['Genres'])\n",
    "    # print(df.loc[df['Title'] == query, 'Genres'].values)\n",
    "    # return pd.DataFrame(unique_recommendations, columns=['Title', 'Author', 'Genres']).reset_index(drop=True)\n",
    "\n",
    "    combined_recs = pd.DataFrame(unique_recommendations, columns=['Title', 'Author', 'Genres']).reset_index(drop=True)\n",
    "\n",
    "\n",
    "        # combined_recs = pd.concat([content_recs, cf_recs]).drop_duplicates(subset=['Title', 'Author'])\n",
    "    # print(combined_recs)\n",
    "    \n",
    "\n",
    "    combined_recommendations = cosine_sims(combined_recs, book_title=query)  # Calculate cosine similarity\n",
    "    sorted_recommendations = combined_recommendations.sort_values(by='Cosine Similarity', ascending=False)\n",
    "    top_recommendations = sorted_recommendations.head(n_recommendations)\n",
    "    final_recs = top_recommendations.loc[:, ['Title', 'Author', 'Genres']]\n",
    "    return final_recs\n",
    "\n",
    "    # return pd.DataFrame(unique_recommendations)"
   ]
  },
  {
   "cell_type": "code",
   "execution_count": 131,
   "metadata": {},
   "outputs": [
    {
     "name": "stdout",
     "output_type": "stream",
     "text": [
      "Your query:-\n",
      "Query: the kite runner\n"
     ]
    },
    {
     "data": {
      "text/html": [
       "<div>\n",
       "<style scoped>\n",
       "    .dataframe tbody tr th:only-of-type {\n",
       "        vertical-align: middle;\n",
       "    }\n",
       "\n",
       "    .dataframe tbody tr th {\n",
       "        vertical-align: top;\n",
       "    }\n",
       "\n",
       "    .dataframe thead th {\n",
       "        text-align: right;\n",
       "    }\n",
       "</style>\n",
       "<table border=\"1\" class=\"dataframe\">\n",
       "  <thead>\n",
       "    <tr style=\"text-align: right;\">\n",
       "      <th></th>\n",
       "      <th>Title</th>\n",
       "      <th>Author</th>\n",
       "      <th>Genres</th>\n",
       "    </tr>\n",
       "  </thead>\n",
       "  <tbody>\n",
       "    <tr>\n",
       "      <th>4</th>\n",
       "      <td>Brown Bear, Brown Bear, What Do You See?</td>\n",
       "      <td>Bill Martin Jr., Eric Carle</td>\n",
       "      <td>Picture Books, Childrens, Animals, Fiction, Cl...</td>\n",
       "    </tr>\n",
       "    <tr>\n",
       "      <th>0</th>\n",
       "      <td>Is Your Mama A Llama?</td>\n",
       "      <td>Deborah Guarino, Steven Kellogg</td>\n",
       "      <td>Picture Books, Childrens, Animals, Storytime, ...</td>\n",
       "    </tr>\n",
       "    <tr>\n",
       "      <th>1</th>\n",
       "      <td>Llama, Llama Red Pajama</td>\n",
       "      <td>Anna Dewdney</td>\n",
       "      <td>Picture Books, Childrens, Animals, Storytime, ...</td>\n",
       "    </tr>\n",
       "    <tr>\n",
       "      <th>3</th>\n",
       "      <td>El Zorro</td>\n",
       "      <td>Isabel Allende, Margaret Sayers Peden</td>\n",
       "      <td>Fiction, Graphic Novels, Poetry, Childrens, Ph...</td>\n",
       "    </tr>\n",
       "    <tr>\n",
       "      <th>2</th>\n",
       "      <td>1,000 Places to See Before You Die</td>\n",
       "      <td>Patricia Schultz</td>\n",
       "      <td>Travel, Nonfiction, Reference, Adventure, Hist...</td>\n",
       "    </tr>\n",
       "  </tbody>\n",
       "</table>\n",
       "</div>"
      ],
      "text/plain": [
       "                                      Title  \\\n",
       "4  Brown Bear, Brown Bear, What Do You See?   \n",
       "0                     Is Your Mama A Llama?   \n",
       "1                   Llama, Llama Red Pajama   \n",
       "3                                  El Zorro   \n",
       "2        1,000 Places to See Before You Die   \n",
       "\n",
       "                                  Author  \\\n",
       "4            Bill Martin Jr., Eric Carle   \n",
       "0        Deborah Guarino, Steven Kellogg   \n",
       "1                           Anna Dewdney   \n",
       "3  Isabel Allende, Margaret Sayers Peden   \n",
       "2                       Patricia Schultz   \n",
       "\n",
       "                                              Genres  \n",
       "4  Picture Books, Childrens, Animals, Fiction, Cl...  \n",
       "0  Picture Books, Childrens, Animals, Storytime, ...  \n",
       "1  Picture Books, Childrens, Animals, Storytime, ...  \n",
       "3  Fiction, Graphic Novels, Poetry, Childrens, Ph...  \n",
       "2  Travel, Nonfiction, Reference, Adventure, Hist...  "
      ]
     },
     "execution_count": 131,
     "metadata": {},
     "output_type": "execute_result"
    }
   ],
   "source": [
    "content_based_recommendations(\"the kite runner\", df=gbx_content, type=\"genres\", n_recommendations=5)"
   ]
  },
  {
   "cell_type": "code",
   "execution_count": 123,
   "metadata": {},
   "outputs": [],
   "source": [
    "# def content_based_recommendations(query, df, top_k=10):\n",
    "\n",
    "#     if 'BookID' in df.columns:\n",
    "#         df = gbx_content\n",
    "#     else:\n",
    "#         df = bx_content\n",
    "\n",
    "#     # cleaned_query = clean_text(query)\n",
    "#     # Compute combined features for the specified DataFrame\n",
    "#     combined_features, tfidf_vectorizer = compute_combined_features(df)\n",
    "\n",
    "#     # Use KNN for Recommendations\n",
    "#     knn_model = NearestNeighbors(n_neighbors=top_k, metric='cosine')\n",
    "#     knn_model.fit(combined_features)\n",
    "\n",
    "#     query_embedding = get_bert_embeddings_batch([query])[0].astype(np.float64)\n",
    "#     query_tfidf = tfidf_vectorizer.transform([query])\n",
    "#     query_combined = hstack([np.array([query_embedding]), query_tfidf])\n",
    "\n",
    "#     distances, indices = knn_model.kneighbors(query_combined, n_neighbors=top_k*10)\n",
    "\n",
    "#     # Flatten indices and fetch recommendations\n",
    "#     recommendations = df.iloc[indices.flatten()]\n",
    "\n",
    "#     # Ensure unique recommendations based on Title and Author, excluding the query itself\n",
    "#     unique_titles = set()\n",
    "#     unique_recommendations = []\n",
    "#     for _, row in recommendations.iterrows():\n",
    "#         unique_key = (row['Title'].lower(), row['Author'].lower())\n",
    "#         if unique_key not in unique_titles and row['Title'].lower() != query.lower():\n",
    "#             unique_titles.add(unique_key)\n",
    "#             unique_recommendations.append(row)\n",
    "#             if len(unique_recommendations) >= top_k:\n",
    "#                 break    \n",
    "#     return pd.DataFrame(unique_recommendations, columns=['Title', 'Author', 'Genres']).reset_index(drop=True)\n",
    "\n",
    "#     # return pd.DataFrame(unique_recommendations)"
   ]
  },
  {
   "cell_type": "code",
   "execution_count": 56,
   "metadata": {},
   "outputs": [
    {
     "data": {
      "text/html": [
       "<div>\n",
       "<style scoped>\n",
       "    .dataframe tbody tr th:only-of-type {\n",
       "        vertical-align: middle;\n",
       "    }\n",
       "\n",
       "    .dataframe tbody tr th {\n",
       "        vertical-align: top;\n",
       "    }\n",
       "\n",
       "    .dataframe thead th {\n",
       "        text-align: right;\n",
       "    }\n",
       "</style>\n",
       "<table border=\"1\" class=\"dataframe\">\n",
       "  <thead>\n",
       "    <tr style=\"text-align: right;\">\n",
       "      <th></th>\n",
       "      <th>Title</th>\n",
       "      <th>Author</th>\n",
       "      <th>Genres</th>\n",
       "    </tr>\n",
       "  </thead>\n",
       "  <tbody>\n",
       "    <tr>\n",
       "      <th>0</th>\n",
       "      <td>Next to a Letter from Home: Major Glenn Miller...</td>\n",
       "      <td>Geoffrey Butcher</td>\n",
       "      <td>Music</td>\n",
       "    </tr>\n",
       "    <tr>\n",
       "      <th>1</th>\n",
       "      <td>The Collected Poems of Weldon Kees</td>\n",
       "      <td>Donald Justice</td>\n",
       "      <td>Poetry, Literature</td>\n",
       "    </tr>\n",
       "    <tr>\n",
       "      <th>2</th>\n",
       "      <td>The Group of Seven and Tom Thomson: An Introdu...</td>\n",
       "      <td>Anne Newlands</td>\n",
       "      <td>Art</td>\n",
       "    </tr>\n",
       "    <tr>\n",
       "      <th>3</th>\n",
       "      <td>Prince What-A-Mess</td>\n",
       "      <td>Frank Muir</td>\n",
       "      <td>Animals</td>\n",
       "    </tr>\n",
       "    <tr>\n",
       "      <th>4</th>\n",
       "      <td>Inheritance (Western Lovers, 9)</td>\n",
       "      <td>Joleen Daniels</td>\n",
       "      <td>Harlequin</td>\n",
       "    </tr>\n",
       "  </tbody>\n",
       "</table>\n",
       "</div>"
      ],
      "text/plain": [
       "                                               Title            Author  \\\n",
       "0  Next to a Letter from Home: Major Glenn Miller...  Geoffrey Butcher   \n",
       "1                 The Collected Poems of Weldon Kees    Donald Justice   \n",
       "2  The Group of Seven and Tom Thomson: An Introdu...     Anne Newlands   \n",
       "3                                 Prince What-A-Mess        Frank Muir   \n",
       "4                    Inheritance (Western Lovers, 9)    Joleen Daniels   \n",
       "\n",
       "               Genres  \n",
       "0               Music  \n",
       "1  Poetry, Literature  \n",
       "2                 Art  \n",
       "3             Animals  \n",
       "4           Harlequin  "
      ]
     },
     "execution_count": 56,
     "metadata": {},
     "output_type": "execute_result"
    }
   ],
   "source": [
    "content_based_recommendations(\"John Lawrence\", bx_content, \"combined\", top_k=5)"
   ]
  },
  {
   "cell_type": "code",
   "execution_count": 60,
   "metadata": {},
   "outputs": [
    {
     "data": {
      "text/html": [
       "<div>\n",
       "<style scoped>\n",
       "    .dataframe tbody tr th:only-of-type {\n",
       "        vertical-align: middle;\n",
       "    }\n",
       "\n",
       "    .dataframe tbody tr th {\n",
       "        vertical-align: top;\n",
       "    }\n",
       "\n",
       "    .dataframe thead th {\n",
       "        text-align: right;\n",
       "    }\n",
       "</style>\n",
       "<table border=\"1\" class=\"dataframe\">\n",
       "  <thead>\n",
       "    <tr style=\"text-align: right;\">\n",
       "      <th></th>\n",
       "      <th>Title</th>\n",
       "      <th>Author</th>\n",
       "      <th>Genres</th>\n",
       "    </tr>\n",
       "  </thead>\n",
       "  <tbody>\n",
       "    <tr>\n",
       "      <th>0</th>\n",
       "      <td>Coming Home</td>\n",
       "      <td>Rosamunde Pilcher</td>\n",
       "      <td>Comics, Graphic Novels, Marvel, Spider Man, Co...</td>\n",
       "    </tr>\n",
       "    <tr>\n",
       "      <th>1</th>\n",
       "      <td>Annihilation</td>\n",
       "      <td>Jeff VanderMeer</td>\n",
       "      <td>Science Fiction, Fiction, Horror, Fantasy, Mys...</td>\n",
       "    </tr>\n",
       "    <tr>\n",
       "      <th>2</th>\n",
       "      <td>Graduation Day</td>\n",
       "      <td>Joelle Charbonneau</td>\n",
       "      <td>Dystopia, Young Adult, Science Fiction, Fictio...</td>\n",
       "    </tr>\n",
       "    <tr>\n",
       "      <th>3</th>\n",
       "      <td>When Beauty Tamed the Beast</td>\n",
       "      <td>Eloisa James</td>\n",
       "      <td>Historical Romance, Romance, Historical, Histo...</td>\n",
       "    </tr>\n",
       "    <tr>\n",
       "      <th>4</th>\n",
       "      <td>The Stars My Destination</td>\n",
       "      <td>Alfred Bester, Neil Gaiman</td>\n",
       "      <td>Science Fiction, Fiction, Classics, Cyberpunk,...</td>\n",
       "    </tr>\n",
       "  </tbody>\n",
       "</table>\n",
       "</div>"
      ],
      "text/plain": [
       "                         Title                      Author  \\\n",
       "0                  Coming Home           Rosamunde Pilcher   \n",
       "1                 Annihilation             Jeff VanderMeer   \n",
       "2               Graduation Day          Joelle Charbonneau   \n",
       "3  When Beauty Tamed the Beast                Eloisa James   \n",
       "4     The Stars My Destination  Alfred Bester, Neil Gaiman   \n",
       "\n",
       "                                              Genres  \n",
       "0  Comics, Graphic Novels, Marvel, Spider Man, Co...  \n",
       "1  Science Fiction, Fiction, Horror, Fantasy, Mys...  \n",
       "2  Dystopia, Young Adult, Science Fiction, Fictio...  \n",
       "3  Historical Romance, Romance, Historical, Histo...  \n",
       "4  Science Fiction, Fiction, Classics, Cyberpunk,...  "
      ]
     },
     "execution_count": 60,
     "metadata": {},
     "output_type": "execute_result"
    }
   ],
   "source": [
    "content_based_recommendations(\"Wuthering Heights\", gbx_content, 'combined', top_k=5)\n"
   ]
  },
  {
   "cell_type": "code",
   "execution_count": 61,
   "metadata": {},
   "outputs": [
    {
     "data": {
      "text/html": [
       "<div>\n",
       "<style scoped>\n",
       "    .dataframe tbody tr th:only-of-type {\n",
       "        vertical-align: middle;\n",
       "    }\n",
       "\n",
       "    .dataframe tbody tr th {\n",
       "        vertical-align: top;\n",
       "    }\n",
       "\n",
       "    .dataframe thead th {\n",
       "        text-align: right;\n",
       "    }\n",
       "</style>\n",
       "<table border=\"1\" class=\"dataframe\">\n",
       "  <thead>\n",
       "    <tr style=\"text-align: right;\">\n",
       "      <th></th>\n",
       "      <th>Title</th>\n",
       "      <th>Author</th>\n",
       "      <th>Genres</th>\n",
       "    </tr>\n",
       "  </thead>\n",
       "  <tbody>\n",
       "    <tr>\n",
       "      <th>0</th>\n",
       "      <td>The Brooklyn Follies</td>\n",
       "      <td>Paul Auster</td>\n",
       "      <td>Fiction, Contemporary, American, New York, Nov...</td>\n",
       "    </tr>\n",
       "    <tr>\n",
       "      <th>1</th>\n",
       "      <td>Tropic of Capricorn</td>\n",
       "      <td>Henry Miller</td>\n",
       "      <td>Fiction, Classics, Literature, Novels, America...</td>\n",
       "    </tr>\n",
       "    <tr>\n",
       "      <th>2</th>\n",
       "      <td>Nine Parts of Desire: The Hidden World of Isla...</td>\n",
       "      <td>Geraldine Brooks</td>\n",
       "      <td>Nonfiction, Religion, Islam, History, Feminism...</td>\n",
       "    </tr>\n",
       "    <tr>\n",
       "      <th>3</th>\n",
       "      <td>The 20th Century Art Book</td>\n",
       "      <td>Phaidon Press</td>\n",
       "      <td>Art, Nonfiction, Reference, Art History, Histo...</td>\n",
       "    </tr>\n",
       "    <tr>\n",
       "      <th>4</th>\n",
       "      <td>The Discoverers: A History of Man's Search to ...</td>\n",
       "      <td>Daniel J. Boorstin</td>\n",
       "      <td>History, Nonfiction, Science, Philosophy, Worl...</td>\n",
       "    </tr>\n",
       "  </tbody>\n",
       "</table>\n",
       "</div>"
      ],
      "text/plain": [
       "                                               Title              Author  \\\n",
       "0                               The Brooklyn Follies         Paul Auster   \n",
       "1                                Tropic of Capricorn        Henry Miller   \n",
       "2  Nine Parts of Desire: The Hidden World of Isla...    Geraldine Brooks   \n",
       "3                          The 20th Century Art Book       Phaidon Press   \n",
       "4  The Discoverers: A History of Man's Search to ...  Daniel J. Boorstin   \n",
       "\n",
       "                                              Genres  \n",
       "0  Fiction, Contemporary, American, New York, Nov...  \n",
       "1  Fiction, Classics, Literature, Novels, America...  \n",
       "2  Nonfiction, Religion, Islam, History, Feminism...  \n",
       "3  Art, Nonfiction, Reference, Art History, Histo...  \n",
       "4  History, Nonfiction, Science, Philosophy, Worl...  "
      ]
     },
     "execution_count": 61,
     "metadata": {},
     "output_type": "execute_result"
    }
   ],
   "source": [
    "content_based_recommendations(\"The Art of War\", gbx_content, type = \"combined\", top_k=5)"
   ]
  },
  {
   "cell_type": "code",
   "execution_count": 94,
   "metadata": {},
   "outputs": [
    {
     "name": "stdout",
     "output_type": "stream",
     "text": [
      "Your query:-\n",
      "Query: Harry Potter and the Goblet of Fire\n"
     ]
    },
    {
     "data": {
      "text/html": [
       "<div>\n",
       "<style scoped>\n",
       "    .dataframe tbody tr th:only-of-type {\n",
       "        vertical-align: middle;\n",
       "    }\n",
       "\n",
       "    .dataframe tbody tr th {\n",
       "        vertical-align: top;\n",
       "    }\n",
       "\n",
       "    .dataframe thead th {\n",
       "        text-align: right;\n",
       "    }\n",
       "</style>\n",
       "<table border=\"1\" class=\"dataframe\">\n",
       "  <thead>\n",
       "    <tr style=\"text-align: right;\">\n",
       "      <th></th>\n",
       "      <th>Title</th>\n",
       "      <th>Author</th>\n",
       "      <th>Genres</th>\n",
       "      <th>Cosine Similarity</th>\n",
       "    </tr>\n",
       "  </thead>\n",
       "  <tbody>\n",
       "    <tr>\n",
       "      <th>4</th>\n",
       "      <td>The Illuminatus! Trilogy: The Eye in the Pyram...</td>\n",
       "      <td>Robert Shea</td>\n",
       "      <td>Fiction, Science Fiction, Fantasy, Humor, Phil...</td>\n",
       "      <td>1.000000</td>\n",
       "    </tr>\n",
       "    <tr>\n",
       "      <th>3</th>\n",
       "      <td>Harry Potter and the Sorcerer's Stone (Harry P...</td>\n",
       "      <td>J. K. Rowling</td>\n",
       "      <td>Fantasy</td>\n",
       "      <td>0.174034</td>\n",
       "    </tr>\n",
       "    <tr>\n",
       "      <th>0</th>\n",
       "      <td>Harry Potter and the Goblet of Fire (Book 4)</td>\n",
       "      <td>J. K. Rowling</td>\n",
       "      <td>Fantasy, Young Adult, Fiction, Magic, Children...</td>\n",
       "      <td>0.163998</td>\n",
       "    </tr>\n",
       "    <tr>\n",
       "      <th>1</th>\n",
       "      <td>Harry Potter and the Prisoner of Azkaban (Book 3)</td>\n",
       "      <td>J. K. Rowling</td>\n",
       "      <td>Fantasy, Fiction, Young Adult, Magic, Children...</td>\n",
       "      <td>0.163998</td>\n",
       "    </tr>\n",
       "    <tr>\n",
       "      <th>2</th>\n",
       "      <td>Harry Potter and the Sorcerer's Stone (Book 1)</td>\n",
       "      <td>J. K. Rowling</td>\n",
       "      <td>Fantasy, Fiction, Young Adult, Magic, Children...</td>\n",
       "      <td>0.163998</td>\n",
       "    </tr>\n",
       "  </tbody>\n",
       "</table>\n",
       "</div>"
      ],
      "text/plain": [
       "                                               Title         Author  \\\n",
       "4  The Illuminatus! Trilogy: The Eye in the Pyram...    Robert Shea   \n",
       "3  Harry Potter and the Sorcerer's Stone (Harry P...  J. K. Rowling   \n",
       "0       Harry Potter and the Goblet of Fire (Book 4)  J. K. Rowling   \n",
       "1  Harry Potter and the Prisoner of Azkaban (Book 3)  J. K. Rowling   \n",
       "2     Harry Potter and the Sorcerer's Stone (Book 1)  J. K. Rowling   \n",
       "\n",
       "                                              Genres  Cosine Similarity  \n",
       "4  Fiction, Science Fiction, Fantasy, Humor, Phil...           1.000000  \n",
       "3                                            Fantasy           0.174034  \n",
       "0  Fantasy, Young Adult, Fiction, Magic, Children...           0.163998  \n",
       "1  Fantasy, Fiction, Young Adult, Magic, Children...           0.163998  \n",
       "2  Fantasy, Fiction, Young Adult, Magic, Children...           0.163998  "
      ]
     },
     "execution_count": 94,
     "metadata": {},
     "output_type": "execute_result"
    }
   ],
   "source": [
    "content_based_recommendations(\"Harry Potter and the Goblet of Fire\", bx_content, type=\"title\", n_recommendations=5)"
   ]
  },
  {
   "cell_type": "code",
   "execution_count": 100,
   "metadata": {},
   "outputs": [
    {
     "name": "stdout",
     "output_type": "stream",
     "text": [
      "Your query:-\n",
      "Query: Harry Potter and the Goblet of Fire\n"
     ]
    },
    {
     "data": {
      "text/html": [
       "<div>\n",
       "<style scoped>\n",
       "    .dataframe tbody tr th:only-of-type {\n",
       "        vertical-align: middle;\n",
       "    }\n",
       "\n",
       "    .dataframe tbody tr th {\n",
       "        vertical-align: top;\n",
       "    }\n",
       "\n",
       "    .dataframe thead th {\n",
       "        text-align: right;\n",
       "    }\n",
       "</style>\n",
       "<table border=\"1\" class=\"dataframe\">\n",
       "  <thead>\n",
       "    <tr style=\"text-align: right;\">\n",
       "      <th></th>\n",
       "      <th>Title</th>\n",
       "      <th>Author</th>\n",
       "      <th>Genres</th>\n",
       "      <th>Cosine Similarity</th>\n",
       "    </tr>\n",
       "  </thead>\n",
       "  <tbody>\n",
       "    <tr>\n",
       "      <th>4</th>\n",
       "      <td>The Illuminatus! Trilogy: The Eye in the Pyram...</td>\n",
       "      <td>Robert Shea</td>\n",
       "      <td>Fiction, Science Fiction, Fantasy, Humor, Phil...</td>\n",
       "      <td>1.000000</td>\n",
       "    </tr>\n",
       "    <tr>\n",
       "      <th>3</th>\n",
       "      <td>Harry Potter and the Sorcerer's Stone (Harry P...</td>\n",
       "      <td>J. K. Rowling</td>\n",
       "      <td>Fantasy</td>\n",
       "      <td>0.174034</td>\n",
       "    </tr>\n",
       "    <tr>\n",
       "      <th>0</th>\n",
       "      <td>Harry Potter and the Goblet of Fire (Book 4)</td>\n",
       "      <td>J. K. Rowling</td>\n",
       "      <td>Fantasy, Young Adult, Fiction, Magic, Children...</td>\n",
       "      <td>0.163998</td>\n",
       "    </tr>\n",
       "    <tr>\n",
       "      <th>1</th>\n",
       "      <td>Harry Potter and the Prisoner of Azkaban (Book 3)</td>\n",
       "      <td>J. K. Rowling</td>\n",
       "      <td>Fantasy, Fiction, Young Adult, Magic, Children...</td>\n",
       "      <td>0.163998</td>\n",
       "    </tr>\n",
       "    <tr>\n",
       "      <th>2</th>\n",
       "      <td>Harry Potter and the Sorcerer's Stone (Book 1)</td>\n",
       "      <td>J. K. Rowling</td>\n",
       "      <td>Fantasy, Fiction, Young Adult, Magic, Children...</td>\n",
       "      <td>0.163998</td>\n",
       "    </tr>\n",
       "  </tbody>\n",
       "</table>\n",
       "</div>"
      ],
      "text/plain": [
       "                                               Title         Author  \\\n",
       "4  The Illuminatus! Trilogy: The Eye in the Pyram...    Robert Shea   \n",
       "3  Harry Potter and the Sorcerer's Stone (Harry P...  J. K. Rowling   \n",
       "0       Harry Potter and the Goblet of Fire (Book 4)  J. K. Rowling   \n",
       "1  Harry Potter and the Prisoner of Azkaban (Book 3)  J. K. Rowling   \n",
       "2     Harry Potter and the Sorcerer's Stone (Book 1)  J. K. Rowling   \n",
       "\n",
       "                                              Genres  Cosine Similarity  \n",
       "4  Fiction, Science Fiction, Fantasy, Humor, Phil...           1.000000  \n",
       "3                                            Fantasy           0.174034  \n",
       "0  Fantasy, Young Adult, Fiction, Magic, Children...           0.163998  \n",
       "1  Fantasy, Fiction, Young Adult, Magic, Children...           0.163998  \n",
       "2  Fantasy, Fiction, Young Adult, Magic, Children...           0.163998  "
      ]
     },
     "execution_count": 100,
     "metadata": {},
     "output_type": "execute_result"
    }
   ],
   "source": [
    "content_based_recommendations(\"Harry Potter and the Goblet of Fire\", bx_content, type=\"title\", n_recommendations=5)"
   ]
  },
  {
   "cell_type": "markdown",
   "metadata": {},
   "source": [
    "# Collaborative-filtering Model"
   ]
  },
  {
   "cell_type": "markdown",
   "metadata": {},
   "source": [
    "##### Memory-based item-similarity CF using kNN"
   ]
  },
  {
   "cell_type": "code",
   "execution_count": 30,
   "metadata": {},
   "outputs": [
    {
     "data": {
      "text/html": [
       "<div>\n",
       "<style scoped>\n",
       "    .dataframe tbody tr th:only-of-type {\n",
       "        vertical-align: middle;\n",
       "    }\n",
       "\n",
       "    .dataframe tbody tr th {\n",
       "        vertical-align: top;\n",
       "    }\n",
       "\n",
       "    .dataframe thead th {\n",
       "        text-align: right;\n",
       "    }\n",
       "</style>\n",
       "<table border=\"1\" class=\"dataframe\">\n",
       "  <thead>\n",
       "    <tr style=\"text-align: right;\">\n",
       "      <th></th>\n",
       "      <th>UserID</th>\n",
       "      <th>User_Rating</th>\n",
       "      <th>Title</th>\n",
       "      <th>Author</th>\n",
       "      <th>Average_Rating</th>\n",
       "      <th>cleaned_title</th>\n",
       "      <th>cleaned_author</th>\n",
       "      <th>Genres</th>\n",
       "      <th>new_combined</th>\n",
       "      <th>cleaned_genres</th>\n",
       "      <th>title_genres_combined</th>\n",
       "      <th>authors_embeddings</th>\n",
       "    </tr>\n",
       "  </thead>\n",
       "  <tbody>\n",
       "    <tr>\n",
       "      <th>0</th>\n",
       "      <td>276733</td>\n",
       "      <td>1</td>\n",
       "      <td>Les Particules Elementaires</td>\n",
       "      <td>Michel Houellebecq</td>\n",
       "      <td>2</td>\n",
       "      <td>le particules elementaires</td>\n",
       "      <td>michel houellebecq</td>\n",
       "      <td>Fiction, France, Literature, Novels, French Li...</td>\n",
       "      <td>le particules elementaires michel houellebecq ...</td>\n",
       "      <td>fiction france literature novels french litera...</td>\n",
       "      <td>le particules elementaires fiction france lite...</td>\n",
       "      <td>[-0.3414879, -0.07702848, -0.051483676, -0.296...</td>\n",
       "    </tr>\n",
       "  </tbody>\n",
       "</table>\n",
       "</div>"
      ],
      "text/plain": [
       "   UserID  User_Rating                        Title              Author  \\\n",
       "0  276733            1  Les Particules Elementaires  Michel Houellebecq   \n",
       "\n",
       "   Average_Rating               cleaned_title      cleaned_author  \\\n",
       "0               2  le particules elementaires  michel houellebecq   \n",
       "\n",
       "                                              Genres  \\\n",
       "0  Fiction, France, Literature, Novels, French Li...   \n",
       "\n",
       "                                        new_combined  \\\n",
       "0  le particules elementaires michel houellebecq ...   \n",
       "\n",
       "                                      cleaned_genres  \\\n",
       "0  fiction france literature novels french litera...   \n",
       "\n",
       "                               title_genres_combined  \\\n",
       "0  le particules elementaires fiction france lite...   \n",
       "\n",
       "                                  authors_embeddings  \n",
       "0  [-0.3414879, -0.07702848, -0.051483676, -0.296...  "
      ]
     },
     "execution_count": 30,
     "metadata": {},
     "output_type": "execute_result"
    }
   ],
   "source": [
    "bx_cols_to_drop = ['ISBN', 'title_embeddings', 'combined_embeddings', 'genres_embeddings', 'combined_cluster_label', 'genre_cluster_label']\n",
    "bx_cf = bx_cleaned.drop(columns=bx_cols_to_drop)\n",
    "bx_cf.head(1)"
   ]
  },
  {
   "cell_type": "code",
   "execution_count": 31,
   "metadata": {},
   "outputs": [
    {
     "data": {
      "text/html": [
       "<div>\n",
       "<style scoped>\n",
       "    .dataframe tbody tr th:only-of-type {\n",
       "        vertical-align: middle;\n",
       "    }\n",
       "\n",
       "    .dataframe tbody tr th {\n",
       "        vertical-align: top;\n",
       "    }\n",
       "\n",
       "    .dataframe thead th {\n",
       "        text-align: right;\n",
       "    }\n",
       "</style>\n",
       "<table border=\"1\" class=\"dataframe\">\n",
       "  <thead>\n",
       "    <tr style=\"text-align: right;\">\n",
       "      <th></th>\n",
       "      <th>BookID</th>\n",
       "      <th>Author</th>\n",
       "      <th>Title</th>\n",
       "      <th>Average_Rating</th>\n",
       "      <th>UserID</th>\n",
       "      <th>User_Rating</th>\n",
       "      <th>cleaned_title</th>\n",
       "      <th>cleaned_author</th>\n",
       "      <th>Genres</th>\n",
       "      <th>new_combined</th>\n",
       "      <th>cleaned_genres</th>\n",
       "      <th>title_genres_combined</th>\n",
       "      <th>authors_embeddings</th>\n",
       "    </tr>\n",
       "  </thead>\n",
       "  <tbody>\n",
       "    <tr>\n",
       "      <th>0</th>\n",
       "      <td>2767052</td>\n",
       "      <td>Suzanne Collins</td>\n",
       "      <td>The Hunger Games</td>\n",
       "      <td>4</td>\n",
       "      <td>314</td>\n",
       "      <td>5</td>\n",
       "      <td>hunger game</td>\n",
       "      <td>suzanne collins</td>\n",
       "      <td>Young Adult, Fiction, Fantasy, Dystopia, Scien...</td>\n",
       "      <td>hunger game suzanne collins young adult fictio...</td>\n",
       "      <td>young adult fiction fantasy dystopia science f...</td>\n",
       "      <td>hunger game young adult fiction fantasy dystop...</td>\n",
       "      <td>[-0.12804408, 0.11276019, -0.25651056, -0.0526...</td>\n",
       "    </tr>\n",
       "  </tbody>\n",
       "</table>\n",
       "</div>"
      ],
      "text/plain": [
       "    BookID           Author             Title  Average_Rating  UserID  \\\n",
       "0  2767052  Suzanne Collins  The Hunger Games               4     314   \n",
       "\n",
       "   User_Rating cleaned_title   cleaned_author  \\\n",
       "0            5   hunger game  suzanne collins   \n",
       "\n",
       "                                              Genres  \\\n",
       "0  Young Adult, Fiction, Fantasy, Dystopia, Scien...   \n",
       "\n",
       "                                        new_combined  \\\n",
       "0  hunger game suzanne collins young adult fictio...   \n",
       "\n",
       "                                      cleaned_genres  \\\n",
       "0  young adult fiction fantasy dystopia science f...   \n",
       "\n",
       "                               title_genres_combined  \\\n",
       "0  hunger game young adult fiction fantasy dystop...   \n",
       "\n",
       "                                  authors_embeddings  \n",
       "0  [-0.12804408, 0.11276019, -0.25651056, -0.0526...  "
      ]
     },
     "execution_count": 31,
     "metadata": {},
     "output_type": "execute_result"
    }
   ],
   "source": [
    "gbx_cols_to_drop = ['id', 'ISBN', 'title_embeddings', 'combined_embeddings', 'genres_embeddings', 'combined_cluster_label', 'genre_cluster_label']\n",
    "gbx_cf = gbx_cleaned.drop(columns=gbx_cols_to_drop)\n",
    "gbx_cf.head(1)"
   ]
  },
  {
   "cell_type": "code",
   "execution_count": null,
   "metadata": {},
   "outputs": [],
   "source": [
    "# user_item_matrix_bx = bx_cf.pivot_table(index='UserID', columns='cleaned_title', values='User_Rating').fillna(0)"
   ]
  },
  {
   "cell_type": "code",
   "execution_count": 24,
   "metadata": {},
   "outputs": [],
   "source": [
    "# user_item_matrix_gbx = gbx_cf.pivot_table(index='UserID', columns='cleaned_title', values='User_Rating').fillna(0)"
   ]
  },
  {
   "cell_type": "code",
   "execution_count": 25,
   "metadata": {},
   "outputs": [],
   "source": [
    "# genres_user_item_matrix_gbx = gbx_cf.pivot_table(index='UserID', columns='cleaned_genres', values='User_Rating').fillna(0)"
   ]
  },
  {
   "cell_type": "code",
   "execution_count": null,
   "metadata": {},
   "outputs": [],
   "source": [
    "# genres_user_item_matrix_bx = bx_cf.pivot_table(index='UserID', columns='cleaned_genres', values='User_Rating').fillna(0)"
   ]
  },
  {
   "cell_type": "code",
   "execution_count": null,
   "metadata": {},
   "outputs": [],
   "source": [
    "# author_user_item_matrix_bx = bx_cf.pivot_table(index='UserID', columns='cleaned_author', values='User_Rating').fillna(0)"
   ]
  },
  {
   "cell_type": "code",
   "execution_count": null,
   "metadata": {},
   "outputs": [],
   "source": [
    "# author_user_item_matrix_gbx = gbx_cf.pivot_table(index='UserID', columns='cleaned_author', values='User_Rating').fillna(0)"
   ]
  },
  {
   "cell_type": "code",
   "execution_count": 203,
   "metadata": {},
   "outputs": [],
   "source": [
    "# combined_user_item_matrix_gbx = gbx_cf.pivot_table(index='UserID', columns='title_genres_combined', values='User_Rating').fillna(0)"
   ]
  },
  {
   "cell_type": "code",
   "execution_count": 204,
   "metadata": {},
   "outputs": [],
   "source": [
    "# combined_user_item_matrix_bx = bx_cf.pivot_table(index='UserID', columns='title_genres_combined', values='User_Rating').fillna(0)"
   ]
  },
  {
   "cell_type": "code",
   "execution_count": 116,
   "metadata": {},
   "outputs": [],
   "source": [
    "# user_item_matrix_bx.to_csv('user_item_matrix_bx.csv')"
   ]
  },
  {
   "cell_type": "code",
   "execution_count": 117,
   "metadata": {},
   "outputs": [],
   "source": [
    "# user_item_matrix_gbx.to_csv('user_item_matrix_gbx.csv')"
   ]
  },
  {
   "cell_type": "code",
   "execution_count": 118,
   "metadata": {},
   "outputs": [],
   "source": [
    "# genres_user_item_matrix_gbx.to_csv('genres_user_item_matrix_gbx.csv')"
   ]
  },
  {
   "cell_type": "code",
   "execution_count": 119,
   "metadata": {},
   "outputs": [],
   "source": [
    "# genres_user_item_matrix_bx.to_csv('genres_user_item_matrix_bx.csv')"
   ]
  },
  {
   "cell_type": "code",
   "execution_count": 32,
   "metadata": {},
   "outputs": [],
   "source": [
    "user_item_matrix_bx = pd.read_csv('user_item_matrix_bx.csv', index_col=0)"
   ]
  },
  {
   "cell_type": "code",
   "execution_count": 33,
   "metadata": {},
   "outputs": [],
   "source": [
    "genres_user_item_matrix_gbx = pd.read_csv('genres_user_item_matrix_gbx.csv', index_col=0)"
   ]
  },
  {
   "cell_type": "code",
   "execution_count": 34,
   "metadata": {},
   "outputs": [],
   "source": [
    "genres_user_item_matrix_bx = pd.read_csv('genres_user_item_matrix_bx.csv', index_col=0)"
   ]
  },
  {
   "cell_type": "code",
   "execution_count": 35,
   "metadata": {},
   "outputs": [],
   "source": [
    "user_item_matrix_gbx = pd.read_csv('user_item_matrix_gbx.csv', index_col=0)"
   ]
  },
  {
   "cell_type": "code",
   "execution_count": 36,
   "metadata": {},
   "outputs": [],
   "source": [
    "def get_popular_books(df, n=5):\n",
    "    book_popularity = df.groupby('cleaned_title')['User_Rating'].count().sort_values(ascending=False).head(n)\n",
    "    # book_popularity = df.groupby('title_genres_combined')['User_Rating'].count().sort_values(ascending=False).head(n)\n",
    "\n",
    "    popular_books_details = df[df['cleaned_title'].isin(book_popularity.index)][['Title', 'Author', 'Genres']].drop_duplicates().head(n)\n",
    "    # popular_books_details = df[df['title_genres_combined'].isin(book_popularity.index)][['Title', 'Author', 'Genres']].drop_duplicates().head(n)\n",
    "    return popular_books_details"
   ]
  },
  {
   "cell_type": "code",
   "execution_count": 132,
   "metadata": {},
   "outputs": [],
   "source": [
    "# def item_collaborative_recommendations(book_title, df, n_recommendations=5):\n",
    "#     cleaned_book_title = clean_text(book_title)\n",
    "    \n",
    "#     # Assuming user_item_matrix is predefined and contains your user-item interaction data\n",
    "#     if 'BookID' in df.columns:\n",
    "#         df = gbx_cf\n",
    "#         user_item_matrix = user_item_matrix_gbx\n",
    "#     else:\n",
    "#         df = bx_cf\n",
    "#         user_item_matrix = user_item_matrix_bx\n",
    "    \n",
    "#     if cleaned_book_title not in user_item_matrix.columns:\n",
    "#     # if cleaned_book_title not in df['cleaned_title'].values:\n",
    "#         print(\"Book title not found. Recommending popular books instead.\")\n",
    "#         return get_popular_books(df, n_recommendations)\n",
    "    \n",
    "#     # Initialize and train kNN model\n",
    "#     model_knn = NearestNeighbors(metric='cosine', algorithm='brute', n_neighbors=n_recommendations, n_jobs=-1)\n",
    "#     model_knn.fit(user_item_matrix.T.values)  # Transpose to get item-feature matrix\n",
    "\n",
    "#     # Locate the index of the book title\n",
    "#     book_index = list(user_item_matrix.columns).index(cleaned_book_title)\n",
    "#     distances, indices = model_knn.kneighbors(user_item_matrix.T.iloc[book_index, :].values.reshape(1, -1), n_neighbors=n_recommendations*2)\n",
    "\n",
    "#     # Fetch indices for the recommended books, excluding the book itself\n",
    "#     recommended_indices = indices.flatten()[1:]\n",
    "\n",
    "#     # Fetch book titles for the recommended indices\n",
    "#     recommended_books_titles = [user_item_matrix.columns[i] for i in recommended_indices]\n",
    "    \n",
    "#     # Fetch the details for the recommended books\n",
    "#     recommended_books_details = df[df['cleaned_title'].isin(recommended_books_titles)].drop_duplicates(subset=['cleaned_title'])\n",
    "#     recommended_books_details = recommended_books_details[['Title', 'Author', 'Genres']].head(n_recommendations)\n",
    "    \n",
    "#     # print(\"Your query:-\")\n",
    "#     # print(\"Query:\", book_title)\n",
    "#     # print(\"Title:\", row['Title'])\n",
    "#     # print(\"Author:\", row['Author'])\n",
    "#     # print(\"Genres:\", df[df['Genres']])\n",
    "    \n",
    "#     return recommended_books_details"
   ]
  },
  {
   "cell_type": "code",
   "execution_count": 37,
   "metadata": {},
   "outputs": [
    {
     "name": "stdout",
     "output_type": "stream",
     "text": [
      "Book title not found. Recommending popular books instead.\n"
     ]
    },
    {
     "data": {
      "text/html": [
       "<div>\n",
       "<style scoped>\n",
       "    .dataframe tbody tr th:only-of-type {\n",
       "        vertical-align: middle;\n",
       "    }\n",
       "\n",
       "    .dataframe tbody tr th {\n",
       "        vertical-align: top;\n",
       "    }\n",
       "\n",
       "    .dataframe thead th {\n",
       "        text-align: right;\n",
       "    }\n",
       "</style>\n",
       "<table border=\"1\" class=\"dataframe\">\n",
       "  <thead>\n",
       "    <tr style=\"text-align: right;\">\n",
       "      <th></th>\n",
       "      <th>Title</th>\n",
       "      <th>Author</th>\n",
       "      <th>Genres</th>\n",
       "    </tr>\n",
       "  </thead>\n",
       "  <tbody>\n",
       "    <tr>\n",
       "      <th>72</th>\n",
       "      <td>The Lovely Bones: A Novel</td>\n",
       "      <td>Alice Sebold</td>\n",
       "      <td>Fiction, Mystery, Young Adult, Contemporary, F...</td>\n",
       "    </tr>\n",
       "    <tr>\n",
       "      <th>82</th>\n",
       "      <td>Wild Animus</td>\n",
       "      <td>Rich Shapero</td>\n",
       "      <td>Fiction, Fantasy, Novels, Adult Fiction, Audio...</td>\n",
       "    </tr>\n",
       "    <tr>\n",
       "      <th>107</th>\n",
       "      <td>Harry Potter and the Sorcerer's Stone (Harry P...</td>\n",
       "      <td>J. K. Rowling</td>\n",
       "      <td>Fantasy</td>\n",
       "    </tr>\n",
       "    <tr>\n",
       "      <th>295</th>\n",
       "      <td>Divine Secrets of the Ya-Ya Sisterhood : A Novel</td>\n",
       "      <td>Rebecca Wells</td>\n",
       "      <td>Fiction, Chick Lit, Contemporary, Adult Fictio...</td>\n",
       "    </tr>\n",
       "    <tr>\n",
       "      <th>368</th>\n",
       "      <td>The Rainmaker</td>\n",
       "      <td>John Grisham</td>\n",
       "      <td>Fiction, Thriller, Mystery, Legal Thriller, Cr...</td>\n",
       "    </tr>\n",
       "  </tbody>\n",
       "</table>\n",
       "</div>"
      ],
      "text/plain": [
       "                                                 Title         Author  \\\n",
       "72                           The Lovely Bones: A Novel   Alice Sebold   \n",
       "82                                         Wild Animus   Rich Shapero   \n",
       "107  Harry Potter and the Sorcerer's Stone (Harry P...  J. K. Rowling   \n",
       "295   Divine Secrets of the Ya-Ya Sisterhood : A Novel  Rebecca Wells   \n",
       "368                                      The Rainmaker   John Grisham   \n",
       "\n",
       "                                                Genres  \n",
       "72   Fiction, Mystery, Young Adult, Contemporary, F...  \n",
       "82   Fiction, Fantasy, Novels, Adult Fiction, Audio...  \n",
       "107                                            Fantasy  \n",
       "295  Fiction, Chick Lit, Contemporary, Adult Fictio...  \n",
       "368  Fiction, Thriller, Mystery, Legal Thriller, Cr...  "
      ]
     },
     "execution_count": 37,
     "metadata": {},
     "output_type": "execute_result"
    }
   ],
   "source": [
    "book_title = \"Perfect\"\n",
    "item_collaborative_recommendations(book_title, bx_cf, n_recommendations=5)"
   ]
  },
  {
   "cell_type": "code",
   "execution_count": 38,
   "metadata": {},
   "outputs": [
    {
     "name": "stdout",
     "output_type": "stream",
     "text": [
      "Book title not found. Recommending popular books instead.\n"
     ]
    },
    {
     "data": {
      "text/html": [
       "<div>\n",
       "<style scoped>\n",
       "    .dataframe tbody tr th:only-of-type {\n",
       "        vertical-align: middle;\n",
       "    }\n",
       "\n",
       "    .dataframe tbody tr th {\n",
       "        vertical-align: top;\n",
       "    }\n",
       "\n",
       "    .dataframe thead th {\n",
       "        text-align: right;\n",
       "    }\n",
       "</style>\n",
       "<table border=\"1\" class=\"dataframe\">\n",
       "  <thead>\n",
       "    <tr style=\"text-align: right;\">\n",
       "      <th></th>\n",
       "      <th>Title</th>\n",
       "      <th>Author</th>\n",
       "      <th>Genres</th>\n",
       "    </tr>\n",
       "  </thead>\n",
       "  <tbody>\n",
       "    <tr>\n",
       "      <th>72</th>\n",
       "      <td>The Lovely Bones: A Novel</td>\n",
       "      <td>Alice Sebold</td>\n",
       "      <td>Fiction, Mystery, Young Adult, Contemporary, F...</td>\n",
       "    </tr>\n",
       "    <tr>\n",
       "      <th>82</th>\n",
       "      <td>Wild Animus</td>\n",
       "      <td>Rich Shapero</td>\n",
       "      <td>Fiction, Fantasy, Novels, Adult Fiction, Audio...</td>\n",
       "    </tr>\n",
       "    <tr>\n",
       "      <th>107</th>\n",
       "      <td>Harry Potter and the Sorcerer's Stone (Harry P...</td>\n",
       "      <td>J. K. Rowling</td>\n",
       "      <td>Fantasy</td>\n",
       "    </tr>\n",
       "    <tr>\n",
       "      <th>295</th>\n",
       "      <td>Divine Secrets of the Ya-Ya Sisterhood : A Novel</td>\n",
       "      <td>Rebecca Wells</td>\n",
       "      <td>Fiction, Chick Lit, Contemporary, Adult Fictio...</td>\n",
       "    </tr>\n",
       "    <tr>\n",
       "      <th>368</th>\n",
       "      <td>The Rainmaker</td>\n",
       "      <td>John Grisham</td>\n",
       "      <td>Fiction, Thriller, Mystery, Legal Thriller, Cr...</td>\n",
       "    </tr>\n",
       "  </tbody>\n",
       "</table>\n",
       "</div>"
      ],
      "text/plain": [
       "                                                 Title         Author  \\\n",
       "72                           The Lovely Bones: A Novel   Alice Sebold   \n",
       "82                                         Wild Animus   Rich Shapero   \n",
       "107  Harry Potter and the Sorcerer's Stone (Harry P...  J. K. Rowling   \n",
       "295   Divine Secrets of the Ya-Ya Sisterhood : A Novel  Rebecca Wells   \n",
       "368                                      The Rainmaker   John Grisham   \n",
       "\n",
       "                                                Genres  \n",
       "72   Fiction, Mystery, Young Adult, Contemporary, F...  \n",
       "82   Fiction, Fantasy, Novels, Adult Fiction, Audio...  \n",
       "107                                            Fantasy  \n",
       "295  Fiction, Chick Lit, Contemporary, Adult Fictio...  \n",
       "368  Fiction, Thriller, Mystery, Legal Thriller, Cr...  "
      ]
     },
     "execution_count": 38,
     "metadata": {},
     "output_type": "execute_result"
    }
   ],
   "source": [
    "book_title = \"The Hunger Games\"\n",
    "item_collaborative_recommendations(book_title, bx_cf, n_recommendations=5)"
   ]
  },
  {
   "cell_type": "code",
   "execution_count": 39,
   "metadata": {},
   "outputs": [
    {
     "data": {
      "text/html": [
       "<div>\n",
       "<style scoped>\n",
       "    .dataframe tbody tr th:only-of-type {\n",
       "        vertical-align: middle;\n",
       "    }\n",
       "\n",
       "    .dataframe tbody tr th {\n",
       "        vertical-align: top;\n",
       "    }\n",
       "\n",
       "    .dataframe thead th {\n",
       "        text-align: right;\n",
       "    }\n",
       "</style>\n",
       "<table border=\"1\" class=\"dataframe\">\n",
       "  <thead>\n",
       "    <tr style=\"text-align: right;\">\n",
       "      <th></th>\n",
       "      <th>Title</th>\n",
       "      <th>Author</th>\n",
       "      <th>Genres</th>\n",
       "    </tr>\n",
       "  </thead>\n",
       "  <tbody>\n",
       "    <tr>\n",
       "      <th>573</th>\n",
       "      <td>FAST LANES (Washington Square)</td>\n",
       "      <td>Jayne Anne Phillips</td>\n",
       "      <td>Short Stories, Fiction, Literary Fiction</td>\n",
       "    </tr>\n",
       "    <tr>\n",
       "      <th>12321</th>\n",
       "      <td>The Falling Nun: And Other Stories</td>\n",
       "      <td>Pamela Rafael Berkman</td>\n",
       "      <td>Short Stories, Fiction</td>\n",
       "    </tr>\n",
       "    <tr>\n",
       "      <th>12397</th>\n",
       "      <td>The Book Group Book: A Thoughtful Guide to For...</td>\n",
       "      <td>Ellen Slezak</td>\n",
       "      <td>Nonfiction, Books About Books</td>\n",
       "    </tr>\n",
       "    <tr>\n",
       "      <th>19017</th>\n",
       "      <td>The Knockout Artist</td>\n",
       "      <td>Harry Crews</td>\n",
       "      <td>Fiction, Southern, Novels, American, Literatur...</td>\n",
       "    </tr>\n",
       "    <tr>\n",
       "      <th>20119</th>\n",
       "      <td>The It-Doesn'T-Matter Suit</td>\n",
       "      <td>Sylvia Plath</td>\n",
       "      <td>Fiction, Childrens, Poetry, Short Stories, Pic...</td>\n",
       "    </tr>\n",
       "  </tbody>\n",
       "</table>\n",
       "</div>"
      ],
      "text/plain": [
       "                                                   Title  \\\n",
       "573                       FAST LANES (Washington Square)   \n",
       "12321                 The Falling Nun: And Other Stories   \n",
       "12397  The Book Group Book: A Thoughtful Guide to For...   \n",
       "19017                                The Knockout Artist   \n",
       "20119                         The It-Doesn'T-Matter Suit   \n",
       "\n",
       "                      Author  \\\n",
       "573      Jayne Anne Phillips   \n",
       "12321  Pamela Rafael Berkman   \n",
       "12397           Ellen Slezak   \n",
       "19017            Harry Crews   \n",
       "20119           Sylvia Plath   \n",
       "\n",
       "                                                  Genres  \n",
       "573             Short Stories, Fiction, Literary Fiction  \n",
       "12321                             Short Stories, Fiction  \n",
       "12397                      Nonfiction, Books About Books  \n",
       "19017  Fiction, Southern, Novels, American, Literatur...  \n",
       "20119  Fiction, Childrens, Poetry, Short Stories, Pic...  "
      ]
     },
     "execution_count": 39,
     "metadata": {},
     "output_type": "execute_result"
    }
   ],
   "source": [
    "book_title = \"Twilight\"\n",
    "item_collaborative_recommendations(book_title, bx_cf, n_recommendations=5)"
   ]
  },
  {
   "cell_type": "code",
   "execution_count": 40,
   "metadata": {},
   "outputs": [
    {
     "data": {
      "text/html": [
       "<div>\n",
       "<style scoped>\n",
       "    .dataframe tbody tr th:only-of-type {\n",
       "        vertical-align: middle;\n",
       "    }\n",
       "\n",
       "    .dataframe tbody tr th {\n",
       "        vertical-align: top;\n",
       "    }\n",
       "\n",
       "    .dataframe thead th {\n",
       "        text-align: right;\n",
       "    }\n",
       "</style>\n",
       "<table border=\"1\" class=\"dataframe\">\n",
       "  <thead>\n",
       "    <tr style=\"text-align: right;\">\n",
       "      <th></th>\n",
       "      <th>Title</th>\n",
       "      <th>Author</th>\n",
       "      <th>Genres</th>\n",
       "    </tr>\n",
       "  </thead>\n",
       "  <tbody>\n",
       "    <tr>\n",
       "      <th>261298</th>\n",
       "      <td>Just After Sunset</td>\n",
       "      <td>Stephen King</td>\n",
       "      <td>Horror, Short Stories, Fiction, Thriller, Fant...</td>\n",
       "    </tr>\n",
       "    <tr>\n",
       "      <th>397675</th>\n",
       "      <td>Rising storm</td>\n",
       "      <td>Erin Hunter</td>\n",
       "      <td>Fiction, Thriller, Military Fiction, War, Acti...</td>\n",
       "    </tr>\n",
       "    <tr>\n",
       "      <th>412825</th>\n",
       "      <td>A Dangerous Path</td>\n",
       "      <td>Erin Hunter</td>\n",
       "      <td>Fantasy, Animals, Fiction, Middle Grade, Child...</td>\n",
       "    </tr>\n",
       "    <tr>\n",
       "      <th>427057</th>\n",
       "      <td>Midnight</td>\n",
       "      <td>Erin Hunter</td>\n",
       "      <td>Fiction, Fantasy, Contemporary, Audiobook, Mag...</td>\n",
       "    </tr>\n",
       "    <tr>\n",
       "      <th>447412</th>\n",
       "      <td>Ninth Key</td>\n",
       "      <td>Meg Cabot</td>\n",
       "      <td>Young Adult, Fantasy, Paranormal, Romance, Gho...</td>\n",
       "    </tr>\n",
       "  </tbody>\n",
       "</table>\n",
       "</div>"
      ],
      "text/plain": [
       "                    Title        Author  \\\n",
       "261298  Just After Sunset  Stephen King   \n",
       "397675       Rising storm   Erin Hunter   \n",
       "412825   A Dangerous Path   Erin Hunter   \n",
       "427057           Midnight   Erin Hunter   \n",
       "447412          Ninth Key     Meg Cabot   \n",
       "\n",
       "                                                   Genres  \n",
       "261298  Horror, Short Stories, Fiction, Thriller, Fant...  \n",
       "397675  Fiction, Thriller, Military Fiction, War, Acti...  \n",
       "412825  Fantasy, Animals, Fiction, Middle Grade, Child...  \n",
       "427057  Fiction, Fantasy, Contemporary, Audiobook, Mag...  \n",
       "447412  Young Adult, Fantasy, Paranormal, Romance, Gho...  "
      ]
     },
     "execution_count": 40,
     "metadata": {},
     "output_type": "execute_result"
    }
   ],
   "source": [
    "book_title = \"Twilight\"\n",
    "item_collaborative_recommendations(book_title, gbx_cf, n_recommendations=5)"
   ]
  },
  {
   "cell_type": "code",
   "execution_count": 41,
   "metadata": {},
   "outputs": [
    {
     "data": {
      "text/html": [
       "<div>\n",
       "<style scoped>\n",
       "    .dataframe tbody tr th:only-of-type {\n",
       "        vertical-align: middle;\n",
       "    }\n",
       "\n",
       "    .dataframe tbody tr th {\n",
       "        vertical-align: top;\n",
       "    }\n",
       "\n",
       "    .dataframe thead th {\n",
       "        text-align: right;\n",
       "    }\n",
       "</style>\n",
       "<table border=\"1\" class=\"dataframe\">\n",
       "  <thead>\n",
       "    <tr style=\"text-align: right;\">\n",
       "      <th></th>\n",
       "      <th>Title</th>\n",
       "      <th>Author</th>\n",
       "      <th>Genres</th>\n",
       "    </tr>\n",
       "  </thead>\n",
       "  <tbody>\n",
       "    <tr>\n",
       "      <th>4440</th>\n",
       "      <td>Walt Whitman: The Complete Poems (Penguin Clas...</td>\n",
       "      <td>Francis Murphy</td>\n",
       "      <td>Poetry, Classics, Fiction, Literature, America...</td>\n",
       "    </tr>\n",
       "    <tr>\n",
       "      <th>4441</th>\n",
       "      <td>Vivian Lives</td>\n",
       "      <td>Sherrie Krantz</td>\n",
       "      <td>Chick Lit</td>\n",
       "    </tr>\n",
       "    <tr>\n",
       "      <th>4454</th>\n",
       "      <td>MAKING YOUR OWN DAYS : THE PLEASURES OF READIN...</td>\n",
       "      <td>Kenneth Koch</td>\n",
       "      <td>Poetry, Writing, Nonfiction, Literary Criticis...</td>\n",
       "    </tr>\n",
       "    <tr>\n",
       "      <th>4457</th>\n",
       "      <td>Writing for Dollars</td>\n",
       "      <td>John Mccollister</td>\n",
       "      <td>Writing, Reference, Business, Nonfiction</td>\n",
       "    </tr>\n",
       "    <tr>\n",
       "      <th>4458</th>\n",
       "      <td>Northern Exposure: The Official Publication of...</td>\n",
       "      <td>Louis Chunovic</td>\n",
       "      <td>Nonfiction, Tv, Pop Culture</td>\n",
       "    </tr>\n",
       "  </tbody>\n",
       "</table>\n",
       "</div>"
      ],
      "text/plain": [
       "                                                  Title            Author  \\\n",
       "4440  Walt Whitman: The Complete Poems (Penguin Clas...    Francis Murphy   \n",
       "4441                                       Vivian Lives    Sherrie Krantz   \n",
       "4454  MAKING YOUR OWN DAYS : THE PLEASURES OF READIN...      Kenneth Koch   \n",
       "4457                                Writing for Dollars  John Mccollister   \n",
       "4458  Northern Exposure: The Official Publication of...    Louis Chunovic   \n",
       "\n",
       "                                                 Genres  \n",
       "4440  Poetry, Classics, Fiction, Literature, America...  \n",
       "4441                                          Chick Lit  \n",
       "4454  Poetry, Writing, Nonfiction, Literary Criticis...  \n",
       "4457           Writing, Reference, Business, Nonfiction  \n",
       "4458                        Nonfiction, Tv, Pop Culture  "
      ]
     },
     "execution_count": 41,
     "metadata": {},
     "output_type": "execute_result"
    }
   ],
   "source": [
    "book_title = \"The Alchemist\"\n",
    "item_collaborative_recommendations(book_title, bx_cf, n_recommendations=5)"
   ]
  },
  {
   "cell_type": "code",
   "execution_count": 42,
   "metadata": {},
   "outputs": [
    {
     "data": {
      "text/html": [
       "<div>\n",
       "<style scoped>\n",
       "    .dataframe tbody tr th:only-of-type {\n",
       "        vertical-align: middle;\n",
       "    }\n",
       "\n",
       "    .dataframe tbody tr th {\n",
       "        vertical-align: top;\n",
       "    }\n",
       "\n",
       "    .dataframe thead th {\n",
       "        text-align: right;\n",
       "    }\n",
       "</style>\n",
       "<table border=\"1\" class=\"dataframe\">\n",
       "  <thead>\n",
       "    <tr style=\"text-align: right;\">\n",
       "      <th></th>\n",
       "      <th>Title</th>\n",
       "      <th>Author</th>\n",
       "      <th>Genres</th>\n",
       "    </tr>\n",
       "  </thead>\n",
       "  <tbody>\n",
       "    <tr>\n",
       "      <th>1000</th>\n",
       "      <td>The Kite Runner</td>\n",
       "      <td>Khaled Hosseini</td>\n",
       "      <td>Fiction, Historical Fiction, Contemporary, Nov...</td>\n",
       "    </tr>\n",
       "    <tr>\n",
       "      <th>1500</th>\n",
       "      <td>MÃ¤n som hatar kvinnor</td>\n",
       "      <td>Stieg Larsson, Reg Keeland</td>\n",
       "      <td>Fiction, Mystery, Thriller, Crime, Mystery Thr...</td>\n",
       "    </tr>\n",
       "    <tr>\n",
       "      <th>1800</th>\n",
       "      <td>The Fellowship of the Ring</td>\n",
       "      <td>J.R.R. Tolkien</td>\n",
       "      <td>Fantasy, Classics, Fiction, Adventure, High Fa...</td>\n",
       "    </tr>\n",
       "    <tr>\n",
       "      <th>3100</th>\n",
       "      <td>Memoirs of a Geisha</td>\n",
       "      <td>Arthur Golden</td>\n",
       "      <td>Fiction, Historical Fiction, Romance, Classics...</td>\n",
       "    </tr>\n",
       "    <tr>\n",
       "      <th>3300</th>\n",
       "      <td>O Alquimista</td>\n",
       "      <td>Paulo Coelho, Alan R. Clarke</td>\n",
       "      <td>Fiction, Fantasy, Philosophy, Novels, Spiritua...</td>\n",
       "    </tr>\n",
       "  </tbody>\n",
       "</table>\n",
       "</div>"
      ],
      "text/plain": [
       "                            Title                        Author  \\\n",
       "1000             The Kite Runner                Khaled Hosseini   \n",
       "1500       MÃ¤n som hatar kvinnor    Stieg Larsson, Reg Keeland   \n",
       "1800   The Fellowship of the Ring                J.R.R. Tolkien   \n",
       "3100          Memoirs of a Geisha                 Arthur Golden   \n",
       "3300                 O Alquimista  Paulo Coelho, Alan R. Clarke   \n",
       "\n",
       "                                                 Genres  \n",
       "1000  Fiction, Historical Fiction, Contemporary, Nov...  \n",
       "1500  Fiction, Mystery, Thriller, Crime, Mystery Thr...  \n",
       "1800  Fantasy, Classics, Fiction, Adventure, High Fa...  \n",
       "3100  Fiction, Historical Fiction, Romance, Classics...  \n",
       "3300  Fiction, Fantasy, Philosophy, Novels, Spiritua...  "
      ]
     },
     "execution_count": 42,
     "metadata": {},
     "output_type": "execute_result"
    }
   ],
   "source": [
    "book_title = \"The Shining\"\n",
    "item_collaborative_recommendations(book_title, gbx_cf, n_recommendations=5)"
   ]
  },
  {
   "cell_type": "code",
   "execution_count": 44,
   "metadata": {},
   "outputs": [
    {
     "data": {
      "text/html": [
       "<div>\n",
       "<style scoped>\n",
       "    .dataframe tbody tr th:only-of-type {\n",
       "        vertical-align: middle;\n",
       "    }\n",
       "\n",
       "    .dataframe tbody tr th {\n",
       "        vertical-align: top;\n",
       "    }\n",
       "\n",
       "    .dataframe thead th {\n",
       "        text-align: right;\n",
       "    }\n",
       "</style>\n",
       "<table border=\"1\" class=\"dataframe\">\n",
       "  <thead>\n",
       "    <tr style=\"text-align: right;\">\n",
       "      <th></th>\n",
       "      <th>Title</th>\n",
       "      <th>Author</th>\n",
       "      <th>Genres</th>\n",
       "    </tr>\n",
       "  </thead>\n",
       "  <tbody>\n",
       "    <tr>\n",
       "      <th>12472</th>\n",
       "      <td>Singing Bird</td>\n",
       "      <td>Roisin McAuley</td>\n",
       "      <td>Fiction, Mystery, Contemporary, Australia, Lit...</td>\n",
       "    </tr>\n",
       "    <tr>\n",
       "      <th>20133</th>\n",
       "      <td>Vivienne</td>\n",
       "      <td>Richard Hoyt</td>\n",
       "      <td>Fashion, Biography, Nonfiction, Art, Memoir, B...</td>\n",
       "    </tr>\n",
       "    <tr>\n",
       "      <th>23539</th>\n",
       "      <td>MOVIOLA</td>\n",
       "      <td>Garson Kanin</td>\n",
       "      <td>Fiction, Historical Fiction, Film</td>\n",
       "    </tr>\n",
       "    <tr>\n",
       "      <th>23837</th>\n",
       "      <td>Founding Fathers: Brief Lives of the Framers o...</td>\n",
       "      <td>M. E. Bradford</td>\n",
       "      <td>History, American History</td>\n",
       "    </tr>\n",
       "    <tr>\n",
       "      <th>27189</th>\n",
       "      <td>Black Valentine</td>\n",
       "      <td>Patricia Sargent</td>\n",
       "      <td>Romance, New Adult, Music, Contemporary Romanc...</td>\n",
       "    </tr>\n",
       "  </tbody>\n",
       "</table>\n",
       "</div>"
      ],
      "text/plain": [
       "                                                   Title            Author  \\\n",
       "12472                                       Singing Bird    Roisin McAuley   \n",
       "20133                                           Vivienne      Richard Hoyt   \n",
       "23539                                            MOVIOLA      Garson Kanin   \n",
       "23837  Founding Fathers: Brief Lives of the Framers o...    M. E. Bradford   \n",
       "27189                                    Black Valentine  Patricia Sargent   \n",
       "\n",
       "                                                  Genres  \n",
       "12472  Fiction, Mystery, Contemporary, Australia, Lit...  \n",
       "20133  Fashion, Biography, Nonfiction, Art, Memoir, B...  \n",
       "23539                  Fiction, Historical Fiction, Film  \n",
       "23837                          History, American History  \n",
       "27189  Romance, New Adult, Music, Contemporary Romanc...  "
      ]
     },
     "execution_count": 44,
     "metadata": {},
     "output_type": "execute_result"
    }
   ],
   "source": [
    "book_title = \"The Adventures of Sherlock Holmes\"\n",
    "item_collaborative_recommendations(book_title, bx_cf, n_recommendations=5)"
   ]
  },
  {
   "cell_type": "code",
   "execution_count": 43,
   "metadata": {},
   "outputs": [
    {
     "data": {
      "text/html": [
       "<div>\n",
       "<style scoped>\n",
       "    .dataframe tbody tr th:only-of-type {\n",
       "        vertical-align: middle;\n",
       "    }\n",
       "\n",
       "    .dataframe tbody tr th {\n",
       "        vertical-align: top;\n",
       "    }\n",
       "\n",
       "    .dataframe thead th {\n",
       "        text-align: right;\n",
       "    }\n",
       "</style>\n",
       "<table border=\"1\" class=\"dataframe\">\n",
       "  <thead>\n",
       "    <tr style=\"text-align: right;\">\n",
       "      <th></th>\n",
       "      <th>Title</th>\n",
       "      <th>Author</th>\n",
       "      <th>Genres</th>\n",
       "    </tr>\n",
       "  </thead>\n",
       "  <tbody>\n",
       "    <tr>\n",
       "      <th>18500</th>\n",
       "      <td>A Christmas Carol</td>\n",
       "      <td>Charles Dickens</td>\n",
       "      <td>Fiction, Christmas, Classics, Fantasy, Audiobo...</td>\n",
       "    </tr>\n",
       "    <tr>\n",
       "      <th>27000</th>\n",
       "      <td>Treasure Island</td>\n",
       "      <td>Robert Louis Stevenson</td>\n",
       "      <td>Classics, Fiction, Adventure, Historical Ficti...</td>\n",
       "    </tr>\n",
       "    <tr>\n",
       "      <th>31900</th>\n",
       "      <td>The Wonderful Wizard of Oz</td>\n",
       "      <td>L. Frank Baum, W.W. Denslow</td>\n",
       "      <td>Fantasy, Fiction, Childrens, Classics, Young A...</td>\n",
       "    </tr>\n",
       "    <tr>\n",
       "      <th>54197</th>\n",
       "      <td>David Copperfield</td>\n",
       "      <td>Charles Dickens, Jeremy Tambling</td>\n",
       "      <td>Fiction, Classics, Literature, Historical Fict...</td>\n",
       "    </tr>\n",
       "    <tr>\n",
       "      <th>56797</th>\n",
       "      <td>The Hound of the Baskervilles</td>\n",
       "      <td>Arthur Conan Doyle, Anne Perry</td>\n",
       "      <td>Mystery, Fiction, Crime, Classics, Mystery Thr...</td>\n",
       "    </tr>\n",
       "  </tbody>\n",
       "</table>\n",
       "</div>"
      ],
      "text/plain": [
       "                               Title                            Author  \\\n",
       "18500              A Christmas Carol                   Charles Dickens   \n",
       "27000                Treasure Island            Robert Louis Stevenson   \n",
       "31900     The Wonderful Wizard of Oz       L. Frank Baum, W.W. Denslow   \n",
       "54197              David Copperfield  Charles Dickens, Jeremy Tambling   \n",
       "56797  The Hound of the Baskervilles    Arthur Conan Doyle, Anne Perry   \n",
       "\n",
       "                                                  Genres  \n",
       "18500  Fiction, Christmas, Classics, Fantasy, Audiobo...  \n",
       "27000  Classics, Fiction, Adventure, Historical Ficti...  \n",
       "31900  Fantasy, Fiction, Childrens, Classics, Young A...  \n",
       "54197  Fiction, Classics, Literature, Historical Fict...  \n",
       "56797  Mystery, Fiction, Crime, Classics, Mystery Thr...  "
      ]
     },
     "execution_count": 43,
     "metadata": {},
     "output_type": "execute_result"
    }
   ],
   "source": [
    "book_title = \"The Adventures of Sherlock Holmes\"\n",
    "item_collaborative_recommendations(book_title, gbx_cf, n_recommendations=5)"
   ]
  },
  {
   "cell_type": "code",
   "execution_count": 139,
   "metadata": {},
   "outputs": [],
   "source": [
    "def collaborative_recommendations(query, df, type=\"Title\", n_recommendations=5):\n",
    "    \n",
    "    cleaned_book_title = clean_text(query)\n",
    "\n",
    "    if type.lower() == \"title\":\n",
    "\n",
    "        if 'BookID' in df.columns:\n",
    "            df = gbx_cf\n",
    "            user_item_matrix = user_item_matrix_gbx\n",
    "        else:\n",
    "            df = bx_cf\n",
    "            user_item_matrix = user_item_matrix_bx\n",
    "\n",
    "        if cleaned_book_title not in user_item_matrix.columns:\n",
    "            print(\"Book title not found. Recommending popular books instead.\")\n",
    "            return get_popular_books(df, n_recommendations)\n",
    "        \n",
    "        model_knn = NearestNeighbors(metric='cosine', algorithm='brute', n_neighbors=n_recommendations, n_jobs=-1)\n",
    "        model_knn.fit(user_item_matrix.T.values)  # Transpose to get item-feature matrix\n",
    "\n",
    "        book_index = list(user_item_matrix.columns).index(cleaned_book_title)\n",
    "        distances, indices = model_knn.kneighbors(user_item_matrix.T.iloc[book_index, :].values.reshape(1, -1), n_neighbors=n_recommendations*2)\n",
    "\n",
    "        recommended_indices = indices.flatten()[1:]\n",
    "        recommended_books_titles = [user_item_matrix.columns[i] for i in recommended_indices]\n",
    "\n",
    "        recommended_books_details = df[df['cleaned_title'].isin(recommended_books_titles)].drop_duplicates(subset=['cleaned_title'])\n",
    "        recommended_books_details = recommended_books_details[['Title', 'Author', 'Genres']].head(n_recommendations)\n",
    "\n",
    "\n",
    "    elif type.lower() == \"genres\":\n",
    "        if 'BookID' in df.columns:\n",
    "            df = gbx_cf\n",
    "            user_item_matrix = genres_user_item_matrix_gbx\n",
    "        else:\n",
    "            df = bx_cf\n",
    "            user_item_matrix = genres_user_item_matrix_bx\n",
    "\n",
    "        if cleaned_book_title not in df['cleaned_title'].values:\n",
    "            print(\"Book title not found. Recommending popular books instead.\")\n",
    "            return get_popular_books(df, n_recommendations)\n",
    "        \n",
    "        book_genres_set = set(df.loc[df['cleaned_title'] == cleaned_book_title, 'cleaned_genres'].iloc[0].lower().split())\n",
    "        # print(book_genres_set)\n",
    "\n",
    "        relevant_columns = []\n",
    "        for col in user_item_matrix.columns:\n",
    "            if set(col.split()) & book_genres_set:\n",
    "                relevant_columns.append(col)\n",
    "\n",
    "        # print(relevant_columns)\n",
    "\n",
    "        if not relevant_columns:\n",
    "            print(\"Matching genres not found in the matrix. Recommending popular books instead.\")\n",
    "            return get_popular_books(df, n_recommendations)\n",
    "\n",
    "        model_knn = NearestNeighbors(metric='cosine', algorithm='brute', n_neighbors=n_recommendations, n_jobs=-1)\n",
    "        model_knn.fit(user_item_matrix[relevant_columns].values.T)  \n",
    "\n",
    "        query_vector = user_item_matrix[relevant_columns].mean(axis=1).values.reshape(1, -1)\n",
    "        distances, indices = model_knn.kneighbors(query_vector, n_neighbors=n_recommendations*2)\n",
    "\n",
    "        recommended_indices = indices.flatten()[1:]\n",
    "        recommended_genres = [user_item_matrix.columns[i] for i in recommended_indices]\n",
    "\n",
    "        recommended_books = df[df['cleaned_genres'].apply(lambda x: any(genre in x for genre in recommended_genres))].drop_duplicates(subset=['cleaned_title'])\n",
    "        recommended_books_details = recommended_books[['Title', 'Author', 'Genres']].head(n_recommendations)\n",
    "\n",
    "        # final_recs = recommended_books_details.loc[:, ['Title', 'Author', 'Genres']]\n",
    "    combined_recommendations = cosine_sims(recommended_books_details, book_title=query)  # Calculate cosine similarity\n",
    "    sorted_recommendations = combined_recommendations.sort_values(by='Cosine Similarity', ascending=False)\n",
    "    top_recommendations = sorted_recommendations.head(n_recommendations)\n",
    "    final_recs = top_recommendations.loc[:, ['Title', 'Author', 'Genres']]\n",
    "    return final_recs\n",
    "\n",
    "    \n",
    "    # return recommended_books_details"
   ]
  },
  {
   "cell_type": "code",
   "execution_count": 56,
   "metadata": {},
   "outputs": [],
   "source": [
    "# from sklearn.neighbors import NearestNeighbors\n",
    "\n",
    "# def collaborative_recommendations(query, df, type=\"Title\", n_recommendations=5):\n",
    "#     cleaned_book_title = clean_text(query)\n",
    "\n",
    "#     if 'BookID' in df.columns:\n",
    "#         user_item_matrix = user_item_matrix_gbx if type.lower() == \"title\" else genres_user_item_matrix_gbx\n",
    "#     else:\n",
    "#         user_item_matrix = user_item_matrix_bx if type.lower() == \"title\" else genres_user_item_matrix_bx\n",
    "\n",
    "#     if type.lower() == \"title\":\n",
    "#         if cleaned_book_title not in user_item_matrix.columns:\n",
    "#             print(\"Book title not found. Recommending popular books instead.\")\n",
    "#             return get_popular_books(df, n_recommendations)\n",
    "        \n",
    "#         model_knn = NearestNeighbors(metric='cosine', algorithm='brute', n_neighbors=n_recommendations, n_jobs=-1)\n",
    "#         model_knn.fit(user_item_matrix.T.values)  \n",
    "\n",
    "#         book_index = list(user_item_matrix.columns).index(cleaned_book_title)\n",
    "#         distances, indices = model_knn.kneighbors(user_item_matrix.T.iloc[book_index, :].values.reshape(1, -1), n_neighbors=n_recommendations*2)\n",
    "\n",
    "#         recommended_indices = indices.flatten()[1:]\n",
    "#         recommended_books_titles = [user_item_matrix.columns[i] for i in recommended_indices]\n",
    "\n",
    "#         recommended_books_details = df[df['cleaned_title'].isin(recommended_books_titles)].drop_duplicates(subset=['cleaned_title'])\n",
    "#         recommended_books_details = recommended_books_details[['Title', 'Author', 'Genres']].head(n_recommendations)\n",
    "\n",
    "#     elif type.lower() == \"genres\":\n",
    "#         if cleaned_book_title not in df['cleaned_title'].values:\n",
    "#             print(\"Book title not found. Recommending popular books instead.\")\n",
    "#             return get_popular_books(df, n_recommendations)\n",
    "        \n",
    "#         book_genres_set = set(df.loc[df['cleaned_title'] == cleaned_book_title, 'cleaned_genres'].iloc[0].lower().split())\n",
    "#         relevant_columns = [col for col in user_item_matrix.columns if set(col.split()) & book_genres_set]\n",
    "\n",
    "#         if not relevant_columns:\n",
    "#             print(\"Matching genres not found in the matrix. Recommending popular books instead.\")\n",
    "#             return get_popular_books(df, n_recommendations)\n",
    "\n",
    "#         model_knn = NearestNeighbors(metric='cosine', algorithm='brute', n_neighbors=n_recommendations, n_jobs=-1)\n",
    "#         model_knn.fit(user_item_matrix[relevant_columns].values.T)  \n",
    "\n",
    "#         query_vector = user_item_matrix[relevant_columns].mean(axis=1).values.reshape(1, -1)\n",
    "#         distances, indices = model_knn.kneighbors(query_vector, n_neighbors=n_recommendations*2)\n",
    "\n",
    "#         recommended_indices = indices.flatten()[1:]\n",
    "#         recommended_genres = [user_item_matrix.columns[i] for i in recommended_indices]\n",
    "\n",
    "#         recommended_books = df[df['cleaned_genres'].apply(lambda x: any(genre in x for genre in recommended_genres))].drop_duplicates(subset=['cleaned_title'])\n",
    "#         recommended_books_details = recommended_books[['Title', 'Author', 'Genres']].head(n_recommendations)\n",
    "\n",
    "#     return recommended_books_details\n"
   ]
  },
  {
   "cell_type": "code",
   "execution_count": 135,
   "metadata": {},
   "outputs": [
    {
     "data": {
      "text/html": [
       "<div>\n",
       "<style scoped>\n",
       "    .dataframe tbody tr th:only-of-type {\n",
       "        vertical-align: middle;\n",
       "    }\n",
       "\n",
       "    .dataframe tbody tr th {\n",
       "        vertical-align: top;\n",
       "    }\n",
       "\n",
       "    .dataframe thead th {\n",
       "        text-align: right;\n",
       "    }\n",
       "</style>\n",
       "<table border=\"1\" class=\"dataframe\">\n",
       "  <thead>\n",
       "    <tr style=\"text-align: right;\">\n",
       "      <th></th>\n",
       "      <th>Title</th>\n",
       "      <th>Author</th>\n",
       "      <th>Genres</th>\n",
       "    </tr>\n",
       "  </thead>\n",
       "  <tbody>\n",
       "    <tr>\n",
       "      <th>390803</th>\n",
       "      <td>How to Tell If Your Cat Is Plotting to Kill You</td>\n",
       "      <td>Matthew Inman, The Oatmeal</td>\n",
       "      <td>Humor, Graphic Novels, Comics, Cats, Nonfictio...</td>\n",
       "    </tr>\n",
       "    <tr>\n",
       "      <th>245116</th>\n",
       "      <td>The Four Loves</td>\n",
       "      <td>C.S. Lewis</td>\n",
       "      <td>Christian, Nonfiction, Theology, Religion, Phi...</td>\n",
       "    </tr>\n",
       "    <tr>\n",
       "      <th>19300</th>\n",
       "      <td>Die Verwandlung</td>\n",
       "      <td>Franz Kafka, Stanley Corngold</td>\n",
       "      <td>Classics, Fiction, Fantasy, Philosophy, Litera...</td>\n",
       "    </tr>\n",
       "    <tr>\n",
       "      <th>37199</th>\n",
       "      <td>The Tell-Tale Heart</td>\n",
       "      <td>Edgar Allan Poe</td>\n",
       "      <td>Classics, Horror, Fiction, Short Stories, Poet...</td>\n",
       "    </tr>\n",
       "    <tr>\n",
       "      <th>256502</th>\n",
       "      <td>Ariel</td>\n",
       "      <td>Sylvia Plath</td>\n",
       "      <td>Classics, Feminism, Fiction, Poetry, 20th Cent...</td>\n",
       "    </tr>\n",
       "  </tbody>\n",
       "</table>\n",
       "</div>"
      ],
      "text/plain": [
       "                                                  Title  \\\n",
       "390803  How to Tell If Your Cat Is Plotting to Kill You   \n",
       "245116                                   The Four Loves   \n",
       "19300                                   Die Verwandlung   \n",
       "37199                               The Tell-Tale Heart   \n",
       "256502                                            Ariel   \n",
       "\n",
       "                               Author  \\\n",
       "390803     Matthew Inman, The Oatmeal   \n",
       "245116                     C.S. Lewis   \n",
       "19300   Franz Kafka, Stanley Corngold   \n",
       "37199                 Edgar Allan Poe   \n",
       "256502                   Sylvia Plath   \n",
       "\n",
       "                                                   Genres  \n",
       "390803  Humor, Graphic Novels, Comics, Cats, Nonfictio...  \n",
       "245116  Christian, Nonfiction, Theology, Religion, Phi...  \n",
       "19300   Classics, Fiction, Fantasy, Philosophy, Litera...  \n",
       "37199   Classics, Horror, Fiction, Short Stories, Poet...  \n",
       "256502  Classics, Feminism, Fiction, Poetry, 20th Cent...  "
      ]
     },
     "execution_count": 135,
     "metadata": {},
     "output_type": "execute_result"
    }
   ],
   "source": [
    "book_title = \"The Adventures of sherlock holmes\"\n",
    "collaborative_recommendations(book_title, df=gbx_cf, type=\"Genres\", n_recommendations=5)"
   ]
  },
  {
   "cell_type": "code",
   "execution_count": 140,
   "metadata": {},
   "outputs": [
    {
     "data": {
      "text/html": [
       "<div>\n",
       "<style scoped>\n",
       "    .dataframe tbody tr th:only-of-type {\n",
       "        vertical-align: middle;\n",
       "    }\n",
       "\n",
       "    .dataframe tbody tr th {\n",
       "        vertical-align: top;\n",
       "    }\n",
       "\n",
       "    .dataframe thead th {\n",
       "        text-align: right;\n",
       "    }\n",
       "</style>\n",
       "<table border=\"1\" class=\"dataframe\">\n",
       "  <thead>\n",
       "    <tr style=\"text-align: right;\">\n",
       "      <th></th>\n",
       "      <th>Title</th>\n",
       "      <th>Author</th>\n",
       "      <th>Genres</th>\n",
       "    </tr>\n",
       "  </thead>\n",
       "  <tbody>\n",
       "    <tr>\n",
       "      <th>56797</th>\n",
       "      <td>The Hound of the Baskervilles</td>\n",
       "      <td>Arthur Conan Doyle, Anne Perry</td>\n",
       "      <td>Mystery, Fiction, Crime, Classics, Mystery Thr...</td>\n",
       "    </tr>\n",
       "    <tr>\n",
       "      <th>18500</th>\n",
       "      <td>A Christmas Carol</td>\n",
       "      <td>Charles Dickens</td>\n",
       "      <td>Fiction, Christmas, Classics, Fantasy, Audiobo...</td>\n",
       "    </tr>\n",
       "    <tr>\n",
       "      <th>27000</th>\n",
       "      <td>Treasure Island</td>\n",
       "      <td>Robert Louis Stevenson</td>\n",
       "      <td>Classics, Fiction, Adventure, Historical Ficti...</td>\n",
       "    </tr>\n",
       "    <tr>\n",
       "      <th>54197</th>\n",
       "      <td>David Copperfield</td>\n",
       "      <td>Charles Dickens, Jeremy Tambling</td>\n",
       "      <td>Fiction, Classics, Literature, Historical Fict...</td>\n",
       "    </tr>\n",
       "    <tr>\n",
       "      <th>31900</th>\n",
       "      <td>The Wonderful Wizard of Oz</td>\n",
       "      <td>L. Frank Baum, W.W. Denslow</td>\n",
       "      <td>Fantasy, Fiction, Childrens, Classics, Young A...</td>\n",
       "    </tr>\n",
       "  </tbody>\n",
       "</table>\n",
       "</div>"
      ],
      "text/plain": [
       "                               Title                            Author  \\\n",
       "56797  The Hound of the Baskervilles    Arthur Conan Doyle, Anne Perry   \n",
       "18500              A Christmas Carol                   Charles Dickens   \n",
       "27000                Treasure Island            Robert Louis Stevenson   \n",
       "54197              David Copperfield  Charles Dickens, Jeremy Tambling   \n",
       "31900     The Wonderful Wizard of Oz       L. Frank Baum, W.W. Denslow   \n",
       "\n",
       "                                                  Genres  \n",
       "56797  Mystery, Fiction, Crime, Classics, Mystery Thr...  \n",
       "18500  Fiction, Christmas, Classics, Fantasy, Audiobo...  \n",
       "27000  Classics, Fiction, Adventure, Historical Ficti...  \n",
       "54197  Fiction, Classics, Literature, Historical Fict...  \n",
       "31900  Fantasy, Fiction, Childrens, Classics, Young A...  "
      ]
     },
     "execution_count": 140,
     "metadata": {},
     "output_type": "execute_result"
    }
   ],
   "source": [
    "book_title = \"The Adventures of sherlock holmes\"\n",
    "collaborative_recommendations(book_title, df=gbx_cf, type=\"Title\", n_recommendations=5)"
   ]
  },
  {
   "cell_type": "code",
   "execution_count": 58,
   "metadata": {},
   "outputs": [
    {
     "data": {
      "text/html": [
       "<div>\n",
       "<style scoped>\n",
       "    .dataframe tbody tr th:only-of-type {\n",
       "        vertical-align: middle;\n",
       "    }\n",
       "\n",
       "    .dataframe tbody tr th {\n",
       "        vertical-align: top;\n",
       "    }\n",
       "\n",
       "    .dataframe thead th {\n",
       "        text-align: right;\n",
       "    }\n",
       "</style>\n",
       "<table border=\"1\" class=\"dataframe\">\n",
       "  <thead>\n",
       "    <tr style=\"text-align: right;\">\n",
       "      <th></th>\n",
       "      <th>Title</th>\n",
       "      <th>Author</th>\n",
       "      <th>Genres</th>\n",
       "    </tr>\n",
       "  </thead>\n",
       "  <tbody>\n",
       "    <tr>\n",
       "      <th>12472</th>\n",
       "      <td>Singing Bird</td>\n",
       "      <td>Roisin McAuley</td>\n",
       "      <td>Fiction, Mystery, Contemporary, Australia, Lit...</td>\n",
       "    </tr>\n",
       "    <tr>\n",
       "      <th>20133</th>\n",
       "      <td>Vivienne</td>\n",
       "      <td>Richard Hoyt</td>\n",
       "      <td>Fashion, Biography, Nonfiction, Art, Memoir, B...</td>\n",
       "    </tr>\n",
       "    <tr>\n",
       "      <th>23539</th>\n",
       "      <td>MOVIOLA</td>\n",
       "      <td>Garson Kanin</td>\n",
       "      <td>Fiction, Historical Fiction, Film</td>\n",
       "    </tr>\n",
       "    <tr>\n",
       "      <th>23837</th>\n",
       "      <td>Founding Fathers: Brief Lives of the Framers o...</td>\n",
       "      <td>M. E. Bradford</td>\n",
       "      <td>History, American History</td>\n",
       "    </tr>\n",
       "    <tr>\n",
       "      <th>27189</th>\n",
       "      <td>Black Valentine</td>\n",
       "      <td>Patricia Sargent</td>\n",
       "      <td>Romance, New Adult, Music, Contemporary Romanc...</td>\n",
       "    </tr>\n",
       "  </tbody>\n",
       "</table>\n",
       "</div>"
      ],
      "text/plain": [
       "                                                   Title            Author  \\\n",
       "12472                                       Singing Bird    Roisin McAuley   \n",
       "20133                                           Vivienne      Richard Hoyt   \n",
       "23539                                            MOVIOLA      Garson Kanin   \n",
       "23837  Founding Fathers: Brief Lives of the Framers o...    M. E. Bradford   \n",
       "27189                                    Black Valentine  Patricia Sargent   \n",
       "\n",
       "                                                  Genres  \n",
       "12472  Fiction, Mystery, Contemporary, Australia, Lit...  \n",
       "20133  Fashion, Biography, Nonfiction, Art, Memoir, B...  \n",
       "23539                  Fiction, Historical Fiction, Film  \n",
       "23837                          History, American History  \n",
       "27189  Romance, New Adult, Music, Contemporary Romanc...  "
      ]
     },
     "execution_count": 58,
     "metadata": {},
     "output_type": "execute_result"
    }
   ],
   "source": [
    "book_title = \"The Adventures of sherlock holmes\"\n",
    "collaborative_recommendations(book_title, df=bx_cf, type=\"Title\", n_recommendations=5)"
   ]
  },
  {
   "cell_type": "code",
   "execution_count": 54,
   "metadata": {},
   "outputs": [
    {
     "data": {
      "text/html": [
       "<div>\n",
       "<style scoped>\n",
       "    .dataframe tbody tr th:only-of-type {\n",
       "        vertical-align: middle;\n",
       "    }\n",
       "\n",
       "    .dataframe tbody tr th {\n",
       "        vertical-align: top;\n",
       "    }\n",
       "\n",
       "    .dataframe thead th {\n",
       "        text-align: right;\n",
       "    }\n",
       "</style>\n",
       "<table border=\"1\" class=\"dataframe\">\n",
       "  <thead>\n",
       "    <tr style=\"text-align: right;\">\n",
       "      <th></th>\n",
       "      <th>Title</th>\n",
       "      <th>Author</th>\n",
       "      <th>Genres</th>\n",
       "    </tr>\n",
       "  </thead>\n",
       "  <tbody>\n",
       "    <tr>\n",
       "      <th>415</th>\n",
       "      <td>Charmed Circle</td>\n",
       "      <td>Carol Smith</td>\n",
       "      <td>Biography, Nonfiction, History, Art, France, Q...</td>\n",
       "    </tr>\n",
       "    <tr>\n",
       "      <th>615</th>\n",
       "      <td>The Remnant: On the Brink of Armageddon (Left ...</td>\n",
       "      <td>Tim LaHaye</td>\n",
       "      <td>Christian Fiction, Christian, Fiction, Religio...</td>\n",
       "    </tr>\n",
       "    <tr>\n",
       "      <th>3168</th>\n",
       "      <td>One Incredible Moment Celebrating The Majesty ...</td>\n",
       "      <td>Max Lucado</td>\n",
       "      <td>Christmas, Christian, Nonfiction, Religion, Ho...</td>\n",
       "    </tr>\n",
       "    <tr>\n",
       "      <th>6271</th>\n",
       "      <td>Le Rocher de Tanios</td>\n",
       "      <td>Amin Maalouf</td>\n",
       "      <td>Fiction, Historical Fiction, France, Novels, L...</td>\n",
       "    </tr>\n",
       "    <tr>\n",
       "      <th>9744</th>\n",
       "      <td>Tecniche di seduzione</td>\n",
       "      <td>Andrea De Carlo</td>\n",
       "      <td>Italian Literature, Fiction, Novels, Italy</td>\n",
       "    </tr>\n",
       "  </tbody>\n",
       "</table>\n",
       "</div>"
      ],
      "text/plain": [
       "                                                  Title           Author  \\\n",
       "415                                      Charmed Circle      Carol Smith   \n",
       "615   The Remnant: On the Brink of Armageddon (Left ...       Tim LaHaye   \n",
       "3168  One Incredible Moment Celebrating The Majesty ...       Max Lucado   \n",
       "6271                                Le Rocher de Tanios     Amin Maalouf   \n",
       "9744                              Tecniche di seduzione  Andrea De Carlo   \n",
       "\n",
       "                                                 Genres  \n",
       "415   Biography, Nonfiction, History, Art, France, Q...  \n",
       "615   Christian Fiction, Christian, Fiction, Religio...  \n",
       "3168  Christmas, Christian, Nonfiction, Religion, Ho...  \n",
       "6271  Fiction, Historical Fiction, France, Novels, L...  \n",
       "9744         Italian Literature, Fiction, Novels, Italy  "
      ]
     },
     "execution_count": 54,
     "metadata": {},
     "output_type": "execute_result"
    }
   ],
   "source": [
    "book_title = \"The Adventures of sherlock holmes\"\n",
    "collaborative_recommendations(book_title, df=bx_cf, type=\"Genres\", n_recommendations=5)"
   ]
  },
  {
   "cell_type": "code",
   "execution_count": 55,
   "metadata": {},
   "outputs": [
    {
     "data": {
      "text/html": [
       "<div>\n",
       "<style scoped>\n",
       "    .dataframe tbody tr th:only-of-type {\n",
       "        vertical-align: middle;\n",
       "    }\n",
       "\n",
       "    .dataframe tbody tr th {\n",
       "        vertical-align: top;\n",
       "    }\n",
       "\n",
       "    .dataframe thead th {\n",
       "        text-align: right;\n",
       "    }\n",
       "</style>\n",
       "<table border=\"1\" class=\"dataframe\">\n",
       "  <thead>\n",
       "    <tr style=\"text-align: right;\">\n",
       "      <th></th>\n",
       "      <th>Title</th>\n",
       "      <th>Author</th>\n",
       "      <th>Genres</th>\n",
       "    </tr>\n",
       "  </thead>\n",
       "  <tbody>\n",
       "    <tr>\n",
       "      <th>12472</th>\n",
       "      <td>Singing Bird</td>\n",
       "      <td>Roisin McAuley</td>\n",
       "      <td>Fiction, Mystery, Contemporary, Australia, Lit...</td>\n",
       "    </tr>\n",
       "    <tr>\n",
       "      <th>20133</th>\n",
       "      <td>Vivienne</td>\n",
       "      <td>Richard Hoyt</td>\n",
       "      <td>Fashion, Biography, Nonfiction, Art, Memoir, B...</td>\n",
       "    </tr>\n",
       "    <tr>\n",
       "      <th>23539</th>\n",
       "      <td>MOVIOLA</td>\n",
       "      <td>Garson Kanin</td>\n",
       "      <td>Fiction, Historical Fiction, Film</td>\n",
       "    </tr>\n",
       "    <tr>\n",
       "      <th>23837</th>\n",
       "      <td>Founding Fathers: Brief Lives of the Framers o...</td>\n",
       "      <td>M. E. Bradford</td>\n",
       "      <td>History, American History</td>\n",
       "    </tr>\n",
       "    <tr>\n",
       "      <th>27189</th>\n",
       "      <td>Black Valentine</td>\n",
       "      <td>Patricia Sargent</td>\n",
       "      <td>Romance, New Adult, Music, Contemporary Romanc...</td>\n",
       "    </tr>\n",
       "  </tbody>\n",
       "</table>\n",
       "</div>"
      ],
      "text/plain": [
       "                                                   Title            Author  \\\n",
       "12472                                       Singing Bird    Roisin McAuley   \n",
       "20133                                           Vivienne      Richard Hoyt   \n",
       "23539                                            MOVIOLA      Garson Kanin   \n",
       "23837  Founding Fathers: Brief Lives of the Framers o...    M. E. Bradford   \n",
       "27189                                    Black Valentine  Patricia Sargent   \n",
       "\n",
       "                                                  Genres  \n",
       "12472  Fiction, Mystery, Contemporary, Australia, Lit...  \n",
       "20133  Fashion, Biography, Nonfiction, Art, Memoir, B...  \n",
       "23539                  Fiction, Historical Fiction, Film  \n",
       "23837                          History, American History  \n",
       "27189  Romance, New Adult, Music, Contemporary Romanc...  "
      ]
     },
     "execution_count": 55,
     "metadata": {},
     "output_type": "execute_result"
    }
   ],
   "source": [
    "book_title = \"The Adventures of sherlock holmes\"\n",
    "collaborative_recommendations(book_title, df=bx_cf, type=\"Title\", n_recommendations=5)"
   ]
  },
  {
   "cell_type": "code",
   "execution_count": 48,
   "metadata": {},
   "outputs": [
    {
     "data": {
      "text/html": [
       "<div>\n",
       "<style scoped>\n",
       "    .dataframe tbody tr th:only-of-type {\n",
       "        vertical-align: middle;\n",
       "    }\n",
       "\n",
       "    .dataframe tbody tr th {\n",
       "        vertical-align: top;\n",
       "    }\n",
       "\n",
       "    .dataframe thead th {\n",
       "        text-align: right;\n",
       "    }\n",
       "</style>\n",
       "<table border=\"1\" class=\"dataframe\">\n",
       "  <thead>\n",
       "    <tr style=\"text-align: right;\">\n",
       "      <th></th>\n",
       "      <th>Title</th>\n",
       "      <th>Author</th>\n",
       "      <th>Genres</th>\n",
       "    </tr>\n",
       "  </thead>\n",
       "  <tbody>\n",
       "    <tr>\n",
       "      <th>500</th>\n",
       "      <td>The Fault in Our Stars</td>\n",
       "      <td>John Green</td>\n",
       "      <td>Young Adult, Fiction, Contemporary, Realistic ...</td>\n",
       "    </tr>\n",
       "    <tr>\n",
       "      <th>1100</th>\n",
       "      <td>Divergent</td>\n",
       "      <td>Veronica Roth</td>\n",
       "      <td>Young Adult, Dystopia, Fantasy, Fiction, Scien...</td>\n",
       "    </tr>\n",
       "    <tr>\n",
       "      <th>6300</th>\n",
       "      <td>The Perks of Being a Wallflower</td>\n",
       "      <td>Stephen Chbosky</td>\n",
       "      <td>Young Adult, Fiction, Coming Of Age, Classics,...</td>\n",
       "    </tr>\n",
       "    <tr>\n",
       "      <th>8000</th>\n",
       "      <td>Paper Towns</td>\n",
       "      <td>John Green</td>\n",
       "      <td>Young Adult, Fiction, Contemporary, Romance, M...</td>\n",
       "    </tr>\n",
       "    <tr>\n",
       "      <th>8300</th>\n",
       "      <td>The Maze Runner</td>\n",
       "      <td>James Dashner</td>\n",
       "      <td>Young Adult, Dystopia, Science Fiction, Fictio...</td>\n",
       "    </tr>\n",
       "  </tbody>\n",
       "</table>\n",
       "</div>"
      ],
      "text/plain": [
       "                                Title           Author  \\\n",
       "500            The Fault in Our Stars       John Green   \n",
       "1100                        Divergent    Veronica Roth   \n",
       "6300  The Perks of Being a Wallflower  Stephen Chbosky   \n",
       "8000                      Paper Towns       John Green   \n",
       "8300                  The Maze Runner    James Dashner   \n",
       "\n",
       "                                                 Genres  \n",
       "500   Young Adult, Fiction, Contemporary, Realistic ...  \n",
       "1100  Young Adult, Dystopia, Fantasy, Fiction, Scien...  \n",
       "6300  Young Adult, Fiction, Coming Of Age, Classics,...  \n",
       "8000  Young Adult, Fiction, Contemporary, Romance, M...  \n",
       "8300  Young Adult, Dystopia, Science Fiction, Fictio...  "
      ]
     },
     "execution_count": 48,
     "metadata": {},
     "output_type": "execute_result"
    }
   ],
   "source": [
    "book_title = \"Looking For Alaska\"\n",
    "collaborative_recommendations(book_title, df=gbx_cf, type=\"Title\", n_recommendations=5)"
   ]
  },
  {
   "cell_type": "code",
   "execution_count": 49,
   "metadata": {},
   "outputs": [
    {
     "data": {
      "text/html": [
       "<div>\n",
       "<style scoped>\n",
       "    .dataframe tbody tr th:only-of-type {\n",
       "        vertical-align: middle;\n",
       "    }\n",
       "\n",
       "    .dataframe tbody tr th {\n",
       "        vertical-align: top;\n",
       "    }\n",
       "\n",
       "    .dataframe thead th {\n",
       "        text-align: right;\n",
       "    }\n",
       "</style>\n",
       "<table border=\"1\" class=\"dataframe\">\n",
       "  <thead>\n",
       "    <tr style=\"text-align: right;\">\n",
       "      <th></th>\n",
       "      <th>Title</th>\n",
       "      <th>Author</th>\n",
       "      <th>Genres</th>\n",
       "    </tr>\n",
       "  </thead>\n",
       "  <tbody>\n",
       "    <tr>\n",
       "      <th>99997</th>\n",
       "      <td>90 Minutes in Heaven</td>\n",
       "      <td>Don Piper, Cecil Murphey</td>\n",
       "      <td>Christian, Nonfiction, Religion, Spirituality,...</td>\n",
       "    </tr>\n",
       "    <tr>\n",
       "      <th>159783</th>\n",
       "      <td>The Black Stallion</td>\n",
       "      <td>Walter Farley, Keith Ward</td>\n",
       "      <td>Classics, Fiction, Childrens, Horses, Young Ad...</td>\n",
       "    </tr>\n",
       "    <tr>\n",
       "      <th>302013</th>\n",
       "      <td>Les Fleurs du mal</td>\n",
       "      <td>Charles Baudelaire, Richard Howard</td>\n",
       "      <td>Classics, France, Poetry, French Literature, F...</td>\n",
       "    </tr>\n",
       "    <tr>\n",
       "      <th>308972</th>\n",
       "      <td>The Prodigal Daughter</td>\n",
       "      <td>Jeffrey Archer</td>\n",
       "      <td>Fiction, Historical Fiction, Thriller, Drama, ...</td>\n",
       "    </tr>\n",
       "    <tr>\n",
       "      <th>348590</th>\n",
       "      <td>Ben-Hur: A Tale of the Christ</td>\n",
       "      <td>Lew Wallace</td>\n",
       "      <td>Classics, Historical Fiction, Fiction, Christi...</td>\n",
       "    </tr>\n",
       "  </tbody>\n",
       "</table>\n",
       "</div>"
      ],
      "text/plain": [
       "                                Title                              Author  \\\n",
       "99997            90 Minutes in Heaven            Don Piper, Cecil Murphey   \n",
       "159783             The Black Stallion           Walter Farley, Keith Ward   \n",
       "302013              Les Fleurs du mal  Charles Baudelaire, Richard Howard   \n",
       "308972          The Prodigal Daughter                      Jeffrey Archer   \n",
       "348590  Ben-Hur: A Tale of the Christ                         Lew Wallace   \n",
       "\n",
       "                                                   Genres  \n",
       "99997   Christian, Nonfiction, Religion, Spirituality,...  \n",
       "159783  Classics, Fiction, Childrens, Horses, Young Ad...  \n",
       "302013  Classics, France, Poetry, French Literature, F...  \n",
       "308972  Fiction, Historical Fiction, Thriller, Drama, ...  \n",
       "348590  Classics, Historical Fiction, Fiction, Christi...  "
      ]
     },
     "execution_count": 49,
     "metadata": {},
     "output_type": "execute_result"
    }
   ],
   "source": [
    "book_title = \"Looking For Alaska\"\n",
    "collaborative_recommendations(book_title, df=gbx_cf, type=\"Genres\", n_recommendations=5)"
   ]
  },
  {
   "cell_type": "code",
   "execution_count": 50,
   "metadata": {},
   "outputs": [
    {
     "data": {
      "text/html": [
       "<div>\n",
       "<style scoped>\n",
       "    .dataframe tbody tr th:only-of-type {\n",
       "        vertical-align: middle;\n",
       "    }\n",
       "\n",
       "    .dataframe tbody tr th {\n",
       "        vertical-align: top;\n",
       "    }\n",
       "\n",
       "    .dataframe thead th {\n",
       "        text-align: right;\n",
       "    }\n",
       "</style>\n",
       "<table border=\"1\" class=\"dataframe\">\n",
       "  <thead>\n",
       "    <tr style=\"text-align: right;\">\n",
       "      <th></th>\n",
       "      <th>Title</th>\n",
       "      <th>Author</th>\n",
       "      <th>Genres</th>\n",
       "    </tr>\n",
       "  </thead>\n",
       "  <tbody>\n",
       "    <tr>\n",
       "      <th>6900</th>\n",
       "      <td>Looking for Alaska</td>\n",
       "      <td>John Green</td>\n",
       "      <td>Young Adult, Fiction, Contemporary, Romance, R...</td>\n",
       "    </tr>\n",
       "    <tr>\n",
       "      <th>8000</th>\n",
       "      <td>Paper Towns</td>\n",
       "      <td>John Green</td>\n",
       "      <td>Young Adult, Fiction, Contemporary, Romance, M...</td>\n",
       "    </tr>\n",
       "    <tr>\n",
       "      <th>8300</th>\n",
       "      <td>The Maze Runner</td>\n",
       "      <td>James Dashner</td>\n",
       "      <td>Young Adult, Dystopia, Science Fiction, Fictio...</td>\n",
       "    </tr>\n",
       "    <tr>\n",
       "      <th>13600</th>\n",
       "      <td>If I Stay</td>\n",
       "      <td>Gayle Forman</td>\n",
       "      <td>Young Adult, Romance, Contemporary, Fiction, R...</td>\n",
       "    </tr>\n",
       "    <tr>\n",
       "      <th>16600</th>\n",
       "      <td>Beautiful Creatures</td>\n",
       "      <td>Kami Garcia, Margaret Stohl</td>\n",
       "      <td>Fantasy, Young Adult, Paranormal, Romance, Fic...</td>\n",
       "    </tr>\n",
       "  </tbody>\n",
       "</table>\n",
       "</div>"
      ],
      "text/plain": [
       "                     Title                       Author  \\\n",
       "6900    Looking for Alaska                   John Green   \n",
       "8000           Paper Towns                   John Green   \n",
       "8300       The Maze Runner                James Dashner   \n",
       "13600            If I Stay                 Gayle Forman   \n",
       "16600  Beautiful Creatures  Kami Garcia, Margaret Stohl   \n",
       "\n",
       "                                                  Genres  \n",
       "6900   Young Adult, Fiction, Contemporary, Romance, R...  \n",
       "8000   Young Adult, Fiction, Contemporary, Romance, M...  \n",
       "8300   Young Adult, Dystopia, Science Fiction, Fictio...  \n",
       "13600  Young Adult, Romance, Contemporary, Fiction, R...  \n",
       "16600  Fantasy, Young Adult, Paranormal, Romance, Fic...  "
      ]
     },
     "execution_count": 50,
     "metadata": {},
     "output_type": "execute_result"
    }
   ],
   "source": [
    "book_title = \"thirteen reasons why\"\n",
    "collaborative_recommendations(book_title, df=gbx_cf, type=\"title\", n_recommendations=5)"
   ]
  },
  {
   "cell_type": "code",
   "execution_count": 51,
   "metadata": {},
   "outputs": [
    {
     "data": {
      "text/html": [
       "<div>\n",
       "<style scoped>\n",
       "    .dataframe tbody tr th:only-of-type {\n",
       "        vertical-align: middle;\n",
       "    }\n",
       "\n",
       "    .dataframe tbody tr th {\n",
       "        vertical-align: top;\n",
       "    }\n",
       "\n",
       "    .dataframe thead th {\n",
       "        text-align: right;\n",
       "    }\n",
       "</style>\n",
       "<table border=\"1\" class=\"dataframe\">\n",
       "  <thead>\n",
       "    <tr style=\"text-align: right;\">\n",
       "      <th></th>\n",
       "      <th>Title</th>\n",
       "      <th>Author</th>\n",
       "      <th>Genres</th>\n",
       "    </tr>\n",
       "  </thead>\n",
       "  <tbody>\n",
       "    <tr>\n",
       "      <th>36099</th>\n",
       "      <td>The Strange Case of Dr Jekyll and Mr Hyde</td>\n",
       "      <td>Robert Louis Stevenson, Vladimir Nabokov, Merv...</td>\n",
       "      <td>Classics, Horror, Fiction, Gothic, Science Fic...</td>\n",
       "    </tr>\n",
       "    <tr>\n",
       "      <th>45498</th>\n",
       "      <td>Mere Christianity</td>\n",
       "      <td>C.S. Lewis</td>\n",
       "      <td>Christian, Nonfiction, Religion, Theology, Chr...</td>\n",
       "    </tr>\n",
       "    <tr>\n",
       "      <th>90897</th>\n",
       "      <td>The Scarlet Pimpernel</td>\n",
       "      <td>Emmuska Orczy</td>\n",
       "      <td>Classics, Historical Fiction, Fiction, Adventu...</td>\n",
       "    </tr>\n",
       "    <tr>\n",
       "      <th>114286</th>\n",
       "      <td>Mary Poppins</td>\n",
       "      <td>P.L. Travers, Mary Shepard</td>\n",
       "      <td>Classics, Fantasy, Childrens, Fiction, Middle ...</td>\n",
       "    </tr>\n",
       "    <tr>\n",
       "      <th>123585</th>\n",
       "      <td>The Strange Case of Dr. Jekyll and Mr. Hyde an...</td>\n",
       "      <td>Robert Louis Stevenson, Robert Mighall</td>\n",
       "      <td>Classics, Horror, Fiction, Gothic, Science Fic...</td>\n",
       "    </tr>\n",
       "  </tbody>\n",
       "</table>\n",
       "</div>"
      ],
      "text/plain": [
       "                                                    Title  \\\n",
       "36099           The Strange Case of Dr Jekyll and Mr Hyde   \n",
       "45498                                   Mere Christianity   \n",
       "90897                               The Scarlet Pimpernel   \n",
       "114286                                       Mary Poppins   \n",
       "123585  The Strange Case of Dr. Jekyll and Mr. Hyde an...   \n",
       "\n",
       "                                                   Author  \\\n",
       "36099   Robert Louis Stevenson, Vladimir Nabokov, Merv...   \n",
       "45498                                          C.S. Lewis   \n",
       "90897                                       Emmuska Orczy   \n",
       "114286                         P.L. Travers, Mary Shepard   \n",
       "123585             Robert Louis Stevenson, Robert Mighall   \n",
       "\n",
       "                                                   Genres  \n",
       "36099   Classics, Horror, Fiction, Gothic, Science Fic...  \n",
       "45498   Christian, Nonfiction, Religion, Theology, Chr...  \n",
       "90897   Classics, Historical Fiction, Fiction, Adventu...  \n",
       "114286  Classics, Fantasy, Childrens, Fiction, Middle ...  \n",
       "123585  Classics, Horror, Fiction, Gothic, Science Fic...  "
      ]
     },
     "execution_count": 51,
     "metadata": {},
     "output_type": "execute_result"
    }
   ],
   "source": [
    "book_title = \"thirteen reasons why\"\n",
    "collaborative_recommendations(book_title, df=gbx_cf, type=\"genres\", n_recommendations=5)"
   ]
  },
  {
   "cell_type": "code",
   "execution_count": 52,
   "metadata": {},
   "outputs": [
    {
     "data": {
      "text/html": [
       "<div>\n",
       "<style scoped>\n",
       "    .dataframe tbody tr th:only-of-type {\n",
       "        vertical-align: middle;\n",
       "    }\n",
       "\n",
       "    .dataframe tbody tr th {\n",
       "        vertical-align: top;\n",
       "    }\n",
       "\n",
       "    .dataframe thead th {\n",
       "        text-align: right;\n",
       "    }\n",
       "</style>\n",
       "<table border=\"1\" class=\"dataframe\">\n",
       "  <thead>\n",
       "    <tr style=\"text-align: right;\">\n",
       "      <th></th>\n",
       "      <th>Title</th>\n",
       "      <th>Author</th>\n",
       "      <th>Genres</th>\n",
       "    </tr>\n",
       "  </thead>\n",
       "  <tbody>\n",
       "    <tr>\n",
       "      <th>77897</th>\n",
       "      <td>Twelfth Night; or, What You Will</td>\n",
       "      <td>William Shakespeare</td>\n",
       "      <td>Classics, Plays, Drama, Fiction, School, Roman...</td>\n",
       "    </tr>\n",
       "    <tr>\n",
       "      <th>99697</th>\n",
       "      <td>Sycamore Row</td>\n",
       "      <td>John Grisham</td>\n",
       "      <td>Fiction, Mystery, Thriller, Legal Thriller, Au...</td>\n",
       "    </tr>\n",
       "    <tr>\n",
       "      <th>135284</th>\n",
       "      <td>Go, Dog. Go!</td>\n",
       "      <td>P.D. Eastman</td>\n",
       "      <td>Childrens, Picture Books, Fiction, Classics, A...</td>\n",
       "    </tr>\n",
       "    <tr>\n",
       "      <th>149583</th>\n",
       "      <td>The Poky Little Puppy (a Little Golden Book)</td>\n",
       "      <td>Janette Sebring Lowrey, Gustaf Tenggren</td>\n",
       "      <td>Childrens, Picture Books, Fiction, Classics, A...</td>\n",
       "    </tr>\n",
       "    <tr>\n",
       "      <th>150983</th>\n",
       "      <td>A Room of One's Own</td>\n",
       "      <td>Virginia Woolf</td>\n",
       "      <td>Classics, Nonfiction, Feminism, Essays, Philos...</td>\n",
       "    </tr>\n",
       "  </tbody>\n",
       "</table>\n",
       "</div>"
      ],
      "text/plain": [
       "                                               Title  \\\n",
       "77897               Twelfth Night; or, What You Will   \n",
       "99697                                   Sycamore Row   \n",
       "135284                                  Go, Dog. Go!   \n",
       "149583  The Poky Little Puppy (a Little Golden Book)   \n",
       "150983                           A Room of One's Own   \n",
       "\n",
       "                                         Author  \\\n",
       "77897                       William Shakespeare   \n",
       "99697                              John Grisham   \n",
       "135284                             P.D. Eastman   \n",
       "149583  Janette Sebring Lowrey, Gustaf Tenggren   \n",
       "150983                           Virginia Woolf   \n",
       "\n",
       "                                                   Genres  \n",
       "77897   Classics, Plays, Drama, Fiction, School, Roman...  \n",
       "99697   Fiction, Mystery, Thriller, Legal Thriller, Au...  \n",
       "135284  Childrens, Picture Books, Fiction, Classics, A...  \n",
       "149583  Childrens, Picture Books, Fiction, Classics, A...  \n",
       "150983  Classics, Nonfiction, Feminism, Essays, Philos...  "
      ]
     },
     "execution_count": 52,
     "metadata": {},
     "output_type": "execute_result"
    }
   ],
   "source": [
    "book_title = \"A thousand splendid suns\"\n",
    "collaborative_recommendations(book_title, df=gbx_cf, type=\"genres\", n_recommendations=5)"
   ]
  },
  {
   "cell_type": "code",
   "execution_count": 53,
   "metadata": {},
   "outputs": [
    {
     "data": {
      "text/html": [
       "<div>\n",
       "<style scoped>\n",
       "    .dataframe tbody tr th:only-of-type {\n",
       "        vertical-align: middle;\n",
       "    }\n",
       "\n",
       "    .dataframe tbody tr th {\n",
       "        vertical-align: top;\n",
       "    }\n",
       "\n",
       "    .dataframe thead th {\n",
       "        text-align: right;\n",
       "    }\n",
       "</style>\n",
       "<table border=\"1\" class=\"dataframe\">\n",
       "  <thead>\n",
       "    <tr style=\"text-align: right;\">\n",
       "      <th></th>\n",
       "      <th>Title</th>\n",
       "      <th>Author</th>\n",
       "      <th>Genres</th>\n",
       "    </tr>\n",
       "  </thead>\n",
       "  <tbody>\n",
       "    <tr>\n",
       "      <th>1000</th>\n",
       "      <td>The Kite Runner</td>\n",
       "      <td>Khaled Hosseini</td>\n",
       "      <td>Fiction, Historical Fiction, Contemporary, Nov...</td>\n",
       "    </tr>\n",
       "    <tr>\n",
       "      <th>2900</th>\n",
       "      <td>The Help</td>\n",
       "      <td>Kathryn Stockett</td>\n",
       "      <td>Fiction, Historical Fiction, Historical, Adult...</td>\n",
       "    </tr>\n",
       "    <tr>\n",
       "      <th>3100</th>\n",
       "      <td>Memoirs of a Geisha</td>\n",
       "      <td>Arthur Golden</td>\n",
       "      <td>Fiction, Historical Fiction, Romance, Classics...</td>\n",
       "    </tr>\n",
       "    <tr>\n",
       "      <th>4300</th>\n",
       "      <td>Life of Pi</td>\n",
       "      <td>Yann Martel</td>\n",
       "      <td>Fiction, Fantasy, Classics, Adventure, Magical...</td>\n",
       "    </tr>\n",
       "    <tr>\n",
       "      <th>5300</th>\n",
       "      <td>The Secret Life of Bees</td>\n",
       "      <td>Sue Monk Kidd</td>\n",
       "      <td>Fiction, Historical Fiction, Classics, Young A...</td>\n",
       "    </tr>\n",
       "  </tbody>\n",
       "</table>\n",
       "</div>"
      ],
      "text/plain": [
       "                        Title            Author  \\\n",
       "1000         The Kite Runner    Khaled Hosseini   \n",
       "2900                 The Help  Kathryn Stockett   \n",
       "3100      Memoirs of a Geisha     Arthur Golden   \n",
       "4300               Life of Pi       Yann Martel   \n",
       "5300  The Secret Life of Bees     Sue Monk Kidd   \n",
       "\n",
       "                                                 Genres  \n",
       "1000  Fiction, Historical Fiction, Contemporary, Nov...  \n",
       "2900  Fiction, Historical Fiction, Historical, Adult...  \n",
       "3100  Fiction, Historical Fiction, Romance, Classics...  \n",
       "4300  Fiction, Fantasy, Classics, Adventure, Magical...  \n",
       "5300  Fiction, Historical Fiction, Classics, Young A...  "
      ]
     },
     "execution_count": 53,
     "metadata": {},
     "output_type": "execute_result"
    }
   ],
   "source": [
    "book_title = \"A thousand splendid suns\"\n",
    "collaborative_recommendations(book_title, df=gbx_cf, type=\"title\", n_recommendations=5)"
   ]
  },
  {
   "cell_type": "markdown",
   "metadata": {},
   "source": [
    "# Hybrid-filtering Model"
   ]
  },
  {
   "cell_type": "markdown",
   "metadata": {},
   "source": [
    "##### Using BERT embeddings and kNN"
   ]
  },
  {
   "cell_type": "code",
   "execution_count": 39,
   "metadata": {},
   "outputs": [
    {
     "data": {
      "text/html": [
       "<div>\n",
       "<style scoped>\n",
       "    .dataframe tbody tr th:only-of-type {\n",
       "        vertical-align: middle;\n",
       "    }\n",
       "\n",
       "    .dataframe tbody tr th {\n",
       "        vertical-align: top;\n",
       "    }\n",
       "\n",
       "    .dataframe thead th {\n",
       "        text-align: right;\n",
       "    }\n",
       "</style>\n",
       "<table border=\"1\" class=\"dataframe\">\n",
       "  <thead>\n",
       "    <tr style=\"text-align: right;\">\n",
       "      <th></th>\n",
       "      <th>UserID</th>\n",
       "      <th>User_Rating</th>\n",
       "      <th>Title</th>\n",
       "      <th>Author</th>\n",
       "      <th>Average_Rating</th>\n",
       "      <th>cleaned_title</th>\n",
       "      <th>cleaned_author</th>\n",
       "      <th>Genres</th>\n",
       "      <th>new_combined</th>\n",
       "      <th>title_embeddings</th>\n",
       "      <th>combined_embeddings</th>\n",
       "      <th>genres_embeddings</th>\n",
       "      <th>cleaned_genres</th>\n",
       "      <th>title_genres_combined</th>\n",
       "      <th>authors_embeddings</th>\n",
       "    </tr>\n",
       "  </thead>\n",
       "  <tbody>\n",
       "    <tr>\n",
       "      <th>0</th>\n",
       "      <td>276733</td>\n",
       "      <td>1</td>\n",
       "      <td>Les Particules Elementaires</td>\n",
       "      <td>Michel Houellebecq</td>\n",
       "      <td>2</td>\n",
       "      <td>le particules elementaires</td>\n",
       "      <td>michel houellebecq</td>\n",
       "      <td>Fiction, France, Literature, Novels, French Li...</td>\n",
       "      <td>le particules elementaires michel houellebecq ...</td>\n",
       "      <td>[-0.22314462, 0.42006478, -0.28728843, -0.1840...</td>\n",
       "      <td>[-0.21087638, 0.38165882, -0.00066206243, -0.3...</td>\n",
       "      <td>[0.11841526, 0.20468897, -0.028159915, -0.2183...</td>\n",
       "      <td>fiction france literature novels french litera...</td>\n",
       "      <td>le particules elementaires fiction france lite...</td>\n",
       "      <td>[-0.3414879, -0.07702848, -0.051483676, -0.296...</td>\n",
       "    </tr>\n",
       "  </tbody>\n",
       "</table>\n",
       "</div>"
      ],
      "text/plain": [
       "   UserID  User_Rating                        Title              Author  \\\n",
       "0  276733            1  Les Particules Elementaires  Michel Houellebecq   \n",
       "\n",
       "   Average_Rating               cleaned_title      cleaned_author  \\\n",
       "0               2  le particules elementaires  michel houellebecq   \n",
       "\n",
       "                                              Genres  \\\n",
       "0  Fiction, France, Literature, Novels, French Li...   \n",
       "\n",
       "                                        new_combined  \\\n",
       "0  le particules elementaires michel houellebecq ...   \n",
       "\n",
       "                                    title_embeddings  \\\n",
       "0  [-0.22314462, 0.42006478, -0.28728843, -0.1840...   \n",
       "\n",
       "                                 combined_embeddings  \\\n",
       "0  [-0.21087638, 0.38165882, -0.00066206243, -0.3...   \n",
       "\n",
       "                                   genres_embeddings  \\\n",
       "0  [0.11841526, 0.20468897, -0.028159915, -0.2183...   \n",
       "\n",
       "                                      cleaned_genres  \\\n",
       "0  fiction france literature novels french litera...   \n",
       "\n",
       "                               title_genres_combined  \\\n",
       "0  le particules elementaires fiction france lite...   \n",
       "\n",
       "                                  authors_embeddings  \n",
       "0  [-0.3414879, -0.07702848, -0.051483676, -0.296...  "
      ]
     },
     "execution_count": 39,
     "metadata": {},
     "output_type": "execute_result"
    }
   ],
   "source": [
    "bx_cols = ['ISBN', 'combined_cluster_label', 'genre_cluster_label']\n",
    "bx_hybrid = bx_cleaned.drop(columns=bx_cols)\n",
    "bx_hybrid.head(1)"
   ]
  },
  {
   "cell_type": "code",
   "execution_count": 40,
   "metadata": {},
   "outputs": [
    {
     "data": {
      "text/html": [
       "<div>\n",
       "<style scoped>\n",
       "    .dataframe tbody tr th:only-of-type {\n",
       "        vertical-align: middle;\n",
       "    }\n",
       "\n",
       "    .dataframe tbody tr th {\n",
       "        vertical-align: top;\n",
       "    }\n",
       "\n",
       "    .dataframe thead th {\n",
       "        text-align: right;\n",
       "    }\n",
       "</style>\n",
       "<table border=\"1\" class=\"dataframe\">\n",
       "  <thead>\n",
       "    <tr style=\"text-align: right;\">\n",
       "      <th></th>\n",
       "      <th>id</th>\n",
       "      <th>BookID</th>\n",
       "      <th>Author</th>\n",
       "      <th>Title</th>\n",
       "      <th>Average_Rating</th>\n",
       "      <th>UserID</th>\n",
       "      <th>User_Rating</th>\n",
       "      <th>cleaned_title</th>\n",
       "      <th>cleaned_author</th>\n",
       "      <th>Genres</th>\n",
       "      <th>new_combined</th>\n",
       "      <th>title_embeddings</th>\n",
       "      <th>combined_embeddings</th>\n",
       "      <th>genres_embeddings</th>\n",
       "      <th>cleaned_genres</th>\n",
       "      <th>title_genres_combined</th>\n",
       "      <th>authors_embeddings</th>\n",
       "    </tr>\n",
       "  </thead>\n",
       "  <tbody>\n",
       "    <tr>\n",
       "      <th>0</th>\n",
       "      <td>1</td>\n",
       "      <td>2767052</td>\n",
       "      <td>Suzanne Collins</td>\n",
       "      <td>The Hunger Games</td>\n",
       "      <td>4</td>\n",
       "      <td>314</td>\n",
       "      <td>5</td>\n",
       "      <td>hunger game</td>\n",
       "      <td>suzanne collins</td>\n",
       "      <td>Young Adult, Fiction, Fantasy, Dystopia, Scien...</td>\n",
       "      <td>hunger game suzanne collins young adult fictio...</td>\n",
       "      <td>[-0.35120225, -0.6337399, -0.2950579, -0.18312...</td>\n",
       "      <td>[-0.10558018, 0.06420389, 0.4107097, 0.1490544...</td>\n",
       "      <td>[-0.03419616, 0.14870769, 0.5226705, -0.080204...</td>\n",
       "      <td>young adult fiction fantasy dystopia science f...</td>\n",
       "      <td>hunger game young adult fiction fantasy dystop...</td>\n",
       "      <td>[-0.12804408, 0.11276019, -0.25651056, -0.0526...</td>\n",
       "    </tr>\n",
       "  </tbody>\n",
       "</table>\n",
       "</div>"
      ],
      "text/plain": [
       "   id   BookID           Author             Title  Average_Rating  UserID  \\\n",
       "0   1  2767052  Suzanne Collins  The Hunger Games               4     314   \n",
       "\n",
       "   User_Rating cleaned_title   cleaned_author  \\\n",
       "0            5   hunger game  suzanne collins   \n",
       "\n",
       "                                              Genres  \\\n",
       "0  Young Adult, Fiction, Fantasy, Dystopia, Scien...   \n",
       "\n",
       "                                        new_combined  \\\n",
       "0  hunger game suzanne collins young adult fictio...   \n",
       "\n",
       "                                    title_embeddings  \\\n",
       "0  [-0.35120225, -0.6337399, -0.2950579, -0.18312...   \n",
       "\n",
       "                                 combined_embeddings  \\\n",
       "0  [-0.10558018, 0.06420389, 0.4107097, 0.1490544...   \n",
       "\n",
       "                                   genres_embeddings  \\\n",
       "0  [-0.03419616, 0.14870769, 0.5226705, -0.080204...   \n",
       "\n",
       "                                      cleaned_genres  \\\n",
       "0  young adult fiction fantasy dystopia science f...   \n",
       "\n",
       "                               title_genres_combined  \\\n",
       "0  hunger game young adult fiction fantasy dystop...   \n",
       "\n",
       "                                  authors_embeddings  \n",
       "0  [-0.12804408, 0.11276019, -0.25651056, -0.0526...  "
      ]
     },
     "execution_count": 40,
     "metadata": {},
     "output_type": "execute_result"
    }
   ],
   "source": [
    "gbx_cols = ['id', 'ISBN', 'combined_cluster_label', 'genre_cluster_label']\n",
    "gbx_hybrid = gbx_cleaned.drop(columns=bx_cols)\n",
    "gbx_hybrid.head(1)"
   ]
  },
  {
   "cell_type": "code",
   "execution_count": null,
   "metadata": {},
   "outputs": [],
   "source": [
    "item_similarity_matrix_bx = cosine_similarity(bx_title_embeddings_array)"
   ]
  },
  {
   "cell_type": "code",
   "execution_count": null,
   "metadata": {},
   "outputs": [],
   "source": [
    "item_similarity_matrix_gbx = cosine_similarity(gbx_title_embeddings_array)"
   ]
  },
  {
   "cell_type": "code",
   "execution_count": 35,
   "metadata": {},
   "outputs": [],
   "source": [
    "# def hybrid_bert_recommendations(book_title, df, n_recommendations=5):\n",
    "#     # Construct item-item similarity matrix\n",
    "#     if 'BookID' in df.columns:\n",
    "#         item_similarity_matrix = user_item_matrix_gbx\n",
    "#     else:\n",
    "#         item_similarity_matrix = user_item_matrix_bx\n",
    "#     # item_similarity_matrix = construct_item_similarity_matrix(df)\n",
    "    \n",
    "#     # Find the index of the book title in the dataframe\n",
    "#     book_index = df[df['Title'] == book_title].index[0]\n",
    "    \n",
    "#     # Use kNN with item similarity matrix to find similar items\n",
    "#     model_knn = NearestNeighbors(metric='cosine', algorithm='brute', n_neighbors=n_recommendations, n_jobs=-1)\n",
    "#     model_knn.fit(item_similarity_matrix)\n",
    "    \n",
    "#     # Find nearest neighbors (similar items) for the specified book title\n",
    "#     distances, indices = model_knn.kneighbors([item_similarity_matrix[book_index]], n_neighbors=n_recommendations+1)\n",
    "    \n",
    "#     # Exclude the first item (itself) and get top n recommendations\n",
    "#     recommended_indices = indices.flatten()[1:]\n",
    "#     recommended_books_details = df.iloc[recommended_indices][['Title', 'Author', 'Genres']]\n",
    "    \n",
    "#     return recommended_books_details\n",
    "\n",
    "\n",
    "\n",
    "# Assuming user_item_matrix_gbx and user_item_matrix_bx are defined elsewhere\n",
    "\n",
    "def hybrid_bert_recommendations(book_title, df, n_recommendations=5):\n",
    "    # Determine which user-item matrix to use based on the DataFrame\n",
    "    if 'BookID' in df.columns:\n",
    "        user_item_matrix = user_item_matrix_gbx\n",
    "    else:\n",
    "        user_item_matrix = user_item_matrix_bx\n",
    "    \n",
    "    # Convert user-item matrix to item-item similarity matrix\n",
    "    item_similarity_matrix = cosine_similarity(user_item_matrix.T)\n",
    "    \n",
    "    # Find the index of the book title in the dataframe\n",
    "    book_index = df[df['Title'] == book_title].index[0]\n",
    "    \n",
    "    # Use kNN with item similarity matrix to find similar items\n",
    "    model_knn = NearestNeighbors(metric='cosine', algorithm='brute', n_neighbors=n_recommendations, n_jobs=-1)\n",
    "    model_knn.fit(item_similarity_matrix)\n",
    "    \n",
    "    # Find nearest neighbors (similar items) for the specified book title\n",
    "    distances, indices = model_knn.kneighbors([item_similarity_matrix[book_index]], n_neighbors=n_recommendations+1)\n",
    "    \n",
    "    # Exclude the first item (itself) and get top n recommendations\n",
    "    recommended_indices = indices.flatten()[1:]\n",
    "    recommended_books_details = df.iloc[recommended_indices][['Title', 'Author', 'Genres']]\n",
    "    \n",
    "    return recommended_books_details\n"
   ]
  },
  {
   "cell_type": "code",
   "execution_count": 56,
   "metadata": {},
   "outputs": [
    {
     "data": {
      "text/html": [
       "<div>\n",
       "<style scoped>\n",
       "    .dataframe tbody tr th:only-of-type {\n",
       "        vertical-align: middle;\n",
       "    }\n",
       "\n",
       "    .dataframe tbody tr th {\n",
       "        vertical-align: top;\n",
       "    }\n",
       "\n",
       "    .dataframe thead th {\n",
       "        text-align: right;\n",
       "    }\n",
       "</style>\n",
       "<table border=\"1\" class=\"dataframe\">\n",
       "  <thead>\n",
       "    <tr style=\"text-align: right;\">\n",
       "      <th></th>\n",
       "      <th>Title</th>\n",
       "      <th>Author</th>\n",
       "      <th>Genres</th>\n",
       "    </tr>\n",
       "  </thead>\n",
       "  <tbody>\n",
       "    <tr>\n",
       "      <th>6689</th>\n",
       "      <td>Frankenstein; or, The Modern Prometheus</td>\n",
       "      <td>Mary Wollstonecraft Shelley, Percy Bysshe Shel...</td>\n",
       "      <td>Horror, Fiction, Science Fiction, Gothic, Fant...</td>\n",
       "    </tr>\n",
       "    <tr>\n",
       "      <th>1190</th>\n",
       "      <td>Divergent</td>\n",
       "      <td>Veronica Roth</td>\n",
       "      <td>Young Adult, Dystopia, Fantasy, Fiction, Scien...</td>\n",
       "    </tr>\n",
       "    <tr>\n",
       "      <th>1992</th>\n",
       "      <td>Mockingjay</td>\n",
       "      <td>Suzanne Collins</td>\n",
       "      <td>Young Adult, Dystopia, Fiction, Fantasy, Scien...</td>\n",
       "    </tr>\n",
       "    <tr>\n",
       "      <th>4200</th>\n",
       "      <td>The Notebook</td>\n",
       "      <td>Nicholas Sparks</td>\n",
       "      <td>Romance, Fiction, Chick Lit, Contemporary, Adu...</td>\n",
       "    </tr>\n",
       "    <tr>\n",
       "      <th>2072</th>\n",
       "      <td>Harry Potter and the Order of the Phoenix</td>\n",
       "      <td>J.K. Rowling, Mary GrandPrÃ©</td>\n",
       "      <td>Young Adult, Fiction, Magic, Childrens, Audiob...</td>\n",
       "    </tr>\n",
       "  </tbody>\n",
       "</table>\n",
       "</div>"
      ],
      "text/plain": [
       "                                          Title  \\\n",
       "6689    Frankenstein; or, The Modern Prometheus   \n",
       "1190                                  Divergent   \n",
       "1992                                 Mockingjay   \n",
       "4200                               The Notebook   \n",
       "2072  Harry Potter and the Order of the Phoenix   \n",
       "\n",
       "                                                 Author  \\\n",
       "6689  Mary Wollstonecraft Shelley, Percy Bysshe Shel...   \n",
       "1190                                      Veronica Roth   \n",
       "1992                                    Suzanne Collins   \n",
       "4200                                    Nicholas Sparks   \n",
       "2072                       J.K. Rowling, Mary GrandPrÃ©   \n",
       "\n",
       "                                                 Genres  \n",
       "6689  Horror, Fiction, Science Fiction, Gothic, Fant...  \n",
       "1190  Young Adult, Dystopia, Fantasy, Fiction, Scien...  \n",
       "1992  Young Adult, Dystopia, Fiction, Fantasy, Scien...  \n",
       "4200  Romance, Fiction, Chick Lit, Contemporary, Adu...  \n",
       "2072  Young Adult, Fiction, Magic, Childrens, Audiob...  "
      ]
     },
     "execution_count": 56,
     "metadata": {},
     "output_type": "execute_result"
    }
   ],
   "source": [
    "book_title = \"Twilight\"\n",
    "hybrid_bert_recommendations(book_title, gbx_hybrid, n_recommendations=5)"
   ]
  },
  {
   "cell_type": "code",
   "execution_count": 57,
   "metadata": {},
   "outputs": [
    {
     "data": {
      "text/html": [
       "<div>\n",
       "<style scoped>\n",
       "    .dataframe tbody tr th:only-of-type {\n",
       "        vertical-align: middle;\n",
       "    }\n",
       "\n",
       "    .dataframe tbody tr th {\n",
       "        vertical-align: top;\n",
       "    }\n",
       "\n",
       "    .dataframe thead th {\n",
       "        text-align: right;\n",
       "    }\n",
       "</style>\n",
       "<table border=\"1\" class=\"dataframe\">\n",
       "  <thead>\n",
       "    <tr style=\"text-align: right;\">\n",
       "      <th></th>\n",
       "      <th>Title</th>\n",
       "      <th>Author</th>\n",
       "      <th>Genres</th>\n",
       "    </tr>\n",
       "  </thead>\n",
       "  <tbody>\n",
       "    <tr>\n",
       "      <th>9198</th>\n",
       "      <td>Wenn ein Reisender in einer Winternacht.</td>\n",
       "      <td>Italo Calvino</td>\n",
       "      <td>Fiction, Classics, Italian Literature, Magical...</td>\n",
       "    </tr>\n",
       "    <tr>\n",
       "      <th>6156</th>\n",
       "      <td>The Book of Eleanor</td>\n",
       "      <td>PAMELA KAUFMAN</td>\n",
       "      <td>Historical Fiction, Fiction, Mystery, Historic...</td>\n",
       "    </tr>\n",
       "    <tr>\n",
       "      <th>10204</th>\n",
       "      <td>Temptation</td>\n",
       "      <td>Dermot Bolger</td>\n",
       "      <td>Romance, Dark, Contemporary, Contemporary Roma...</td>\n",
       "    </tr>\n",
       "    <tr>\n",
       "      <th>10198</th>\n",
       "      <td>The Last Promise</td>\n",
       "      <td>Richard Paul Evans</td>\n",
       "      <td>Graphic Novels, Comics, Fantasy, Manga, Young ...</td>\n",
       "    </tr>\n",
       "    <tr>\n",
       "      <th>4642</th>\n",
       "      <td>Falcon</td>\n",
       "      <td>Emma Bull</td>\n",
       "      <td>Mystery, Fiction, Classics, Crime, Noir, Detec...</td>\n",
       "    </tr>\n",
       "  </tbody>\n",
       "</table>\n",
       "</div>"
      ],
      "text/plain": [
       "                                          Title              Author  \\\n",
       "9198   Wenn ein Reisender in einer Winternacht.       Italo Calvino   \n",
       "6156                        The Book of Eleanor      PAMELA KAUFMAN   \n",
       "10204                                Temptation       Dermot Bolger   \n",
       "10198                          The Last Promise  Richard Paul Evans   \n",
       "4642                                     Falcon           Emma Bull   \n",
       "\n",
       "                                                  Genres  \n",
       "9198   Fiction, Classics, Italian Literature, Magical...  \n",
       "6156   Historical Fiction, Fiction, Mystery, Historic...  \n",
       "10204  Romance, Dark, Contemporary, Contemporary Roma...  \n",
       "10198  Graphic Novels, Comics, Fantasy, Manga, Young ...  \n",
       "4642   Mystery, Fiction, Classics, Crime, Noir, Detec...  "
      ]
     },
     "execution_count": 57,
     "metadata": {},
     "output_type": "execute_result"
    }
   ],
   "source": [
    "book_title = \"Twilight\"\n",
    "hybrid_bert_recommendations(book_title, bx_hybrid, n_recommendations=5)"
   ]
  },
  {
   "cell_type": "code",
   "execution_count": 58,
   "metadata": {},
   "outputs": [
    {
     "data": {
      "text/html": [
       "<div>\n",
       "<style scoped>\n",
       "    .dataframe tbody tr th:only-of-type {\n",
       "        vertical-align: middle;\n",
       "    }\n",
       "\n",
       "    .dataframe tbody tr th {\n",
       "        vertical-align: top;\n",
       "    }\n",
       "\n",
       "    .dataframe thead th {\n",
       "        text-align: right;\n",
       "    }\n",
       "</style>\n",
       "<table border=\"1\" class=\"dataframe\">\n",
       "  <thead>\n",
       "    <tr style=\"text-align: right;\">\n",
       "      <th></th>\n",
       "      <th>Title</th>\n",
       "      <th>Author</th>\n",
       "      <th>Genres</th>\n",
       "    </tr>\n",
       "  </thead>\n",
       "  <tbody>\n",
       "    <tr>\n",
       "      <th>7253</th>\n",
       "      <td>The Devil Wears Prada</td>\n",
       "      <td>Lauren Weisberger</td>\n",
       "      <td>Chick Lit, Fiction, Contemporary, Romance, Adu...</td>\n",
       "    </tr>\n",
       "    <tr>\n",
       "      <th>1440</th>\n",
       "      <td>Het Achterhuis: Dagboekbrieven 14 juni 1942 - ...</td>\n",
       "      <td>Anne Frank, Eleanor Roosevelt, B.M. Mooyaart-D...</td>\n",
       "      <td>Classics, Nonfiction, Biography, Memoir, Histo...</td>\n",
       "    </tr>\n",
       "    <tr>\n",
       "      <th>1016</th>\n",
       "      <td>The Kite Runner</td>\n",
       "      <td>Khaled Hosseini</td>\n",
       "      <td>Fiction, Historical Fiction, Contemporary, Nov...</td>\n",
       "    </tr>\n",
       "    <tr>\n",
       "      <th>2889</th>\n",
       "      <td>Gone Girl</td>\n",
       "      <td>Gillian Flynn</td>\n",
       "      <td>Fiction, Mystery, Thriller, Mystery Thriller, ...</td>\n",
       "    </tr>\n",
       "    <tr>\n",
       "      <th>3278</th>\n",
       "      <td>Fifty Shades of Grey</td>\n",
       "      <td>E.L. James</td>\n",
       "      <td>Romance, Fiction, Erotica, Adult, BDSM, Contem...</td>\n",
       "    </tr>\n",
       "  </tbody>\n",
       "</table>\n",
       "</div>"
      ],
      "text/plain": [
       "                                                  Title  \\\n",
       "7253                              The Devil Wears Prada   \n",
       "1440  Het Achterhuis: Dagboekbrieven 14 juni 1942 - ...   \n",
       "1016                                   The Kite Runner    \n",
       "2889                                          Gone Girl   \n",
       "3278                               Fifty Shades of Grey   \n",
       "\n",
       "                                                 Author  \\\n",
       "7253                                  Lauren Weisberger   \n",
       "1440  Anne Frank, Eleanor Roosevelt, B.M. Mooyaart-D...   \n",
       "1016                                    Khaled Hosseini   \n",
       "2889                                      Gillian Flynn   \n",
       "3278                                         E.L. James   \n",
       "\n",
       "                                                 Genres  \n",
       "7253  Chick Lit, Fiction, Contemporary, Romance, Adu...  \n",
       "1440  Classics, Nonfiction, Biography, Memoir, Histo...  \n",
       "1016  Fiction, Historical Fiction, Contemporary, Nov...  \n",
       "2889  Fiction, Mystery, Thriller, Mystery Thriller, ...  \n",
       "3278  Romance, Fiction, Erotica, Adult, BDSM, Contem...  "
      ]
     },
     "execution_count": 58,
     "metadata": {},
     "output_type": "execute_result"
    }
   ],
   "source": [
    "book_title = \"The Shining\"\n",
    "hybrid_bert_recommendations(book_title, gbx_hybrid, n_recommendations=5)"
   ]
  },
  {
   "cell_type": "markdown",
   "metadata": {},
   "source": [
    "# Hybrid-filtering Model"
   ]
  },
  {
   "cell_type": "markdown",
   "metadata": {},
   "source": [
    "#### Using Cascade Hybrid approach"
   ]
  },
  {
   "cell_type": "code",
   "execution_count": 108,
   "metadata": {},
   "outputs": [],
   "source": [
    "\n",
    "\n",
    "# def cosine_sim(df, book_title):\n",
    "#     tfidf_vectorizer = TfidfVectorizer()\n",
    "#     tfidf_matrix = tfidf_vectorizer.fit_transform(df['Title'].values.astype('U'))\n",
    "\n",
    "#     # Convert the TF-IDF matrix to CSR format\n",
    "#     tfidf_matrix_csr = sp.csr_matrix(tfidf_matrix)\n",
    "\n",
    "#     # Get the index of the query title\n",
    "#     query_index = df.index[df['Title'] == book_title].tolist()[0]\n",
    "\n",
    "#     # Compute cosine similarity between the query title and all titles\n",
    "#     query_vector = tfidf_matrix_csr[query_index]\n",
    "#     cosine_similarities = cosine_similarity(query_vector, tfidf_matrix_csr).flatten()\n",
    "\n",
    "#     # Add cosine similarity values to a new column in the DataFrame\n",
    "#     df['Cosine Similarity'] = cosine_similarities\n",
    "\n",
    "#     return df\n",
    "\n",
    "def cosine_sim(df, book_title):\n",
    "    # if book_title not in df['Title'].values:\n",
    "    #     print(f\"Query title '{book_title}' not found in the dataset.\")\n",
    "    #     return df\n",
    "    \n",
    "# try creating new_cobijned with clean_text features for tfidf\n",
    "    \n",
    "    # all_titles = df['Title'].values\n",
    "    all_titles = df['Genres'].values\n",
    "    np.append(all_titles, (np.array([book_title])))\n",
    "    all_titles = all_titles.astype(\"U\")\n",
    "\n",
    "    tfidf_vectorizer = TfidfVectorizer()\n",
    "    tfidf_matrix = tfidf_vectorizer.fit_transform(all_titles)\n",
    "\n",
    "    # Convert the TF-IDF matrix to CSR format\n",
    "    tfidf_matrix_csr = sp.csr_matrix(tfidf_matrix)\n",
    "\n",
    "    # Get the index of the query title\n",
    "    # query_index = df.index[df['Title'] == book_title].tolist()[0]\n",
    "\n",
    "    # Compute cosine similarity between the query title and all titles\n",
    "    query_vector = tfidf_matrix_csr[-1]\n",
    "    cosine_similarities = cosine_similarity(query_vector, tfidf_matrix_csr).flatten()\n",
    "\n",
    "\n",
    "    # cosine_similarities = cosine_similarity(query_index, tfidf_matrix_csr).flatten()\n",
    "\n",
    "    # Add cosine similarity values to a new column in the DataFrame\n",
    "    df['Cosine Similarity'] = cosine_similarities\n",
    "\n",
    "    return df"
   ]
  },
  {
   "cell_type": "code",
   "execution_count": 33,
   "metadata": {},
   "outputs": [
    {
     "name": "stdout",
     "output_type": "stream",
     "text": [
      "<class 'numpy.ndarray'>\n"
     ]
    }
   ],
   "source": [
    "print(type(bx_hybrid[\"Title\"].values.astype(\"U\")))"
   ]
  },
  {
   "cell_type": "code",
   "execution_count": 34,
   "metadata": {},
   "outputs": [
    {
     "name": "stdout",
     "output_type": "stream",
     "text": [
      "<class 'numpy.ndarray'>\n"
     ]
    }
   ],
   "source": [
    "print(type(np.array([\"Twilight\"]).astype(\"U\") ) )"
   ]
  },
  {
   "cell_type": "code",
   "execution_count": 141,
   "metadata": {},
   "outputs": [],
   "source": [
    "def cascade_hybrid_recss(query, df, type=\"combined\", n_recommendations=5):\n",
    "    \n",
    "    recs_list = []\n",
    "    # combined_recommendations = pd.DataFrame()\n",
    "\n",
    "    if 'BookID' in df.columns:\n",
    "        content_df = gbx_content\n",
    "        cf_df = gbx_cf\n",
    "    else:\n",
    "        content_df = bx_content\n",
    "        cf_df = bx_cf\n",
    "    \n",
    "    if type.lower() == \"title\":\n",
    "        cont_type = \"title\"\n",
    "        cf_type = \"title\"\n",
    "    elif type.lower() == \"author\":\n",
    "        cont_type = \"author\"\n",
    "        cf_type = \"title\"\n",
    "    elif type.lower() == \"genres\":\n",
    "        cont_type = \"genres\"\n",
    "        cf_type = \"genres\"\n",
    "    elif type.lower() == \"combined\":\n",
    "        cont_type = \"combined\"\n",
    "        cf_type = \"title\"\n",
    "\n",
    "\n",
    "    # initial_recommendations = content_based_recommendations(query=book_title, df=content_df, new_type, n_recommendations=n_recommendations)\n",
    "    initial_recommendations = content_based_recommendations(query=query, df=content_df, type=cont_type, n_recommendations=5)\n",
    "\n",
    "    if initial_recommendations.empty:\n",
    "        return get_popular_books(df, n=n_recommendations)\n",
    "\n",
    "    if not initial_recommendations.empty:\n",
    "        # combined_recommendations = pd.DataFrame()\n",
    "        for index,row in initial_recommendations.iterrows():\n",
    "            # print(initial_recommendations)\n",
    "            title = row['Title']\n",
    "            # return book_title\n",
    "\n",
    "\n",
    "            cf_recommendations = collaborative_recommendations(query=title, df=cf_df, type=cf_type, n_recommendations=2)\n",
    "\n",
    "            # cf_recommendations = collaborative_recommendations(query=query, df=content_df, type=new_type, n_recommendations=2)\n",
    "\n",
    "            recs_list.append(cf_recommendations)\n",
    "            # print(recs_list)\n",
    "        combined_recommendations = pd.concat(recs_list, ignore_index=True)\n",
    "    # print(combined_recommendations)\n",
    "    # combined_recommendations = combined_recommendations[combined_recommendations['Title'] != book_title]\n",
    "        \n",
    "    #try injecting the book title row into the combined recs dataframe to preserve the index HEREEEEEE\n",
    "    # print(type(combined_recommendations))\n",
    "    # original_book_row = df.loc[df['Title'] == book_title]\n",
    "    \n",
    "    # combined_recommendations = combined_recommendations.append(original_book_row.iloc[0], ignore_index=False)\n",
    "\n",
    "    combined_recommendations = cosine_sim(combined_recommendations, book_title=query)  # Calculate cosine similarity\n",
    "    # print(combined_recommendations.columns)\n",
    "    # print(combined_recommendations)\n",
    "    sorted_recommendations = combined_recommendations.sort_values(by='Cosine Similarity', ascending=False)\n",
    "    top_recommendations = sorted_recommendations.head(n_recommendations)\n",
    "    # top_recommendations = combined_recommendations.head(n_recommendations)\n",
    "    final_recs = top_recommendations.loc[:, ['Title', 'Author', 'Genres']]\n",
    "\n",
    "    # return combined_recommendations\n",
    "    # return top_recommendations\n",
    "    return final_recs\n",
    "    "
   ]
  },
  {
   "cell_type": "code",
   "execution_count": 81,
   "metadata": {},
   "outputs": [
    {
     "name": "stdout",
     "output_type": "stream",
     "text": [
      "Your query:-\n",
      "Query: Wuthering Heights\n",
      "Genres: Classics, Fiction, Romance, Gothic, Historical Fiction, Literature, Historical\n",
      "                                               Title            Author  \\\n",
      "0                         The Last Lighthouse Keeper   Alan Titchmarsh   \n",
      "1                                   Animal Instincts   Alan Titchmarsh   \n",
      "2  On the Side of the Angels (Virago Modern Class...      Betty Miller   \n",
      "3                                       Jacob's Room    VIRGINIA WOOLF   \n",
      "4                  Man's Search for Ultimate Meaning  Viktor E. Frankl   \n",
      "5                           Prince and Other Dogs II        Libby Hall   \n",
      "6                              Die Frau des Piloten.      Anita Shreve   \n",
      "7                        Schicksal in Person/Nemesis   Agatha Christie   \n",
      "8  The DREAMS OUR STUFF IS MADE OF: How Science F...   Thomas M. Disch   \n",
      "9                            Finn Family Moomintroll      Tove Jansson   \n",
      "\n",
      "                                              Genres  \n",
      "0  Fiction, Romance, British Literature, Audioboo...  \n",
      "1  Romance, Contemporary Romance, Contemporary, P...  \n",
      "2  Fiction, British Literature, Classics, World W...  \n",
      "3  Classics, Fiction, 20th Century, Novels, Briti...  \n",
      "4  Psychology, Philosophy, Nonfiction, Self Help,...  \n",
      "5                                      Dogs, Animals  \n",
      "6  Fiction, Chick Lit, Mystery, Contemporary, Rom...  \n",
      "7  Mystery, Fiction, Crime, Classics, Mystery Thr...  \n",
      "8  Nonfiction, History, Literary Criticism, Scien...  \n",
      "9  Fantasy, Childrens, Fiction, Classics, Finnish...  \n"
     ]
    },
    {
     "data": {
      "text/html": [
       "<div>\n",
       "<style scoped>\n",
       "    .dataframe tbody tr th:only-of-type {\n",
       "        vertical-align: middle;\n",
       "    }\n",
       "\n",
       "    .dataframe tbody tr th {\n",
       "        vertical-align: top;\n",
       "    }\n",
       "\n",
       "    .dataframe thead th {\n",
       "        text-align: right;\n",
       "    }\n",
       "</style>\n",
       "<table border=\"1\" class=\"dataframe\">\n",
       "  <thead>\n",
       "    <tr style=\"text-align: right;\">\n",
       "      <th></th>\n",
       "      <th>Title</th>\n",
       "      <th>Author</th>\n",
       "      <th>Genres</th>\n",
       "      <th>Cosine Similarity</th>\n",
       "    </tr>\n",
       "  </thead>\n",
       "  <tbody>\n",
       "    <tr>\n",
       "      <th>9</th>\n",
       "      <td>Finn Family Moomintroll</td>\n",
       "      <td>Tove Jansson</td>\n",
       "      <td>Fantasy, Childrens, Fiction, Classics, Finnish...</td>\n",
       "      <td>1.000000</td>\n",
       "    </tr>\n",
       "    <tr>\n",
       "      <th>3</th>\n",
       "      <td>Jacob's Room</td>\n",
       "      <td>VIRGINIA WOOLF</td>\n",
       "      <td>Classics, Fiction, 20th Century, Novels, Briti...</td>\n",
       "      <td>0.354451</td>\n",
       "    </tr>\n",
       "    <tr>\n",
       "      <th>2</th>\n",
       "      <td>On the Side of the Angels (Virago Modern Class...</td>\n",
       "      <td>Betty Miller</td>\n",
       "      <td>Fiction, British Literature, Classics, World W...</td>\n",
       "      <td>0.247697</td>\n",
       "    </tr>\n",
       "    <tr>\n",
       "      <th>0</th>\n",
       "      <td>The Last Lighthouse Keeper</td>\n",
       "      <td>Alan Titchmarsh</td>\n",
       "      <td>Fiction, Romance, British Literature, Audioboo...</td>\n",
       "      <td>0.211842</td>\n",
       "    </tr>\n",
       "    <tr>\n",
       "      <th>7</th>\n",
       "      <td>Schicksal in Person/Nemesis</td>\n",
       "      <td>Agatha Christie</td>\n",
       "      <td>Mystery, Fiction, Crime, Classics, Mystery Thr...</td>\n",
       "      <td>0.091986</td>\n",
       "    </tr>\n",
       "  </tbody>\n",
       "</table>\n",
       "</div>"
      ],
      "text/plain": [
       "                                               Title           Author  \\\n",
       "9                            Finn Family Moomintroll     Tove Jansson   \n",
       "3                                       Jacob's Room   VIRGINIA WOOLF   \n",
       "2  On the Side of the Angels (Virago Modern Class...     Betty Miller   \n",
       "0                         The Last Lighthouse Keeper  Alan Titchmarsh   \n",
       "7                        Schicksal in Person/Nemesis  Agatha Christie   \n",
       "\n",
       "                                              Genres  Cosine Similarity  \n",
       "9  Fantasy, Childrens, Fiction, Classics, Finnish...           1.000000  \n",
       "3  Classics, Fiction, 20th Century, Novels, Briti...           0.354451  \n",
       "2  Fiction, British Literature, Classics, World W...           0.247697  \n",
       "0  Fiction, Romance, British Literature, Audioboo...           0.211842  \n",
       "7  Mystery, Fiction, Crime, Classics, Mystery Thr...           0.091986  "
      ]
     },
     "execution_count": 81,
     "metadata": {},
     "output_type": "execute_result"
    }
   ],
   "source": [
    "cascade_hybrid_recss(\"Wuthering Heights\", bx_hybrid, n_recommendations=5)"
   ]
  },
  {
   "cell_type": "code",
   "execution_count": 63,
   "metadata": {},
   "outputs": [
    {
     "name": "stdout",
     "output_type": "stream",
     "text": [
      "Your query:-\n",
      "Query: Wuthering Heights\n",
      "Genres: Classics, Fiction, Romance, Gothic, Historical Fiction, Literature, Historical\n"
     ]
    },
    {
     "data": {
      "text/html": [
       "<div>\n",
       "<style scoped>\n",
       "    .dataframe tbody tr th:only-of-type {\n",
       "        vertical-align: middle;\n",
       "    }\n",
       "\n",
       "    .dataframe tbody tr th {\n",
       "        vertical-align: top;\n",
       "    }\n",
       "\n",
       "    .dataframe thead th {\n",
       "        text-align: right;\n",
       "    }\n",
       "</style>\n",
       "<table border=\"1\" class=\"dataframe\">\n",
       "  <thead>\n",
       "    <tr style=\"text-align: right;\">\n",
       "      <th></th>\n",
       "      <th>Title</th>\n",
       "      <th>Author</th>\n",
       "      <th>Genres</th>\n",
       "      <th>Cosine Similarity</th>\n",
       "    </tr>\n",
       "  </thead>\n",
       "  <tbody>\n",
       "    <tr>\n",
       "      <th>9</th>\n",
       "      <td>Finn Family Moomintroll</td>\n",
       "      <td>Tove Jansson</td>\n",
       "      <td>Fantasy, Childrens, Fiction, Classics, Finnish...</td>\n",
       "      <td>1.000000</td>\n",
       "    </tr>\n",
       "    <tr>\n",
       "      <th>3</th>\n",
       "      <td>Jacob's Room</td>\n",
       "      <td>VIRGINIA WOOLF</td>\n",
       "      <td>Classics, Fiction, 20th Century, Novels, Briti...</td>\n",
       "      <td>0.354451</td>\n",
       "    </tr>\n",
       "    <tr>\n",
       "      <th>2</th>\n",
       "      <td>On the Side of the Angels (Virago Modern Class...</td>\n",
       "      <td>Betty Miller</td>\n",
       "      <td>Fiction, British Literature, Classics, World W...</td>\n",
       "      <td>0.247697</td>\n",
       "    </tr>\n",
       "    <tr>\n",
       "      <th>0</th>\n",
       "      <td>The Last Lighthouse Keeper</td>\n",
       "      <td>Alan Titchmarsh</td>\n",
       "      <td>Fiction, Romance, British Literature, Audioboo...</td>\n",
       "      <td>0.211842</td>\n",
       "    </tr>\n",
       "    <tr>\n",
       "      <th>7</th>\n",
       "      <td>Schicksal in Person/Nemesis</td>\n",
       "      <td>Agatha Christie</td>\n",
       "      <td>Mystery, Fiction, Crime, Classics, Mystery Thr...</td>\n",
       "      <td>0.091986</td>\n",
       "    </tr>\n",
       "  </tbody>\n",
       "</table>\n",
       "</div>"
      ],
      "text/plain": [
       "                                               Title           Author  \\\n",
       "9                            Finn Family Moomintroll     Tove Jansson   \n",
       "3                                       Jacob's Room   VIRGINIA WOOLF   \n",
       "2  On the Side of the Angels (Virago Modern Class...     Betty Miller   \n",
       "0                         The Last Lighthouse Keeper  Alan Titchmarsh   \n",
       "7                        Schicksal in Person/Nemesis  Agatha Christie   \n",
       "\n",
       "                                              Genres  Cosine Similarity  \n",
       "9  Fantasy, Childrens, Fiction, Classics, Finnish...           1.000000  \n",
       "3  Classics, Fiction, 20th Century, Novels, Briti...           0.354451  \n",
       "2  Fiction, British Literature, Classics, World W...           0.247697  \n",
       "0  Fiction, Romance, British Literature, Audioboo...           0.211842  \n",
       "7  Mystery, Fiction, Crime, Classics, Mystery Thr...           0.091986  "
      ]
     },
     "execution_count": 63,
     "metadata": {},
     "output_type": "execute_result"
    }
   ],
   "source": [
    "#new one\n",
    "cascade_hybrid_recss(\"Wuthering Heights\", gbx_hybrid, n_recommendations=5)"
   ]
  },
  {
   "cell_type": "code",
   "execution_count": 83,
   "metadata": {},
   "outputs": [
    {
     "name": "stdout",
     "output_type": "stream",
     "text": [
      "Your query:-\n",
      "Query: The Hunger Games\n",
      "Genres: Star Wars, Science Fiction, Fiction, Fantasy, Adventure, Space Opera, Science Fiction Fantasy\n",
      "                                               Title            Author  \\\n",
      "0                                Lost Queen of Egypt   Lucile Morrison   \n",
      "1  Chicago: With the Chicago Tribune Articles Tha...   Maurine Watkins   \n",
      "2   Harry Potter and the Chamber of Secrets (Book 2)     J. K. Rowling   \n",
      "3  Harry Potter and the Prisoner of Azkaban (Book 3)     J. K. Rowling   \n",
      "4                Principles of Instrumental Analysis  Douglas A. Skoog   \n",
      "5                      The Oxford Companion to Chess      David Hooper   \n",
      "6               The Cartoon Guide to the Environment      Larry Gonick   \n",
      "7                                The Book of the Sun        Tom Folley   \n",
      "8                             Han Solo at Stars' End             Daley   \n",
      "9                           Empire Strikes Back Wars     Donald F Glut   \n",
      "\n",
      "                                              Genres  \n",
      "0  Historical Fiction, Egypt, Fiction, Historical...  \n",
      "1                                     Plays, Theatre  \n",
      "2  Fantasy, Fiction, Young Adult, Magic, Children...  \n",
      "3  Fantasy, Fiction, Young Adult, Magic, Children...  \n",
      "4  Chemistry, Science, Nonfiction, Textbooks, Ref...  \n",
      "5                Chess, Reference, Nonfiction, Games  \n",
      "6  Science, Nonfiction, Comics, Environment, Grap...  \n",
      "7  Fantasy, Science Fiction, Fiction, Science Fic...  \n",
      "8  Star Wars, Science Fiction, Fiction, Space Ope...  \n",
      "9  Star Wars, Science Fiction, Fiction, Fantasy, ...  \n"
     ]
    },
    {
     "data": {
      "text/html": [
       "<div>\n",
       "<style scoped>\n",
       "    .dataframe tbody tr th:only-of-type {\n",
       "        vertical-align: middle;\n",
       "    }\n",
       "\n",
       "    .dataframe tbody tr th {\n",
       "        vertical-align: top;\n",
       "    }\n",
       "\n",
       "    .dataframe thead th {\n",
       "        text-align: right;\n",
       "    }\n",
       "</style>\n",
       "<table border=\"1\" class=\"dataframe\">\n",
       "  <thead>\n",
       "    <tr style=\"text-align: right;\">\n",
       "      <th></th>\n",
       "      <th>Title</th>\n",
       "      <th>Author</th>\n",
       "      <th>Genres</th>\n",
       "      <th>Cosine Similarity</th>\n",
       "    </tr>\n",
       "  </thead>\n",
       "  <tbody>\n",
       "    <tr>\n",
       "      <th>8</th>\n",
       "      <td>Han Solo at Stars' End</td>\n",
       "      <td>Daley</td>\n",
       "      <td>Star Wars, Science Fiction, Fiction, Space Ope...</td>\n",
       "      <td>1.000000</td>\n",
       "    </tr>\n",
       "    <tr>\n",
       "      <th>9</th>\n",
       "      <td>Empire Strikes Back Wars</td>\n",
       "      <td>Donald F Glut</td>\n",
       "      <td>Star Wars, Science Fiction, Fiction, Fantasy, ...</td>\n",
       "      <td>1.000000</td>\n",
       "    </tr>\n",
       "    <tr>\n",
       "      <th>7</th>\n",
       "      <td>The Book of the Sun</td>\n",
       "      <td>Tom Folley</td>\n",
       "      <td>Fantasy, Science Fiction, Fiction, Science Fic...</td>\n",
       "      <td>0.664955</td>\n",
       "    </tr>\n",
       "    <tr>\n",
       "      <th>2</th>\n",
       "      <td>Harry Potter and the Chamber of Secrets (Book 2)</td>\n",
       "      <td>J. K. Rowling</td>\n",
       "      <td>Fantasy, Fiction, Young Adult, Magic, Children...</td>\n",
       "      <td>0.218845</td>\n",
       "    </tr>\n",
       "    <tr>\n",
       "      <th>3</th>\n",
       "      <td>Harry Potter and the Prisoner of Azkaban (Book 3)</td>\n",
       "      <td>J. K. Rowling</td>\n",
       "      <td>Fantasy, Fiction, Young Adult, Magic, Children...</td>\n",
       "      <td>0.218845</td>\n",
       "    </tr>\n",
       "  </tbody>\n",
       "</table>\n",
       "</div>"
      ],
      "text/plain": [
       "                                               Title         Author  \\\n",
       "8                             Han Solo at Stars' End          Daley   \n",
       "9                           Empire Strikes Back Wars  Donald F Glut   \n",
       "7                                The Book of the Sun     Tom Folley   \n",
       "2   Harry Potter and the Chamber of Secrets (Book 2)  J. K. Rowling   \n",
       "3  Harry Potter and the Prisoner of Azkaban (Book 3)  J. K. Rowling   \n",
       "\n",
       "                                              Genres  Cosine Similarity  \n",
       "8  Star Wars, Science Fiction, Fiction, Space Ope...           1.000000  \n",
       "9  Star Wars, Science Fiction, Fiction, Fantasy, ...           1.000000  \n",
       "7  Fantasy, Science Fiction, Fiction, Science Fic...           0.664955  \n",
       "2  Fantasy, Fiction, Young Adult, Magic, Children...           0.218845  \n",
       "3  Fantasy, Fiction, Young Adult, Magic, Children...           0.218845  "
      ]
     },
     "execution_count": 83,
     "metadata": {},
     "output_type": "execute_result"
    }
   ],
   "source": [
    "cascade_hybrid_recss(\"The Hunger Games\", bx_hybrid, type=\"Genres\", n_recommendations=5)"
   ]
  },
  {
   "cell_type": "code",
   "execution_count": 84,
   "metadata": {},
   "outputs": [
    {
     "name": "stdout",
     "output_type": "stream",
     "text": [
      "Your query:-\n",
      "Query: The Hunger Games\n",
      "Genres: Fantasy, Graphic Novels, Comics, Fiction, Adult, Graphic Novels Comics, Adventure\n",
      "                                 Title  \\\n",
      "0                            Aftermath   \n",
      "1            Star Wars: Darth Plagueis   \n",
      "2                   Green Eggs and Ham   \n",
      "3               The Return of the King   \n",
      "4                To Kill a Mockingbird   \n",
      "5                 Nineteen Eighty-Four   \n",
      "6           The Sandman: A Game of You   \n",
      "7  The Sandman: Fables and Reflections   \n",
      "8                     Prince of Thorns   \n",
      "9                   The Blinding Knife   \n",
      "\n",
      "                                              Author  \\\n",
      "0                                       Chuck Wendig   \n",
      "1                                       James Luceno   \n",
      "2                         Dr. Seuss, ××× × ×××¨   \n",
      "3                                     J.R.R. Tolkien   \n",
      "4                                         Harper Lee   \n",
      "5          George Orwell, Erich Fromm, CelÃ¢l Ãster   \n",
      "6  Neil Gaiman, Shawn McManus, Colleen Doran, Bry...   \n",
      "7  Neil Gaiman, Bryan Talbot, Stan Woch, P. Craig...   \n",
      "8                                     Mark  Lawrence   \n",
      "9                                        Brent Weeks   \n",
      "\n",
      "                                              Genres  \n",
      "0  Nonfiction, Memoir, True Crime, Biography, Aud...  \n",
      "1  Star Wars, Science Fiction, Fiction, Fantasy, ...  \n",
      "2  Childrens, Picture Books, Classics, Fiction, P...  \n",
      "3  Fantasy, Fiction, Adventure, Classics, High Fa...  \n",
      "4  Classics, Fiction, Historical Fiction, School,...  \n",
      "5  Classics, Fiction, Science Fiction, Dystopia, ...  \n",
      "6  Graphic Novels, Comics, Fantasy, Fiction, Horr...  \n",
      "7  Graphic Novels, Fantasy, Fiction, Graphic Nove...  \n",
      "8  Fantasy, Fiction, Dark Fantasy, Epic Fantasy, ...  \n",
      "9  Fantasy, Fiction, Epic Fantasy, High Fantasy, ...  \n"
     ]
    },
    {
     "data": {
      "text/html": [
       "<div>\n",
       "<style scoped>\n",
       "    .dataframe tbody tr th:only-of-type {\n",
       "        vertical-align: middle;\n",
       "    }\n",
       "\n",
       "    .dataframe tbody tr th {\n",
       "        vertical-align: top;\n",
       "    }\n",
       "\n",
       "    .dataframe thead th {\n",
       "        text-align: right;\n",
       "    }\n",
       "</style>\n",
       "<table border=\"1\" class=\"dataframe\">\n",
       "  <thead>\n",
       "    <tr style=\"text-align: right;\">\n",
       "      <th></th>\n",
       "      <th>Title</th>\n",
       "      <th>Author</th>\n",
       "      <th>Genres</th>\n",
       "      <th>Cosine Similarity</th>\n",
       "    </tr>\n",
       "  </thead>\n",
       "  <tbody>\n",
       "    <tr>\n",
       "      <th>9</th>\n",
       "      <td>The Blinding Knife</td>\n",
       "      <td>Brent Weeks</td>\n",
       "      <td>Fantasy, Fiction, Epic Fantasy, High Fantasy, ...</td>\n",
       "      <td>1.000000</td>\n",
       "    </tr>\n",
       "    <tr>\n",
       "      <th>3</th>\n",
       "      <td>The Return of the King</td>\n",
       "      <td>J.R.R. Tolkien</td>\n",
       "      <td>Fantasy, Fiction, Adventure, Classics, High Fa...</td>\n",
       "      <td>0.684166</td>\n",
       "    </tr>\n",
       "    <tr>\n",
       "      <th>8</th>\n",
       "      <td>Prince of Thorns</td>\n",
       "      <td>Mark  Lawrence</td>\n",
       "      <td>Fantasy, Fiction, Dark Fantasy, Epic Fantasy, ...</td>\n",
       "      <td>0.580486</td>\n",
       "    </tr>\n",
       "    <tr>\n",
       "      <th>1</th>\n",
       "      <td>Star Wars: Darth Plagueis</td>\n",
       "      <td>James Luceno</td>\n",
       "      <td>Star Wars, Science Fiction, Fiction, Fantasy, ...</td>\n",
       "      <td>0.244153</td>\n",
       "    </tr>\n",
       "    <tr>\n",
       "      <th>2</th>\n",
       "      <td>Green Eggs and Ham</td>\n",
       "      <td>Dr. Seuss, ××× × ×××¨</td>\n",
       "      <td>Childrens, Picture Books, Classics, Fiction, P...</td>\n",
       "      <td>0.141021</td>\n",
       "    </tr>\n",
       "  </tbody>\n",
       "</table>\n",
       "</div>"
      ],
      "text/plain": [
       "                       Title                      Author  \\\n",
       "9         The Blinding Knife                 Brent Weeks   \n",
       "3     The Return of the King              J.R.R. Tolkien   \n",
       "8           Prince of Thorns              Mark  Lawrence   \n",
       "1  Star Wars: Darth Plagueis                James Luceno   \n",
       "2         Green Eggs and Ham  Dr. Seuss, ××× × ×××¨   \n",
       "\n",
       "                                              Genres  Cosine Similarity  \n",
       "9  Fantasy, Fiction, Epic Fantasy, High Fantasy, ...           1.000000  \n",
       "3  Fantasy, Fiction, Adventure, Classics, High Fa...           0.684166  \n",
       "8  Fantasy, Fiction, Dark Fantasy, Epic Fantasy, ...           0.580486  \n",
       "1  Star Wars, Science Fiction, Fiction, Fantasy, ...           0.244153  \n",
       "2  Childrens, Picture Books, Classics, Fiction, P...           0.141021  "
      ]
     },
     "execution_count": 84,
     "metadata": {},
     "output_type": "execute_result"
    }
   ],
   "source": [
    "#new one\n",
    "cascade_hybrid_recss(\"The Hunger Games\", gbx_hybrid, type=\"Genres\", n_recommendations=5)"
   ]
  },
  {
   "cell_type": "code",
   "execution_count": 87,
   "metadata": {},
   "outputs": [
    {
     "name": "stdout",
     "output_type": "stream",
     "text": [
      "Your query:-\n",
      "Query: The Kite Runner\n",
      "Genres: Fantasy, Young Adult, Fiction, Magic, Adventure, Young Adult Fantasy, Romance\n"
     ]
    },
    {
     "data": {
      "text/html": [
       "<div>\n",
       "<style scoped>\n",
       "    .dataframe tbody tr th:only-of-type {\n",
       "        vertical-align: middle;\n",
       "    }\n",
       "\n",
       "    .dataframe tbody tr th {\n",
       "        vertical-align: top;\n",
       "    }\n",
       "\n",
       "    .dataframe thead th {\n",
       "        text-align: right;\n",
       "    }\n",
       "</style>\n",
       "<table border=\"1\" class=\"dataframe\">\n",
       "  <thead>\n",
       "    <tr style=\"text-align: right;\">\n",
       "      <th></th>\n",
       "      <th>Title</th>\n",
       "      <th>Author</th>\n",
       "      <th>Genres</th>\n",
       "      <th>Cosine Similarity</th>\n",
       "    </tr>\n",
       "  </thead>\n",
       "  <tbody>\n",
       "    <tr>\n",
       "      <th>9</th>\n",
       "      <td>Wild Magic (Immortals, #1)</td>\n",
       "      <td>Tamora Pierce</td>\n",
       "      <td>Fantasy, Young Adult, Fiction, Magic, Young Ad...</td>\n",
       "      <td>1.000000</td>\n",
       "    </tr>\n",
       "    <tr>\n",
       "      <th>8</th>\n",
       "      <td>Lioness Rampant</td>\n",
       "      <td>Tamora Pierce</td>\n",
       "      <td>Fantasy, Young Adult, Fiction, Magic, Young Ad...</td>\n",
       "      <td>0.844421</td>\n",
       "    </tr>\n",
       "    <tr>\n",
       "      <th>5</th>\n",
       "      <td>Prince Caspian: The Return to Narnia</td>\n",
       "      <td>C.S. Lewis</td>\n",
       "      <td>Fantasy, Fiction, Classics, Young Adult, Child...</td>\n",
       "      <td>0.481540</td>\n",
       "    </tr>\n",
       "    <tr>\n",
       "      <th>4</th>\n",
       "      <td>The magician's nephew</td>\n",
       "      <td>C.S. Lewis</td>\n",
       "      <td>Fantasy, Fiction, Young Adult, Childrens, Midd...</td>\n",
       "      <td>0.455649</td>\n",
       "    </tr>\n",
       "    <tr>\n",
       "      <th>1</th>\n",
       "      <td>Oh, the Places You'll Go!</td>\n",
       "      <td>Dr. Seuss</td>\n",
       "      <td>Childrens, Picture Books, Fiction, Classics, P...</td>\n",
       "      <td>0.382951</td>\n",
       "    </tr>\n",
       "  </tbody>\n",
       "</table>\n",
       "</div>"
      ],
      "text/plain": [
       "                                  Title         Author  \\\n",
       "9            Wild Magic (Immortals, #1)  Tamora Pierce   \n",
       "8                       Lioness Rampant  Tamora Pierce   \n",
       "5  Prince Caspian: The Return to Narnia     C.S. Lewis   \n",
       "4                 The magician's nephew     C.S. Lewis   \n",
       "1             Oh, the Places You'll Go!      Dr. Seuss   \n",
       "\n",
       "                                              Genres  Cosine Similarity  \n",
       "9  Fantasy, Young Adult, Fiction, Magic, Young Ad...           1.000000  \n",
       "8  Fantasy, Young Adult, Fiction, Magic, Young Ad...           0.844421  \n",
       "5  Fantasy, Fiction, Classics, Young Adult, Child...           0.481540  \n",
       "4  Fantasy, Fiction, Young Adult, Childrens, Midd...           0.455649  \n",
       "1  Childrens, Picture Books, Fiction, Classics, P...           0.382951  "
      ]
     },
     "execution_count": 87,
     "metadata": {},
     "output_type": "execute_result"
    }
   ],
   "source": [
    "#new one\n",
    "cascade_hybrid_recss(\"The Kite Runner\", gbx_hybrid, type=\"Genres\", n_recommendations=5)"
   ]
  },
  {
   "cell_type": "code",
   "execution_count": 96,
   "metadata": {},
   "outputs": [
    {
     "name": "stdout",
     "output_type": "stream",
     "text": [
      "Your query:-\n",
      "Query: The Kite Runner\n",
      "Genres: Classics, Plays, Fiction, Drama, Theatre, 19th Century, Humor\n"
     ]
    },
    {
     "data": {
      "text/html": [
       "<div>\n",
       "<style scoped>\n",
       "    .dataframe tbody tr th:only-of-type {\n",
       "        vertical-align: middle;\n",
       "    }\n",
       "\n",
       "    .dataframe tbody tr th {\n",
       "        vertical-align: top;\n",
       "    }\n",
       "\n",
       "    .dataframe thead th {\n",
       "        text-align: right;\n",
       "    }\n",
       "</style>\n",
       "<table border=\"1\" class=\"dataframe\">\n",
       "  <thead>\n",
       "    <tr style=\"text-align: right;\">\n",
       "      <th></th>\n",
       "      <th>Title</th>\n",
       "      <th>Author</th>\n",
       "      <th>Genres</th>\n",
       "      <th>Cosine Similarity</th>\n",
       "    </tr>\n",
       "  </thead>\n",
       "  <tbody>\n",
       "    <tr>\n",
       "      <th>9</th>\n",
       "      <td>The Canterville Ghost</td>\n",
       "      <td>Oscar Wilde, Inga Moore</td>\n",
       "      <td>Classics, Fiction, Short Stories, Horror, Fant...</td>\n",
       "      <td>1.000000</td>\n",
       "    </tr>\n",
       "    <tr>\n",
       "      <th>7</th>\n",
       "      <td>Put Me in the Zoo</td>\n",
       "      <td>Robert Lopshire</td>\n",
       "      <td>Picture Books, Childrens, Fiction, Animals, Cl...</td>\n",
       "      <td>0.215139</td>\n",
       "    </tr>\n",
       "    <tr>\n",
       "      <th>8</th>\n",
       "      <td>An Ideal Husband</td>\n",
       "      <td>Oscar Wilde</td>\n",
       "      <td>Classics, Plays, Fiction, Drama, Humor, 19th C...</td>\n",
       "      <td>0.187767</td>\n",
       "    </tr>\n",
       "    <tr>\n",
       "      <th>6</th>\n",
       "      <td>The Cat in the Hat and Other Dr. Seuss Favorites</td>\n",
       "      <td>Dr. Seuss, Various</td>\n",
       "      <td>Childrens, Picture Books, Classics, Fiction, P...</td>\n",
       "      <td>0.179077</td>\n",
       "    </tr>\n",
       "    <tr>\n",
       "      <th>1</th>\n",
       "      <td>The House at Pooh Corner</td>\n",
       "      <td>A.A. Milne, Ernest H. Shepard</td>\n",
       "      <td>Classics, Childrens, Fiction, Fantasy, Animals...</td>\n",
       "      <td>0.176937</td>\n",
       "    </tr>\n",
       "  </tbody>\n",
       "</table>\n",
       "</div>"
      ],
      "text/plain": [
       "                                              Title  \\\n",
       "9                             The Canterville Ghost   \n",
       "7                                 Put Me in the Zoo   \n",
       "8                                  An Ideal Husband   \n",
       "6  The Cat in the Hat and Other Dr. Seuss Favorites   \n",
       "1                          The House at Pooh Corner   \n",
       "\n",
       "                          Author  \\\n",
       "9        Oscar Wilde, Inga Moore   \n",
       "7                Robert Lopshire   \n",
       "8                    Oscar Wilde   \n",
       "6             Dr. Seuss, Various   \n",
       "1  A.A. Milne, Ernest H. Shepard   \n",
       "\n",
       "                                              Genres  Cosine Similarity  \n",
       "9  Classics, Fiction, Short Stories, Horror, Fant...           1.000000  \n",
       "7  Picture Books, Childrens, Fiction, Animals, Cl...           0.215139  \n",
       "8  Classics, Plays, Fiction, Drama, Humor, 19th C...           0.187767  \n",
       "6  Childrens, Picture Books, Classics, Fiction, P...           0.179077  \n",
       "1  Classics, Childrens, Fiction, Fantasy, Animals...           0.176937  "
      ]
     },
     "execution_count": 96,
     "metadata": {},
     "output_type": "execute_result"
    }
   ],
   "source": [
    "cascade_hybrid_recss(\"The Kite Runner\", gbx_hybrid, type=\"combined\", n_recommendations=5)"
   ]
  },
  {
   "cell_type": "code",
   "execution_count": 100,
   "metadata": {},
   "outputs": [
    {
     "name": "stdout",
     "output_type": "stream",
     "text": [
      "Your query:-\n",
      "Query: The Kite Runner\n",
      "Genres: Classics, Plays, Fiction, Drama, Theatre, 19th Century, Humor\n"
     ]
    },
    {
     "data": {
      "text/html": [
       "<div>\n",
       "<style scoped>\n",
       "    .dataframe tbody tr th:only-of-type {\n",
       "        vertical-align: middle;\n",
       "    }\n",
       "\n",
       "    .dataframe tbody tr th {\n",
       "        vertical-align: top;\n",
       "    }\n",
       "\n",
       "    .dataframe thead th {\n",
       "        text-align: right;\n",
       "    }\n",
       "</style>\n",
       "<table border=\"1\" class=\"dataframe\">\n",
       "  <thead>\n",
       "    <tr style=\"text-align: right;\">\n",
       "      <th></th>\n",
       "      <th>Title</th>\n",
       "      <th>Author</th>\n",
       "      <th>Genres</th>\n",
       "      <th>Cosine Similarity</th>\n",
       "    </tr>\n",
       "  </thead>\n",
       "  <tbody>\n",
       "    <tr>\n",
       "      <th>9</th>\n",
       "      <td>The Canterville Ghost</td>\n",
       "      <td>Oscar Wilde, Inga Moore</td>\n",
       "      <td>Classics, Fiction, Short Stories, Horror, Fant...</td>\n",
       "      <td>1.000000</td>\n",
       "    </tr>\n",
       "    <tr>\n",
       "      <th>7</th>\n",
       "      <td>Put Me in the Zoo</td>\n",
       "      <td>Robert Lopshire</td>\n",
       "      <td>Picture Books, Childrens, Fiction, Animals, Cl...</td>\n",
       "      <td>0.215139</td>\n",
       "    </tr>\n",
       "    <tr>\n",
       "      <th>8</th>\n",
       "      <td>An Ideal Husband</td>\n",
       "      <td>Oscar Wilde</td>\n",
       "      <td>Classics, Plays, Fiction, Drama, Humor, 19th C...</td>\n",
       "      <td>0.187767</td>\n",
       "    </tr>\n",
       "    <tr>\n",
       "      <th>6</th>\n",
       "      <td>The Cat in the Hat and Other Dr. Seuss Favorites</td>\n",
       "      <td>Dr. Seuss, Various</td>\n",
       "      <td>Childrens, Picture Books, Classics, Fiction, P...</td>\n",
       "      <td>0.179077</td>\n",
       "    </tr>\n",
       "    <tr>\n",
       "      <th>1</th>\n",
       "      <td>The House at Pooh Corner</td>\n",
       "      <td>A.A. Milne, Ernest H. Shepard</td>\n",
       "      <td>Classics, Childrens, Fiction, Fantasy, Animals...</td>\n",
       "      <td>0.176937</td>\n",
       "    </tr>\n",
       "  </tbody>\n",
       "</table>\n",
       "</div>"
      ],
      "text/plain": [
       "                                              Title  \\\n",
       "9                             The Canterville Ghost   \n",
       "7                                 Put Me in the Zoo   \n",
       "8                                  An Ideal Husband   \n",
       "6  The Cat in the Hat and Other Dr. Seuss Favorites   \n",
       "1                          The House at Pooh Corner   \n",
       "\n",
       "                          Author  \\\n",
       "9        Oscar Wilde, Inga Moore   \n",
       "7                Robert Lopshire   \n",
       "8                    Oscar Wilde   \n",
       "6             Dr. Seuss, Various   \n",
       "1  A.A. Milne, Ernest H. Shepard   \n",
       "\n",
       "                                              Genres  Cosine Similarity  \n",
       "9  Classics, Fiction, Short Stories, Horror, Fant...           1.000000  \n",
       "7  Picture Books, Childrens, Fiction, Animals, Cl...           0.215139  \n",
       "8  Classics, Plays, Fiction, Drama, Humor, 19th C...           0.187767  \n",
       "6  Childrens, Picture Books, Classics, Fiction, P...           0.179077  \n",
       "1  Classics, Childrens, Fiction, Fantasy, Animals...           0.176937  "
      ]
     },
     "execution_count": 100,
     "metadata": {},
     "output_type": "execute_result"
    }
   ],
   "source": [
    "cascade_hybrid_recss(\"The Kite Runner\", gbx_hybrid, type=\"combined\", n_recommendations=5)"
   ]
  },
  {
   "cell_type": "markdown",
   "metadata": {},
   "source": [
    "# Weighted Hybrid"
   ]
  },
  {
   "cell_type": "code",
   "execution_count": 142,
   "metadata": {},
   "outputs": [],
   "source": [
    "def weighted_hybrid_recommendations(query, df, type=\"combined\", n_recommendations=5, content_weight=0.5, cf_weight=0.5):\n",
    "    # Adjust the number of recommendations fetched from each model to account for overlaps\n",
    "    n_content = int(n_recommendations * (content_weight / (content_weight + cf_weight)))\n",
    "    n_cf = n_recommendations - n_content\n",
    "    \n",
    "    # Select the appropriate DataFrame based on df_identifier\n",
    "    if 'BookID' in df.columns:\n",
    "        df_content = gbx_content\n",
    "        df_cf = gbx_cf\n",
    "    else:\n",
    "        df_content = bx_content\n",
    "        df_cf = bx_cf\n",
    "\n",
    "    if type.lower() == \"title\":\n",
    "        cont_type = \"title\"\n",
    "        cf_type = \"title\"\n",
    "    elif type.lower() == \"author\":\n",
    "        cont_type = \"author\"\n",
    "        cf_type = \"title\"\n",
    "    elif type.lower() == \"genres\":\n",
    "        cont_type = \"genres\"\n",
    "        cf_type = \"genres\"\n",
    "    elif type.lower() == \"combined\":\n",
    "        cont_type = \"combined\"\n",
    "        cf_type = \"title\"\n",
    "    \n",
    "    # Get recommendations from content-based model\n",
    "    content_recs = content_based_recommendations(query, df_content, type = cont_type, n_recommendations=n_content)\n",
    "    \n",
    "    # Get recommendations from collaborative filtering model\n",
    "    cf_recs = collaborative_recommendations(query, df_cf, type = cf_type, n_recommendations=n_cf)\n",
    "    # cf_recs = collaborative_recommendations(book_title, df_cf, type=\"genres\", n_recommendations=n_cf)\n",
    "    \n",
    "    # Combine recommendations\n",
    "    combined_recs = pd.concat([content_recs, cf_recs]).drop_duplicates(subset=['Title', 'Author'])\n",
    "    # print(combined_recs)\n",
    "    \n",
    "\n",
    "    combined_recommendations = cosine_sim(combined_recs, book_title=query)  # Calculate cosine similarity\n",
    "    sorted_recommendations = combined_recommendations.sort_values(by='Cosine Similarity', ascending=False)\n",
    "    top_recommendations = sorted_recommendations.head(n_recommendations).reset_index(drop=True)\n",
    "    final_recs = top_recommendations.loc[:, ['Title', 'Author', 'Genres']]\n",
    "    return final_recs\n",
    "\n",
    "\n",
    "\n",
    "\n",
    "    # # If there are more recommendations than needed, prioritize content-based recommendations\n",
    "    # if len(combined_recs) > n_recommendations:\n",
    "    #     combined_recs = combined_recs.head(n_recommendations)\n",
    "    \n",
    "    # return combined_recs.reset_index(drop=True)\n"
   ]
  },
  {
   "cell_type": "code",
   "execution_count": 83,
   "metadata": {},
   "outputs": [
    {
     "name": "stdout",
     "output_type": "stream",
     "text": [
      "Your query:-\n",
      "Query: Fifty Shades of Grey\n",
      "Genres: Fiction, Contemporary, British Literature, Novels, LGBT, Coming Of Age, 20th Century\n"
     ]
    },
    {
     "data": {
      "text/html": [
       "<div>\n",
       "<style scoped>\n",
       "    .dataframe tbody tr th:only-of-type {\n",
       "        vertical-align: middle;\n",
       "    }\n",
       "\n",
       "    .dataframe tbody tr th {\n",
       "        vertical-align: top;\n",
       "    }\n",
       "\n",
       "    .dataframe thead th {\n",
       "        text-align: right;\n",
       "    }\n",
       "</style>\n",
       "<table border=\"1\" class=\"dataframe\">\n",
       "  <thead>\n",
       "    <tr style=\"text-align: right;\">\n",
       "      <th></th>\n",
       "      <th>Title</th>\n",
       "      <th>Author</th>\n",
       "      <th>Genres</th>\n",
       "      <th>Cosine Similarity</th>\n",
       "    </tr>\n",
       "  </thead>\n",
       "  <tbody>\n",
       "    <tr>\n",
       "      <th>8800</th>\n",
       "      <td>Fifty Shades Freed</td>\n",
       "      <td>E.L. James</td>\n",
       "      <td>Romance, Erotica, Fiction, BDSM, Adult, Contem...</td>\n",
       "      <td>1.000000</td>\n",
       "    </tr>\n",
       "    <tr>\n",
       "      <th>9100</th>\n",
       "      <td>Fifty Shades Darker</td>\n",
       "      <td>E.L. James</td>\n",
       "      <td>Romance, Fiction, Erotica, BDSM, Adult, Contem...</td>\n",
       "      <td>1.000000</td>\n",
       "    </tr>\n",
       "    <tr>\n",
       "      <th>0</th>\n",
       "      <td>What I Loved</td>\n",
       "      <td>Siri Hustvedt</td>\n",
       "      <td>Fiction, Contemporary, Art, Literary Fiction, ...</td>\n",
       "      <td>0.166593</td>\n",
       "    </tr>\n",
       "    <tr>\n",
       "      <th>3800</th>\n",
       "      <td>Eat, pray, love: one woman's search for everyt...</td>\n",
       "      <td>Elizabeth Gilbert</td>\n",
       "      <td>Nonfiction, Memoir, Travel, Biography, Romance...</td>\n",
       "      <td>0.142316</td>\n",
       "    </tr>\n",
       "    <tr>\n",
       "      <th>1</th>\n",
       "      <td>The Buddha of Suburbia</td>\n",
       "      <td>Hanif Kureishi</td>\n",
       "      <td>Fiction, Contemporary, British Literature, Nov...</td>\n",
       "      <td>0.137919</td>\n",
       "    </tr>\n",
       "  </tbody>\n",
       "</table>\n",
       "</div>"
      ],
      "text/plain": [
       "                                                  Title             Author  \\\n",
       "8800                                 Fifty Shades Freed         E.L. James   \n",
       "9100                                Fifty Shades Darker         E.L. James   \n",
       "0                                          What I Loved      Siri Hustvedt   \n",
       "3800  Eat, pray, love: one woman's search for everyt...  Elizabeth Gilbert   \n",
       "1                                The Buddha of Suburbia     Hanif Kureishi   \n",
       "\n",
       "                                                 Genres  Cosine Similarity  \n",
       "8800  Romance, Erotica, Fiction, BDSM, Adult, Contem...           1.000000  \n",
       "9100  Romance, Fiction, Erotica, BDSM, Adult, Contem...           1.000000  \n",
       "0     Fiction, Contemporary, Art, Literary Fiction, ...           0.166593  \n",
       "3800  Nonfiction, Memoir, Travel, Biography, Romance...           0.142316  \n",
       "1     Fiction, Contemporary, British Literature, Nov...           0.137919  "
      ]
     },
     "execution_count": 83,
     "metadata": {},
     "output_type": "execute_result"
    }
   ],
   "source": [
    "book_title = \"Fifty Shades of Grey\"\n",
    "weighted_hybrid_recommendations(book_title, df = gbx_hybrid, n_recommendations=5)"
   ]
  },
  {
   "cell_type": "code",
   "execution_count": 117,
   "metadata": {},
   "outputs": [
    {
     "name": "stdout",
     "output_type": "stream",
     "text": [
      "Your query:-\n",
      "Query: Fifty Shades Of Grey\n"
     ]
    },
    {
     "data": {
      "text/html": [
       "<div>\n",
       "<style scoped>\n",
       "    .dataframe tbody tr th:only-of-type {\n",
       "        vertical-align: middle;\n",
       "    }\n",
       "\n",
       "    .dataframe tbody tr th {\n",
       "        vertical-align: top;\n",
       "    }\n",
       "\n",
       "    .dataframe thead th {\n",
       "        text-align: right;\n",
       "    }\n",
       "</style>\n",
       "<table border=\"1\" class=\"dataframe\">\n",
       "  <thead>\n",
       "    <tr style=\"text-align: right;\">\n",
       "      <th></th>\n",
       "      <th>Title</th>\n",
       "      <th>Author</th>\n",
       "      <th>Genres</th>\n",
       "      <th>Cosine Similarity</th>\n",
       "    </tr>\n",
       "  </thead>\n",
       "  <tbody>\n",
       "    <tr>\n",
       "      <th>0</th>\n",
       "      <td>Fifty Shades Freed</td>\n",
       "      <td>E.L. James</td>\n",
       "      <td>Romance, Erotica, Fiction, BDSM, Adult, Contem...</td>\n",
       "      <td>1.000000</td>\n",
       "    </tr>\n",
       "    <tr>\n",
       "      <th>1</th>\n",
       "      <td>Fifty Shades Darker</td>\n",
       "      <td>E.L. James</td>\n",
       "      <td>Romance, Fiction, Erotica, BDSM, Adult, Contem...</td>\n",
       "      <td>1.000000</td>\n",
       "    </tr>\n",
       "    <tr>\n",
       "      <th>2</th>\n",
       "      <td>Eat, pray, love: one woman's search for everyt...</td>\n",
       "      <td>Elizabeth Gilbert</td>\n",
       "      <td>Nonfiction, Memoir, Travel, Biography, Romance...</td>\n",
       "      <td>0.130593</td>\n",
       "    </tr>\n",
       "    <tr>\n",
       "      <th>3</th>\n",
       "      <td>A Hat Full of Sky</td>\n",
       "      <td>Terry Pratchett</td>\n",
       "      <td>Fantasy, Fiction, Young Adult, Humor, Children...</td>\n",
       "      <td>0.103518</td>\n",
       "    </tr>\n",
       "    <tr>\n",
       "      <th>4</th>\n",
       "      <td>Words of Radiance</td>\n",
       "      <td>Brandon Sanderson</td>\n",
       "      <td>Fantasy, Fiction, Epic Fantasy, High Fantasy, ...</td>\n",
       "      <td>0.079192</td>\n",
       "    </tr>\n",
       "  </tbody>\n",
       "</table>\n",
       "</div>"
      ],
      "text/plain": [
       "                                               Title             Author  \\\n",
       "0                                 Fifty Shades Freed         E.L. James   \n",
       "1                                Fifty Shades Darker         E.L. James   \n",
       "2  Eat, pray, love: one woman's search for everyt...  Elizabeth Gilbert   \n",
       "3                                  A Hat Full of Sky    Terry Pratchett   \n",
       "4                                  Words of Radiance  Brandon Sanderson   \n",
       "\n",
       "                                              Genres  Cosine Similarity  \n",
       "0  Romance, Erotica, Fiction, BDSM, Adult, Contem...           1.000000  \n",
       "1  Romance, Fiction, Erotica, BDSM, Adult, Contem...           1.000000  \n",
       "2  Nonfiction, Memoir, Travel, Biography, Romance...           0.130593  \n",
       "3  Fantasy, Fiction, Young Adult, Humor, Children...           0.103518  \n",
       "4  Fantasy, Fiction, Epic Fantasy, High Fantasy, ...           0.079192  "
      ]
     },
     "execution_count": 117,
     "metadata": {},
     "output_type": "execute_result"
    }
   ],
   "source": [
    "weighted_hybrid_recommendations(\"Fifty Shades Of Grey\", df=gbx_hybrid, type=\"Genres\", n_recommendations=5)"
   ]
  },
  {
   "cell_type": "code",
   "execution_count": 119,
   "metadata": {},
   "outputs": [
    {
     "name": "stdout",
     "output_type": "stream",
     "text": [
      "Your query:-\n",
      "Query: Fifty Shades Of Grey\n"
     ]
    },
    {
     "data": {
      "text/html": [
       "<div>\n",
       "<style scoped>\n",
       "    .dataframe tbody tr th:only-of-type {\n",
       "        vertical-align: middle;\n",
       "    }\n",
       "\n",
       "    .dataframe tbody tr th {\n",
       "        vertical-align: top;\n",
       "    }\n",
       "\n",
       "    .dataframe thead th {\n",
       "        text-align: right;\n",
       "    }\n",
       "</style>\n",
       "<table border=\"1\" class=\"dataframe\">\n",
       "  <thead>\n",
       "    <tr style=\"text-align: right;\">\n",
       "      <th></th>\n",
       "      <th>Title</th>\n",
       "      <th>Author</th>\n",
       "      <th>Genres</th>\n",
       "      <th>Cosine Similarity</th>\n",
       "    </tr>\n",
       "  </thead>\n",
       "  <tbody>\n",
       "    <tr>\n",
       "      <th>0</th>\n",
       "      <td>Fifty Shades Freed</td>\n",
       "      <td>E.L. James</td>\n",
       "      <td>Romance, Erotica, Fiction, BDSM, Adult, Contem...</td>\n",
       "      <td>1.000000</td>\n",
       "    </tr>\n",
       "    <tr>\n",
       "      <th>1</th>\n",
       "      <td>Fifty Shades Darker</td>\n",
       "      <td>E.L. James</td>\n",
       "      <td>Romance, Fiction, Erotica, BDSM, Adult, Contem...</td>\n",
       "      <td>1.000000</td>\n",
       "    </tr>\n",
       "    <tr>\n",
       "      <th>2</th>\n",
       "      <td>Eat, pray, love: one woman's search for everyt...</td>\n",
       "      <td>Elizabeth Gilbert</td>\n",
       "      <td>Nonfiction, Memoir, Travel, Biography, Romance...</td>\n",
       "      <td>0.130593</td>\n",
       "    </tr>\n",
       "    <tr>\n",
       "      <th>3</th>\n",
       "      <td>A Hat Full of Sky</td>\n",
       "      <td>Terry Pratchett</td>\n",
       "      <td>Fantasy, Fiction, Young Adult, Humor, Children...</td>\n",
       "      <td>0.103518</td>\n",
       "    </tr>\n",
       "    <tr>\n",
       "      <th>4</th>\n",
       "      <td>Words of Radiance</td>\n",
       "      <td>Brandon Sanderson</td>\n",
       "      <td>Fantasy, Fiction, Epic Fantasy, High Fantasy, ...</td>\n",
       "      <td>0.079192</td>\n",
       "    </tr>\n",
       "  </tbody>\n",
       "</table>\n",
       "</div>"
      ],
      "text/plain": [
       "                                               Title             Author  \\\n",
       "0                                 Fifty Shades Freed         E.L. James   \n",
       "1                                Fifty Shades Darker         E.L. James   \n",
       "2  Eat, pray, love: one woman's search for everyt...  Elizabeth Gilbert   \n",
       "3                                  A Hat Full of Sky    Terry Pratchett   \n",
       "4                                  Words of Radiance  Brandon Sanderson   \n",
       "\n",
       "                                              Genres  Cosine Similarity  \n",
       "0  Romance, Erotica, Fiction, BDSM, Adult, Contem...           1.000000  \n",
       "1  Romance, Fiction, Erotica, BDSM, Adult, Contem...           1.000000  \n",
       "2  Nonfiction, Memoir, Travel, Biography, Romance...           0.130593  \n",
       "3  Fantasy, Fiction, Young Adult, Humor, Children...           0.103518  \n",
       "4  Fantasy, Fiction, Epic Fantasy, High Fantasy, ...           0.079192  "
      ]
     },
     "execution_count": 119,
     "metadata": {},
     "output_type": "execute_result"
    }
   ],
   "source": [
    "weighted_hybrid_recommendations(\"Fifty Shades Of Grey\", df=gbx_hybrid, type=\"Genres\", n_recommendations=5)"
   ]
  },
  {
   "cell_type": "code",
   "execution_count": 122,
   "metadata": {},
   "outputs": [
    {
     "name": "stdout",
     "output_type": "stream",
     "text": [
      "Your query:-\n",
      "Query: Fifty Shades Of Grey\n"
     ]
    },
    {
     "data": {
      "text/html": [
       "<div>\n",
       "<style scoped>\n",
       "    .dataframe tbody tr th:only-of-type {\n",
       "        vertical-align: middle;\n",
       "    }\n",
       "\n",
       "    .dataframe tbody tr th {\n",
       "        vertical-align: top;\n",
       "    }\n",
       "\n",
       "    .dataframe thead th {\n",
       "        text-align: right;\n",
       "    }\n",
       "</style>\n",
       "<table border=\"1\" class=\"dataframe\">\n",
       "  <thead>\n",
       "    <tr style=\"text-align: right;\">\n",
       "      <th></th>\n",
       "      <th>Title</th>\n",
       "      <th>Author</th>\n",
       "      <th>Genres</th>\n",
       "      <th>Cosine Similarity</th>\n",
       "    </tr>\n",
       "  </thead>\n",
       "  <tbody>\n",
       "    <tr>\n",
       "      <th>0</th>\n",
       "      <td>Fifty Shades Freed</td>\n",
       "      <td>E.L. James</td>\n",
       "      <td>Romance, Erotica, Fiction, BDSM, Adult, Contem...</td>\n",
       "      <td>1.000000</td>\n",
       "    </tr>\n",
       "    <tr>\n",
       "      <th>1</th>\n",
       "      <td>Fifty Shades Darker</td>\n",
       "      <td>E.L. James</td>\n",
       "      <td>Romance, Fiction, Erotica, BDSM, Adult, Contem...</td>\n",
       "      <td>1.000000</td>\n",
       "    </tr>\n",
       "    <tr>\n",
       "      <th>2</th>\n",
       "      <td>What I Loved</td>\n",
       "      <td>Siri Hustvedt</td>\n",
       "      <td>Fiction, Contemporary, Art, Literary Fiction, ...</td>\n",
       "      <td>0.166593</td>\n",
       "    </tr>\n",
       "    <tr>\n",
       "      <th>3</th>\n",
       "      <td>Eat, pray, love: one woman's search for everyt...</td>\n",
       "      <td>Elizabeth Gilbert</td>\n",
       "      <td>Nonfiction, Memoir, Travel, Biography, Romance...</td>\n",
       "      <td>0.142316</td>\n",
       "    </tr>\n",
       "    <tr>\n",
       "      <th>4</th>\n",
       "      <td>The Buddha of Suburbia</td>\n",
       "      <td>Hanif Kureishi</td>\n",
       "      <td>Fiction, Contemporary, British Literature, Nov...</td>\n",
       "      <td>0.137919</td>\n",
       "    </tr>\n",
       "  </tbody>\n",
       "</table>\n",
       "</div>"
      ],
      "text/plain": [
       "                                               Title             Author  \\\n",
       "0                                 Fifty Shades Freed         E.L. James   \n",
       "1                                Fifty Shades Darker         E.L. James   \n",
       "2                                       What I Loved      Siri Hustvedt   \n",
       "3  Eat, pray, love: one woman's search for everyt...  Elizabeth Gilbert   \n",
       "4                             The Buddha of Suburbia     Hanif Kureishi   \n",
       "\n",
       "                                              Genres  Cosine Similarity  \n",
       "0  Romance, Erotica, Fiction, BDSM, Adult, Contem...           1.000000  \n",
       "1  Romance, Fiction, Erotica, BDSM, Adult, Contem...           1.000000  \n",
       "2  Fiction, Contemporary, Art, Literary Fiction, ...           0.166593  \n",
       "3  Nonfiction, Memoir, Travel, Biography, Romance...           0.142316  \n",
       "4  Fiction, Contemporary, British Literature, Nov...           0.137919  "
      ]
     },
     "execution_count": 122,
     "metadata": {},
     "output_type": "execute_result"
    }
   ],
   "source": [
    "weighted_hybrid_recommendations(\"Fifty Shades Of Grey\", df=gbx_hybrid, type=\"combined\", n_recommendations=5)"
   ]
  },
  {
   "cell_type": "code",
   "execution_count": 81,
   "metadata": {},
   "outputs": [
    {
     "data": {
      "text/html": [
       "<div>\n",
       "<style scoped>\n",
       "    .dataframe tbody tr th:only-of-type {\n",
       "        vertical-align: middle;\n",
       "    }\n",
       "\n",
       "    .dataframe tbody tr th {\n",
       "        vertical-align: top;\n",
       "    }\n",
       "\n",
       "    .dataframe thead th {\n",
       "        text-align: right;\n",
       "    }\n",
       "</style>\n",
       "<table border=\"1\" class=\"dataframe\">\n",
       "  <thead>\n",
       "    <tr style=\"text-align: right;\">\n",
       "      <th></th>\n",
       "      <th>Title</th>\n",
       "      <th>Author</th>\n",
       "      <th>Genres</th>\n",
       "    </tr>\n",
       "  </thead>\n",
       "  <tbody>\n",
       "    <tr>\n",
       "      <th>0</th>\n",
       "      <td>What I Loved</td>\n",
       "      <td>Siri Hustvedt</td>\n",
       "      <td>Fiction, Contemporary, Art, Literary Fiction, ...</td>\n",
       "    </tr>\n",
       "    <tr>\n",
       "      <th>1</th>\n",
       "      <td>90 Minutes in Heaven</td>\n",
       "      <td>Don Piper, Cecil Murphey</td>\n",
       "      <td>Christian, Nonfiction, Religion, Spirituality,...</td>\n",
       "    </tr>\n",
       "    <tr>\n",
       "      <th>2</th>\n",
       "      <td>Les Fleurs du mal</td>\n",
       "      <td>Charles Baudelaire, Richard Howard</td>\n",
       "      <td>Classics, France, Poetry, French Literature, F...</td>\n",
       "    </tr>\n",
       "    <tr>\n",
       "      <th>3</th>\n",
       "      <td>Ben-Hur: A Tale of the Christ</td>\n",
       "      <td>Lew Wallace</td>\n",
       "      <td>Classics, Historical Fiction, Fiction, Christi...</td>\n",
       "    </tr>\n",
       "    <tr>\n",
       "      <th>4</th>\n",
       "      <td>Darkness, Take My Hand</td>\n",
       "      <td>Dennis Lehane</td>\n",
       "      <td>Mystery, Fiction, Crime, Thriller, Mystery Thr...</td>\n",
       "    </tr>\n",
       "  </tbody>\n",
       "</table>\n",
       "</div>"
      ],
      "text/plain": [
       "                           Title                              Author  \\\n",
       "0                   What I Loved                       Siri Hustvedt   \n",
       "1           90 Minutes in Heaven            Don Piper, Cecil Murphey   \n",
       "2              Les Fleurs du mal  Charles Baudelaire, Richard Howard   \n",
       "3  Ben-Hur: A Tale of the Christ                         Lew Wallace   \n",
       "4         Darkness, Take My Hand                       Dennis Lehane   \n",
       "\n",
       "                                              Genres  \n",
       "0  Fiction, Contemporary, Art, Literary Fiction, ...  \n",
       "1  Christian, Nonfiction, Religion, Spirituality,...  \n",
       "2  Classics, France, Poetry, French Literature, F...  \n",
       "3  Classics, Historical Fiction, Fiction, Christi...  \n",
       "4  Mystery, Fiction, Crime, Thriller, Mystery Thr...  "
      ]
     },
     "execution_count": 81,
     "metadata": {},
     "output_type": "execute_result"
    }
   ],
   "source": [
    "book_title = \"Fifty Shades of Grey\"\n",
    "weighted_hybrid_recommendations(book_title, df = gbx_hybrid, n_recommendations=5, content_weight=0.3, cf_weight=0.7)"
   ]
  },
  {
   "cell_type": "code",
   "execution_count": 84,
   "metadata": {},
   "outputs": [
    {
     "data": {
      "text/html": [
       "<div>\n",
       "<style scoped>\n",
       "    .dataframe tbody tr th:only-of-type {\n",
       "        vertical-align: middle;\n",
       "    }\n",
       "\n",
       "    .dataframe tbody tr th {\n",
       "        vertical-align: top;\n",
       "    }\n",
       "\n",
       "    .dataframe thead th {\n",
       "        text-align: right;\n",
       "    }\n",
       "</style>\n",
       "<table border=\"1\" class=\"dataframe\">\n",
       "  <thead>\n",
       "    <tr style=\"text-align: right;\">\n",
       "      <th></th>\n",
       "      <th>Title</th>\n",
       "      <th>Author</th>\n",
       "      <th>Genres</th>\n",
       "    </tr>\n",
       "  </thead>\n",
       "  <tbody>\n",
       "    <tr>\n",
       "      <th>0</th>\n",
       "      <td>What I Loved</td>\n",
       "      <td>Siri Hustvedt</td>\n",
       "      <td>Fiction, Contemporary, Art, Literary Fiction, ...</td>\n",
       "    </tr>\n",
       "    <tr>\n",
       "      <th>1</th>\n",
       "      <td>Fifty Shades Freed</td>\n",
       "      <td>E.L. James</td>\n",
       "      <td>Romance, Erotica, Fiction, BDSM, Adult, Contem...</td>\n",
       "    </tr>\n",
       "    <tr>\n",
       "      <th>2</th>\n",
       "      <td>Fifty Shades Darker</td>\n",
       "      <td>E.L. James</td>\n",
       "      <td>Romance, Fiction, Erotica, BDSM, Adult, Contem...</td>\n",
       "    </tr>\n",
       "    <tr>\n",
       "      <th>3</th>\n",
       "      <td>Deception Point</td>\n",
       "      <td>Dan Brown</td>\n",
       "      <td>Fiction, Thriller, Mystery, Suspense, Mystery ...</td>\n",
       "    </tr>\n",
       "    <tr>\n",
       "      <th>4</th>\n",
       "      <td>Digital Fortress</td>\n",
       "      <td>Dan Brown</td>\n",
       "      <td>Fiction, Thriller, Mystery, Suspense, Mystery ...</td>\n",
       "    </tr>\n",
       "  </tbody>\n",
       "</table>\n",
       "</div>"
      ],
      "text/plain": [
       "                 Title         Author  \\\n",
       "0         What I Loved  Siri Hustvedt   \n",
       "1   Fifty Shades Freed     E.L. James   \n",
       "2  Fifty Shades Darker     E.L. James   \n",
       "3      Deception Point      Dan Brown   \n",
       "4     Digital Fortress      Dan Brown   \n",
       "\n",
       "                                              Genres  \n",
       "0  Fiction, Contemporary, Art, Literary Fiction, ...  \n",
       "1  Romance, Erotica, Fiction, BDSM, Adult, Contem...  \n",
       "2  Romance, Fiction, Erotica, BDSM, Adult, Contem...  \n",
       "3  Fiction, Thriller, Mystery, Suspense, Mystery ...  \n",
       "4  Fiction, Thriller, Mystery, Suspense, Mystery ...  "
      ]
     },
     "execution_count": 84,
     "metadata": {},
     "output_type": "execute_result"
    }
   ],
   "source": [
    "book_title = \"Fifty Shades of Grey\"\n",
    "weighted_hybrid_recommendations(book_title, df = gbx_hybrid, n_recommendations=5, content_weight=0.3, cf_weight=0.7)"
   ]
  },
  {
   "cell_type": "code",
   "execution_count": 174,
   "metadata": {},
   "outputs": [
    {
     "name": "stdout",
     "output_type": "stream",
     "text": [
      "The sparsity level of Goodbooks-10k dataset is 99.98779743746186 %\n"
     ]
    }
   ],
   "source": [
    "# sparsity = 1.0-len(gbx_cf['User_Rating'])/float(gbx_cf['User_Rating'].shape[0]*8195)\n",
    "# print ('The sparsity level of Goodbooks-10k dataset is ' +  str(sparsity*100) + ' %')"
   ]
  },
  {
   "cell_type": "code",
   "execution_count": 177,
   "metadata": {},
   "outputs": [
    {
     "name": "stdout",
     "output_type": "stream",
     "text": [
      "The sparsity level of Book Crossing dataset is 99.99458493528998 %\n"
     ]
    }
   ],
   "source": [
    "# sparsity_bx = 1.0-len(bx_cf['User_Rating'])/float(bx_cf['User_Rating'].shape[0]*18467)\n",
    "# print ('The sparsity level of Book Crossing dataset is ' +  str(sparsity_bx*100) + ' %')"
   ]
  },
  {
   "cell_type": "code",
   "execution_count": null,
   "metadata": {},
   "outputs": [],
   "source": [
    "# def switching_hybrid_recommendations(book_title, df, n_recommendations):\n",
    "    "
   ]
  },
  {
   "cell_type": "code",
   "execution_count": 37,
   "metadata": {},
   "outputs": [],
   "source": [
    "# def popularity_based_recommendations(df, column_type, num_recommendations=5):\n",
    "\n",
    "#     if column_type not in df.columns:\n",
    "#         raise ValueError(f\"Column type '{column_type}' not found in DataFrame.\")\n",
    "    \n",
    "#     # Assuming there's a 'Rating' column to calculate average rating for popularity.\n",
    "#     # If there's no such column, you could count the number of times each item appears as a proxy for popularity.\n",
    "#     if 'Average_Rating' in df.columns:\n",
    "#         # Group by the specified column and calculate the average rating.\n",
    "#         popularity = df.groupby(column_type)['User_Rating'].mean()\n",
    "#     else:\n",
    "#         # Count the occurrences of each item in the specified column.\n",
    "#         popularity = df[column_type].value_counts()\n",
    "\n",
    "#     # book_popularity = df.groupby('cleaned_title')['User_Rating'].count().sort_values(ascending=False).head(n)\n",
    "    \n",
    "#     # Sort the items based on popularity and get the top N items.\n",
    "#     top_items = popularity.nlargest(num_recommendations).index.tolist()\n",
    "    \n",
    "#     # Fetch the details of the top N items.\n",
    "#     # Assuming each item in the specified column is unique in the DataFrame,\n",
    "#     # or you might want to drop duplicates based on the 'column_type' if multiple entries exist.\n",
    "#     recommendations = df[df[column_type].isin(top_items)]\n",
    "    \n",
    "#     # If you want to ensure the order of recommendations matches the order of top_items,\n",
    "#     # this step can be necessary as 'isin' does not guarantee order.\n",
    "#     # recommendations = recommendations.set_index(column_type).reindex(top_items).reset_index()\n",
    "    \n",
    "#     # Depending on the DataFrame structure, you might need to drop duplicates.\n",
    "#     recommendations = recommendations.drop_duplicates(subset='cleaned_title')\n",
    "#     selected_cols = ['Title', 'Author', 'Genres', 'Average_Rating'] \n",
    "#     final_recommendations = df[selected_cols].copy()\n",
    "#     final_recommendations.drop_duplicates(subset='Title')\n",
    "    \n",
    "#     return final_recommendations.head(num_recommendations)\n"
   ]
  },
  {
   "cell_type": "code",
   "execution_count": 125,
   "metadata": {},
   "outputs": [],
   "source": [
    "# popularity_based_recommendations(bx_hybrid, \"Title\", num_recommendations=5)"
   ]
  },
  {
   "cell_type": "code",
   "execution_count": 126,
   "metadata": {},
   "outputs": [],
   "source": [
    "# popularity_based_recommendations(bx_hybrid, \"Title\", num_recommendations=5)"
   ]
  },
  {
   "cell_type": "code",
   "execution_count": 127,
   "metadata": {},
   "outputs": [],
   "source": [
    "# popularity_based_recommendations(gbx_hybrid, \"Title\", num_recommendations=5)"
   ]
  },
  {
   "cell_type": "markdown",
   "metadata": {},
   "source": [
    "# HYBRID MODEL WITH BERT, TFIDF, AND CF FEATURES"
   ]
  },
  {
   "cell_type": "code",
   "execution_count": null,
   "metadata": {},
   "outputs": [],
   "source": [
    "# from sklearn.preprocessing import StandardScaler"
   ]
  },
  {
   "cell_type": "code",
   "execution_count": null,
   "metadata": {},
   "outputs": [],
   "source": [
    "# def compute_combined_features(df, column_type='new_combined'):\n",
    "#     # Computing TF-IDF Features\n",
    "#     tfidf_vectorizer = TfidfVectorizer(max_features=100)  # Adjust max_features as needed\n",
    "#     tfidf_features = tfidf_vectorizer.fit_transform(df[column_type])\n",
    "\n",
    "#     # Concatenating BERT and TF-IDF Features\n",
    "#     bert_features = np.stack(df['combined_embeddings'].to_numpy())  # Use stack for an array of arrays\n",
    "#     combined_features = hstack([bert_features, tfidf_features])\n",
    "\n",
    "#     return combined_features, tfidf_vectorizer"
   ]
  },
  {
   "cell_type": "code",
   "execution_count": null,
   "metadata": {},
   "outputs": [],
   "source": [
    "# def get_cf_features(user_item_matrix):\n",
    "#     # Transpose the user-item matrix to align with the books dimension\n",
    "#     cf_features = user_item_matrix.T.values\n",
    "#     return cf_features"
   ]
  },
  {
   "cell_type": "code",
   "execution_count": null,
   "metadata": {},
   "outputs": [],
   "source": [
    "# def combined_hybrid_recommendations(book_title, df, top_k=5):\n",
    "\n",
    "#     cleaned_query = clean_text(book_title)\n",
    "\n",
    "#     if 'BookID' in df.columns:\n",
    "#         user_item_matrix = user_item_matrix_gbx\n",
    "#     else:\n",
    "#         user_item_matrix = user_item_matrix_bx\n",
    "#     # Compute content-based features\n",
    "#     content_features, tfidf_vectorizer = compute_combined_features(df, 'new_combined')\n",
    "    \n",
    "#     # Compute CF features\n",
    "#     cf_features = get_cf_features(user_item_matrix)\n",
    "    \n",
    "#     # Standardize and combine features\n",
    "#     scaler = StandardScaler()\n",
    "#     combined_features = np.hstack((content_features.toarray(), cf_features)) if not isinstance(content_features, np.ndarray) else np.hstack((content_features, cf_features))\n",
    "#     standardized_features = scaler.fit_transform(combined_features)\n",
    "    \n",
    "#     # Fit k-NN on combined standardized features\n",
    "#     knn_model = NearestNeighbors(n_neighbors=top_k, metric='cosine')\n",
    "#     knn_model.fit(standardized_features)\n",
    "    \n",
    "#     # Transform query to combined feature space\n",
    "#     query_index = df.index[df['cleaned_title']== cleaned_query].tolist()\n",
    "#     if query_index:\n",
    "#         query_index = query_index[0]\n",
    "#         query_feature = standardized_features[query_index].reshape(1, -1)\n",
    "        \n",
    "#         # Find nearest neighbors\n",
    "#         distances, indices = knn_model.kneighbors(query_feature, n_neighbors=top_k+1)\n",
    "        \n",
    "#         # Exclude the query book itself from recommendations\n",
    "#         recommended_indices = indices.flatten()\n",
    "#         recommended_indices = recommended_indices[recommended_indices != query_index][:top_k]  # Adjust to exclude self and limit to top_k\n",
    "        \n",
    "#         # Prepare the recommendation frame\n",
    "#         recommended_books = df.iloc[recommended_indices][['Title', 'Author', 'Genres']]\n",
    "        \n",
    "#         return recommended_books.reset_index(drop=True)\n",
    "#     else:\n",
    "#         return \"Book title not found in the dataset.\""
   ]
  },
  {
   "cell_type": "code",
   "execution_count": null,
   "metadata": {},
   "outputs": [],
   "source": []
  },
  {
   "cell_type": "code",
   "execution_count": 45,
   "metadata": {},
   "outputs": [
    {
     "data": {
      "text/html": [
       "<div>\n",
       "<style scoped>\n",
       "    .dataframe tbody tr th:only-of-type {\n",
       "        vertical-align: middle;\n",
       "    }\n",
       "\n",
       "    .dataframe tbody tr th {\n",
       "        vertical-align: top;\n",
       "    }\n",
       "\n",
       "    .dataframe thead th {\n",
       "        text-align: right;\n",
       "    }\n",
       "</style>\n",
       "<table border=\"1\" class=\"dataframe\">\n",
       "  <thead>\n",
       "    <tr style=\"text-align: right;\">\n",
       "      <th></th>\n",
       "      <th>Title</th>\n",
       "      <th>Author</th>\n",
       "      <th>Genres</th>\n",
       "    </tr>\n",
       "  </thead>\n",
       "  <tbody>\n",
       "    <tr>\n",
       "      <th>500</th>\n",
       "      <td>The Fault in Our Stars</td>\n",
       "      <td>John Green</td>\n",
       "      <td>Young Adult, Fiction, Contemporary, Realistic ...</td>\n",
       "    </tr>\n",
       "    <tr>\n",
       "      <th>1100</th>\n",
       "      <td>Divergent</td>\n",
       "      <td>Veronica Roth</td>\n",
       "      <td>Young Adult, Dystopia, Fantasy, Fiction, Scien...</td>\n",
       "    </tr>\n",
       "    <tr>\n",
       "      <th>6300</th>\n",
       "      <td>The Perks of Being a Wallflower</td>\n",
       "      <td>Stephen Chbosky</td>\n",
       "      <td>Young Adult, Fiction, Coming Of Age, Classics,...</td>\n",
       "    </tr>\n",
       "    <tr>\n",
       "      <th>8000</th>\n",
       "      <td>Paper Towns</td>\n",
       "      <td>John Green</td>\n",
       "      <td>Young Adult, Fiction, Contemporary, Romance, M...</td>\n",
       "    </tr>\n",
       "    <tr>\n",
       "      <th>8300</th>\n",
       "      <td>The Maze Runner</td>\n",
       "      <td>James Dashner</td>\n",
       "      <td>Young Adult, Dystopia, Science Fiction, Fictio...</td>\n",
       "    </tr>\n",
       "  </tbody>\n",
       "</table>\n",
       "</div>"
      ],
      "text/plain": [
       "                                Title           Author  \\\n",
       "500            The Fault in Our Stars       John Green   \n",
       "1100                        Divergent    Veronica Roth   \n",
       "6300  The Perks of Being a Wallflower  Stephen Chbosky   \n",
       "8000                      Paper Towns       John Green   \n",
       "8300                  The Maze Runner    James Dashner   \n",
       "\n",
       "                                                 Genres  \n",
       "500   Young Adult, Fiction, Contemporary, Realistic ...  \n",
       "1100  Young Adult, Dystopia, Fantasy, Fiction, Scien...  \n",
       "6300  Young Adult, Fiction, Coming Of Age, Classics,...  \n",
       "8000  Young Adult, Fiction, Contemporary, Romance, M...  \n",
       "8300  Young Adult, Dystopia, Science Fiction, Fictio...  "
      ]
     },
     "execution_count": 45,
     "metadata": {},
     "output_type": "execute_result"
    }
   ],
   "source": [
    "item_collaborative_recommendations(book_title=\"looking for alaska\", df=gbx_cf, n_recommendations=5)"
   ]
  },
  {
   "cell_type": "code",
   "execution_count": 51,
   "metadata": {},
   "outputs": [
    {
     "name": "stdout",
     "output_type": "stream",
     "text": [
      "Your query:-\n",
      "Query: the problem with forever\n",
      "Genres: Nonfiction, Spirituality, Buddhism, Philosophy, Self Help, Religion, Psychology\n"
     ]
    },
    {
     "data": {
      "text/html": [
       "<div>\n",
       "<style scoped>\n",
       "    .dataframe tbody tr th:only-of-type {\n",
       "        vertical-align: middle;\n",
       "    }\n",
       "\n",
       "    .dataframe tbody tr th {\n",
       "        vertical-align: top;\n",
       "    }\n",
       "\n",
       "    .dataframe thead th {\n",
       "        text-align: right;\n",
       "    }\n",
       "</style>\n",
       "<table border=\"1\" class=\"dataframe\">\n",
       "  <thead>\n",
       "    <tr style=\"text-align: right;\">\n",
       "      <th></th>\n",
       "      <th>Title</th>\n",
       "      <th>Author</th>\n",
       "      <th>Genres</th>\n",
       "    </tr>\n",
       "  </thead>\n",
       "  <tbody>\n",
       "    <tr>\n",
       "      <th>0</th>\n",
       "      <td>The Single Girl's To-Do List</td>\n",
       "      <td>Lindsey Kelk</td>\n",
       "      <td>Chick Lit, Romance, Contemporary, Fiction, Adu...</td>\n",
       "    </tr>\n",
       "    <tr>\n",
       "      <th>1</th>\n",
       "      <td>Bee Season</td>\n",
       "      <td>Myla Goldberg</td>\n",
       "      <td>Fiction, Jewish, Contemporary, Adult Fiction, ...</td>\n",
       "    </tr>\n",
       "    <tr>\n",
       "      <th>2</th>\n",
       "      <td>The Field of Swords (Emperor, #3)</td>\n",
       "      <td>Conn Iggulden</td>\n",
       "      <td>Historical Fiction, Fiction, Historical, War, ...</td>\n",
       "    </tr>\n",
       "    <tr>\n",
       "      <th>3</th>\n",
       "      <td>Brilliance</td>\n",
       "      <td>Marcus Sakey</td>\n",
       "      <td>Thriller, Fiction, Mystery, Action, Espionage,...</td>\n",
       "    </tr>\n",
       "    <tr>\n",
       "      <th>4</th>\n",
       "      <td>The Slap</td>\n",
       "      <td>Christos Tsiolkas</td>\n",
       "      <td>Fiction, Australia, Contemporary, Book Club, N...</td>\n",
       "    </tr>\n",
       "    <tr>\n",
       "      <th>5</th>\n",
       "      <td>The Shop on Blossom Street</td>\n",
       "      <td>Debbie Macomber</td>\n",
       "      <td>Romance, Fiction, Chick Lit, Knitting, Contemp...</td>\n",
       "    </tr>\n",
       "    <tr>\n",
       "      <th>6</th>\n",
       "      <td>Peace Is Every Step: The Path of Mindfulness i...</td>\n",
       "      <td>Thich Nhat Hanh, Arnold Kotler, Dalai Lama XIV</td>\n",
       "      <td>Nonfiction, Spirituality, Buddhism, Philosophy...</td>\n",
       "    </tr>\n",
       "    <tr>\n",
       "      <th>7</th>\n",
       "      <td>Broken prince</td>\n",
       "      <td>Erin Watt</td>\n",
       "      <td>Romance, New Adult, Contemporary, Young Adult,...</td>\n",
       "    </tr>\n",
       "    <tr>\n",
       "      <th>8</th>\n",
       "      <td>After We Collided</td>\n",
       "      <td>Anna Todd</td>\n",
       "      <td>Romance, New Adult, Young Adult, Contemporary,...</td>\n",
       "    </tr>\n",
       "    <tr>\n",
       "      <th>9</th>\n",
       "      <td>Don't Look Back</td>\n",
       "      <td>Jennifer L. Armentrout</td>\n",
       "      <td>Young Adult, Mystery, Contemporary, Romance, T...</td>\n",
       "    </tr>\n",
       "  </tbody>\n",
       "</table>\n",
       "</div>"
      ],
      "text/plain": [
       "                                               Title  \\\n",
       "0                       The Single Girl's To-Do List   \n",
       "1                                         Bee Season   \n",
       "2                  The Field of Swords (Emperor, #3)   \n",
       "3                                         Brilliance   \n",
       "4                                           The Slap   \n",
       "5                         The Shop on Blossom Street   \n",
       "6  Peace Is Every Step: The Path of Mindfulness i...   \n",
       "7                                      Broken prince   \n",
       "8                                  After We Collided   \n",
       "9                                    Don't Look Back   \n",
       "\n",
       "                                           Author  \\\n",
       "0                                    Lindsey Kelk   \n",
       "1                                   Myla Goldberg   \n",
       "2                                   Conn Iggulden   \n",
       "3                                    Marcus Sakey   \n",
       "4                               Christos Tsiolkas   \n",
       "5                                 Debbie Macomber   \n",
       "6  Thich Nhat Hanh, Arnold Kotler, Dalai Lama XIV   \n",
       "7                                       Erin Watt   \n",
       "8                                       Anna Todd   \n",
       "9                          Jennifer L. Armentrout   \n",
       "\n",
       "                                              Genres  \n",
       "0  Chick Lit, Romance, Contemporary, Fiction, Adu...  \n",
       "1  Fiction, Jewish, Contemporary, Adult Fiction, ...  \n",
       "2  Historical Fiction, Fiction, Historical, War, ...  \n",
       "3  Thriller, Fiction, Mystery, Action, Espionage,...  \n",
       "4  Fiction, Australia, Contemporary, Book Club, N...  \n",
       "5  Romance, Fiction, Chick Lit, Knitting, Contemp...  \n",
       "6  Nonfiction, Spirituality, Buddhism, Philosophy...  \n",
       "7  Romance, New Adult, Contemporary, Young Adult,...  \n",
       "8  Romance, New Adult, Young Adult, Contemporary,...  \n",
       "9  Young Adult, Mystery, Contemporary, Romance, T...  "
      ]
     },
     "execution_count": 51,
     "metadata": {},
     "output_type": "execute_result"
    }
   ],
   "source": [
    "weighted_hybrid_recommendations(query=\"the problem with forever\", df=gbx_hybrid, type=\"author\", n_recommendations=10)"
   ]
  },
  {
   "cell_type": "markdown",
   "metadata": {},
   "source": [
    "# DISPLAYING RECOMMENDATIONS"
   ]
  },
  {
   "cell_type": "code",
   "execution_count": 52,
   "metadata": {},
   "outputs": [],
   "source": [
    "import ipywidgets as widgets\n",
    "from IPython.display import display, clear_output"
   ]
  },
  {
   "cell_type": "code",
   "execution_count": 80,
   "metadata": {},
   "outputs": [],
   "source": [
    "def display_book_recommendations():\n",
    "    # Text field input for the query\n",
    "    query_input = widgets.Text(\n",
    "        value='',\n",
    "        placeholder='Enter query',\n",
    "        description='Name:',\n",
    "        disabled=False\n",
    "    )\n",
    "    \n",
    "    # Dropdown to select the recommendation type\n",
    "    rec_model = widgets.Dropdown(\n",
    "        options=['Select', 'Content-Based', 'Collaborative', 'Cascade Hybrid', 'Weighted Hybrid'],\n",
    "        value='Select',\n",
    "        description='Model:',\n",
    "    )\n",
    "\n",
    "    data_frame = widgets.Dropdown(\n",
    "        options = ['Select', 'Book-Crossing', 'Goodbooks-10k'],\n",
    "        value = 'Select',\n",
    "        description = 'Dataset'\n",
    "    )\n",
    "\n",
    "    type_rec = widgets.Dropdown(\n",
    "        options = ['Select', 'Title-based', 'Author-based', 'Genre-based', 'Combined'],\n",
    "        value = 'Select',\n",
    "        description = 'Recommendation Type'\n",
    "    )\n",
    "\n",
    "    num_recs = widgets.Dropdown(\n",
    "        options = ['Select', '1', '2','3','4','5','6','7','8','9','10'],\n",
    "        value = 'Select',\n",
    "        description = 'Number'\n",
    "    )\n",
    "\n",
    "    \n",
    "    # Button to generate recommendations\n",
    "    generate_button = widgets.Button(description=\"Generate Recommendations\")\n",
    "    \n",
    "    # Output widget to display the recommendations\n",
    "    output = widgets.Output()\n",
    "    \n",
    "    def on_generate_button_clicked(b):\n",
    "        with output:\n",
    "            clear_output()\n",
    "            query = query_input.value\n",
    "            model = rec_model.value\n",
    "            dataframe = data_frame.value\n",
    "            rec_type = type_rec.value\n",
    "            n_recommendations = int(num_recs.value)  # You can modify this to be user-selectable as well\n",
    "            # similarity_threshold = 0.02  # Default threshold, adjust as necessary\n",
    "\n",
    "            # recommendations, message = pd.DataFrame(), \"\"\n",
    "            recommendations = pd.DataFrame()\n",
    "            \n",
    "\n",
    "            if query:  # Check if query is not empty\n",
    "\n",
    "                if dataframe == \"Book-Crossing\":\n",
    "                    df = bx_hybrid\n",
    "                elif dataframe == \"Goodbooks-10k\":\n",
    "                    df = gbx_hybrid\n",
    "                \n",
    "                if rec_type == \"Title-based\":\n",
    "                    cont_type = \"title\"\n",
    "                    cf_type = \"title\"\n",
    "                elif rec_type == \"Author-based\":\n",
    "                    cont_type = \"author\"\n",
    "                    cf_type = \"title\"\n",
    "                elif rec_type == \"Genre-based\":\n",
    "                    cont_type = \"genres\"\n",
    "                    cf_type = \"genres\"\n",
    "                elif rec_type == \"Combined\":\n",
    "                    cont_type = \"combined\"\n",
    "                    cf_type = \"title\"\n",
    "\n",
    "\n",
    "                if model == 'Content-Based':\n",
    "                    recommendations = content_based_recommendations(query, df, cont_type, n_recommendations)\n",
    "                elif model == 'Collaborative':  # Collaborative\n",
    "                    recommendations= collaborative_recommendations(query, df, cf_type, n_recommendations)\n",
    "                elif model == 'Cascade Hybrid': \n",
    "                    recommendations = cascade_hybrid_recss(query, df, cont_type, n_recommendations)\n",
    "                elif model == 'Weighted Hybrid': \n",
    "                    recommendations= weighted_hybrid_recommendations(query, df, cont_type, n_recommendations)\n",
    "                else:\n",
    "                    print(\"Please select a valid recommendation model.\")\n",
    "                \n",
    "                if recommendations.empty:\n",
    "                    print(\"No recommendations found\")\n",
    "                else:\n",
    "                    display(recommendations)\n",
    "\n",
    "    \n",
    "    generate_button.on_click(on_generate_button_clicked)\n",
    "    \n",
    "    # Display the widgets\n",
    "    display(query_input, rec_model, data_frame, type_rec, num_recs, generate_button, output)"
   ]
  },
  {
   "cell_type": "code",
   "execution_count": 105,
   "metadata": {},
   "outputs": [
    {
     "data": {
      "application/vnd.jupyter.widget-view+json": {
       "model_id": "aa23a79a7c894c14b3a92a8fed36e9bc",
       "version_major": 2,
       "version_minor": 0
      },
      "text/plain": [
       "Text(value='', description='Name:', placeholder='Enter query')"
      ]
     },
     "metadata": {},
     "output_type": "display_data"
    },
    {
     "data": {
      "application/vnd.jupyter.widget-view+json": {
       "model_id": "b1afa7e60bcf4c76a8886e91754f2947",
       "version_major": 2,
       "version_minor": 0
      },
      "text/plain": [
       "Dropdown(description='Model:', options=('Select', 'Content-Based', 'Collaborative', 'Cascade Hybrid', 'Weighte…"
      ]
     },
     "metadata": {},
     "output_type": "display_data"
    },
    {
     "data": {
      "application/vnd.jupyter.widget-view+json": {
       "model_id": "26a029262d39446db8a145a8dd1c28b4",
       "version_major": 2,
       "version_minor": 0
      },
      "text/plain": [
       "Dropdown(description='Dataset', options=('Select', 'Book-Crossing', 'Goodbooks-10k'), value='Select')"
      ]
     },
     "metadata": {},
     "output_type": "display_data"
    },
    {
     "data": {
      "application/vnd.jupyter.widget-view+json": {
       "model_id": "358d2038b0f54d388892b2da93dbe513",
       "version_major": 2,
       "version_minor": 0
      },
      "text/plain": [
       "Dropdown(description='Recommendation Type', options=('Select', 'Title-based', 'Author-based', 'Genre-based', '…"
      ]
     },
     "metadata": {},
     "output_type": "display_data"
    },
    {
     "data": {
      "application/vnd.jupyter.widget-view+json": {
       "model_id": "01b60078e8a24d2381c3edc1c9d69575",
       "version_major": 2,
       "version_minor": 0
      },
      "text/plain": [
       "Dropdown(description='Number', options=('Select', '1', '2', '3', '4', '5', '6', '7', '8', '9', '10'), value='S…"
      ]
     },
     "metadata": {},
     "output_type": "display_data"
    },
    {
     "data": {
      "application/vnd.jupyter.widget-view+json": {
       "model_id": "8ebebf34bfbd4c86ae64f0fcb37119f8",
       "version_major": 2,
       "version_minor": 0
      },
      "text/plain": [
       "Button(description='Generate Recommendations', style=ButtonStyle())"
      ]
     },
     "metadata": {},
     "output_type": "display_data"
    },
    {
     "data": {
      "application/vnd.jupyter.widget-view+json": {
       "model_id": "b23e04a9e2b248cf9de2a54b3cf89c5f",
       "version_major": 2,
       "version_minor": 0
      },
      "text/plain": [
       "Output()"
      ]
     },
     "metadata": {},
     "output_type": "display_data"
    }
   ],
   "source": [
    "display_book_recommendations()"
   ]
  },
  {
   "cell_type": "code",
   "execution_count": 107,
   "metadata": {},
   "outputs": [
    {
     "data": {
      "application/vnd.jupyter.widget-view+json": {
       "model_id": "0a51f49fa810462d8dac533530ac1172",
       "version_major": 2,
       "version_minor": 0
      },
      "text/plain": [
       "Text(value='', description='Name:', placeholder='Enter query')"
      ]
     },
     "metadata": {},
     "output_type": "display_data"
    },
    {
     "data": {
      "application/vnd.jupyter.widget-view+json": {
       "model_id": "4e139270c2724e3eb35fda2c7d1169b8",
       "version_major": 2,
       "version_minor": 0
      },
      "text/plain": [
       "Dropdown(description='Model:', options=('Select', 'Content-Based', 'Collaborative', 'Cascade Hybrid', 'Weighte…"
      ]
     },
     "metadata": {},
     "output_type": "display_data"
    },
    {
     "data": {
      "application/vnd.jupyter.widget-view+json": {
       "model_id": "7de324e69c9e41109c6e042c2a66d667",
       "version_major": 2,
       "version_minor": 0
      },
      "text/plain": [
       "Dropdown(description='Dataset', options=('Select', 'Book-Crossing', 'Goodbooks-10k'), value='Select')"
      ]
     },
     "metadata": {},
     "output_type": "display_data"
    },
    {
     "data": {
      "application/vnd.jupyter.widget-view+json": {
       "model_id": "5352d14cca9a479788fcf827543e4bde",
       "version_major": 2,
       "version_minor": 0
      },
      "text/plain": [
       "Dropdown(description='Recommendation Type', options=('Select', 'Title-based', 'Author-based', 'Genre-based', '…"
      ]
     },
     "metadata": {},
     "output_type": "display_data"
    },
    {
     "data": {
      "application/vnd.jupyter.widget-view+json": {
       "model_id": "c5d6628f1cfb4e2e922568e61cd3c033",
       "version_major": 2,
       "version_minor": 0
      },
      "text/plain": [
       "Dropdown(description='Number', options=('Select', '1', '2', '3', '4', '5', '6', '7', '8', '9', '10'), value='S…"
      ]
     },
     "metadata": {},
     "output_type": "display_data"
    },
    {
     "data": {
      "application/vnd.jupyter.widget-view+json": {
       "model_id": "c8bd33572f7548f98cab0776c3c3eb6d",
       "version_major": 2,
       "version_minor": 0
      },
      "text/plain": [
       "Button(description='Generate Recommendations', style=ButtonStyle())"
      ]
     },
     "metadata": {},
     "output_type": "display_data"
    },
    {
     "data": {
      "application/vnd.jupyter.widget-view+json": {
       "model_id": "77a8f72a70704c338c9f20fdb97e0e62",
       "version_major": 2,
       "version_minor": 0
      },
      "text/plain": [
       "Output()"
      ]
     },
     "metadata": {},
     "output_type": "display_data"
    }
   ],
   "source": [
    "display_book_recommendations()"
   ]
  },
  {
   "cell_type": "code",
   "execution_count": 111,
   "metadata": {},
   "outputs": [
    {
     "data": {
      "application/vnd.jupyter.widget-view+json": {
       "model_id": "800d04914c5d420e9ae03b02c001b69c",
       "version_major": 2,
       "version_minor": 0
      },
      "text/plain": [
       "Text(value='', description='Name:', placeholder='Enter query')"
      ]
     },
     "metadata": {},
     "output_type": "display_data"
    },
    {
     "data": {
      "application/vnd.jupyter.widget-view+json": {
       "model_id": "04288eba72194448b8162ba9c98bdf46",
       "version_major": 2,
       "version_minor": 0
      },
      "text/plain": [
       "Dropdown(description='Model:', options=('Select', 'Content-Based', 'Collaborative', 'Cascade Hybrid', 'Weighte…"
      ]
     },
     "metadata": {},
     "output_type": "display_data"
    },
    {
     "data": {
      "application/vnd.jupyter.widget-view+json": {
       "model_id": "ddeaefdef0414bd184d5cd23a1cc2d85",
       "version_major": 2,
       "version_minor": 0
      },
      "text/plain": [
       "Dropdown(description='Dataset', options=('Select', 'Book-Crossing', 'Goodbooks-10k'), value='Select')"
      ]
     },
     "metadata": {},
     "output_type": "display_data"
    },
    {
     "data": {
      "application/vnd.jupyter.widget-view+json": {
       "model_id": "ebfa73f1c18c4c558ae5ca45f68eb918",
       "version_major": 2,
       "version_minor": 0
      },
      "text/plain": [
       "Dropdown(description='Recommendation Type', options=('Select', 'Title-based', 'Author-based', 'Genre-based', '…"
      ]
     },
     "metadata": {},
     "output_type": "display_data"
    },
    {
     "data": {
      "application/vnd.jupyter.widget-view+json": {
       "model_id": "fa566bc1fc35420ba565c59c4a535dab",
       "version_major": 2,
       "version_minor": 0
      },
      "text/plain": [
       "Dropdown(description='Number', options=('Select', '1', '2', '3', '4', '5', '6', '7', '8', '9', '10'), value='S…"
      ]
     },
     "metadata": {},
     "output_type": "display_data"
    },
    {
     "data": {
      "application/vnd.jupyter.widget-view+json": {
       "model_id": "b9820a7ce8934dd7a47e3f53b42efa8d",
       "version_major": 2,
       "version_minor": 0
      },
      "text/plain": [
       "Button(description='Generate Recommendations', style=ButtonStyle())"
      ]
     },
     "metadata": {},
     "output_type": "display_data"
    },
    {
     "data": {
      "application/vnd.jupyter.widget-view+json": {
       "model_id": "0baf0442ede4448badb47021ad76ca66",
       "version_major": 2,
       "version_minor": 0
      },
      "text/plain": [
       "Output()"
      ]
     },
     "metadata": {},
     "output_type": "display_data"
    }
   ],
   "source": [
    "display_book_recommendations()"
   ]
  },
  {
   "cell_type": "code",
   "execution_count": 113,
   "metadata": {},
   "outputs": [
    {
     "data": {
      "application/vnd.jupyter.widget-view+json": {
       "model_id": "3c17b32558ca410299007ec5d5ce6436",
       "version_major": 2,
       "version_minor": 0
      },
      "text/plain": [
       "Text(value='', description='Name:', placeholder='Enter query')"
      ]
     },
     "metadata": {},
     "output_type": "display_data"
    },
    {
     "data": {
      "application/vnd.jupyter.widget-view+json": {
       "model_id": "488aa9b469a34cf6906a58632d2aa625",
       "version_major": 2,
       "version_minor": 0
      },
      "text/plain": [
       "Dropdown(description='Model:', options=('Select', 'Content-Based', 'Collaborative', 'Cascade Hybrid', 'Weighte…"
      ]
     },
     "metadata": {},
     "output_type": "display_data"
    },
    {
     "data": {
      "application/vnd.jupyter.widget-view+json": {
       "model_id": "acb2e7a265d6469bba5db08cea138dfc",
       "version_major": 2,
       "version_minor": 0
      },
      "text/plain": [
       "Dropdown(description='Dataset', options=('Select', 'Book-Crossing', 'Goodbooks-10k'), value='Select')"
      ]
     },
     "metadata": {},
     "output_type": "display_data"
    },
    {
     "data": {
      "application/vnd.jupyter.widget-view+json": {
       "model_id": "e7322f5f41ec482b8b1622fabeaa5ae4",
       "version_major": 2,
       "version_minor": 0
      },
      "text/plain": [
       "Dropdown(description='Recommendation Type', options=('Select', 'Title-based', 'Author-based', 'Genre-based', '…"
      ]
     },
     "metadata": {},
     "output_type": "display_data"
    },
    {
     "data": {
      "application/vnd.jupyter.widget-view+json": {
       "model_id": "9cc0753fa0574287aba71e0895ac71a8",
       "version_major": 2,
       "version_minor": 0
      },
      "text/plain": [
       "Dropdown(description='Number', options=('Select', '1', '2', '3', '4', '5', '6', '7', '8', '9', '10'), value='S…"
      ]
     },
     "metadata": {},
     "output_type": "display_data"
    },
    {
     "data": {
      "application/vnd.jupyter.widget-view+json": {
       "model_id": "a82adb98921141c8a874d5775d93ff0d",
       "version_major": 2,
       "version_minor": 0
      },
      "text/plain": [
       "Button(description='Generate Recommendations', style=ButtonStyle())"
      ]
     },
     "metadata": {},
     "output_type": "display_data"
    },
    {
     "data": {
      "application/vnd.jupyter.widget-view+json": {
       "model_id": "26cffa9291af4b1cb60bec9dc1064ca7",
       "version_major": 2,
       "version_minor": 0
      },
      "text/plain": [
       "Output()"
      ]
     },
     "metadata": {},
     "output_type": "display_data"
    }
   ],
   "source": [
    "display_book_recommendations()"
   ]
  },
  {
   "cell_type": "code",
   "execution_count": 115,
   "metadata": {},
   "outputs": [
    {
     "data": {
      "application/vnd.jupyter.widget-view+json": {
       "model_id": "4dab7cf23fdd487781434eb307458303",
       "version_major": 2,
       "version_minor": 0
      },
      "text/plain": [
       "Text(value='', description='Name:', placeholder='Enter query')"
      ]
     },
     "metadata": {},
     "output_type": "display_data"
    },
    {
     "data": {
      "application/vnd.jupyter.widget-view+json": {
       "model_id": "1c97348170d545879584eb1069ead45b",
       "version_major": 2,
       "version_minor": 0
      },
      "text/plain": [
       "Dropdown(description='Model:', options=('Select', 'Content-Based', 'Collaborative', 'Cascade Hybrid', 'Weighte…"
      ]
     },
     "metadata": {},
     "output_type": "display_data"
    },
    {
     "data": {
      "application/vnd.jupyter.widget-view+json": {
       "model_id": "b82b2cd9991a4bd08f877cffd4c878b9",
       "version_major": 2,
       "version_minor": 0
      },
      "text/plain": [
       "Dropdown(description='Dataset', options=('Select', 'Book-Crossing', 'Goodbooks-10k'), value='Select')"
      ]
     },
     "metadata": {},
     "output_type": "display_data"
    },
    {
     "data": {
      "application/vnd.jupyter.widget-view+json": {
       "model_id": "fdefc444f946447cbea9189b759a5e04",
       "version_major": 2,
       "version_minor": 0
      },
      "text/plain": [
       "Dropdown(description='Recommendation Type', options=('Select', 'Title-based', 'Author-based', 'Genre-based', '…"
      ]
     },
     "metadata": {},
     "output_type": "display_data"
    },
    {
     "data": {
      "application/vnd.jupyter.widget-view+json": {
       "model_id": "28aef3cdf86c4163af177cce84a7123f",
       "version_major": 2,
       "version_minor": 0
      },
      "text/plain": [
       "Dropdown(description='Number', options=('Select', '1', '2', '3', '4', '5', '6', '7', '8', '9', '10'), value='S…"
      ]
     },
     "metadata": {},
     "output_type": "display_data"
    },
    {
     "data": {
      "application/vnd.jupyter.widget-view+json": {
       "model_id": "32c06a43c98a4952be637416dfebf76a",
       "version_major": 2,
       "version_minor": 0
      },
      "text/plain": [
       "Button(description='Generate Recommendations', style=ButtonStyle())"
      ]
     },
     "metadata": {},
     "output_type": "display_data"
    },
    {
     "data": {
      "application/vnd.jupyter.widget-view+json": {
       "model_id": "df0b787d2093491e92f756e0ae88ed6d",
       "version_major": 2,
       "version_minor": 0
      },
      "text/plain": [
       "Output()"
      ]
     },
     "metadata": {},
     "output_type": "display_data"
    }
   ],
   "source": [
    "display_book_recommendations()"
   ]
  },
  {
   "cell_type": "code",
   "execution_count": 143,
   "metadata": {},
   "outputs": [
    {
     "data": {
      "application/vnd.jupyter.widget-view+json": {
       "model_id": "19f33753b10f45439d344084a3e8f446",
       "version_major": 2,
       "version_minor": 0
      },
      "text/plain": [
       "Text(value='', description='Name:', placeholder='Enter query')"
      ]
     },
     "metadata": {},
     "output_type": "display_data"
    },
    {
     "data": {
      "application/vnd.jupyter.widget-view+json": {
       "model_id": "cafbb917c300447688b5c381c4a807b2",
       "version_major": 2,
       "version_minor": 0
      },
      "text/plain": [
       "Dropdown(description='Model:', options=('Select', 'Content-Based', 'Collaborative', 'Cascade Hybrid', 'Weighte…"
      ]
     },
     "metadata": {},
     "output_type": "display_data"
    },
    {
     "data": {
      "application/vnd.jupyter.widget-view+json": {
       "model_id": "3ca48007921f443b906e082c57becef6",
       "version_major": 2,
       "version_minor": 0
      },
      "text/plain": [
       "Dropdown(description='Dataset', options=('Select', 'Book-Crossing', 'Goodbooks-10k'), value='Select')"
      ]
     },
     "metadata": {},
     "output_type": "display_data"
    },
    {
     "data": {
      "application/vnd.jupyter.widget-view+json": {
       "model_id": "a4875400c0be4bcebf90f5b4d9fb0cb7",
       "version_major": 2,
       "version_minor": 0
      },
      "text/plain": [
       "Dropdown(description='Recommendation Type', options=('Select', 'Title-based', 'Author-based', 'Genre-based', '…"
      ]
     },
     "metadata": {},
     "output_type": "display_data"
    },
    {
     "data": {
      "application/vnd.jupyter.widget-view+json": {
       "model_id": "a68a0eb0b41940cd8637af1361dc6009",
       "version_major": 2,
       "version_minor": 0
      },
      "text/plain": [
       "Dropdown(description='Number', options=('Select', '1', '2', '3', '4', '5', '6', '7', '8', '9', '10'), value='S…"
      ]
     },
     "metadata": {},
     "output_type": "display_data"
    },
    {
     "data": {
      "application/vnd.jupyter.widget-view+json": {
       "model_id": "485fdc8604c8472faf9c4867e912c55b",
       "version_major": 2,
       "version_minor": 0
      },
      "text/plain": [
       "Button(description='Generate Recommendations', style=ButtonStyle())"
      ]
     },
     "metadata": {},
     "output_type": "display_data"
    },
    {
     "data": {
      "application/vnd.jupyter.widget-view+json": {
       "model_id": "91e22894801a42ff9ae9425543f4349e",
       "version_major": 2,
       "version_minor": 0
      },
      "text/plain": [
       "Output()"
      ]
     },
     "metadata": {},
     "output_type": "display_data"
    }
   ],
   "source": [
    "display_book_recommendations()"
   ]
  },
  {
   "cell_type": "code",
   "execution_count": null,
   "metadata": {},
   "outputs": [],
   "source": []
  }
 ],
 "metadata": {
  "kernelspec": {
   "display_name": "Python 3 (ipykernel)",
   "language": "python",
   "name": "python3"
  },
  "language_info": {
   "codemirror_mode": {
    "name": "ipython",
    "version": 3
   },
   "file_extension": ".py",
   "mimetype": "text/x-python",
   "name": "python",
   "nbconvert_exporter": "python",
   "pygments_lexer": "ipython3",
   "version": "3.9.18"
  }
 },
 "nbformat": 4,
 "nbformat_minor": 5
}

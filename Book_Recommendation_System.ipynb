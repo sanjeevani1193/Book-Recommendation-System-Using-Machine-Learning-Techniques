{
 "cells": [
  {
   "cell_type": "markdown",
   "metadata": {},
   "source": [
    "## Installing necessary libraries"
   ]
  },
  {
   "cell_type": "code",
   "execution_count": null,
   "metadata": {},
   "outputs": [],
   "source": [
    "pip install transformers"
   ]
  },
  {
   "cell_type": "code",
   "execution_count": null,
   "metadata": {},
   "outputs": [],
   "source": [
    "pip install torch torchvision torchaudio"
   ]
  },
  {
   "cell_type": "code",
   "execution_count": null,
   "metadata": {},
   "outputs": [],
   "source": [
    "import numpy as np\n",
    "import pandas as pd\n",
    "import string\n",
    "import re\n",
    "import scipy.sparse as sp\n",
    "\n",
    "import nltk #using the nltk library for tokenization and lemmatization\n",
    "nltk.download('punkt')\n",
    "nltk.download('wordnet')\n",
    "nltk.download('omw-1.4')\n",
    "nltk.download('stopwords')\n",
    "\n",
    "\n",
    "from nltk.corpus import stopwords\n",
    "from nltk.tokenize import word_tokenize\n",
    "from nltk.stem import WordNetLemmatizer\n",
    "\n",
    "from transformers import BertTokenizer, BertModel\n",
    "\n",
    "from sklearn.feature_extraction.text import TfidfVectorizer\n",
    "from sklearn.neighbors import NearestNeighbors\n",
    "from scipy.sparse import vstack, hstack\n",
    "from sklearn.metrics.pairwise import cosine_similarity"
   ]
  },
  {
   "cell_type": "code",
   "execution_count": 146,
   "metadata": {},
   "outputs": [],
   "source": [
    "# Initializing BERT tokenizer and model\n",
    "tokenizer = BertTokenizer.from_pretrained('bert-base-uncased')\n",
    "model = BertModel.from_pretrained('bert-base-uncased')"
   ]
  },
  {
   "cell_type": "markdown",
   "metadata": {},
   "source": [
    "## Reading datasets from their respective CSV files"
   ]
  },
  {
   "cell_type": "code",
   "execution_count": 4,
   "metadata": {},
   "outputs": [],
   "source": [
    "bx_cleaned = pd.read_csv('/Users/sanjeevani1109/Desktop/Book_Recommendation_System/bx_cleaned')"
   ]
  },
  {
   "cell_type": "code",
   "execution_count": 5,
   "metadata": {},
   "outputs": [],
   "source": [
    "gbx_cleaned = pd.read_csv('/Users/sanjeevani1109/Desktop/Book_Recommendation_System/gbx_cleaned')"
   ]
  },
  {
   "cell_type": "markdown",
   "metadata": {},
   "source": [
    "## Helper-functions"
   ]
  },
  {
   "cell_type": "code",
   "execution_count": 6,
   "metadata": {},
   "outputs": [],
   "source": [
    "#Function to clean text data\n",
    "def clean_text(text):\n",
    "    text = text.lower()     #Converting the text to lowercase\n",
    "    text = re.sub(r'\\d+', ' ', text)    # Removing digits\n",
    "    text = re.sub(r'[^a-zA-Z\\s]', '', text)  # Removing special characters\n",
    "    text = text.translate(str.maketrans('', '', string.punctuation))    #Removing punctuation     \n",
    "    tokens = word_tokenize(text) #Tokenization of the text\n",
    "    non_stopwords = []  #Creating an empty list to store the non-stopwords\n",
    "    stop_words = set(stopwords.words('english')) #Initializing the NLTK English stopwords\n",
    "    #Lemmatization of the words/tokens\n",
    "    lemmatizer = WordNetLemmatizer()    #Initialization of the NLTK WordNet Lemmatizer\n",
    "\n",
    "    #Iterating through the list of tokens, lemmatizing them, and adding it to the list of non-stopwords\n",
    "    for token in tokens:\n",
    "        if token not in stop_words:\n",
    "            lemma = lemmatizer.lemmatize(token) #Performing lemmatization\n",
    "            non_stopwords.append(lemma)  # Appending the stemmed token back to the list of non-stopwords\n",
    "\n",
    "    # Joining the tokens/words from the list of non-stopwords into a string\n",
    "    filtered_text = ' '.join(non_stopwords)\n",
    "    return filtered_text"
   ]
  },
  {
   "cell_type": "code",
   "execution_count": 7,
   "metadata": {},
   "outputs": [],
   "source": [
    "def clean_genres(text):\n",
    "    text = text.lower()\n",
    "    text = re.sub(r'\\d+', ' ', text)\n",
    "    text = re.sub(r'[^a-zA-Z\\s]', '', text)\n",
    "    text = text.translate(str.maketrans('', '', string.punctuation))\n",
    "    return text"
   ]
  },
  {
   "cell_type": "code",
   "execution_count": 147,
   "metadata": {},
   "outputs": [],
   "source": [
    "# Generate BERT embeddings for a list of texts in batches\n",
    "\n",
    "def get_bert_embeddings_batch(text_list, batch_size=32):\n",
    "    embeddings = [] #initializign an empty list to store the BERT embeddings for all the texts\n",
    "    for i in range(0, len(text_list), batch_size):  #batch processing the texts from the list of texts\n",
    "        batch = text_list[i:i+batch_size]\n",
    "        inputs = tokenizer(batch, return_tensors=\"pt\", padding=True, truncation=True, max_length=512) #tokenization of the texts in the batch and returning the PyTorch tensors\n",
    "        outputs = model(**inputs)   #passing the tokenized inputs to the BERT model to retrieve the outputs\n",
    "        embeddings.extend(outputs.last_hidden_state.mean(dim=1).detach().numpy()) \n",
    "    return np.vstack(embeddings)    #vertical stacking of of the embeddings to create a single matrix of embeddings for the input texts"
   ]
  },
  {
   "cell_type": "code",
   "execution_count": 8,
   "metadata": {},
   "outputs": [],
   "source": [
    "bx_cleaned['cleaned_genres'] = bx_cleaned['Genres'].apply(clean_genres)"
   ]
  },
  {
   "cell_type": "code",
   "execution_count": 9,
   "metadata": {},
   "outputs": [],
   "source": [
    "gbx_cleaned['cleaned_genres'] = gbx_cleaned['Genres'].apply(clean_genres)"
   ]
  },
  {
   "cell_type": "code",
   "execution_count": 10,
   "metadata": {},
   "outputs": [],
   "source": [
    "bx_cleaned['title_genres_combined'] = bx_cleaned['cleaned_title'] + ' ' + bx_cleaned['cleaned_genres']\n",
    "gbx_cleaned['title_genres_combined'] = gbx_cleaned['cleaned_title'] + ' ' + gbx_cleaned['cleaned_genres']"
   ]
  },
  {
   "cell_type": "code",
   "execution_count": 148,
   "metadata": {},
   "outputs": [
    {
     "data": {
      "text/html": [
       "<div>\n",
       "<style scoped>\n",
       "    .dataframe tbody tr th:only-of-type {\n",
       "        vertical-align: middle;\n",
       "    }\n",
       "\n",
       "    .dataframe tbody tr th {\n",
       "        vertical-align: top;\n",
       "    }\n",
       "\n",
       "    .dataframe thead th {\n",
       "        text-align: right;\n",
       "    }\n",
       "</style>\n",
       "<table border=\"1\" class=\"dataframe\">\n",
       "  <thead>\n",
       "    <tr style=\"text-align: right;\">\n",
       "      <th></th>\n",
       "      <th>UserID</th>\n",
       "      <th>ISBN</th>\n",
       "      <th>User_Rating</th>\n",
       "      <th>Title</th>\n",
       "      <th>Author</th>\n",
       "      <th>Average_Rating</th>\n",
       "      <th>cleaned_title</th>\n",
       "      <th>cleaned_author</th>\n",
       "      <th>Genres</th>\n",
       "      <th>new_combined</th>\n",
       "      <th>title_embeddings</th>\n",
       "      <th>combined_embeddings</th>\n",
       "      <th>genres_embeddings</th>\n",
       "      <th>combined_cluster_label</th>\n",
       "      <th>genre_cluster_label</th>\n",
       "      <th>cleaned_genres</th>\n",
       "      <th>title_genres_combined</th>\n",
       "      <th>authors_embeddings</th>\n",
       "    </tr>\n",
       "  </thead>\n",
       "  <tbody>\n",
       "    <tr>\n",
       "      <th>0</th>\n",
       "      <td>276733</td>\n",
       "      <td>2080674722</td>\n",
       "      <td>1</td>\n",
       "      <td>Les Particules Elementaires</td>\n",
       "      <td>Michel Houellebecq</td>\n",
       "      <td>2</td>\n",
       "      <td>le particules elementaires</td>\n",
       "      <td>michel houellebecq</td>\n",
       "      <td>Fiction, France, Literature, Novels, French Li...</td>\n",
       "      <td>le particules elementaires michel houellebecq ...</td>\n",
       "      <td>[-0.22314462, 0.42006478, -0.28728843, -0.1840...</td>\n",
       "      <td>[-0.21087638, 0.38165882, -0.00066206243, -0.3...</td>\n",
       "      <td>[0.11841526, 0.20468897, -0.028159915, -0.2183...</td>\n",
       "      <td>1</td>\n",
       "      <td>3</td>\n",
       "      <td>fiction france literature novels french litera...</td>\n",
       "      <td>le particules elementaires fiction france lite...</td>\n",
       "      <td>[-0.3414879, -0.07702848, -0.051483676, -0.296...</td>\n",
       "    </tr>\n",
       "  </tbody>\n",
       "</table>\n",
       "</div>"
      ],
      "text/plain": [
       "   UserID        ISBN  User_Rating                        Title  \\\n",
       "0  276733  2080674722            1  Les Particules Elementaires   \n",
       "\n",
       "               Author  Average_Rating               cleaned_title  \\\n",
       "0  Michel Houellebecq               2  le particules elementaires   \n",
       "\n",
       "       cleaned_author                                             Genres  \\\n",
       "0  michel houellebecq  Fiction, France, Literature, Novels, French Li...   \n",
       "\n",
       "                                        new_combined  \\\n",
       "0  le particules elementaires michel houellebecq ...   \n",
       "\n",
       "                                    title_embeddings  \\\n",
       "0  [-0.22314462, 0.42006478, -0.28728843, -0.1840...   \n",
       "\n",
       "                                 combined_embeddings  \\\n",
       "0  [-0.21087638, 0.38165882, -0.00066206243, -0.3...   \n",
       "\n",
       "                                   genres_embeddings  combined_cluster_label  \\\n",
       "0  [0.11841526, 0.20468897, -0.028159915, -0.2183...                       1   \n",
       "\n",
       "   genre_cluster_label                                     cleaned_genres  \\\n",
       "0                    3  fiction france literature novels french litera...   \n",
       "\n",
       "                               title_genres_combined  \\\n",
       "0  le particules elementaires fiction france lite...   \n",
       "\n",
       "                                  authors_embeddings  \n",
       "0  [-0.3414879, -0.07702848, -0.051483676, -0.296...  "
      ]
     },
     "execution_count": 148,
     "metadata": {},
     "output_type": "execute_result"
    }
   ],
   "source": [
    "bx_cleaned.head(1)"
   ]
  },
  {
   "cell_type": "markdown",
   "metadata": {},
   "source": [
    "### Creating BERT embeddings for relevant columns"
   ]
  },
  {
   "cell_type": "markdown",
   "metadata": {},
   "source": [
    "#### (uncomment to regenerate embeddings)"
   ]
  },
  {
   "cell_type": "markdown",
   "metadata": {},
   "source": [
    "##### 'Title' columns"
   ]
  },
  {
   "cell_type": "code",
   "execution_count": null,
   "metadata": {},
   "outputs": [],
   "source": [
    "# unique_title_bx = bx_cleaned['Title'].drop_duplicates().reset_index(drop=True)\n",
    "# title_embeddings_bx = get_bert_embeddings_batch(bx_cleaned['Title'].tolist())\n",
    "# genres_to_embedding_bx = dict(zip(unique_title_bx, title_embeddings_bx))\n",
    "# # bx_cleaned.head(3)"
   ]
  },
  {
   "cell_type": "code",
   "execution_count": null,
   "metadata": {},
   "outputs": [],
   "source": [
    "# unique_title_gbx = gbx_cleaned['Title'].drop_duplicates().reset_index(drop=True)\n",
    "# title_embeddings_gbx = get_bert_embeddings_batch(gbx_cleaned['Title'].tolist())\n",
    "# genres_to_embedding_bx = dict(zip(unique_title_gbx, title_embeddings_gbx))\n",
    "# # bx_cleaned.head(3)"
   ]
  },
  {
   "cell_type": "markdown",
   "metadata": {},
   "source": [
    "##### 'new_combined' columns (cleaned_title + cleaned_author + cleaned_genres)"
   ]
  },
  {
   "cell_type": "code",
   "execution_count": null,
   "metadata": {},
   "outputs": [],
   "source": [
    "# unique_combined_bx = bx_cleaned['new_combined'].drop_duplicates().reset_index(drop=True)\n",
    "# combined_embeddings_bx = get_bert_embeddings_batch(bx_cleaned['new_combined'].tolist())\n",
    "# combined_to_embedding_bx = dict(zip(unique_combined_bx, combined_embeddings_bx))\n",
    "# # bx_cleaned.head(3)"
   ]
  },
  {
   "cell_type": "code",
   "execution_count": null,
   "metadata": {},
   "outputs": [],
   "source": [
    "# unique_combined_gbx = gbx_cleaned['new_combined'].drop_duplicates().reset_index(drop=True)\n",
    "# combined_embeddings_gbx = get_bert_embeddings_batch(gbx_cleaned['new_combined'].tolist())\n",
    "# combined_to_embedding_gbx = dict(zip(unique_combined_gbx, combined_embeddings_gbx))\n",
    "# # bx_cleaned.head(3)"
   ]
  },
  {
   "cell_type": "markdown",
   "metadata": {},
   "source": [
    "##### 'Genres' columns"
   ]
  },
  {
   "cell_type": "code",
   "execution_count": null,
   "metadata": {},
   "outputs": [],
   "source": [
    "# unique_genres_bx = bx_cleaned['Genres'].drop_duplicates().reset_index(drop=True)\n",
    "# genres_embeddings_bx = get_bert_embeddings_batch(bx_cleaned['Genres'].tolist())\n",
    "# combined_to_embedding_bx = dict(zip(unique_genres_bx, genres_embeddings_bx))\n",
    "# # bx_cleaned.head(3)"
   ]
  },
  {
   "cell_type": "code",
   "execution_count": null,
   "metadata": {},
   "outputs": [],
   "source": [
    "# unique_genres_gbx = gbx_cleaned['Genres'].drop_duplicates().reset_index(drop=True)\n",
    "# genres_embeddings_gbx = get_bert_embeddings_batch(gbx_cleaned['Genres'].tolist())\n",
    "# combined_to_embedding_gbx = dict(zip(unique_genres_gbx, genres_embeddings_gbx))\n",
    "# # bx_cleaned.head(3)"
   ]
  },
  {
   "cell_type": "markdown",
   "metadata": {},
   "source": [
    "##### 'Author' columns"
   ]
  },
  {
   "cell_type": "code",
   "execution_count": 13,
   "metadata": {},
   "outputs": [],
   "source": [
    "# unique_author_bx = bx_cleaned['Author'].drop_duplicates().reset_index(drop=True)\n",
    "# author_embeddings_bx = get_bert_embeddings_batch(bx_cleaned['Author'].tolist())\n",
    "# genres_to_embedding_bx = dict(zip(unique_author_bx, author_embeddings_bx))\n",
    "# # bx_cleaned.head(3)"
   ]
  },
  {
   "cell_type": "code",
   "execution_count": 14,
   "metadata": {},
   "outputs": [],
   "source": [
    "# unique_author_gbx = gbx_cleaned['Author'].drop_duplicates().reset_index(drop=True)\n",
    "# author_embeddings_gbx = get_bert_embeddings_batch(gbx_cleaned['Author'].tolist())\n",
    "# genres_to_embedding_gbx = dict(zip(unique_author_gbx, author_embeddings_gbx))\n",
    "# # gbx_cleaned.head(3)"
   ]
  },
  {
   "cell_type": "markdown",
   "metadata": {},
   "source": [
    "### Saving the embeddings as CSV files"
   ]
  },
  {
   "cell_type": "markdown",
   "metadata": {},
   "source": [
    "##### This is done to avoid long recalculations everytime we restart the kernel ((uncomment to resave the embeddings))"
   ]
  },
  {
   "cell_type": "code",
   "execution_count": null,
   "metadata": {},
   "outputs": [],
   "source": [
    "# unique_title_bx.to_csv('unique_titles_bx.csv', index=False)\n",
    "# unique_titles_gbx.to_csv('unique_titles_gbx.csv', index=False)\n",
    "\n",
    "# unique_genres_bx.to_csv('unique_genres_bx.csv', index=False)\n",
    "# unique_genres_gbx.to_csv('unique_genres_gbx.csv', index=False)\n",
    "\n",
    "# unique_combined_bx.to_csv('unique_combined_bx.csv', index=False)\n",
    "# unique_combined_gbx.to_csv('unique_combined_gbx.csv', index=False)\n",
    "\n",
    "# unique_author_bx.to_csv('unique_author_bx.csv', index=False)\n",
    "# unique_author_gbx.to_csv('unique_author_gbx.csv', index=False)"
   ]
  },
  {
   "cell_type": "code",
   "execution_count": null,
   "metadata": {},
   "outputs": [],
   "source": [
    "# np.save('title_embeddings_bx.npy', title_embeddings_bx)\n",
    "# np.save('title_embeddings_gbx.npy', title_embeddings_gbx)\n",
    "\n",
    "# np.save('combined_embeddings_bx.npy', combined_embeddings_bx)\n",
    "# np.save('combined_embeddings_gbx.npy', combined_embeddings_gbx)\n",
    "\n",
    "# np.save('genres_embeddings_bx.npy', genres_embeddings_bx)\n",
    "# np.save('genres_embeddings_gbx.npy', genres_embeddings_gbx)\n",
    "\n",
    "# np.save('author_embeddings_bx.npy', author_embeddings_bx)\n",
    "# np.save('author_embeddings_gbx.npy', author_embeddings_gbx)\n"
   ]
  },
  {
   "cell_type": "markdown",
   "metadata": {},
   "source": [
    "### Saving the data frames as csv files"
   ]
  },
  {
   "cell_type": "code",
   "execution_count": 17,
   "metadata": {},
   "outputs": [],
   "source": [
    "# gbx_cleaned.to_csv('/Users/sanjeevani1109/Desktop/Book_Recommendation_System/gbx_cleaned', index=False)"
   ]
  },
  {
   "cell_type": "code",
   "execution_count": 18,
   "metadata": {},
   "outputs": [],
   "source": [
    "# bx_cleaned.to_csv('/Users/sanjeevani1109/Desktop/Book_Recommendation_System/bx_cleaned', index=False)"
   ]
  },
  {
   "cell_type": "markdown",
   "metadata": {},
   "source": [
    "### Loading the embeddings from the Numpys"
   ]
  },
  {
   "cell_type": "code",
   "execution_count": 19,
   "metadata": {},
   "outputs": [],
   "source": [
    "bx_title_embeddings_array = np.load('title_embeddings_bx.npy')\n",
    "gbx_title_embeddings_array = np.load('title_embeddings_gbx.npy')\n",
    "\n",
    "bx_combined_embeddings_array = np.load('combined_embeddings_bx.npy')\n",
    "gbx_combined_embeddings_array = np.load('combined_embeddings_gbx.npy')\n",
    "\n",
    "bx_genres_embeddings_array = np.load('genres_embeddings_bx.npy')\n",
    "gbx_genres_embeddings_array = np.load('genres_embeddings_gbx.npy')\n",
    "\n",
    "bx_authors_embeddings_array = np.load('author_embeddings_bx.npy')\n",
    "gbx_authors_embeddings_array = np.load('author_embeddings_gbx.npy')"
   ]
  },
  {
   "cell_type": "markdown",
   "metadata": {},
   "source": [
    "### Loading the unique embeddings"
   ]
  },
  {
   "cell_type": "code",
   "execution_count": 20,
   "metadata": {},
   "outputs": [],
   "source": [
    "unique_titles_gbx = pd.read_csv('unique_titles_gbx.csv')['Title']\n",
    "unique_titles_bx = pd.read_csv('unique_titles_bx.csv')['Title']\n",
    "\n",
    "unique_combined_gbx = pd.read_csv('unique_combined_gbx.csv')['new_combined']\n",
    "unique_combined_bx = pd.read_csv('unique_combined_bx.csv')['new_combined']\n",
    "\n",
    "unique_genres_gbx = pd.read_csv('unique_genres_gbx.csv')['Genres']\n",
    "unique_genres_bx = pd.read_csv('unique_genres_bx.csv')['Genres']\n",
    "\n",
    "unique_authors_bx = pd.read_csv('unique_author_bx.csv')['Author']\n",
    "unique_authors_gbx = pd.read_csv('unique_author_gbx.csv')['Author']"
   ]
  },
  {
   "cell_type": "markdown",
   "metadata": {},
   "source": [
    "### Updating the data frame with the embedding values"
   ]
  },
  {
   "cell_type": "code",
   "execution_count": 21,
   "metadata": {},
   "outputs": [],
   "source": [
    "title_to_embedding_gbx = dict(zip(unique_titles_gbx, gbx_title_embeddings_array))\n",
    "gbx_cleaned['title_embeddings'] = gbx_cleaned['Title'].map(title_to_embedding_gbx)\n",
    "\n",
    "title_to_embedding_bx = dict(zip(unique_titles_bx, bx_title_embeddings_array))\n",
    "bx_cleaned['title_embeddings'] = bx_cleaned['Title'].map(title_to_embedding_bx)\n",
    "\n",
    "combined_to_embedding_gbx = dict(zip(unique_combined_gbx, gbx_combined_embeddings_array))\n",
    "gbx_cleaned['combined_embeddings'] = gbx_cleaned['new_combined'].map(combined_to_embedding_gbx)\n",
    "\n",
    "combined_to_embedding_bx = dict(zip(unique_combined_bx, bx_combined_embeddings_array))\n",
    "bx_cleaned['combined_embeddings'] = bx_cleaned['new_combined'].map(combined_to_embedding_bx)\n",
    "\n",
    "genres_to_embedding_gbx = dict(zip(unique_genres_gbx, gbx_genres_embeddings_array))\n",
    "gbx_cleaned['genres_embeddings'] = gbx_cleaned['Genres'].map(genres_to_embedding_gbx)\n",
    "\n",
    "genres_to_embedding_bx = dict(zip(unique_genres_bx, bx_genres_embeddings_array))\n",
    "bx_cleaned['genres_embeddings'] = bx_cleaned['Genres'].map(genres_to_embedding_bx)\n",
    "\n",
    "authors_to_embedding_bx = dict(zip(unique_authors_bx, bx_authors_embeddings_array))\n",
    "bx_cleaned['authors_embeddings'] = bx_cleaned['Author'].map(authors_to_embedding_bx)\n",
    "\n",
    "authors_to_embedding_gbx = dict(zip(unique_authors_gbx, gbx_authors_embeddings_array))\n",
    "gbx_cleaned['authors_embeddings'] = gbx_cleaned['Author'].map(authors_to_embedding_gbx)"
   ]
  },
  {
   "cell_type": "markdown",
   "metadata": {},
   "source": [
    "# 1. Content-based Filtering Model"
   ]
  },
  {
   "cell_type": "markdown",
   "metadata": {},
   "source": [
    "##### Using BERT embeddings, TFIDF vectorization, and kNN"
   ]
  },
  {
   "cell_type": "code",
   "execution_count": 22,
   "metadata": {},
   "outputs": [],
   "source": [
    "relevant_columns = ['Title', 'Author', 'Genres', 'cleaned_title', 'cleaned_author', 'new_combined', 'title_embeddings', 'authors_embeddings', 'genres_embeddings', 'combined_embeddings', 'cleaned_genres']  \n",
    "relevant_columns_gbx = ['BookID', 'Title', 'Author', 'Genres', 'cleaned_title', 'cleaned_author', 'new_combined', 'title_embeddings', 'authors_embeddings', 'genres_embeddings', 'combined_embeddings', 'cleaned_genres']\n",
    "\n",
    "# Dropping duplicates based on the 'Title' column and only selecting the relevant columns for bx_cleaned and gbx_cleaned\n",
    "gbx_content = gbx_cleaned.drop_duplicates(subset='Title')[relevant_columns_gbx]\n",
    "bx_content = bx_cleaned.drop_duplicates(subset='Title')[relevant_columns]"
   ]
  },
  {
   "cell_type": "code",
   "execution_count": 25,
   "metadata": {},
   "outputs": [
    {
     "data": {
      "text/html": [
       "<div>\n",
       "<style scoped>\n",
       "    .dataframe tbody tr th:only-of-type {\n",
       "        vertical-align: middle;\n",
       "    }\n",
       "\n",
       "    .dataframe tbody tr th {\n",
       "        vertical-align: top;\n",
       "    }\n",
       "\n",
       "    .dataframe thead th {\n",
       "        text-align: right;\n",
       "    }\n",
       "</style>\n",
       "<table border=\"1\" class=\"dataframe\">\n",
       "  <thead>\n",
       "    <tr style=\"text-align: right;\">\n",
       "      <th></th>\n",
       "      <th>BookID</th>\n",
       "      <th>Title</th>\n",
       "      <th>Author</th>\n",
       "      <th>Genres</th>\n",
       "      <th>cleaned_title</th>\n",
       "      <th>cleaned_author</th>\n",
       "      <th>new_combined</th>\n",
       "      <th>title_embeddings</th>\n",
       "      <th>authors_embeddings</th>\n",
       "      <th>genres_embeddings</th>\n",
       "      <th>combined_embeddings</th>\n",
       "      <th>cleaned_genres</th>\n",
       "    </tr>\n",
       "  </thead>\n",
       "  <tbody>\n",
       "    <tr>\n",
       "      <th>0</th>\n",
       "      <td>2767052</td>\n",
       "      <td>The Hunger Games</td>\n",
       "      <td>Suzanne Collins</td>\n",
       "      <td>Young Adult, Fiction, Fantasy, Dystopia, Scien...</td>\n",
       "      <td>hunger game</td>\n",
       "      <td>suzanne collins</td>\n",
       "      <td>hunger game suzanne collins young adult fictio...</td>\n",
       "      <td>[-0.35120225, -0.6337399, -0.2950579, -0.18312...</td>\n",
       "      <td>[-0.12804408, 0.11276019, -0.25651056, -0.0526...</td>\n",
       "      <td>[-0.03419616, 0.14870769, 0.5226705, -0.080204...</td>\n",
       "      <td>[-0.10558018, 0.06420389, 0.4107097, 0.1490544...</td>\n",
       "      <td>young adult fiction fantasy dystopia science f...</td>\n",
       "    </tr>\n",
       "  </tbody>\n",
       "</table>\n",
       "</div>"
      ],
      "text/plain": [
       "    BookID             Title           Author  \\\n",
       "0  2767052  The Hunger Games  Suzanne Collins   \n",
       "\n",
       "                                              Genres cleaned_title  \\\n",
       "0  Young Adult, Fiction, Fantasy, Dystopia, Scien...   hunger game   \n",
       "\n",
       "    cleaned_author                                       new_combined  \\\n",
       "0  suzanne collins  hunger game suzanne collins young adult fictio...   \n",
       "\n",
       "                                    title_embeddings  \\\n",
       "0  [-0.35120225, -0.6337399, -0.2950579, -0.18312...   \n",
       "\n",
       "                                  authors_embeddings  \\\n",
       "0  [-0.12804408, 0.11276019, -0.25651056, -0.0526...   \n",
       "\n",
       "                                   genres_embeddings  \\\n",
       "0  [-0.03419616, 0.14870769, 0.5226705, -0.080204...   \n",
       "\n",
       "                                 combined_embeddings  \\\n",
       "0  [-0.10558018, 0.06420389, 0.4107097, 0.1490544...   \n",
       "\n",
       "                                      cleaned_genres  \n",
       "0  young adult fiction fantasy dystopia science f...  "
      ]
     },
     "execution_count": 25,
     "metadata": {},
     "output_type": "execute_result"
    }
   ],
   "source": [
    "gbx_content.head(1)"
   ]
  },
  {
   "cell_type": "code",
   "execution_count": 26,
   "metadata": {},
   "outputs": [
    {
     "data": {
      "text/html": [
       "<div>\n",
       "<style scoped>\n",
       "    .dataframe tbody tr th:only-of-type {\n",
       "        vertical-align: middle;\n",
       "    }\n",
       "\n",
       "    .dataframe tbody tr th {\n",
       "        vertical-align: top;\n",
       "    }\n",
       "\n",
       "    .dataframe thead th {\n",
       "        text-align: right;\n",
       "    }\n",
       "</style>\n",
       "<table border=\"1\" class=\"dataframe\">\n",
       "  <thead>\n",
       "    <tr style=\"text-align: right;\">\n",
       "      <th></th>\n",
       "      <th>Title</th>\n",
       "      <th>Author</th>\n",
       "      <th>Genres</th>\n",
       "      <th>cleaned_title</th>\n",
       "      <th>cleaned_author</th>\n",
       "      <th>new_combined</th>\n",
       "      <th>title_embeddings</th>\n",
       "      <th>authors_embeddings</th>\n",
       "      <th>genres_embeddings</th>\n",
       "      <th>combined_embeddings</th>\n",
       "      <th>cleaned_genres</th>\n",
       "    </tr>\n",
       "  </thead>\n",
       "  <tbody>\n",
       "    <tr>\n",
       "      <th>0</th>\n",
       "      <td>Les Particules Elementaires</td>\n",
       "      <td>Michel Houellebecq</td>\n",
       "      <td>Fiction, France, Literature, Novels, French Li...</td>\n",
       "      <td>le particules elementaires</td>\n",
       "      <td>michel houellebecq</td>\n",
       "      <td>le particules elementaires michel houellebecq ...</td>\n",
       "      <td>[-0.22314462, 0.42006478, -0.28728843, -0.1840...</td>\n",
       "      <td>[-0.3414879, -0.07702848, -0.051483676, -0.296...</td>\n",
       "      <td>[0.11841526, 0.20468897, -0.028159915, -0.2183...</td>\n",
       "      <td>[-0.21087638, 0.38165882, -0.00066206243, -0.3...</td>\n",
       "      <td>fiction france literature novels french litera...</td>\n",
       "    </tr>\n",
       "  </tbody>\n",
       "</table>\n",
       "</div>"
      ],
      "text/plain": [
       "                         Title              Author  \\\n",
       "0  Les Particules Elementaires  Michel Houellebecq   \n",
       "\n",
       "                                              Genres  \\\n",
       "0  Fiction, France, Literature, Novels, French Li...   \n",
       "\n",
       "                cleaned_title      cleaned_author  \\\n",
       "0  le particules elementaires  michel houellebecq   \n",
       "\n",
       "                                        new_combined  \\\n",
       "0  le particules elementaires michel houellebecq ...   \n",
       "\n",
       "                                    title_embeddings  \\\n",
       "0  [-0.22314462, 0.42006478, -0.28728843, -0.1840...   \n",
       "\n",
       "                                  authors_embeddings  \\\n",
       "0  [-0.3414879, -0.07702848, -0.051483676, -0.296...   \n",
       "\n",
       "                                   genres_embeddings  \\\n",
       "0  [0.11841526, 0.20468897, -0.028159915, -0.2183...   \n",
       "\n",
       "                                 combined_embeddings  \\\n",
       "0  [-0.21087638, 0.38165882, -0.00066206243, -0.3...   \n",
       "\n",
       "                                      cleaned_genres  \n",
       "0  fiction france literature novels french litera...  "
      ]
     },
     "execution_count": 26,
     "metadata": {},
     "output_type": "execute_result"
    }
   ],
   "source": [
    "bx_content.head(1)"
   ]
  },
  {
   "cell_type": "code",
   "execution_count": 99,
   "metadata": {},
   "outputs": [],
   "source": [
    "# Function to compute cosine similarity (based on Genres)\n",
    "\n",
    "def cosine_sims(df, book_title):\n",
    "\n",
    "    all_titles = df['Genres'].values\n",
    "    np.append(all_titles, (np.array([book_title])))\n",
    "    all_titles = all_titles.astype(\"U\")\n",
    "\n",
    "    tfidf_vectorizer = TfidfVectorizer()\n",
    "    tfidf_matrix = tfidf_vectorizer.fit_transform(all_titles)\n",
    "\n",
    "    # Converting the TFIDF matrix to CSR format\n",
    "    tfidf_matrix_csr = sp.csr_matrix(tfidf_matrix)\n",
    "\n",
    "    # Computing cosine similarity between the query and all titles\n",
    "    query_vector = tfidf_matrix_csr[-1]\n",
    "    cosine_similarities = cosine_similarity(query_vector, tfidf_matrix_csr).flatten()\n",
    "\n",
    "    # Adding cosine similarity values to a new column in the DataFrame\n",
    "    df['Cosine Similarity'] = cosine_similarities\n",
    "\n",
    "    return df"
   ]
  },
  {
   "cell_type": "code",
   "execution_count": 28,
   "metadata": {},
   "outputs": [],
   "source": [
    "# Fuction to compute combined features (combination of BERT embeddings and TFIDF vector representations)\n",
    "\n",
    "def compute_combined_features(df, column_type, embeddings):\n",
    "\n",
    "    #Computing TF-IDF Features\n",
    "    tfidf_vectorizer = TfidfVectorizer(max_features=100)  \n",
    "    tfidf_features = tfidf_vectorizer.fit_transform(df[column_type])\n",
    "\n",
    "    #Concatenating BERT and TF-IDF Features\n",
    "    bert_features = np.stack(df[embeddings].to_numpy())  # Using stack for an array of arrays\n",
    "    combined_features = hstack([bert_features, tfidf_features]) # Horizontally stacking the BERT embeddings features and TFIDF vectors features\n",
    "\n",
    "    return combined_features, tfidf_vectorizer"
   ]
  },
  {
   "cell_type": "code",
   "execution_count": 130,
   "metadata": {},
   "outputs": [],
   "source": [
    "def content_based_recommendations(query, df, type = \"combined\", n_recommendations=5): # Providing the default type of recommendations as combined (based on title+author+genres)\n",
    "\n",
    "    if 'BookID' in df.columns:      # Checking for BookID in the dataframes to determine which data frame to use\n",
    "        df = gbx_content\n",
    "    else:\n",
    "        df = bx_content\n",
    "\n",
    "    if type.lower() == \"combined\":\n",
    "        column_type = \"new_combined\"\n",
    "        embeddings = \"combined_embeddings\"\n",
    "    elif type.lower() == \"title\":\n",
    "        column_type = \"Title\"\n",
    "        embeddings = \"title_embeddings\"\n",
    "    elif type.lower() == \"author\":\n",
    "        column_type = \"Author\"\n",
    "        embeddings = \"authors_embeddings\"\n",
    "    elif type.lower() == \"genres\":\n",
    "        column_type = \"cleaned_genres\"\n",
    "        embeddings = \"genres_embeddings\"\n",
    "\n",
    "    # Computing combined features for the specified DataFrame\n",
    "    combined_features, tfidf_vectorizer = compute_combined_features(df, column_type, embeddings)\n",
    "\n",
    "    # Using k-Nearest Neighbors on the combined features\n",
    "    knn_model = NearestNeighbors(n_neighbors=n_recommendations, metric='cosine')\n",
    "    knn_model.fit(combined_features)\n",
    "\n",
    "    query_embedding = get_bert_embeddings_batch([query])[0].astype(np.float64)\n",
    "    query_tfidf = tfidf_vectorizer.transform([query])\n",
    "    query_combined = hstack([np.array([query_embedding]), query_tfidf])\n",
    "\n",
    "    distances, indices = knn_model.kneighbors(query_combined, n_neighbors=n_recommendations*10)\n",
    "\n",
    "    # Flattening indices and fetching recommendations (based on the nearest neighbors)\n",
    "    recommendations = df.iloc[indices.flatten()]\n",
    "\n",
    "    # Retrieving unique recommendations based on Title and Author (excluding the query itself)\n",
    "    unique_titles = set()\n",
    "    unique_recommendations = []\n",
    "    for _, row in recommendations.iterrows():\n",
    "        unique_key = (row['Title'].lower(), row['Author'].lower())\n",
    "        if unique_key not in unique_titles and row['Title'].lower() != query.lower():\n",
    "            unique_titles.add(unique_key)\n",
    "            unique_recommendations.append(row)\n",
    "            if len(unique_recommendations) >= n_recommendations:\n",
    "                break    \n",
    "    print(\"Your query:-\")\n",
    "    print(\"Query:\", query)\n",
    "\n",
    "    combined_recs = pd.DataFrame(unique_recommendations, columns=['Title', 'Author', 'Genres']).reset_index(drop=True)\n",
    "\n",
    "    # Calculating cosine similarity for the recommendations retrieved using kNN\n",
    "    combined_recommendations = cosine_sims(combined_recs, book_title=query)  \n",
    "\n",
    "    # Sorting the recommendations based on the cosine similarity values\n",
    "    sorted_recommendations = combined_recommendations.sort_values(by='Cosine Similarity', ascending=False)\n",
    "\n",
    "    # Retrieving the top 'n_recommendations' as specified by the user\n",
    "    top_recommendations = sorted_recommendations.head(n_recommendations)\n",
    "\n",
    "    # Creating a new data frame of top_recommendations with specified columns\n",
    "    final_recs = top_recommendations.loc[:, ['Title', 'Author', 'Genres']]\n",
    "\n",
    "    return final_recs"
   ]
  },
  {
   "cell_type": "markdown",
   "metadata": {},
   "source": [
    "# 2. Collaborative-Filtering Model"
   ]
  },
  {
   "cell_type": "markdown",
   "metadata": {},
   "source": [
    "#### Memory-based item-item similarity CF using kNN"
   ]
  },
  {
   "cell_type": "code",
   "execution_count": 30,
   "metadata": {},
   "outputs": [
    {
     "data": {
      "text/html": [
       "<div>\n",
       "<style scoped>\n",
       "    .dataframe tbody tr th:only-of-type {\n",
       "        vertical-align: middle;\n",
       "    }\n",
       "\n",
       "    .dataframe tbody tr th {\n",
       "        vertical-align: top;\n",
       "    }\n",
       "\n",
       "    .dataframe thead th {\n",
       "        text-align: right;\n",
       "    }\n",
       "</style>\n",
       "<table border=\"1\" class=\"dataframe\">\n",
       "  <thead>\n",
       "    <tr style=\"text-align: right;\">\n",
       "      <th></th>\n",
       "      <th>UserID</th>\n",
       "      <th>User_Rating</th>\n",
       "      <th>Title</th>\n",
       "      <th>Author</th>\n",
       "      <th>Average_Rating</th>\n",
       "      <th>cleaned_title</th>\n",
       "      <th>cleaned_author</th>\n",
       "      <th>Genres</th>\n",
       "      <th>new_combined</th>\n",
       "      <th>cleaned_genres</th>\n",
       "      <th>title_genres_combined</th>\n",
       "      <th>authors_embeddings</th>\n",
       "    </tr>\n",
       "  </thead>\n",
       "  <tbody>\n",
       "    <tr>\n",
       "      <th>0</th>\n",
       "      <td>276733</td>\n",
       "      <td>1</td>\n",
       "      <td>Les Particules Elementaires</td>\n",
       "      <td>Michel Houellebecq</td>\n",
       "      <td>2</td>\n",
       "      <td>le particules elementaires</td>\n",
       "      <td>michel houellebecq</td>\n",
       "      <td>Fiction, France, Literature, Novels, French Li...</td>\n",
       "      <td>le particules elementaires michel houellebecq ...</td>\n",
       "      <td>fiction france literature novels french litera...</td>\n",
       "      <td>le particules elementaires fiction france lite...</td>\n",
       "      <td>[-0.3414879, -0.07702848, -0.051483676, -0.296...</td>\n",
       "    </tr>\n",
       "  </tbody>\n",
       "</table>\n",
       "</div>"
      ],
      "text/plain": [
       "   UserID  User_Rating                        Title              Author  \\\n",
       "0  276733            1  Les Particules Elementaires  Michel Houellebecq   \n",
       "\n",
       "   Average_Rating               cleaned_title      cleaned_author  \\\n",
       "0               2  le particules elementaires  michel houellebecq   \n",
       "\n",
       "                                              Genres  \\\n",
       "0  Fiction, France, Literature, Novels, French Li...   \n",
       "\n",
       "                                        new_combined  \\\n",
       "0  le particules elementaires michel houellebecq ...   \n",
       "\n",
       "                                      cleaned_genres  \\\n",
       "0  fiction france literature novels french litera...   \n",
       "\n",
       "                               title_genres_combined  \\\n",
       "0  le particules elementaires fiction france lite...   \n",
       "\n",
       "                                  authors_embeddings  \n",
       "0  [-0.3414879, -0.07702848, -0.051483676, -0.296...  "
      ]
     },
     "execution_count": 30,
     "metadata": {},
     "output_type": "execute_result"
    }
   ],
   "source": [
    "bx_cols_to_drop = ['ISBN', 'title_embeddings', 'combined_embeddings', 'genres_embeddings', 'combined_cluster_label', 'genre_cluster_label']\n",
    "bx_cf = bx_cleaned.drop(columns=bx_cols_to_drop)\n",
    "bx_cf.head(1)"
   ]
  },
  {
   "cell_type": "code",
   "execution_count": 31,
   "metadata": {},
   "outputs": [
    {
     "data": {
      "text/html": [
       "<div>\n",
       "<style scoped>\n",
       "    .dataframe tbody tr th:only-of-type {\n",
       "        vertical-align: middle;\n",
       "    }\n",
       "\n",
       "    .dataframe tbody tr th {\n",
       "        vertical-align: top;\n",
       "    }\n",
       "\n",
       "    .dataframe thead th {\n",
       "        text-align: right;\n",
       "    }\n",
       "</style>\n",
       "<table border=\"1\" class=\"dataframe\">\n",
       "  <thead>\n",
       "    <tr style=\"text-align: right;\">\n",
       "      <th></th>\n",
       "      <th>BookID</th>\n",
       "      <th>Author</th>\n",
       "      <th>Title</th>\n",
       "      <th>Average_Rating</th>\n",
       "      <th>UserID</th>\n",
       "      <th>User_Rating</th>\n",
       "      <th>cleaned_title</th>\n",
       "      <th>cleaned_author</th>\n",
       "      <th>Genres</th>\n",
       "      <th>new_combined</th>\n",
       "      <th>cleaned_genres</th>\n",
       "      <th>title_genres_combined</th>\n",
       "      <th>authors_embeddings</th>\n",
       "    </tr>\n",
       "  </thead>\n",
       "  <tbody>\n",
       "    <tr>\n",
       "      <th>0</th>\n",
       "      <td>2767052</td>\n",
       "      <td>Suzanne Collins</td>\n",
       "      <td>The Hunger Games</td>\n",
       "      <td>4</td>\n",
       "      <td>314</td>\n",
       "      <td>5</td>\n",
       "      <td>hunger game</td>\n",
       "      <td>suzanne collins</td>\n",
       "      <td>Young Adult, Fiction, Fantasy, Dystopia, Scien...</td>\n",
       "      <td>hunger game suzanne collins young adult fictio...</td>\n",
       "      <td>young adult fiction fantasy dystopia science f...</td>\n",
       "      <td>hunger game young adult fiction fantasy dystop...</td>\n",
       "      <td>[-0.12804408, 0.11276019, -0.25651056, -0.0526...</td>\n",
       "    </tr>\n",
       "  </tbody>\n",
       "</table>\n",
       "</div>"
      ],
      "text/plain": [
       "    BookID           Author             Title  Average_Rating  UserID  \\\n",
       "0  2767052  Suzanne Collins  The Hunger Games               4     314   \n",
       "\n",
       "   User_Rating cleaned_title   cleaned_author  \\\n",
       "0            5   hunger game  suzanne collins   \n",
       "\n",
       "                                              Genres  \\\n",
       "0  Young Adult, Fiction, Fantasy, Dystopia, Scien...   \n",
       "\n",
       "                                        new_combined  \\\n",
       "0  hunger game suzanne collins young adult fictio...   \n",
       "\n",
       "                                      cleaned_genres  \\\n",
       "0  young adult fiction fantasy dystopia science f...   \n",
       "\n",
       "                               title_genres_combined  \\\n",
       "0  hunger game young adult fiction fantasy dystop...   \n",
       "\n",
       "                                  authors_embeddings  \n",
       "0  [-0.12804408, 0.11276019, -0.25651056, -0.0526...  "
      ]
     },
     "execution_count": 31,
     "metadata": {},
     "output_type": "execute_result"
    }
   ],
   "source": [
    "gbx_cols_to_drop = ['id', 'ISBN', 'title_embeddings', 'combined_embeddings', 'genres_embeddings', 'combined_cluster_label', 'genre_cluster_label']\n",
    "gbx_cf = gbx_cleaned.drop(columns=gbx_cols_to_drop)\n",
    "gbx_cf.head(1)"
   ]
  },
  {
   "cell_type": "markdown",
   "metadata": {},
   "source": [
    "### Calculating User-Item matrices "
   ]
  },
  {
   "cell_type": "markdown",
   "metadata": {},
   "source": [
    "###### (Uncomment to recalculate the user-item matrices)"
   ]
  },
  {
   "cell_type": "markdown",
   "metadata": {},
   "source": [
    "##### Title values as columns"
   ]
  },
  {
   "cell_type": "code",
   "execution_count": null,
   "metadata": {},
   "outputs": [],
   "source": [
    "# user_item_matrix_bx = bx_cf.pivot_table(index='UserID', columns='cleaned_title', values='User_Rating').fillna(0)"
   ]
  },
  {
   "cell_type": "code",
   "execution_count": 24,
   "metadata": {},
   "outputs": [],
   "source": [
    "# user_item_matrix_gbx = gbx_cf.pivot_table(index='UserID', columns='cleaned_title', values='User_Rating').fillna(0)"
   ]
  },
  {
   "cell_type": "markdown",
   "metadata": {},
   "source": [
    "##### Genres values as columns"
   ]
  },
  {
   "cell_type": "code",
   "execution_count": 25,
   "metadata": {},
   "outputs": [],
   "source": [
    "# genres_user_item_matrix_gbx = gbx_cf.pivot_table(index='UserID', columns='cleaned_genres', values='User_Rating').fillna(0)"
   ]
  },
  {
   "cell_type": "code",
   "execution_count": null,
   "metadata": {},
   "outputs": [],
   "source": [
    "# genres_user_item_matrix_bx = bx_cf.pivot_table(index='UserID', columns='cleaned_genres', values='User_Rating').fillna(0)"
   ]
  },
  {
   "cell_type": "markdown",
   "metadata": {},
   "source": [
    "### Saving the user-item matrices as CSV files "
   ]
  },
  {
   "cell_type": "markdown",
   "metadata": {},
   "source": [
    "##### This is done to avoid long recalculations everytime we restart the kernel ((uncomment to resave the matrices))"
   ]
  },
  {
   "cell_type": "code",
   "execution_count": 116,
   "metadata": {},
   "outputs": [],
   "source": [
    "# user_item_matrix_bx.to_csv('user_item_matrix_bx.csv')"
   ]
  },
  {
   "cell_type": "code",
   "execution_count": 117,
   "metadata": {},
   "outputs": [],
   "source": [
    "# user_item_matrix_gbx.to_csv('user_item_matrix_gbx.csv')"
   ]
  },
  {
   "cell_type": "code",
   "execution_count": 118,
   "metadata": {},
   "outputs": [],
   "source": [
    "# genres_user_item_matrix_gbx.to_csv('genres_user_item_matrix_gbx.csv')"
   ]
  },
  {
   "cell_type": "code",
   "execution_count": 119,
   "metadata": {},
   "outputs": [],
   "source": [
    "# genres_user_item_matrix_bx.to_csv('genres_user_item_matrix_bx.csv')"
   ]
  },
  {
   "cell_type": "markdown",
   "metadata": {},
   "source": [
    "### Loading the User-Item matrices"
   ]
  },
  {
   "cell_type": "code",
   "execution_count": 32,
   "metadata": {},
   "outputs": [],
   "source": [
    "user_item_matrix_bx = pd.read_csv('user_item_matrix_bx.csv', index_col=0)"
   ]
  },
  {
   "cell_type": "code",
   "execution_count": null,
   "metadata": {},
   "outputs": [],
   "source": [
    "user_item_matrix_gbx = pd.read_csv('user_item_matrix_gbx.csv', index_col=0)"
   ]
  },
  {
   "cell_type": "code",
   "execution_count": null,
   "metadata": {},
   "outputs": [],
   "source": [
    "genres_user_item_matrix_bx = pd.read_csv('genres_user_item_matrix_bx.csv', index_col=0)"
   ]
  },
  {
   "cell_type": "code",
   "execution_count": 33,
   "metadata": {},
   "outputs": [],
   "source": [
    "genres_user_item_matrix_gbx = pd.read_csv('genres_user_item_matrix_gbx.csv', index_col=0)"
   ]
  },
  {
   "cell_type": "code",
   "execution_count": 157,
   "metadata": {},
   "outputs": [],
   "source": [
    "# Function to retrieve the popular books from a dataframe (based on user ratings)\n",
    "def get_popular_books(df, n=5):\n",
    "    book_popularity = df.groupby('cleaned_title')['User_Rating'].count().sort_values(ascending=False).head(n)\n",
    "    popular_books_details = df[df['cleaned_title'].isin(book_popularity.index)][['Title', 'Author', 'Genres']].drop_duplicates().head(n)\n",
    "    return popular_books_details"
   ]
  },
  {
   "cell_type": "code",
   "execution_count": 132,
   "metadata": {},
   "outputs": [],
   "source": [
    "# def item_collaborative_recommendations(book_title, df, n_recommendations=5):\n",
    "#     cleaned_book_title = clean_text(book_title)\n",
    "    \n",
    "#     # Assuming user_item_matrix is predefined and contains your user-item interaction data\n",
    "#     if 'BookID' in df.columns:\n",
    "#         df = gbx_cf\n",
    "#         user_item_matrix = user_item_matrix_gbx\n",
    "#     else:\n",
    "#         df = bx_cf\n",
    "#         user_item_matrix = user_item_matrix_bx\n",
    "    \n",
    "#     if cleaned_book_title not in user_item_matrix.columns:\n",
    "#     # if cleaned_book_title not in df['cleaned_title'].values:\n",
    "#         print(\"Book title not found. Recommending popular books instead.\")\n",
    "#         return get_popular_books(df, n_recommendations)\n",
    "    \n",
    "#     # Initialize and train kNN model\n",
    "#     model_knn = NearestNeighbors(metric='cosine', algorithm='brute', n_neighbors=n_recommendations, n_jobs=-1)\n",
    "#     model_knn.fit(user_item_matrix.T.values)  # Transpose to get item-feature matrix\n",
    "\n",
    "#     # Locate the index of the book title\n",
    "#     book_index = list(user_item_matrix.columns).index(cleaned_book_title)\n",
    "#     distances, indices = model_knn.kneighbors(user_item_matrix.T.iloc[book_index, :].values.reshape(1, -1), n_neighbors=n_recommendations*2)\n",
    "\n",
    "#     # Fetch indices for the recommended books, excluding the book itself\n",
    "#     recommended_indices = indices.flatten()[1:]\n",
    "\n",
    "#     # Fetch book titles for the recommended indices\n",
    "#     recommended_books_titles = [user_item_matrix.columns[i] for i in recommended_indices]\n",
    "    \n",
    "#     # Fetch the details for the recommended books\n",
    "#     recommended_books_details = df[df['cleaned_title'].isin(recommended_books_titles)].drop_duplicates(subset=['cleaned_title'])\n",
    "#     recommended_books_details = recommended_books_details[['Title', 'Author', 'Genres']].head(n_recommendations)\n",
    "    \n",
    "#     # print(\"Your query:-\")\n",
    "#     # print(\"Query:\", book_title)\n",
    "#     # print(\"Title:\", row['Title'])\n",
    "#     # print(\"Author:\", row['Author'])\n",
    "#     # print(\"Genres:\", df[df['Genres']])\n",
    "    \n",
    "#     return recommended_books_details"
   ]
  },
  {
   "cell_type": "code",
   "execution_count": 139,
   "metadata": {},
   "outputs": [],
   "source": [
    "def collaborative_recommendations(query, df, type=\"Title\", n_recommendations=5):    # Providing the default type of recommendations as Title (based on book title)\n",
    "    \n",
    "    cleaned_book_title = clean_text(query)  # Applying the clean_text function to the query to reduce it to its base form\n",
    "\n",
    "    if type.lower() == \"title\":     # Checking if the user wishes for title-based recommendations\n",
    "\n",
    "        if 'BookID' in df.columns:\n",
    "            df = gbx_cf\n",
    "            user_item_matrix = user_item_matrix_gbx\n",
    "        else:\n",
    "            df = bx_cf\n",
    "            user_item_matrix = user_item_matrix_bx\n",
    "\n",
    "        if cleaned_book_title not in user_item_matrix.columns:\n",
    "            print(\"Book title not found. Recommending popular books instead.\")\n",
    "            return get_popular_books(df, n_recommendations)\n",
    "        \n",
    "        # Using k-Nearest Neighbors on the transpose of the item-feature matrix\n",
    "        model_knn = NearestNeighbors(metric='cosine', algorithm='brute', n_neighbors=n_recommendations, n_jobs=-1)\n",
    "        model_knn.fit(user_item_matrix.T.values) \n",
    "\n",
    "        book_index = list(user_item_matrix.columns).index(cleaned_book_title)\n",
    "        distances, indices = model_knn.kneighbors(user_item_matrix.T.iloc[book_index, :].values.reshape(1, -1), n_neighbors=n_recommendations*2)\n",
    "\n",
    "        # Flattening indices and fetching recommendations (based on the nearest neighbors)\n",
    "        recommended_indices = indices.flatten()[1:]\n",
    "        recommended_books_titles = [user_item_matrix.columns[i] for i in recommended_indices]\n",
    "\n",
    "        # Dropping the duplicates from the retrieved books based on titles\n",
    "        recommended_books_details = df[df['cleaned_title'].isin(recommended_books_titles)].drop_duplicates(subset=['cleaned_title'])\n",
    "\n",
    "        recommended_books_details = recommended_books_details[['Title', 'Author', 'Genres']].head(n_recommendations)\n",
    "\n",
    "\n",
    "    elif type.lower() == \"genres\":      # Checking if the user wishes for genres-based recommendations\n",
    "        if 'BookID' in df.columns:\n",
    "            df = gbx_cf\n",
    "            user_item_matrix = genres_user_item_matrix_gbx\n",
    "        else:\n",
    "            df = bx_cf\n",
    "            user_item_matrix = genres_user_item_matrix_bx\n",
    "\n",
    "        if cleaned_book_title not in df['cleaned_title'].values:\n",
    "            print(\"Book title not found. Recommending popular books instead.\")\n",
    "            return get_popular_books(df, n_recommendations)\n",
    "        \n",
    "        book_genres_set = set(df.loc[df['cleaned_title'] == cleaned_book_title, 'cleaned_genres'].iloc[0].lower().split())\n",
    "\n",
    "        relevant_columns = []\n",
    "        for col in user_item_matrix.columns:\n",
    "            if set(col.split()) & book_genres_set:\n",
    "                relevant_columns.append(col)\n",
    "\n",
    "        if not relevant_columns:\n",
    "            print(\"Matching genres not found in the matrix. Recommending popular books instead.\")\n",
    "            return get_popular_books(df, n_recommendations)\n",
    "\n",
    "        # Using k-Nearest Neighbors on the transpose of the item-feature matrix\n",
    "        model_knn = NearestNeighbors(metric='cosine', algorithm='brute', n_neighbors=n_recommendations, n_jobs=-1)\n",
    "        model_knn.fit(user_item_matrix[relevant_columns].values.T)  \n",
    "\n",
    "        query_vector = user_item_matrix[relevant_columns].mean(axis=1).values.reshape(1, -1)\n",
    "        distances, indices = model_knn.kneighbors(query_vector, n_neighbors=n_recommendations*2)\n",
    "\n",
    "        recommended_indices = indices.flatten()[1:]\n",
    "        recommended_genres = [user_item_matrix.columns[i] for i in recommended_indices]\n",
    "\n",
    "        recommended_books = df[df['cleaned_genres'].apply(lambda x: any(genre in x for genre in recommended_genres))].drop_duplicates(subset=['cleaned_title'])\n",
    "        recommended_books_details = recommended_books[['Title', 'Author', 'Genres']].head(n_recommendations)\n",
    "\n",
    "\n",
    "    # Calculating cosine similarity for the retrieved recommendations \n",
    "    combined_recommendations = cosine_sims(recommended_books_details, book_title=query)  \n",
    "\n",
    "    # Sorting the recommendations based on the cosine similarity values\n",
    "    sorted_recommendations = combined_recommendations.sort_values(by='Cosine Similarity', ascending=False)\n",
    "\n",
    "    # Retrieving the top 'n_recommendations' from the sorted recommendations\n",
    "    top_recommendations = sorted_recommendations.head(n_recommendations)\n",
    "\n",
    "    # Creating a new dataframe of the top 'n_recommendations' with specified columns\n",
    "    final_recs = top_recommendations.loc[:, ['Title', 'Author', 'Genres']]\n",
    "\n",
    "    return final_recs\n"
   ]
  },
  {
   "cell_type": "markdown",
   "metadata": {},
   "source": [
    "# Hybrid-Filtering Models"
   ]
  },
  {
   "cell_type": "code",
   "execution_count": 39,
   "metadata": {},
   "outputs": [
    {
     "data": {
      "text/html": [
       "<div>\n",
       "<style scoped>\n",
       "    .dataframe tbody tr th:only-of-type {\n",
       "        vertical-align: middle;\n",
       "    }\n",
       "\n",
       "    .dataframe tbody tr th {\n",
       "        vertical-align: top;\n",
       "    }\n",
       "\n",
       "    .dataframe thead th {\n",
       "        text-align: right;\n",
       "    }\n",
       "</style>\n",
       "<table border=\"1\" class=\"dataframe\">\n",
       "  <thead>\n",
       "    <tr style=\"text-align: right;\">\n",
       "      <th></th>\n",
       "      <th>UserID</th>\n",
       "      <th>User_Rating</th>\n",
       "      <th>Title</th>\n",
       "      <th>Author</th>\n",
       "      <th>Average_Rating</th>\n",
       "      <th>cleaned_title</th>\n",
       "      <th>cleaned_author</th>\n",
       "      <th>Genres</th>\n",
       "      <th>new_combined</th>\n",
       "      <th>title_embeddings</th>\n",
       "      <th>combined_embeddings</th>\n",
       "      <th>genres_embeddings</th>\n",
       "      <th>cleaned_genres</th>\n",
       "      <th>title_genres_combined</th>\n",
       "      <th>authors_embeddings</th>\n",
       "    </tr>\n",
       "  </thead>\n",
       "  <tbody>\n",
       "    <tr>\n",
       "      <th>0</th>\n",
       "      <td>276733</td>\n",
       "      <td>1</td>\n",
       "      <td>Les Particules Elementaires</td>\n",
       "      <td>Michel Houellebecq</td>\n",
       "      <td>2</td>\n",
       "      <td>le particules elementaires</td>\n",
       "      <td>michel houellebecq</td>\n",
       "      <td>Fiction, France, Literature, Novels, French Li...</td>\n",
       "      <td>le particules elementaires michel houellebecq ...</td>\n",
       "      <td>[-0.22314462, 0.42006478, -0.28728843, -0.1840...</td>\n",
       "      <td>[-0.21087638, 0.38165882, -0.00066206243, -0.3...</td>\n",
       "      <td>[0.11841526, 0.20468897, -0.028159915, -0.2183...</td>\n",
       "      <td>fiction france literature novels french litera...</td>\n",
       "      <td>le particules elementaires fiction france lite...</td>\n",
       "      <td>[-0.3414879, -0.07702848, -0.051483676, -0.296...</td>\n",
       "    </tr>\n",
       "  </tbody>\n",
       "</table>\n",
       "</div>"
      ],
      "text/plain": [
       "   UserID  User_Rating                        Title              Author  \\\n",
       "0  276733            1  Les Particules Elementaires  Michel Houellebecq   \n",
       "\n",
       "   Average_Rating               cleaned_title      cleaned_author  \\\n",
       "0               2  le particules elementaires  michel houellebecq   \n",
       "\n",
       "                                              Genres  \\\n",
       "0  Fiction, France, Literature, Novels, French Li...   \n",
       "\n",
       "                                        new_combined  \\\n",
       "0  le particules elementaires michel houellebecq ...   \n",
       "\n",
       "                                    title_embeddings  \\\n",
       "0  [-0.22314462, 0.42006478, -0.28728843, -0.1840...   \n",
       "\n",
       "                                 combined_embeddings  \\\n",
       "0  [-0.21087638, 0.38165882, -0.00066206243, -0.3...   \n",
       "\n",
       "                                   genres_embeddings  \\\n",
       "0  [0.11841526, 0.20468897, -0.028159915, -0.2183...   \n",
       "\n",
       "                                      cleaned_genres  \\\n",
       "0  fiction france literature novels french litera...   \n",
       "\n",
       "                               title_genres_combined  \\\n",
       "0  le particules elementaires fiction france lite...   \n",
       "\n",
       "                                  authors_embeddings  \n",
       "0  [-0.3414879, -0.07702848, -0.051483676, -0.296...  "
      ]
     },
     "execution_count": 39,
     "metadata": {},
     "output_type": "execute_result"
    }
   ],
   "source": [
    "bx_cols = ['ISBN', 'combined_cluster_label', 'genre_cluster_label']\n",
    "bx_hybrid = bx_cleaned.drop(columns=bx_cols)\n",
    "bx_hybrid.head(1)"
   ]
  },
  {
   "cell_type": "code",
   "execution_count": 40,
   "metadata": {},
   "outputs": [
    {
     "data": {
      "text/html": [
       "<div>\n",
       "<style scoped>\n",
       "    .dataframe tbody tr th:only-of-type {\n",
       "        vertical-align: middle;\n",
       "    }\n",
       "\n",
       "    .dataframe tbody tr th {\n",
       "        vertical-align: top;\n",
       "    }\n",
       "\n",
       "    .dataframe thead th {\n",
       "        text-align: right;\n",
       "    }\n",
       "</style>\n",
       "<table border=\"1\" class=\"dataframe\">\n",
       "  <thead>\n",
       "    <tr style=\"text-align: right;\">\n",
       "      <th></th>\n",
       "      <th>id</th>\n",
       "      <th>BookID</th>\n",
       "      <th>Author</th>\n",
       "      <th>Title</th>\n",
       "      <th>Average_Rating</th>\n",
       "      <th>UserID</th>\n",
       "      <th>User_Rating</th>\n",
       "      <th>cleaned_title</th>\n",
       "      <th>cleaned_author</th>\n",
       "      <th>Genres</th>\n",
       "      <th>new_combined</th>\n",
       "      <th>title_embeddings</th>\n",
       "      <th>combined_embeddings</th>\n",
       "      <th>genres_embeddings</th>\n",
       "      <th>cleaned_genres</th>\n",
       "      <th>title_genres_combined</th>\n",
       "      <th>authors_embeddings</th>\n",
       "    </tr>\n",
       "  </thead>\n",
       "  <tbody>\n",
       "    <tr>\n",
       "      <th>0</th>\n",
       "      <td>1</td>\n",
       "      <td>2767052</td>\n",
       "      <td>Suzanne Collins</td>\n",
       "      <td>The Hunger Games</td>\n",
       "      <td>4</td>\n",
       "      <td>314</td>\n",
       "      <td>5</td>\n",
       "      <td>hunger game</td>\n",
       "      <td>suzanne collins</td>\n",
       "      <td>Young Adult, Fiction, Fantasy, Dystopia, Scien...</td>\n",
       "      <td>hunger game suzanne collins young adult fictio...</td>\n",
       "      <td>[-0.35120225, -0.6337399, -0.2950579, -0.18312...</td>\n",
       "      <td>[-0.10558018, 0.06420389, 0.4107097, 0.1490544...</td>\n",
       "      <td>[-0.03419616, 0.14870769, 0.5226705, -0.080204...</td>\n",
       "      <td>young adult fiction fantasy dystopia science f...</td>\n",
       "      <td>hunger game young adult fiction fantasy dystop...</td>\n",
       "      <td>[-0.12804408, 0.11276019, -0.25651056, -0.0526...</td>\n",
       "    </tr>\n",
       "  </tbody>\n",
       "</table>\n",
       "</div>"
      ],
      "text/plain": [
       "   id   BookID           Author             Title  Average_Rating  UserID  \\\n",
       "0   1  2767052  Suzanne Collins  The Hunger Games               4     314   \n",
       "\n",
       "   User_Rating cleaned_title   cleaned_author  \\\n",
       "0            5   hunger game  suzanne collins   \n",
       "\n",
       "                                              Genres  \\\n",
       "0  Young Adult, Fiction, Fantasy, Dystopia, Scien...   \n",
       "\n",
       "                                        new_combined  \\\n",
       "0  hunger game suzanne collins young adult fictio...   \n",
       "\n",
       "                                    title_embeddings  \\\n",
       "0  [-0.35120225, -0.6337399, -0.2950579, -0.18312...   \n",
       "\n",
       "                                 combined_embeddings  \\\n",
       "0  [-0.10558018, 0.06420389, 0.4107097, 0.1490544...   \n",
       "\n",
       "                                   genres_embeddings  \\\n",
       "0  [-0.03419616, 0.14870769, 0.5226705, -0.080204...   \n",
       "\n",
       "                                      cleaned_genres  \\\n",
       "0  young adult fiction fantasy dystopia science f...   \n",
       "\n",
       "                               title_genres_combined  \\\n",
       "0  hunger game young adult fiction fantasy dystop...   \n",
       "\n",
       "                                  authors_embeddings  \n",
       "0  [-0.12804408, 0.11276019, -0.25651056, -0.0526...  "
      ]
     },
     "execution_count": 40,
     "metadata": {},
     "output_type": "execute_result"
    }
   ],
   "source": [
    "gbx_cols = ['id', 'ISBN', 'combined_cluster_label', 'genre_cluster_label']\n",
    "gbx_hybrid = gbx_cleaned.drop(columns=bx_cols)\n",
    "gbx_hybrid.head(1)"
   ]
  },
  {
   "cell_type": "markdown",
   "metadata": {},
   "source": [
    "## 3. Cascade Hybrid Model"
   ]
  },
  {
   "cell_type": "code",
   "execution_count": 160,
   "metadata": {},
   "outputs": [],
   "source": [
    "# def cosine_sim(df, book_title):\n",
    "#     # if book_title not in df['Title'].values:\n",
    "#     #     print(f\"Query title '{book_title}' not found in the dataset.\")\n",
    "#     #     return df\n",
    "    \n",
    "# # try creating new_cobijned with clean_text features for tfidf\n",
    "    \n",
    "#     # all_titles = df['Title'].values\n",
    "#     all_titles = df['Genres'].values\n",
    "#     np.append(all_titles, (np.array([book_title])))\n",
    "#     all_titles = all_titles.astype(\"U\")\n",
    "\n",
    "#     tfidf_vectorizer = TfidfVectorizer()\n",
    "#     tfidf_matrix = tfidf_vectorizer.fit_transform(all_titles)\n",
    "\n",
    "#     # Convert the TF-IDF matrix to CSR format\n",
    "#     tfidf_matrix_csr = sp.csr_matrix(tfidf_matrix)\n",
    "\n",
    "#     # Get the index of the query title\n",
    "#     # query_index = df.index[df['Title'] == book_title].tolist()[0]\n",
    "\n",
    "#     # Compute cosine similarity between the query title and all titles\n",
    "#     query_vector = tfidf_matrix_csr[-1]\n",
    "#     cosine_similarities = cosine_similarity(query_vector, tfidf_matrix_csr).flatten()\n",
    "\n",
    "\n",
    "#     # cosine_similarities = cosine_similarity(query_index, tfidf_matrix_csr).flatten()\n",
    "\n",
    "#     # Add cosine similarity values to a new column in the DataFrame\n",
    "#     df['Cosine Similarity'] = cosine_similarities\n",
    "\n",
    "#     return df"
   ]
  },
  {
   "cell_type": "code",
   "execution_count": 164,
   "metadata": {},
   "outputs": [],
   "source": [
    "def cascade_hybrid_recss(query, df, type=\"combined\", n_recommendations=5):\n",
    "    \n",
    "    recs_list = []\n",
    "    # combined_recommendations = pd.DataFrame()\n",
    "\n",
    "    if 'BookID' in df.columns:\n",
    "        content_df = gbx_content\n",
    "        cf_df = gbx_cf\n",
    "    else:\n",
    "        content_df = bx_content\n",
    "        cf_df = bx_cf\n",
    "    \n",
    "    if type.lower() == \"title\":\n",
    "        cont_type = \"title\"\n",
    "        cf_type = \"title\"\n",
    "    elif type.lower() == \"author\":\n",
    "        cont_type = \"author\"\n",
    "        cf_type = \"title\"\n",
    "    elif type.lower() == \"genres\":\n",
    "        cont_type = \"genres\"\n",
    "        cf_type = \"genres\"\n",
    "    elif type.lower() == \"combined\":\n",
    "        cont_type = \"combined\"\n",
    "        cf_type = \"title\"\n",
    "\n",
    "\n",
    "    # initial_recommendations = content_based_recommendations(query=book_title, df=content_df, new_type, n_recommendations=n_recommendations)\n",
    "    initial_recommendations = content_based_recommendations(query=query, df=content_df, type=cont_type, n_recommendations=5)\n",
    "\n",
    "    if initial_recommendations.empty:\n",
    "        return get_popular_books(df, n=n_recommendations)\n",
    "\n",
    "    if not initial_recommendations.empty:\n",
    "        # combined_recommendations = pd.DataFrame()\n",
    "        for index,row in initial_recommendations.iterrows():\n",
    "            # print(initial_recommendations)\n",
    "            title = row['Title']\n",
    "            # return book_title\n",
    "\n",
    "\n",
    "            cf_recommendations = collaborative_recommendations(query=title, df=cf_df, type=cf_type, n_recommendations=2)\n",
    "\n",
    "            # cf_recommendations = collaborative_recommendations(query=query, df=content_df, type=new_type, n_recommendations=2)\n",
    "\n",
    "            recs_list.append(cf_recommendations)\n",
    "            # print(recs_list)\n",
    "        combined_recommendations = pd.concat(recs_list, ignore_index=True)\n",
    "\n",
    "    combined_recommendations = cosine_sims(combined_recommendations, book_title=query)  # Calculate cosine similarity\n",
    "    sorted_recommendations = combined_recommendations.sort_values(by='Cosine Similarity', ascending=False)\n",
    "    top_recommendations = sorted_recommendations.head(n_recommendations)\n",
    "    final_recs = top_recommendations.loc[:, ['Title', 'Author', 'Genres']]\n",
    "    return final_recs"
   ]
  },
  {
   "cell_type": "markdown",
   "metadata": {},
   "source": [
    "# Weighted Hybrid"
   ]
  },
  {
   "cell_type": "code",
   "execution_count": 165,
   "metadata": {},
   "outputs": [],
   "source": [
    "def weighted_hybrid_recommendations(query, df, type=\"combined\", n_recommendations=5, content_weight=0.5, cf_weight=0.5):\n",
    "    # Adjust the number of recommendations fetched from each model to account for overlaps\n",
    "    n_content = int(n_recommendations * (content_weight / (content_weight + cf_weight)))\n",
    "    n_cf = n_recommendations - n_content\n",
    "    \n",
    "    # Select the appropriate DataFrame based on df_identifier\n",
    "    if 'BookID' in df.columns:\n",
    "        df_content = gbx_content\n",
    "        df_cf = gbx_cf\n",
    "    else:\n",
    "        df_content = bx_content\n",
    "        df_cf = bx_cf\n",
    "\n",
    "    if type.lower() == \"title\":\n",
    "        cont_type = \"title\"\n",
    "        cf_type = \"title\"\n",
    "    elif type.lower() == \"author\":\n",
    "        cont_type = \"author\"\n",
    "        cf_type = \"title\"\n",
    "    elif type.lower() == \"genres\":\n",
    "        cont_type = \"genres\"\n",
    "        cf_type = \"genres\"\n",
    "    elif type.lower() == \"combined\":\n",
    "        cont_type = \"combined\"\n",
    "        cf_type = \"title\"\n",
    "    \n",
    "    # Get recommendations from content-based model\n",
    "    content_recs = content_based_recommendations(query, df_content, type = cont_type, n_recommendations=n_content)\n",
    "    \n",
    "    # Get recommendations from collaborative filtering model\n",
    "    cf_recs = collaborative_recommendations(query, df_cf, type = cf_type, n_recommendations=n_cf)\n",
    "    # cf_recs = collaborative_recommendations(book_title, df_cf, type=\"genres\", n_recommendations=n_cf)\n",
    "    \n",
    "    # Combine recommendations\n",
    "    combined_recs = pd.concat([content_recs, cf_recs]).drop_duplicates(subset=['Title', 'Author'])\n",
    "    # print(combined_recs)\n",
    "    \n",
    "\n",
    "    combined_recommendations = cosine_sims(combined_recs, book_title=query)  # Calculate cosine similarity\n",
    "    sorted_recommendations = combined_recommendations.sort_values(by='Cosine Similarity', ascending=False)\n",
    "    top_recommendations = sorted_recommendations.head(n_recommendations).reset_index(drop=True)\n",
    "    final_recs = top_recommendations.loc[:, ['Title', 'Author', 'Genres']]\n",
    "    return final_recs\n",
    "\n",
    "\n",
    "\n",
    "\n",
    "    # # If there are more recommendations than needed, prioritize content-based recommendations\n",
    "    # if len(combined_recs) > n_recommendations:\n",
    "    #     combined_recs = combined_recs.head(n_recommendations)\n",
    "    \n",
    "    # return combined_recs.reset_index(drop=True)\n"
   ]
  },
  {
   "cell_type": "code",
   "execution_count": 83,
   "metadata": {},
   "outputs": [
    {
     "name": "stdout",
     "output_type": "stream",
     "text": [
      "Your query:-\n",
      "Query: Fifty Shades of Grey\n",
      "Genres: Fiction, Contemporary, British Literature, Novels, LGBT, Coming Of Age, 20th Century\n"
     ]
    },
    {
     "data": {
      "text/html": [
       "<div>\n",
       "<style scoped>\n",
       "    .dataframe tbody tr th:only-of-type {\n",
       "        vertical-align: middle;\n",
       "    }\n",
       "\n",
       "    .dataframe tbody tr th {\n",
       "        vertical-align: top;\n",
       "    }\n",
       "\n",
       "    .dataframe thead th {\n",
       "        text-align: right;\n",
       "    }\n",
       "</style>\n",
       "<table border=\"1\" class=\"dataframe\">\n",
       "  <thead>\n",
       "    <tr style=\"text-align: right;\">\n",
       "      <th></th>\n",
       "      <th>Title</th>\n",
       "      <th>Author</th>\n",
       "      <th>Genres</th>\n",
       "      <th>Cosine Similarity</th>\n",
       "    </tr>\n",
       "  </thead>\n",
       "  <tbody>\n",
       "    <tr>\n",
       "      <th>8800</th>\n",
       "      <td>Fifty Shades Freed</td>\n",
       "      <td>E.L. James</td>\n",
       "      <td>Romance, Erotica, Fiction, BDSM, Adult, Contem...</td>\n",
       "      <td>1.000000</td>\n",
       "    </tr>\n",
       "    <tr>\n",
       "      <th>9100</th>\n",
       "      <td>Fifty Shades Darker</td>\n",
       "      <td>E.L. James</td>\n",
       "      <td>Romance, Fiction, Erotica, BDSM, Adult, Contem...</td>\n",
       "      <td>1.000000</td>\n",
       "    </tr>\n",
       "    <tr>\n",
       "      <th>0</th>\n",
       "      <td>What I Loved</td>\n",
       "      <td>Siri Hustvedt</td>\n",
       "      <td>Fiction, Contemporary, Art, Literary Fiction, ...</td>\n",
       "      <td>0.166593</td>\n",
       "    </tr>\n",
       "    <tr>\n",
       "      <th>3800</th>\n",
       "      <td>Eat, pray, love: one woman's search for everyt...</td>\n",
       "      <td>Elizabeth Gilbert</td>\n",
       "      <td>Nonfiction, Memoir, Travel, Biography, Romance...</td>\n",
       "      <td>0.142316</td>\n",
       "    </tr>\n",
       "    <tr>\n",
       "      <th>1</th>\n",
       "      <td>The Buddha of Suburbia</td>\n",
       "      <td>Hanif Kureishi</td>\n",
       "      <td>Fiction, Contemporary, British Literature, Nov...</td>\n",
       "      <td>0.137919</td>\n",
       "    </tr>\n",
       "  </tbody>\n",
       "</table>\n",
       "</div>"
      ],
      "text/plain": [
       "                                                  Title             Author  \\\n",
       "8800                                 Fifty Shades Freed         E.L. James   \n",
       "9100                                Fifty Shades Darker         E.L. James   \n",
       "0                                          What I Loved      Siri Hustvedt   \n",
       "3800  Eat, pray, love: one woman's search for everyt...  Elizabeth Gilbert   \n",
       "1                                The Buddha of Suburbia     Hanif Kureishi   \n",
       "\n",
       "                                                 Genres  Cosine Similarity  \n",
       "8800  Romance, Erotica, Fiction, BDSM, Adult, Contem...           1.000000  \n",
       "9100  Romance, Fiction, Erotica, BDSM, Adult, Contem...           1.000000  \n",
       "0     Fiction, Contemporary, Art, Literary Fiction, ...           0.166593  \n",
       "3800  Nonfiction, Memoir, Travel, Biography, Romance...           0.142316  \n",
       "1     Fiction, Contemporary, British Literature, Nov...           0.137919  "
      ]
     },
     "execution_count": 83,
     "metadata": {},
     "output_type": "execute_result"
    }
   ],
   "source": [
    "book_title = \"Fifty Shades of Grey\"\n",
    "weighted_hybrid_recommendations(book_title, df = gbx_hybrid, n_recommendations=5)"
   ]
  },
  {
   "cell_type": "code",
   "execution_count": 117,
   "metadata": {},
   "outputs": [
    {
     "name": "stdout",
     "output_type": "stream",
     "text": [
      "Your query:-\n",
      "Query: Fifty Shades Of Grey\n"
     ]
    },
    {
     "data": {
      "text/html": [
       "<div>\n",
       "<style scoped>\n",
       "    .dataframe tbody tr th:only-of-type {\n",
       "        vertical-align: middle;\n",
       "    }\n",
       "\n",
       "    .dataframe tbody tr th {\n",
       "        vertical-align: top;\n",
       "    }\n",
       "\n",
       "    .dataframe thead th {\n",
       "        text-align: right;\n",
       "    }\n",
       "</style>\n",
       "<table border=\"1\" class=\"dataframe\">\n",
       "  <thead>\n",
       "    <tr style=\"text-align: right;\">\n",
       "      <th></th>\n",
       "      <th>Title</th>\n",
       "      <th>Author</th>\n",
       "      <th>Genres</th>\n",
       "      <th>Cosine Similarity</th>\n",
       "    </tr>\n",
       "  </thead>\n",
       "  <tbody>\n",
       "    <tr>\n",
       "      <th>0</th>\n",
       "      <td>Fifty Shades Freed</td>\n",
       "      <td>E.L. James</td>\n",
       "      <td>Romance, Erotica, Fiction, BDSM, Adult, Contem...</td>\n",
       "      <td>1.000000</td>\n",
       "    </tr>\n",
       "    <tr>\n",
       "      <th>1</th>\n",
       "      <td>Fifty Shades Darker</td>\n",
       "      <td>E.L. James</td>\n",
       "      <td>Romance, Fiction, Erotica, BDSM, Adult, Contem...</td>\n",
       "      <td>1.000000</td>\n",
       "    </tr>\n",
       "    <tr>\n",
       "      <th>2</th>\n",
       "      <td>Eat, pray, love: one woman's search for everyt...</td>\n",
       "      <td>Elizabeth Gilbert</td>\n",
       "      <td>Nonfiction, Memoir, Travel, Biography, Romance...</td>\n",
       "      <td>0.130593</td>\n",
       "    </tr>\n",
       "    <tr>\n",
       "      <th>3</th>\n",
       "      <td>A Hat Full of Sky</td>\n",
       "      <td>Terry Pratchett</td>\n",
       "      <td>Fantasy, Fiction, Young Adult, Humor, Children...</td>\n",
       "      <td>0.103518</td>\n",
       "    </tr>\n",
       "    <tr>\n",
       "      <th>4</th>\n",
       "      <td>Words of Radiance</td>\n",
       "      <td>Brandon Sanderson</td>\n",
       "      <td>Fantasy, Fiction, Epic Fantasy, High Fantasy, ...</td>\n",
       "      <td>0.079192</td>\n",
       "    </tr>\n",
       "  </tbody>\n",
       "</table>\n",
       "</div>"
      ],
      "text/plain": [
       "                                               Title             Author  \\\n",
       "0                                 Fifty Shades Freed         E.L. James   \n",
       "1                                Fifty Shades Darker         E.L. James   \n",
       "2  Eat, pray, love: one woman's search for everyt...  Elizabeth Gilbert   \n",
       "3                                  A Hat Full of Sky    Terry Pratchett   \n",
       "4                                  Words of Radiance  Brandon Sanderson   \n",
       "\n",
       "                                              Genres  Cosine Similarity  \n",
       "0  Romance, Erotica, Fiction, BDSM, Adult, Contem...           1.000000  \n",
       "1  Romance, Fiction, Erotica, BDSM, Adult, Contem...           1.000000  \n",
       "2  Nonfiction, Memoir, Travel, Biography, Romance...           0.130593  \n",
       "3  Fantasy, Fiction, Young Adult, Humor, Children...           0.103518  \n",
       "4  Fantasy, Fiction, Epic Fantasy, High Fantasy, ...           0.079192  "
      ]
     },
     "execution_count": 117,
     "metadata": {},
     "output_type": "execute_result"
    }
   ],
   "source": [
    "weighted_hybrid_recommendations(\"Fifty Shades Of Grey\", df=gbx_hybrid, type=\"Genres\", n_recommendations=5)"
   ]
  },
  {
   "cell_type": "code",
   "execution_count": 119,
   "metadata": {},
   "outputs": [
    {
     "name": "stdout",
     "output_type": "stream",
     "text": [
      "Your query:-\n",
      "Query: Fifty Shades Of Grey\n"
     ]
    },
    {
     "data": {
      "text/html": [
       "<div>\n",
       "<style scoped>\n",
       "    .dataframe tbody tr th:only-of-type {\n",
       "        vertical-align: middle;\n",
       "    }\n",
       "\n",
       "    .dataframe tbody tr th {\n",
       "        vertical-align: top;\n",
       "    }\n",
       "\n",
       "    .dataframe thead th {\n",
       "        text-align: right;\n",
       "    }\n",
       "</style>\n",
       "<table border=\"1\" class=\"dataframe\">\n",
       "  <thead>\n",
       "    <tr style=\"text-align: right;\">\n",
       "      <th></th>\n",
       "      <th>Title</th>\n",
       "      <th>Author</th>\n",
       "      <th>Genres</th>\n",
       "      <th>Cosine Similarity</th>\n",
       "    </tr>\n",
       "  </thead>\n",
       "  <tbody>\n",
       "    <tr>\n",
       "      <th>0</th>\n",
       "      <td>Fifty Shades Freed</td>\n",
       "      <td>E.L. James</td>\n",
       "      <td>Romance, Erotica, Fiction, BDSM, Adult, Contem...</td>\n",
       "      <td>1.000000</td>\n",
       "    </tr>\n",
       "    <tr>\n",
       "      <th>1</th>\n",
       "      <td>Fifty Shades Darker</td>\n",
       "      <td>E.L. James</td>\n",
       "      <td>Romance, Fiction, Erotica, BDSM, Adult, Contem...</td>\n",
       "      <td>1.000000</td>\n",
       "    </tr>\n",
       "    <tr>\n",
       "      <th>2</th>\n",
       "      <td>Eat, pray, love: one woman's search for everyt...</td>\n",
       "      <td>Elizabeth Gilbert</td>\n",
       "      <td>Nonfiction, Memoir, Travel, Biography, Romance...</td>\n",
       "      <td>0.130593</td>\n",
       "    </tr>\n",
       "    <tr>\n",
       "      <th>3</th>\n",
       "      <td>A Hat Full of Sky</td>\n",
       "      <td>Terry Pratchett</td>\n",
       "      <td>Fantasy, Fiction, Young Adult, Humor, Children...</td>\n",
       "      <td>0.103518</td>\n",
       "    </tr>\n",
       "    <tr>\n",
       "      <th>4</th>\n",
       "      <td>Words of Radiance</td>\n",
       "      <td>Brandon Sanderson</td>\n",
       "      <td>Fantasy, Fiction, Epic Fantasy, High Fantasy, ...</td>\n",
       "      <td>0.079192</td>\n",
       "    </tr>\n",
       "  </tbody>\n",
       "</table>\n",
       "</div>"
      ],
      "text/plain": [
       "                                               Title             Author  \\\n",
       "0                                 Fifty Shades Freed         E.L. James   \n",
       "1                                Fifty Shades Darker         E.L. James   \n",
       "2  Eat, pray, love: one woman's search for everyt...  Elizabeth Gilbert   \n",
       "3                                  A Hat Full of Sky    Terry Pratchett   \n",
       "4                                  Words of Radiance  Brandon Sanderson   \n",
       "\n",
       "                                              Genres  Cosine Similarity  \n",
       "0  Romance, Erotica, Fiction, BDSM, Adult, Contem...           1.000000  \n",
       "1  Romance, Fiction, Erotica, BDSM, Adult, Contem...           1.000000  \n",
       "2  Nonfiction, Memoir, Travel, Biography, Romance...           0.130593  \n",
       "3  Fantasy, Fiction, Young Adult, Humor, Children...           0.103518  \n",
       "4  Fantasy, Fiction, Epic Fantasy, High Fantasy, ...           0.079192  "
      ]
     },
     "execution_count": 119,
     "metadata": {},
     "output_type": "execute_result"
    }
   ],
   "source": [
    "weighted_hybrid_recommendations(\"Fifty Shades Of Grey\", df=gbx_hybrid, type=\"Genres\", n_recommendations=5)"
   ]
  },
  {
   "cell_type": "code",
   "execution_count": 122,
   "metadata": {},
   "outputs": [
    {
     "name": "stdout",
     "output_type": "stream",
     "text": [
      "Your query:-\n",
      "Query: Fifty Shades Of Grey\n"
     ]
    },
    {
     "data": {
      "text/html": [
       "<div>\n",
       "<style scoped>\n",
       "    .dataframe tbody tr th:only-of-type {\n",
       "        vertical-align: middle;\n",
       "    }\n",
       "\n",
       "    .dataframe tbody tr th {\n",
       "        vertical-align: top;\n",
       "    }\n",
       "\n",
       "    .dataframe thead th {\n",
       "        text-align: right;\n",
       "    }\n",
       "</style>\n",
       "<table border=\"1\" class=\"dataframe\">\n",
       "  <thead>\n",
       "    <tr style=\"text-align: right;\">\n",
       "      <th></th>\n",
       "      <th>Title</th>\n",
       "      <th>Author</th>\n",
       "      <th>Genres</th>\n",
       "      <th>Cosine Similarity</th>\n",
       "    </tr>\n",
       "  </thead>\n",
       "  <tbody>\n",
       "    <tr>\n",
       "      <th>0</th>\n",
       "      <td>Fifty Shades Freed</td>\n",
       "      <td>E.L. James</td>\n",
       "      <td>Romance, Erotica, Fiction, BDSM, Adult, Contem...</td>\n",
       "      <td>1.000000</td>\n",
       "    </tr>\n",
       "    <tr>\n",
       "      <th>1</th>\n",
       "      <td>Fifty Shades Darker</td>\n",
       "      <td>E.L. James</td>\n",
       "      <td>Romance, Fiction, Erotica, BDSM, Adult, Contem...</td>\n",
       "      <td>1.000000</td>\n",
       "    </tr>\n",
       "    <tr>\n",
       "      <th>2</th>\n",
       "      <td>What I Loved</td>\n",
       "      <td>Siri Hustvedt</td>\n",
       "      <td>Fiction, Contemporary, Art, Literary Fiction, ...</td>\n",
       "      <td>0.166593</td>\n",
       "    </tr>\n",
       "    <tr>\n",
       "      <th>3</th>\n",
       "      <td>Eat, pray, love: one woman's search for everyt...</td>\n",
       "      <td>Elizabeth Gilbert</td>\n",
       "      <td>Nonfiction, Memoir, Travel, Biography, Romance...</td>\n",
       "      <td>0.142316</td>\n",
       "    </tr>\n",
       "    <tr>\n",
       "      <th>4</th>\n",
       "      <td>The Buddha of Suburbia</td>\n",
       "      <td>Hanif Kureishi</td>\n",
       "      <td>Fiction, Contemporary, British Literature, Nov...</td>\n",
       "      <td>0.137919</td>\n",
       "    </tr>\n",
       "  </tbody>\n",
       "</table>\n",
       "</div>"
      ],
      "text/plain": [
       "                                               Title             Author  \\\n",
       "0                                 Fifty Shades Freed         E.L. James   \n",
       "1                                Fifty Shades Darker         E.L. James   \n",
       "2                                       What I Loved      Siri Hustvedt   \n",
       "3  Eat, pray, love: one woman's search for everyt...  Elizabeth Gilbert   \n",
       "4                             The Buddha of Suburbia     Hanif Kureishi   \n",
       "\n",
       "                                              Genres  Cosine Similarity  \n",
       "0  Romance, Erotica, Fiction, BDSM, Adult, Contem...           1.000000  \n",
       "1  Romance, Fiction, Erotica, BDSM, Adult, Contem...           1.000000  \n",
       "2  Fiction, Contemporary, Art, Literary Fiction, ...           0.166593  \n",
       "3  Nonfiction, Memoir, Travel, Biography, Romance...           0.142316  \n",
       "4  Fiction, Contemporary, British Literature, Nov...           0.137919  "
      ]
     },
     "execution_count": 122,
     "metadata": {},
     "output_type": "execute_result"
    }
   ],
   "source": [
    "weighted_hybrid_recommendations(\"Fifty Shades Of Grey\", df=gbx_hybrid, type=\"combined\", n_recommendations=5)"
   ]
  },
  {
   "cell_type": "code",
   "execution_count": 81,
   "metadata": {},
   "outputs": [
    {
     "data": {
      "text/html": [
       "<div>\n",
       "<style scoped>\n",
       "    .dataframe tbody tr th:only-of-type {\n",
       "        vertical-align: middle;\n",
       "    }\n",
       "\n",
       "    .dataframe tbody tr th {\n",
       "        vertical-align: top;\n",
       "    }\n",
       "\n",
       "    .dataframe thead th {\n",
       "        text-align: right;\n",
       "    }\n",
       "</style>\n",
       "<table border=\"1\" class=\"dataframe\">\n",
       "  <thead>\n",
       "    <tr style=\"text-align: right;\">\n",
       "      <th></th>\n",
       "      <th>Title</th>\n",
       "      <th>Author</th>\n",
       "      <th>Genres</th>\n",
       "    </tr>\n",
       "  </thead>\n",
       "  <tbody>\n",
       "    <tr>\n",
       "      <th>0</th>\n",
       "      <td>What I Loved</td>\n",
       "      <td>Siri Hustvedt</td>\n",
       "      <td>Fiction, Contemporary, Art, Literary Fiction, ...</td>\n",
       "    </tr>\n",
       "    <tr>\n",
       "      <th>1</th>\n",
       "      <td>90 Minutes in Heaven</td>\n",
       "      <td>Don Piper, Cecil Murphey</td>\n",
       "      <td>Christian, Nonfiction, Religion, Spirituality,...</td>\n",
       "    </tr>\n",
       "    <tr>\n",
       "      <th>2</th>\n",
       "      <td>Les Fleurs du mal</td>\n",
       "      <td>Charles Baudelaire, Richard Howard</td>\n",
       "      <td>Classics, France, Poetry, French Literature, F...</td>\n",
       "    </tr>\n",
       "    <tr>\n",
       "      <th>3</th>\n",
       "      <td>Ben-Hur: A Tale of the Christ</td>\n",
       "      <td>Lew Wallace</td>\n",
       "      <td>Classics, Historical Fiction, Fiction, Christi...</td>\n",
       "    </tr>\n",
       "    <tr>\n",
       "      <th>4</th>\n",
       "      <td>Darkness, Take My Hand</td>\n",
       "      <td>Dennis Lehane</td>\n",
       "      <td>Mystery, Fiction, Crime, Thriller, Mystery Thr...</td>\n",
       "    </tr>\n",
       "  </tbody>\n",
       "</table>\n",
       "</div>"
      ],
      "text/plain": [
       "                           Title                              Author  \\\n",
       "0                   What I Loved                       Siri Hustvedt   \n",
       "1           90 Minutes in Heaven            Don Piper, Cecil Murphey   \n",
       "2              Les Fleurs du mal  Charles Baudelaire, Richard Howard   \n",
       "3  Ben-Hur: A Tale of the Christ                         Lew Wallace   \n",
       "4         Darkness, Take My Hand                       Dennis Lehane   \n",
       "\n",
       "                                              Genres  \n",
       "0  Fiction, Contemporary, Art, Literary Fiction, ...  \n",
       "1  Christian, Nonfiction, Religion, Spirituality,...  \n",
       "2  Classics, France, Poetry, French Literature, F...  \n",
       "3  Classics, Historical Fiction, Fiction, Christi...  \n",
       "4  Mystery, Fiction, Crime, Thriller, Mystery Thr...  "
      ]
     },
     "execution_count": 81,
     "metadata": {},
     "output_type": "execute_result"
    }
   ],
   "source": [
    "book_title = \"Fifty Shades of Grey\"\n",
    "weighted_hybrid_recommendations(book_title, df = gbx_hybrid, n_recommendations=5, content_weight=0.3, cf_weight=0.7)"
   ]
  },
  {
   "cell_type": "code",
   "execution_count": 167,
   "metadata": {},
   "outputs": [
    {
     "name": "stdout",
     "output_type": "stream",
     "text": [
      "Your query:-\n",
      "Query: Fifty Shades of Grey\n"
     ]
    },
    {
     "data": {
      "text/html": [
       "<div>\n",
       "<style scoped>\n",
       "    .dataframe tbody tr th:only-of-type {\n",
       "        vertical-align: middle;\n",
       "    }\n",
       "\n",
       "    .dataframe tbody tr th {\n",
       "        vertical-align: top;\n",
       "    }\n",
       "\n",
       "    .dataframe thead th {\n",
       "        text-align: right;\n",
       "    }\n",
       "</style>\n",
       "<table border=\"1\" class=\"dataframe\">\n",
       "  <thead>\n",
       "    <tr style=\"text-align: right;\">\n",
       "      <th></th>\n",
       "      <th>Title</th>\n",
       "      <th>Author</th>\n",
       "      <th>Genres</th>\n",
       "    </tr>\n",
       "  </thead>\n",
       "  <tbody>\n",
       "    <tr>\n",
       "      <th>0</th>\n",
       "      <td>Eat, pray, love: one woman's search for everyt...</td>\n",
       "      <td>Elizabeth Gilbert</td>\n",
       "      <td>Nonfiction, Memoir, Travel, Biography, Romance...</td>\n",
       "    </tr>\n",
       "    <tr>\n",
       "      <th>1</th>\n",
       "      <td>Fifty Shades Freed</td>\n",
       "      <td>E.L. James</td>\n",
       "      <td>Romance, Erotica, Fiction, BDSM, Adult, Contem...</td>\n",
       "    </tr>\n",
       "    <tr>\n",
       "      <th>2</th>\n",
       "      <td>Fifty Shades Darker</td>\n",
       "      <td>E.L. James</td>\n",
       "      <td>Romance, Fiction, Erotica, BDSM, Adult, Contem...</td>\n",
       "    </tr>\n",
       "    <tr>\n",
       "      <th>3</th>\n",
       "      <td>Divergent</td>\n",
       "      <td>Veronica Roth</td>\n",
       "      <td>Young Adult, Dystopia, Fantasy, Fiction, Scien...</td>\n",
       "    </tr>\n",
       "    <tr>\n",
       "      <th>4</th>\n",
       "      <td>What I Loved</td>\n",
       "      <td>Siri Hustvedt</td>\n",
       "      <td>Fiction, Contemporary, Art, Literary Fiction, ...</td>\n",
       "    </tr>\n",
       "  </tbody>\n",
       "</table>\n",
       "</div>"
      ],
      "text/plain": [
       "                                               Title             Author  \\\n",
       "0  Eat, pray, love: one woman's search for everyt...  Elizabeth Gilbert   \n",
       "1                                 Fifty Shades Freed         E.L. James   \n",
       "2                                Fifty Shades Darker         E.L. James   \n",
       "3                                          Divergent      Veronica Roth   \n",
       "4                                       What I Loved      Siri Hustvedt   \n",
       "\n",
       "                                              Genres  \n",
       "0  Nonfiction, Memoir, Travel, Biography, Romance...  \n",
       "1  Romance, Erotica, Fiction, BDSM, Adult, Contem...  \n",
       "2  Romance, Fiction, Erotica, BDSM, Adult, Contem...  \n",
       "3  Young Adult, Dystopia, Fantasy, Fiction, Scien...  \n",
       "4  Fiction, Contemporary, Art, Literary Fiction, ...  "
      ]
     },
     "execution_count": 167,
     "metadata": {},
     "output_type": "execute_result"
    }
   ],
   "source": [
    "book_title = \"Fifty Shades of Grey\"\n",
    "weighted_hybrid_recommendations(book_title, df = gbx_hybrid, type=\"combined\", n_recommendations=5, content_weight=0.3, cf_weight=0.7)"
   ]
  },
  {
   "cell_type": "markdown",
   "metadata": {},
   "source": [
    "# DISPLAYING RECOMMENDATIONS"
   ]
  },
  {
   "cell_type": "code",
   "execution_count": 52,
   "metadata": {},
   "outputs": [],
   "source": [
    "import ipywidgets as widgets\n",
    "from IPython.display import display, clear_output"
   ]
  },
  {
   "cell_type": "code",
   "execution_count": 80,
   "metadata": {},
   "outputs": [],
   "source": [
    "def display_book_recommendations():\n",
    "    # Text field input for the query\n",
    "    query_input = widgets.Text(\n",
    "        value='',\n",
    "        placeholder='Enter query',\n",
    "        description='Name:',\n",
    "        disabled=False\n",
    "    )\n",
    "    \n",
    "    # Dropdown to select the recommendation type\n",
    "    rec_model = widgets.Dropdown(\n",
    "        options=['Select', 'Content-Based', 'Collaborative', 'Cascade Hybrid', 'Weighted Hybrid'],\n",
    "        value='Select',\n",
    "        description='Model:',\n",
    "    )\n",
    "\n",
    "    data_frame = widgets.Dropdown(\n",
    "        options = ['Select', 'Book-Crossing', 'Goodbooks-10k'],\n",
    "        value = 'Select',\n",
    "        description = 'Dataset'\n",
    "    )\n",
    "\n",
    "    type_rec = widgets.Dropdown(\n",
    "        options = ['Select', 'Title-based', 'Author-based', 'Genre-based', 'Combined'],\n",
    "        value = 'Select',\n",
    "        description = 'Recommendation Type'\n",
    "    )\n",
    "\n",
    "    num_recs = widgets.Dropdown(\n",
    "        options = ['Select', '1', '2','3','4','5','6','7','8','9','10'],\n",
    "        value = 'Select',\n",
    "        description = 'Number'\n",
    "    )\n",
    "\n",
    "    \n",
    "    # Button to generate recommendations\n",
    "    generate_button = widgets.Button(description=\"Generate Recommendations\")\n",
    "    \n",
    "    # Output widget to display the recommendations\n",
    "    output = widgets.Output()\n",
    "    \n",
    "    def on_generate_button_clicked(b):\n",
    "        with output:\n",
    "            clear_output()\n",
    "            query = query_input.value\n",
    "            model = rec_model.value\n",
    "            dataframe = data_frame.value\n",
    "            rec_type = type_rec.value\n",
    "            n_recommendations = int(num_recs.value)  # You can modify this to be user-selectable as well\n",
    "            # similarity_threshold = 0.02  # Default threshold, adjust as necessary\n",
    "\n",
    "            # recommendations, message = pd.DataFrame(), \"\"\n",
    "            recommendations = pd.DataFrame()\n",
    "            \n",
    "\n",
    "            if query:  # Check if query is not empty\n",
    "\n",
    "                if dataframe == \"Book-Crossing\":\n",
    "                    df = bx_hybrid\n",
    "                elif dataframe == \"Goodbooks-10k\":\n",
    "                    df = gbx_hybrid\n",
    "                \n",
    "                if rec_type == \"Title-based\":\n",
    "                    cont_type = \"title\"\n",
    "                    cf_type = \"title\"\n",
    "                elif rec_type == \"Author-based\":\n",
    "                    cont_type = \"author\"\n",
    "                    cf_type = \"title\"\n",
    "                elif rec_type == \"Genre-based\":\n",
    "                    cont_type = \"genres\"\n",
    "                    cf_type = \"genres\"\n",
    "                elif rec_type == \"Combined\":\n",
    "                    cont_type = \"combined\"\n",
    "                    cf_type = \"title\"\n",
    "\n",
    "\n",
    "                if model == 'Content-Based':\n",
    "                    recommendations = content_based_recommendations(query, df, cont_type, n_recommendations)\n",
    "                elif model == 'Collaborative':  # Collaborative\n",
    "                    recommendations= collaborative_recommendations(query, df, cf_type, n_recommendations)\n",
    "                elif model == 'Cascade Hybrid': \n",
    "                    recommendations = cascade_hybrid_recss(query, df, cont_type, n_recommendations)\n",
    "                elif model == 'Weighted Hybrid': \n",
    "                    recommendations= weighted_hybrid_recommendations(query, df, cont_type, n_recommendations)\n",
    "                else:\n",
    "                    print(\"Please select a valid recommendation model.\")\n",
    "                \n",
    "                if recommendations.empty:\n",
    "                    print(\"No recommendations found\")\n",
    "                else:\n",
    "                    display(recommendations)\n",
    "\n",
    "    \n",
    "    generate_button.on_click(on_generate_button_clicked)\n",
    "    \n",
    "    # Display the widgets\n",
    "    display(query_input, rec_model, data_frame, type_rec, num_recs, generate_button, output)"
   ]
  },
  {
   "cell_type": "code",
   "execution_count": 144,
   "metadata": {},
   "outputs": [
    {
     "data": {
      "application/vnd.jupyter.widget-view+json": {
       "model_id": "1ed8ace76c09497e96e191a01b08b787",
       "version_major": 2,
       "version_minor": 0
      },
      "text/plain": [
       "Text(value='', description='Name:', placeholder='Enter query')"
      ]
     },
     "metadata": {},
     "output_type": "display_data"
    },
    {
     "data": {
      "application/vnd.jupyter.widget-view+json": {
       "model_id": "a60cb45770544d94a96a057427292b08",
       "version_major": 2,
       "version_minor": 0
      },
      "text/plain": [
       "Dropdown(description='Model:', options=('Select', 'Content-Based', 'Collaborative', 'Cascade Hybrid', 'Weighte…"
      ]
     },
     "metadata": {},
     "output_type": "display_data"
    },
    {
     "data": {
      "application/vnd.jupyter.widget-view+json": {
       "model_id": "215d611c3ce94ad3be908cb76a26d0ff",
       "version_major": 2,
       "version_minor": 0
      },
      "text/plain": [
       "Dropdown(description='Dataset', options=('Select', 'Book-Crossing', 'Goodbooks-10k'), value='Select')"
      ]
     },
     "metadata": {},
     "output_type": "display_data"
    },
    {
     "data": {
      "application/vnd.jupyter.widget-view+json": {
       "model_id": "17e40314365241e6b1ed87124e0148e6",
       "version_major": 2,
       "version_minor": 0
      },
      "text/plain": [
       "Dropdown(description='Recommendation Type', options=('Select', 'Title-based', 'Author-based', 'Genre-based', '…"
      ]
     },
     "metadata": {},
     "output_type": "display_data"
    },
    {
     "data": {
      "application/vnd.jupyter.widget-view+json": {
       "model_id": "10f4e861044a43c6a2e697648398d719",
       "version_major": 2,
       "version_minor": 0
      },
      "text/plain": [
       "Dropdown(description='Number', options=('Select', '1', '2', '3', '4', '5', '6', '7', '8', '9', '10'), value='S…"
      ]
     },
     "metadata": {},
     "output_type": "display_data"
    },
    {
     "data": {
      "application/vnd.jupyter.widget-view+json": {
       "model_id": "fdae53a177bb4ade8d87c43df3ad7945",
       "version_major": 2,
       "version_minor": 0
      },
      "text/plain": [
       "Button(description='Generate Recommendations', style=ButtonStyle())"
      ]
     },
     "metadata": {},
     "output_type": "display_data"
    },
    {
     "data": {
      "application/vnd.jupyter.widget-view+json": {
       "model_id": "1530f20faa6a45aa88514be031bb8d37",
       "version_major": 2,
       "version_minor": 0
      },
      "text/plain": [
       "Output()"
      ]
     },
     "metadata": {},
     "output_type": "display_data"
    }
   ],
   "source": [
    "display_book_recommendations()"
   ]
  },
  {
   "cell_type": "code",
   "execution_count": null,
   "metadata": {},
   "outputs": [],
   "source": []
  }
 ],
 "metadata": {
  "kernelspec": {
   "display_name": "Python 3 (ipykernel)",
   "language": "python",
   "name": "python3"
  },
  "language_info": {
   "codemirror_mode": {
    "name": "ipython",
    "version": 3
   },
   "file_extension": ".py",
   "mimetype": "text/x-python",
   "name": "python",
   "nbconvert_exporter": "python",
   "pygments_lexer": "ipython3",
   "version": "3.9.18"
  }
 },
 "nbformat": 4,
 "nbformat_minor": 5
}
